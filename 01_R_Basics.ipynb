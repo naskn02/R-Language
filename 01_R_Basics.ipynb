{
  "nbformat": 4,
  "nbformat_minor": 0,
  "metadata": {
    "colab": {
      "provenance": [],
      "collapsed_sections": [],
      "authorship_tag": "ABX9TyOEPYjLzRi/CSAPQOIJPXxO",
      "include_colab_link": true
    },
    "kernelspec": {
      "name": "ir",
      "display_name": "R"
    },
    "language_info": {
      "name": "R"
    }
  },
  "cells": [
    {
      "cell_type": "markdown",
      "metadata": {
        "id": "view-in-github",
        "colab_type": "text"
      },
      "source": [
        "<a href=\"https://colab.research.google.com/github/naskn02/R-Language/blob/main/01_R_Basics.ipynb\" target=\"_parent\"><img src=\"https://colab.research.google.com/assets/colab-badge.svg\" alt=\"Open In Colab\"/></a>"
      ]
    },
    {
      "cell_type": "markdown",
      "source": [
        "## **R Objects and Data Types**"
      ],
      "metadata": {
        "id": "BWEW_DI3OWkR"
      }
    },
    {
      "cell_type": "markdown",
      "source": [
        "Everything in R is an object. R has 5 basic or atomic classes of objects:\n",
        "\n",
        "1. character\n",
        "2. numeric (real numbers)\n",
        "3. integer\n",
        "4. complex\n",
        "5. logical (True/ False)\n"
      ],
      "metadata": {
        "id": "wLwNeoaIOeA-"
      }
    },
    {
      "cell_type": "markdown",
      "source": [
        "# **Working with R**"
      ],
      "metadata": {
        "id": "PkRiDYj2_Rha"
      }
    },
    {
      "cell_type": "markdown",
      "source": [
        "## **First Command**"
      ],
      "metadata": {
        "id": "2bJOhSCy_da1"
      }
    },
    {
      "cell_type": "code",
      "execution_count": 61,
      "metadata": {
        "colab": {
          "base_uri": "https://localhost:8080/",
          "height": 1000
        },
        "id": "IAc9zLxe-LQu",
        "outputId": "36af94e0-b838-45c1-a4f7-dc4247f68ee3"
      },
      "outputs": [
        {
          "output_type": "display_data",
          "data": {
            "text/html": [
              "<table class=\"dataframe\">\n",
              "<caption>A data.frame: 32 × 11</caption>\n",
              "<thead>\n",
              "\t<tr><th></th><th scope=col>mpg</th><th scope=col>cyl</th><th scope=col>disp</th><th scope=col>hp</th><th scope=col>drat</th><th scope=col>wt</th><th scope=col>qsec</th><th scope=col>vs</th><th scope=col>am</th><th scope=col>gear</th><th scope=col>carb</th></tr>\n",
              "\t<tr><th></th><th scope=col>&lt;dbl&gt;</th><th scope=col>&lt;dbl&gt;</th><th scope=col>&lt;dbl&gt;</th><th scope=col>&lt;dbl&gt;</th><th scope=col>&lt;dbl&gt;</th><th scope=col>&lt;dbl&gt;</th><th scope=col>&lt;dbl&gt;</th><th scope=col>&lt;dbl&gt;</th><th scope=col>&lt;dbl&gt;</th><th scope=col>&lt;dbl&gt;</th><th scope=col>&lt;dbl&gt;</th></tr>\n",
              "</thead>\n",
              "<tbody>\n",
              "\t<tr><th scope=row>Mazda RX4</th><td>21.0</td><td>6</td><td>160.0</td><td>110</td><td>3.90</td><td>2.620</td><td>16.46</td><td>0</td><td>1</td><td>4</td><td>4</td></tr>\n",
              "\t<tr><th scope=row>Mazda RX4 Wag</th><td>21.0</td><td>6</td><td>160.0</td><td>110</td><td>3.90</td><td>2.875</td><td>17.02</td><td>0</td><td>1</td><td>4</td><td>4</td></tr>\n",
              "\t<tr><th scope=row>Datsun 710</th><td>22.8</td><td>4</td><td>108.0</td><td> 93</td><td>3.85</td><td>2.320</td><td>18.61</td><td>1</td><td>1</td><td>4</td><td>1</td></tr>\n",
              "\t<tr><th scope=row>Hornet 4 Drive</th><td>21.4</td><td>6</td><td>258.0</td><td>110</td><td>3.08</td><td>3.215</td><td>19.44</td><td>1</td><td>0</td><td>3</td><td>1</td></tr>\n",
              "\t<tr><th scope=row>Hornet Sportabout</th><td>18.7</td><td>8</td><td>360.0</td><td>175</td><td>3.15</td><td>3.440</td><td>17.02</td><td>0</td><td>0</td><td>3</td><td>2</td></tr>\n",
              "\t<tr><th scope=row>Valiant</th><td>18.1</td><td>6</td><td>225.0</td><td>105</td><td>2.76</td><td>3.460</td><td>20.22</td><td>1</td><td>0</td><td>3</td><td>1</td></tr>\n",
              "\t<tr><th scope=row>Duster 360</th><td>14.3</td><td>8</td><td>360.0</td><td>245</td><td>3.21</td><td>3.570</td><td>15.84</td><td>0</td><td>0</td><td>3</td><td>4</td></tr>\n",
              "\t<tr><th scope=row>Merc 240D</th><td>24.4</td><td>4</td><td>146.7</td><td> 62</td><td>3.69</td><td>3.190</td><td>20.00</td><td>1</td><td>0</td><td>4</td><td>2</td></tr>\n",
              "\t<tr><th scope=row>Merc 230</th><td>22.8</td><td>4</td><td>140.8</td><td> 95</td><td>3.92</td><td>3.150</td><td>22.90</td><td>1</td><td>0</td><td>4</td><td>2</td></tr>\n",
              "\t<tr><th scope=row>Merc 280</th><td>19.2</td><td>6</td><td>167.6</td><td>123</td><td>3.92</td><td>3.440</td><td>18.30</td><td>1</td><td>0</td><td>4</td><td>4</td></tr>\n",
              "\t<tr><th scope=row>Merc 280C</th><td>17.8</td><td>6</td><td>167.6</td><td>123</td><td>3.92</td><td>3.440</td><td>18.90</td><td>1</td><td>0</td><td>4</td><td>4</td></tr>\n",
              "\t<tr><th scope=row>Merc 450SE</th><td>16.4</td><td>8</td><td>275.8</td><td>180</td><td>3.07</td><td>4.070</td><td>17.40</td><td>0</td><td>0</td><td>3</td><td>3</td></tr>\n",
              "\t<tr><th scope=row>Merc 450SL</th><td>17.3</td><td>8</td><td>275.8</td><td>180</td><td>3.07</td><td>3.730</td><td>17.60</td><td>0</td><td>0</td><td>3</td><td>3</td></tr>\n",
              "\t<tr><th scope=row>Merc 450SLC</th><td>15.2</td><td>8</td><td>275.8</td><td>180</td><td>3.07</td><td>3.780</td><td>18.00</td><td>0</td><td>0</td><td>3</td><td>3</td></tr>\n",
              "\t<tr><th scope=row>Cadillac Fleetwood</th><td>10.4</td><td>8</td><td>472.0</td><td>205</td><td>2.93</td><td>5.250</td><td>17.98</td><td>0</td><td>0</td><td>3</td><td>4</td></tr>\n",
              "\t<tr><th scope=row>Lincoln Continental</th><td>10.4</td><td>8</td><td>460.0</td><td>215</td><td>3.00</td><td>5.424</td><td>17.82</td><td>0</td><td>0</td><td>3</td><td>4</td></tr>\n",
              "\t<tr><th scope=row>Chrysler Imperial</th><td>14.7</td><td>8</td><td>440.0</td><td>230</td><td>3.23</td><td>5.345</td><td>17.42</td><td>0</td><td>0</td><td>3</td><td>4</td></tr>\n",
              "\t<tr><th scope=row>Fiat 128</th><td>32.4</td><td>4</td><td> 78.7</td><td> 66</td><td>4.08</td><td>2.200</td><td>19.47</td><td>1</td><td>1</td><td>4</td><td>1</td></tr>\n",
              "\t<tr><th scope=row>Honda Civic</th><td>30.4</td><td>4</td><td> 75.7</td><td> 52</td><td>4.93</td><td>1.615</td><td>18.52</td><td>1</td><td>1</td><td>4</td><td>2</td></tr>\n",
              "\t<tr><th scope=row>Toyota Corolla</th><td>33.9</td><td>4</td><td> 71.1</td><td> 65</td><td>4.22</td><td>1.835</td><td>19.90</td><td>1</td><td>1</td><td>4</td><td>1</td></tr>\n",
              "\t<tr><th scope=row>Toyota Corona</th><td>21.5</td><td>4</td><td>120.1</td><td> 97</td><td>3.70</td><td>2.465</td><td>20.01</td><td>1</td><td>0</td><td>3</td><td>1</td></tr>\n",
              "\t<tr><th scope=row>Dodge Challenger</th><td>15.5</td><td>8</td><td>318.0</td><td>150</td><td>2.76</td><td>3.520</td><td>16.87</td><td>0</td><td>0</td><td>3</td><td>2</td></tr>\n",
              "\t<tr><th scope=row>AMC Javelin</th><td>15.2</td><td>8</td><td>304.0</td><td>150</td><td>3.15</td><td>3.435</td><td>17.30</td><td>0</td><td>0</td><td>3</td><td>2</td></tr>\n",
              "\t<tr><th scope=row>Camaro Z28</th><td>13.3</td><td>8</td><td>350.0</td><td>245</td><td>3.73</td><td>3.840</td><td>15.41</td><td>0</td><td>0</td><td>3</td><td>4</td></tr>\n",
              "\t<tr><th scope=row>Pontiac Firebird</th><td>19.2</td><td>8</td><td>400.0</td><td>175</td><td>3.08</td><td>3.845</td><td>17.05</td><td>0</td><td>0</td><td>3</td><td>2</td></tr>\n",
              "\t<tr><th scope=row>Fiat X1-9</th><td>27.3</td><td>4</td><td> 79.0</td><td> 66</td><td>4.08</td><td>1.935</td><td>18.90</td><td>1</td><td>1</td><td>4</td><td>1</td></tr>\n",
              "\t<tr><th scope=row>Porsche 914-2</th><td>26.0</td><td>4</td><td>120.3</td><td> 91</td><td>4.43</td><td>2.140</td><td>16.70</td><td>0</td><td>1</td><td>5</td><td>2</td></tr>\n",
              "\t<tr><th scope=row>Lotus Europa</th><td>30.4</td><td>4</td><td> 95.1</td><td>113</td><td>3.77</td><td>1.513</td><td>16.90</td><td>1</td><td>1</td><td>5</td><td>2</td></tr>\n",
              "\t<tr><th scope=row>Ford Pantera L</th><td>15.8</td><td>8</td><td>351.0</td><td>264</td><td>4.22</td><td>3.170</td><td>14.50</td><td>0</td><td>1</td><td>5</td><td>4</td></tr>\n",
              "\t<tr><th scope=row>Ferrari Dino</th><td>19.7</td><td>6</td><td>145.0</td><td>175</td><td>3.62</td><td>2.770</td><td>15.50</td><td>0</td><td>1</td><td>5</td><td>6</td></tr>\n",
              "\t<tr><th scope=row>Maserati Bora</th><td>15.0</td><td>8</td><td>301.0</td><td>335</td><td>3.54</td><td>3.570</td><td>14.60</td><td>0</td><td>1</td><td>5</td><td>8</td></tr>\n",
              "\t<tr><th scope=row>Volvo 142E</th><td>21.4</td><td>4</td><td>121.0</td><td>109</td><td>4.11</td><td>2.780</td><td>18.60</td><td>1</td><td>1</td><td>4</td><td>2</td></tr>\n",
              "</tbody>\n",
              "</table>\n"
            ],
            "text/markdown": "\nA data.frame: 32 × 11\n\n| <!--/--> | mpg &lt;dbl&gt; | cyl &lt;dbl&gt; | disp &lt;dbl&gt; | hp &lt;dbl&gt; | drat &lt;dbl&gt; | wt &lt;dbl&gt; | qsec &lt;dbl&gt; | vs &lt;dbl&gt; | am &lt;dbl&gt; | gear &lt;dbl&gt; | carb &lt;dbl&gt; |\n|---|---|---|---|---|---|---|---|---|---|---|---|\n| Mazda RX4 | 21.0 | 6 | 160.0 | 110 | 3.90 | 2.620 | 16.46 | 0 | 1 | 4 | 4 |\n| Mazda RX4 Wag | 21.0 | 6 | 160.0 | 110 | 3.90 | 2.875 | 17.02 | 0 | 1 | 4 | 4 |\n| Datsun 710 | 22.8 | 4 | 108.0 |  93 | 3.85 | 2.320 | 18.61 | 1 | 1 | 4 | 1 |\n| Hornet 4 Drive | 21.4 | 6 | 258.0 | 110 | 3.08 | 3.215 | 19.44 | 1 | 0 | 3 | 1 |\n| Hornet Sportabout | 18.7 | 8 | 360.0 | 175 | 3.15 | 3.440 | 17.02 | 0 | 0 | 3 | 2 |\n| Valiant | 18.1 | 6 | 225.0 | 105 | 2.76 | 3.460 | 20.22 | 1 | 0 | 3 | 1 |\n| Duster 360 | 14.3 | 8 | 360.0 | 245 | 3.21 | 3.570 | 15.84 | 0 | 0 | 3 | 4 |\n| Merc 240D | 24.4 | 4 | 146.7 |  62 | 3.69 | 3.190 | 20.00 | 1 | 0 | 4 | 2 |\n| Merc 230 | 22.8 | 4 | 140.8 |  95 | 3.92 | 3.150 | 22.90 | 1 | 0 | 4 | 2 |\n| Merc 280 | 19.2 | 6 | 167.6 | 123 | 3.92 | 3.440 | 18.30 | 1 | 0 | 4 | 4 |\n| Merc 280C | 17.8 | 6 | 167.6 | 123 | 3.92 | 3.440 | 18.90 | 1 | 0 | 4 | 4 |\n| Merc 450SE | 16.4 | 8 | 275.8 | 180 | 3.07 | 4.070 | 17.40 | 0 | 0 | 3 | 3 |\n| Merc 450SL | 17.3 | 8 | 275.8 | 180 | 3.07 | 3.730 | 17.60 | 0 | 0 | 3 | 3 |\n| Merc 450SLC | 15.2 | 8 | 275.8 | 180 | 3.07 | 3.780 | 18.00 | 0 | 0 | 3 | 3 |\n| Cadillac Fleetwood | 10.4 | 8 | 472.0 | 205 | 2.93 | 5.250 | 17.98 | 0 | 0 | 3 | 4 |\n| Lincoln Continental | 10.4 | 8 | 460.0 | 215 | 3.00 | 5.424 | 17.82 | 0 | 0 | 3 | 4 |\n| Chrysler Imperial | 14.7 | 8 | 440.0 | 230 | 3.23 | 5.345 | 17.42 | 0 | 0 | 3 | 4 |\n| Fiat 128 | 32.4 | 4 |  78.7 |  66 | 4.08 | 2.200 | 19.47 | 1 | 1 | 4 | 1 |\n| Honda Civic | 30.4 | 4 |  75.7 |  52 | 4.93 | 1.615 | 18.52 | 1 | 1 | 4 | 2 |\n| Toyota Corolla | 33.9 | 4 |  71.1 |  65 | 4.22 | 1.835 | 19.90 | 1 | 1 | 4 | 1 |\n| Toyota Corona | 21.5 | 4 | 120.1 |  97 | 3.70 | 2.465 | 20.01 | 1 | 0 | 3 | 1 |\n| Dodge Challenger | 15.5 | 8 | 318.0 | 150 | 2.76 | 3.520 | 16.87 | 0 | 0 | 3 | 2 |\n| AMC Javelin | 15.2 | 8 | 304.0 | 150 | 3.15 | 3.435 | 17.30 | 0 | 0 | 3 | 2 |\n| Camaro Z28 | 13.3 | 8 | 350.0 | 245 | 3.73 | 3.840 | 15.41 | 0 | 0 | 3 | 4 |\n| Pontiac Firebird | 19.2 | 8 | 400.0 | 175 | 3.08 | 3.845 | 17.05 | 0 | 0 | 3 | 2 |\n| Fiat X1-9 | 27.3 | 4 |  79.0 |  66 | 4.08 | 1.935 | 18.90 | 1 | 1 | 4 | 1 |\n| Porsche 914-2 | 26.0 | 4 | 120.3 |  91 | 4.43 | 2.140 | 16.70 | 0 | 1 | 5 | 2 |\n| Lotus Europa | 30.4 | 4 |  95.1 | 113 | 3.77 | 1.513 | 16.90 | 1 | 1 | 5 | 2 |\n| Ford Pantera L | 15.8 | 8 | 351.0 | 264 | 4.22 | 3.170 | 14.50 | 0 | 1 | 5 | 4 |\n| Ferrari Dino | 19.7 | 6 | 145.0 | 175 | 3.62 | 2.770 | 15.50 | 0 | 1 | 5 | 6 |\n| Maserati Bora | 15.0 | 8 | 301.0 | 335 | 3.54 | 3.570 | 14.60 | 0 | 1 | 5 | 8 |\n| Volvo 142E | 21.4 | 4 | 121.0 | 109 | 4.11 | 2.780 | 18.60 | 1 | 1 | 4 | 2 |\n\n",
            "text/latex": "A data.frame: 32 × 11\n\\begin{tabular}{r|lllllllllll}\n  & mpg & cyl & disp & hp & drat & wt & qsec & vs & am & gear & carb\\\\\n  & <dbl> & <dbl> & <dbl> & <dbl> & <dbl> & <dbl> & <dbl> & <dbl> & <dbl> & <dbl> & <dbl>\\\\\n\\hline\n\tMazda RX4 & 21.0 & 6 & 160.0 & 110 & 3.90 & 2.620 & 16.46 & 0 & 1 & 4 & 4\\\\\n\tMazda RX4 Wag & 21.0 & 6 & 160.0 & 110 & 3.90 & 2.875 & 17.02 & 0 & 1 & 4 & 4\\\\\n\tDatsun 710 & 22.8 & 4 & 108.0 &  93 & 3.85 & 2.320 & 18.61 & 1 & 1 & 4 & 1\\\\\n\tHornet 4 Drive & 21.4 & 6 & 258.0 & 110 & 3.08 & 3.215 & 19.44 & 1 & 0 & 3 & 1\\\\\n\tHornet Sportabout & 18.7 & 8 & 360.0 & 175 & 3.15 & 3.440 & 17.02 & 0 & 0 & 3 & 2\\\\\n\tValiant & 18.1 & 6 & 225.0 & 105 & 2.76 & 3.460 & 20.22 & 1 & 0 & 3 & 1\\\\\n\tDuster 360 & 14.3 & 8 & 360.0 & 245 & 3.21 & 3.570 & 15.84 & 0 & 0 & 3 & 4\\\\\n\tMerc 240D & 24.4 & 4 & 146.7 &  62 & 3.69 & 3.190 & 20.00 & 1 & 0 & 4 & 2\\\\\n\tMerc 230 & 22.8 & 4 & 140.8 &  95 & 3.92 & 3.150 & 22.90 & 1 & 0 & 4 & 2\\\\\n\tMerc 280 & 19.2 & 6 & 167.6 & 123 & 3.92 & 3.440 & 18.30 & 1 & 0 & 4 & 4\\\\\n\tMerc 280C & 17.8 & 6 & 167.6 & 123 & 3.92 & 3.440 & 18.90 & 1 & 0 & 4 & 4\\\\\n\tMerc 450SE & 16.4 & 8 & 275.8 & 180 & 3.07 & 4.070 & 17.40 & 0 & 0 & 3 & 3\\\\\n\tMerc 450SL & 17.3 & 8 & 275.8 & 180 & 3.07 & 3.730 & 17.60 & 0 & 0 & 3 & 3\\\\\n\tMerc 450SLC & 15.2 & 8 & 275.8 & 180 & 3.07 & 3.780 & 18.00 & 0 & 0 & 3 & 3\\\\\n\tCadillac Fleetwood & 10.4 & 8 & 472.0 & 205 & 2.93 & 5.250 & 17.98 & 0 & 0 & 3 & 4\\\\\n\tLincoln Continental & 10.4 & 8 & 460.0 & 215 & 3.00 & 5.424 & 17.82 & 0 & 0 & 3 & 4\\\\\n\tChrysler Imperial & 14.7 & 8 & 440.0 & 230 & 3.23 & 5.345 & 17.42 & 0 & 0 & 3 & 4\\\\\n\tFiat 128 & 32.4 & 4 &  78.7 &  66 & 4.08 & 2.200 & 19.47 & 1 & 1 & 4 & 1\\\\\n\tHonda Civic & 30.4 & 4 &  75.7 &  52 & 4.93 & 1.615 & 18.52 & 1 & 1 & 4 & 2\\\\\n\tToyota Corolla & 33.9 & 4 &  71.1 &  65 & 4.22 & 1.835 & 19.90 & 1 & 1 & 4 & 1\\\\\n\tToyota Corona & 21.5 & 4 & 120.1 &  97 & 3.70 & 2.465 & 20.01 & 1 & 0 & 3 & 1\\\\\n\tDodge Challenger & 15.5 & 8 & 318.0 & 150 & 2.76 & 3.520 & 16.87 & 0 & 0 & 3 & 2\\\\\n\tAMC Javelin & 15.2 & 8 & 304.0 & 150 & 3.15 & 3.435 & 17.30 & 0 & 0 & 3 & 2\\\\\n\tCamaro Z28 & 13.3 & 8 & 350.0 & 245 & 3.73 & 3.840 & 15.41 & 0 & 0 & 3 & 4\\\\\n\tPontiac Firebird & 19.2 & 8 & 400.0 & 175 & 3.08 & 3.845 & 17.05 & 0 & 0 & 3 & 2\\\\\n\tFiat X1-9 & 27.3 & 4 &  79.0 &  66 & 4.08 & 1.935 & 18.90 & 1 & 1 & 4 & 1\\\\\n\tPorsche 914-2 & 26.0 & 4 & 120.3 &  91 & 4.43 & 2.140 & 16.70 & 0 & 1 & 5 & 2\\\\\n\tLotus Europa & 30.4 & 4 &  95.1 & 113 & 3.77 & 1.513 & 16.90 & 1 & 1 & 5 & 2\\\\\n\tFord Pantera L & 15.8 & 8 & 351.0 & 264 & 4.22 & 3.170 & 14.50 & 0 & 1 & 5 & 4\\\\\n\tFerrari Dino & 19.7 & 6 & 145.0 & 175 & 3.62 & 2.770 & 15.50 & 0 & 1 & 5 & 6\\\\\n\tMaserati Bora & 15.0 & 8 & 301.0 & 335 & 3.54 & 3.570 & 14.60 & 0 & 1 & 5 & 8\\\\\n\tVolvo 142E & 21.4 & 4 & 121.0 & 109 & 4.11 & 2.780 & 18.60 & 1 & 1 & 4 & 2\\\\\n\\end{tabular}\n",
            "text/plain": [
              "                    mpg  cyl disp  hp  drat wt    qsec  vs am gear carb\n",
              "Mazda RX4           21.0 6   160.0 110 3.90 2.620 16.46 0  1  4    4   \n",
              "Mazda RX4 Wag       21.0 6   160.0 110 3.90 2.875 17.02 0  1  4    4   \n",
              "Datsun 710          22.8 4   108.0  93 3.85 2.320 18.61 1  1  4    1   \n",
              "Hornet 4 Drive      21.4 6   258.0 110 3.08 3.215 19.44 1  0  3    1   \n",
              "Hornet Sportabout   18.7 8   360.0 175 3.15 3.440 17.02 0  0  3    2   \n",
              "Valiant             18.1 6   225.0 105 2.76 3.460 20.22 1  0  3    1   \n",
              "Duster 360          14.3 8   360.0 245 3.21 3.570 15.84 0  0  3    4   \n",
              "Merc 240D           24.4 4   146.7  62 3.69 3.190 20.00 1  0  4    2   \n",
              "Merc 230            22.8 4   140.8  95 3.92 3.150 22.90 1  0  4    2   \n",
              "Merc 280            19.2 6   167.6 123 3.92 3.440 18.30 1  0  4    4   \n",
              "Merc 280C           17.8 6   167.6 123 3.92 3.440 18.90 1  0  4    4   \n",
              "Merc 450SE          16.4 8   275.8 180 3.07 4.070 17.40 0  0  3    3   \n",
              "Merc 450SL          17.3 8   275.8 180 3.07 3.730 17.60 0  0  3    3   \n",
              "Merc 450SLC         15.2 8   275.8 180 3.07 3.780 18.00 0  0  3    3   \n",
              "Cadillac Fleetwood  10.4 8   472.0 205 2.93 5.250 17.98 0  0  3    4   \n",
              "Lincoln Continental 10.4 8   460.0 215 3.00 5.424 17.82 0  0  3    4   \n",
              "Chrysler Imperial   14.7 8   440.0 230 3.23 5.345 17.42 0  0  3    4   \n",
              "Fiat 128            32.4 4    78.7  66 4.08 2.200 19.47 1  1  4    1   \n",
              "Honda Civic         30.4 4    75.7  52 4.93 1.615 18.52 1  1  4    2   \n",
              "Toyota Corolla      33.9 4    71.1  65 4.22 1.835 19.90 1  1  4    1   \n",
              "Toyota Corona       21.5 4   120.1  97 3.70 2.465 20.01 1  0  3    1   \n",
              "Dodge Challenger    15.5 8   318.0 150 2.76 3.520 16.87 0  0  3    2   \n",
              "AMC Javelin         15.2 8   304.0 150 3.15 3.435 17.30 0  0  3    2   \n",
              "Camaro Z28          13.3 8   350.0 245 3.73 3.840 15.41 0  0  3    4   \n",
              "Pontiac Firebird    19.2 8   400.0 175 3.08 3.845 17.05 0  0  3    2   \n",
              "Fiat X1-9           27.3 4    79.0  66 4.08 1.935 18.90 1  1  4    1   \n",
              "Porsche 914-2       26.0 4   120.3  91 4.43 2.140 16.70 0  1  5    2   \n",
              "Lotus Europa        30.4 4    95.1 113 3.77 1.513 16.90 1  1  5    2   \n",
              "Ford Pantera L      15.8 8   351.0 264 4.22 3.170 14.50 0  1  5    4   \n",
              "Ferrari Dino        19.7 6   145.0 175 3.62 2.770 15.50 0  1  5    6   \n",
              "Maserati Bora       15.0 8   301.0 335 3.54 3.570 14.60 0  1  5    8   \n",
              "Volvo 142E          21.4 4   121.0 109 4.11 2.780 18.60 1  1  4    2   "
            ]
          },
          "metadata": {}
        }
      ],
      "source": [
        "mtcars"
      ]
    },
    {
      "cell_type": "markdown",
      "source": [
        "### Summarize data --> Similar to Pandas's df.describe()"
      ],
      "metadata": {
        "id": "DOKBYEFp_1oB"
      }
    },
    {
      "cell_type": "code",
      "source": [
        "summary(mtcars)"
      ],
      "metadata": {
        "colab": {
          "base_uri": "https://localhost:8080/",
          "height": 381
        },
        "id": "R0gFrFK8_zNH",
        "outputId": "2448bf2f-cf7a-4846-e3cd-3a16b51b77a0"
      },
      "execution_count": 62,
      "outputs": [
        {
          "output_type": "display_data",
          "data": {
            "text/plain": [
              "      mpg             cyl             disp             hp       \n",
              " Min.   :10.40   Min.   :4.000   Min.   : 71.1   Min.   : 52.0  \n",
              " 1st Qu.:15.43   1st Qu.:4.000   1st Qu.:120.8   1st Qu.: 96.5  \n",
              " Median :19.20   Median :6.000   Median :196.3   Median :123.0  \n",
              " Mean   :20.09   Mean   :6.188   Mean   :230.7   Mean   :146.7  \n",
              " 3rd Qu.:22.80   3rd Qu.:8.000   3rd Qu.:326.0   3rd Qu.:180.0  \n",
              " Max.   :33.90   Max.   :8.000   Max.   :472.0   Max.   :335.0  \n",
              "      drat             wt             qsec             vs        \n",
              " Min.   :2.760   Min.   :1.513   Min.   :14.50   Min.   :0.0000  \n",
              " 1st Qu.:3.080   1st Qu.:2.581   1st Qu.:16.89   1st Qu.:0.0000  \n",
              " Median :3.695   Median :3.325   Median :17.71   Median :0.0000  \n",
              " Mean   :3.597   Mean   :3.217   Mean   :17.85   Mean   :0.4375  \n",
              " 3rd Qu.:3.920   3rd Qu.:3.610   3rd Qu.:18.90   3rd Qu.:1.0000  \n",
              " Max.   :4.930   Max.   :5.424   Max.   :22.90   Max.   :1.0000  \n",
              "       am              gear            carb      \n",
              " Min.   :0.0000   Min.   :3.000   Min.   :1.000  \n",
              " 1st Qu.:0.0000   1st Qu.:3.000   1st Qu.:2.000  \n",
              " Median :0.0000   Median :4.000   Median :2.000  \n",
              " Mean   :0.4062   Mean   :3.688   Mean   :2.812  \n",
              " 3rd Qu.:1.0000   3rd Qu.:4.000   3rd Qu.:4.000  \n",
              " Max.   :1.0000   Max.   :5.000   Max.   :8.000  "
            ]
          },
          "metadata": {}
        }
      ]
    },
    {
      "cell_type": "markdown",
      "source": [
        "### View Top 5 rows with head() --> Similar to df.head()\n",
        " "
      ],
      "metadata": {
        "id": "cjvRbAuoALQc"
      }
    },
    {
      "cell_type": "code",
      "source": [
        "head(mtcars)"
      ],
      "metadata": {
        "colab": {
          "base_uri": "https://localhost:8080/",
          "height": 286
        },
        "id": "c9tC_AJXAY3s",
        "outputId": "f73e0cf5-f4ed-40f3-c4b4-40e23c0f4364"
      },
      "execution_count": 63,
      "outputs": [
        {
          "output_type": "display_data",
          "data": {
            "text/html": [
              "<table class=\"dataframe\">\n",
              "<caption>A data.frame: 6 × 11</caption>\n",
              "<thead>\n",
              "\t<tr><th></th><th scope=col>mpg</th><th scope=col>cyl</th><th scope=col>disp</th><th scope=col>hp</th><th scope=col>drat</th><th scope=col>wt</th><th scope=col>qsec</th><th scope=col>vs</th><th scope=col>am</th><th scope=col>gear</th><th scope=col>carb</th></tr>\n",
              "\t<tr><th></th><th scope=col>&lt;dbl&gt;</th><th scope=col>&lt;dbl&gt;</th><th scope=col>&lt;dbl&gt;</th><th scope=col>&lt;dbl&gt;</th><th scope=col>&lt;dbl&gt;</th><th scope=col>&lt;dbl&gt;</th><th scope=col>&lt;dbl&gt;</th><th scope=col>&lt;dbl&gt;</th><th scope=col>&lt;dbl&gt;</th><th scope=col>&lt;dbl&gt;</th><th scope=col>&lt;dbl&gt;</th></tr>\n",
              "</thead>\n",
              "<tbody>\n",
              "\t<tr><th scope=row>Mazda RX4</th><td>21.0</td><td>6</td><td>160</td><td>110</td><td>3.90</td><td>2.620</td><td>16.46</td><td>0</td><td>1</td><td>4</td><td>4</td></tr>\n",
              "\t<tr><th scope=row>Mazda RX4 Wag</th><td>21.0</td><td>6</td><td>160</td><td>110</td><td>3.90</td><td>2.875</td><td>17.02</td><td>0</td><td>1</td><td>4</td><td>4</td></tr>\n",
              "\t<tr><th scope=row>Datsun 710</th><td>22.8</td><td>4</td><td>108</td><td> 93</td><td>3.85</td><td>2.320</td><td>18.61</td><td>1</td><td>1</td><td>4</td><td>1</td></tr>\n",
              "\t<tr><th scope=row>Hornet 4 Drive</th><td>21.4</td><td>6</td><td>258</td><td>110</td><td>3.08</td><td>3.215</td><td>19.44</td><td>1</td><td>0</td><td>3</td><td>1</td></tr>\n",
              "\t<tr><th scope=row>Hornet Sportabout</th><td>18.7</td><td>8</td><td>360</td><td>175</td><td>3.15</td><td>3.440</td><td>17.02</td><td>0</td><td>0</td><td>3</td><td>2</td></tr>\n",
              "\t<tr><th scope=row>Valiant</th><td>18.1</td><td>6</td><td>225</td><td>105</td><td>2.76</td><td>3.460</td><td>20.22</td><td>1</td><td>0</td><td>3</td><td>1</td></tr>\n",
              "</tbody>\n",
              "</table>\n"
            ],
            "text/markdown": "\nA data.frame: 6 × 11\n\n| <!--/--> | mpg &lt;dbl&gt; | cyl &lt;dbl&gt; | disp &lt;dbl&gt; | hp &lt;dbl&gt; | drat &lt;dbl&gt; | wt &lt;dbl&gt; | qsec &lt;dbl&gt; | vs &lt;dbl&gt; | am &lt;dbl&gt; | gear &lt;dbl&gt; | carb &lt;dbl&gt; |\n|---|---|---|---|---|---|---|---|---|---|---|---|\n| Mazda RX4 | 21.0 | 6 | 160 | 110 | 3.90 | 2.620 | 16.46 | 0 | 1 | 4 | 4 |\n| Mazda RX4 Wag | 21.0 | 6 | 160 | 110 | 3.90 | 2.875 | 17.02 | 0 | 1 | 4 | 4 |\n| Datsun 710 | 22.8 | 4 | 108 |  93 | 3.85 | 2.320 | 18.61 | 1 | 1 | 4 | 1 |\n| Hornet 4 Drive | 21.4 | 6 | 258 | 110 | 3.08 | 3.215 | 19.44 | 1 | 0 | 3 | 1 |\n| Hornet Sportabout | 18.7 | 8 | 360 | 175 | 3.15 | 3.440 | 17.02 | 0 | 0 | 3 | 2 |\n| Valiant | 18.1 | 6 | 225 | 105 | 2.76 | 3.460 | 20.22 | 1 | 0 | 3 | 1 |\n\n",
            "text/latex": "A data.frame: 6 × 11\n\\begin{tabular}{r|lllllllllll}\n  & mpg & cyl & disp & hp & drat & wt & qsec & vs & am & gear & carb\\\\\n  & <dbl> & <dbl> & <dbl> & <dbl> & <dbl> & <dbl> & <dbl> & <dbl> & <dbl> & <dbl> & <dbl>\\\\\n\\hline\n\tMazda RX4 & 21.0 & 6 & 160 & 110 & 3.90 & 2.620 & 16.46 & 0 & 1 & 4 & 4\\\\\n\tMazda RX4 Wag & 21.0 & 6 & 160 & 110 & 3.90 & 2.875 & 17.02 & 0 & 1 & 4 & 4\\\\\n\tDatsun 710 & 22.8 & 4 & 108 &  93 & 3.85 & 2.320 & 18.61 & 1 & 1 & 4 & 1\\\\\n\tHornet 4 Drive & 21.4 & 6 & 258 & 110 & 3.08 & 3.215 & 19.44 & 1 & 0 & 3 & 1\\\\\n\tHornet Sportabout & 18.7 & 8 & 360 & 175 & 3.15 & 3.440 & 17.02 & 0 & 0 & 3 & 2\\\\\n\tValiant & 18.1 & 6 & 225 & 105 & 2.76 & 3.460 & 20.22 & 1 & 0 & 3 & 1\\\\\n\\end{tabular}\n",
            "text/plain": [
              "                  mpg  cyl disp hp  drat wt    qsec  vs am gear carb\n",
              "Mazda RX4         21.0 6   160  110 3.90 2.620 16.46 0  1  4    4   \n",
              "Mazda RX4 Wag     21.0 6   160  110 3.90 2.875 17.02 0  1  4    4   \n",
              "Datsun 710        22.8 4   108   93 3.85 2.320 18.61 1  1  4    1   \n",
              "Hornet 4 Drive    21.4 6   258  110 3.08 3.215 19.44 1  0  3    1   \n",
              "Hornet Sportabout 18.7 8   360  175 3.15 3.440 17.02 0  0  3    2   \n",
              "Valiant           18.1 6   225  105 2.76 3.460 20.22 1  0  3    1   "
            ]
          },
          "metadata": {}
        }
      ]
    },
    {
      "cell_type": "markdown",
      "source": [
        "## **Naming Things**"
      ],
      "metadata": {
        "id": "Cak4wQFSAsxS"
      }
    },
    {
      "cell_type": "markdown",
      "source": [
        "### Assignment Operator\n",
        "To assign labels we use the <- symbol"
      ],
      "metadata": {
        "id": "0YSa0i5PA9aT"
      }
    },
    {
      "cell_type": "code",
      "source": [
        "the_magic_number <- 3"
      ],
      "metadata": {
        "id": "HB42__XvAwDh"
      },
      "execution_count": 64,
      "outputs": []
    },
    {
      "cell_type": "markdown",
      "source": [
        "To both assign a variable and display it we would type"
      ],
      "metadata": {
        "id": "VUusHGu6Bfzq"
      }
    },
    {
      "cell_type": "code",
      "source": [
        "(i_am_a_new_variable <- 22)"
      ],
      "metadata": {
        "colab": {
          "base_uri": "https://localhost:8080/",
          "height": 34
        },
        "id": "vcOSm3UjBhpl",
        "outputId": "88ae0ee6-0141-4b58-f6f9-cbfffc758f82"
      },
      "execution_count": 65,
      "outputs": [
        {
          "output_type": "display_data",
          "data": {
            "text/html": [
              "22"
            ],
            "text/markdown": "22",
            "text/latex": "22",
            "text/plain": [
              "[1] 22"
            ]
          },
          "metadata": {}
        }
      ]
    },
    {
      "cell_type": "markdown",
      "source": [
        "We can also do calculations as we assign variables:"
      ],
      "metadata": {
        "id": "HOSnirjRBp2Y"
      }
    },
    {
      "cell_type": "code",
      "source": [
        "one_score <- 20\n",
        "\n",
        "(four_score_years_and_ten <- one_score * 4 + 10)"
      ],
      "metadata": {
        "colab": {
          "base_uri": "https://localhost:8080/",
          "height": 34
        },
        "id": "nK7QhFkfBq6m",
        "outputId": "5d7d3043-eecb-4234-d374-5d659a6c7f53"
      },
      "execution_count": 66,
      "outputs": [
        {
          "output_type": "display_data",
          "data": {
            "text/html": [
              "90"
            ],
            "text/markdown": "90",
            "text/latex": "90",
            "text/plain": [
              "[1] 90"
            ]
          },
          "metadata": {}
        }
      ]
    },
    {
      "cell_type": "markdown",
      "source": [
        "## **Vector and Lists**\n"
      ],
      "metadata": {
        "id": "MYpSDjacMmpg"
      }
    },
    {
      "cell_type": "markdown",
      "source": [
        "* When working with data, we often have lists or sequences of ‘things’. For example: a list of measurements we have made.\n",
        "* When all the things are of the same type, R calls this a vector.\n",
        "* When there is a mix of different things R calls this a list.\n",
        "* When different objects are mixed in a vector, coercion occurs so that every element in the vector is of the same class."
      ],
      "metadata": {
        "id": "XwzgBXi8Mtit"
      }
    },
    {
      "cell_type": "markdown",
      "source": [
        "### Vectors"
      ],
      "metadata": {
        "id": "V098HTuMM3AP"
      }
    },
    {
      "cell_type": "markdown",
      "source": [
        "We can create a vector of numbers and display it like this:"
      ],
      "metadata": {
        "id": "V64PfoqjNBIM"
      }
    },
    {
      "cell_type": "code",
      "source": [
        "heights <- c(203, 148, 156, 158, 167,\n",
        "             162, 172, 164, 172, 187,\n",
        "             134, 182, 175)\n",
        "heights"
      ],
      "metadata": {
        "colab": {
          "base_uri": "https://localhost:8080/",
          "height": 34
        },
        "id": "LxbExgWFM8U-",
        "outputId": "4b12a638-3710-4cd7-c4fd-6a7c6044e4c9"
      },
      "execution_count": 67,
      "outputs": [
        {
          "output_type": "display_data",
          "data": {
            "text/html": [
              "<style>\n",
              ".list-inline {list-style: none; margin:0; padding: 0}\n",
              ".list-inline>li {display: inline-block}\n",
              ".list-inline>li:not(:last-child)::after {content: \"\\00b7\"; padding: 0 .5ex}\n",
              "</style>\n",
              "<ol class=list-inline><li>203</li><li>148</li><li>156</li><li>158</li><li>167</li><li>162</li><li>172</li><li>164</li><li>172</li><li>187</li><li>134</li><li>182</li><li>175</li></ol>\n"
            ],
            "text/markdown": "1. 203\n2. 148\n3. 156\n4. 158\n5. 167\n6. 162\n7. 172\n8. 164\n9. 172\n10. 187\n11. 134\n12. 182\n13. 175\n\n\n",
            "text/latex": "\\begin{enumerate*}\n\\item 203\n\\item 148\n\\item 156\n\\item 158\n\\item 167\n\\item 162\n\\item 172\n\\item 164\n\\item 172\n\\item 187\n\\item 134\n\\item 182\n\\item 175\n\\end{enumerate*}\n",
            "text/plain": [
              " [1] 203 148 156 158 167 162 172 164 172 187 134 182 175"
            ]
          },
          "metadata": {}
        }
      ]
    },
    {
      "cell_type": "markdown",
      "source": [
        "The `c()` command is shorthand for combine, so the example above combines the individual elements (numbers) into a new vector."
      ],
      "metadata": {
        "id": "vCqgpmxxNM6E"
      }
    },
    {
      "cell_type": "markdown",
      "source": [
        "We can create a vector of alphanumeric names just as easily:"
      ],
      "metadata": {
        "id": "Rzf9uRLbNQz_"
      }
    },
    {
      "cell_type": "code",
      "source": [
        "names <- c(\"Ben\", \"Joe\", \"Sue\", \"Rosa\")\n",
        "\n",
        "names"
      ],
      "metadata": {
        "colab": {
          "base_uri": "https://localhost:8080/",
          "height": 34
        },
        "id": "MUg-pWKHNaXf",
        "outputId": "ea10f0c2-47ee-4e2c-f214-6aee7da939cd"
      },
      "execution_count": 68,
      "outputs": [
        {
          "output_type": "display_data",
          "data": {
            "text/html": [
              "<style>\n",
              ".list-inline {list-style: none; margin:0; padding: 0}\n",
              ".list-inline>li {display: inline-block}\n",
              ".list-inline>li:not(:last-child)::after {content: \"\\00b7\"; padding: 0 .5ex}\n",
              "</style>\n",
              "<ol class=list-inline><li>'Ben'</li><li>'Joe'</li><li>'Sue'</li><li>'Rosa'</li></ol>\n"
            ],
            "text/markdown": "1. 'Ben'\n2. 'Joe'\n3. 'Sue'\n4. 'Rosa'\n\n\n",
            "text/latex": "\\begin{enumerate*}\n\\item 'Ben'\n\\item 'Joe'\n\\item 'Sue'\n\\item 'Rosa'\n\\end{enumerate*}\n",
            "text/plain": [
              "[1] \"Ben\"  \"Joe\"  \"Sue\"  \"Rosa\""
            ]
          },
          "metadata": {}
        }
      ]
    },
    {
      "cell_type": "markdown",
      "source": [
        "Printing variable values:"
      ],
      "metadata": {
        "id": "iWjUzD4bNo-Y"
      }
    },
    {
      "cell_type": "code",
      "source": [
        "print(names)"
      ],
      "metadata": {
        "colab": {
          "base_uri": "https://localhost:8080/"
        },
        "id": "Sv8FlD23Nsz8",
        "outputId": "69b8ec4d-b24a-4f1a-cd60-3696d45adf4e"
      },
      "execution_count": 69,
      "outputs": [
        {
          "output_type": "stream",
          "name": "stdout",
          "text": [
            "[1] \"Ben\"  \"Joe\"  \"Sue\"  \"Rosa\"\n"
          ]
        }
      ]
    },
    {
      "cell_type": "markdown",
      "source": [
        "## **Accessing Elements**"
      ],
      "metadata": {
        "id": "soN-Lo8fN8-k"
      }
    },
    {
      "cell_type": "code",
      "source": [
        "my.vector <- c(10, 20, 30, 40)"
      ],
      "metadata": {
        "id": "WanOaEFZOE5i"
      },
      "execution_count": 70,
      "outputs": []
    },
    {
      "cell_type": "code",
      "source": [
        "my.vector[1]          # First Index position in R is 1 whereas in Python it starts with 0"
      ],
      "metadata": {
        "colab": {
          "base_uri": "https://localhost:8080/",
          "height": 34
        },
        "id": "tPFOv5LDOJJj",
        "outputId": "af58c1c8-5771-441e-a408-c971165c21cb"
      },
      "execution_count": 71,
      "outputs": [
        {
          "output_type": "display_data",
          "data": {
            "text/html": [
              "10"
            ],
            "text/markdown": "10",
            "text/latex": "10",
            "text/plain": [
              "[1] 10"
            ]
          },
          "metadata": {}
        }
      ]
    },
    {
      "cell_type": "markdown",
      "source": [
        "The square brackets specify a subset of the vector we want - in this case, just the first element."
      ],
      "metadata": {
        "id": "ItFFjHFbOhaX"
      }
    },
    {
      "cell_type": "markdown",
      "source": [
        "## **Selecting more than one element**"
      ],
      "metadata": {
        "id": "HrKDjEv9Oj65"
      }
    },
    {
      "cell_type": "markdown",
      "source": [
        "In sqaure bracket, only range can be given with \":\" (colon) but if you want to grab more than one element, we have to use `c()` function to grab those positions."
      ],
      "metadata": {
        "id": "U6OFrJhNO4qh"
      }
    },
    {
      "cell_type": "code",
      "source": [
        "my.vector[c(1,4)]"
      ],
      "metadata": {
        "colab": {
          "base_uri": "https://localhost:8080/",
          "height": 34
        },
        "id": "UhCpJ2CaOpnk",
        "outputId": "2458a8a9-5f14-42e9-a09f-92939cd1ea9a"
      },
      "execution_count": 72,
      "outputs": [
        {
          "output_type": "display_data",
          "data": {
            "text/html": [
              "<style>\n",
              ".list-inline {list-style: none; margin:0; padding: 0}\n",
              ".list-inline>li {display: inline-block}\n",
              ".list-inline>li:not(:last-child)::after {content: \"\\00b7\"; padding: 0 .5ex}\n",
              "</style>\n",
              "<ol class=list-inline><li>10</li><li>40</li></ol>\n"
            ],
            "text/markdown": "1. 10\n2. 40\n\n\n",
            "text/latex": "\\begin{enumerate*}\n\\item 10\n\\item 40\n\\end{enumerate*}\n",
            "text/plain": [
              "[1] 10 40"
            ]
          },
          "metadata": {}
        }
      ]
    },
    {
      "cell_type": "code",
      "source": [
        "elements.to.grab <- c(4, 5)"
      ],
      "metadata": {
        "id": "AbFE-qrrPUup"
      },
      "execution_count": 73,
      "outputs": []
    },
    {
      "cell_type": "code",
      "source": [
        "heights[elements.to.grab]"
      ],
      "metadata": {
        "colab": {
          "base_uri": "https://localhost:8080/",
          "height": 34
        },
        "id": "KvpgM5XJPYRe",
        "outputId": "5344ec8f-b59c-47f7-9bc0-efcedaaf9812"
      },
      "execution_count": 74,
      "outputs": [
        {
          "output_type": "display_data",
          "data": {
            "text/html": [
              "<style>\n",
              ".list-inline {list-style: none; margin:0; padding: 0}\n",
              ".list-inline>li {display: inline-block}\n",
              ".list-inline>li:not(:last-child)::after {content: \"\\00b7\"; padding: 0 .5ex}\n",
              "</style>\n",
              "<ol class=list-inline><li>158</li><li>167</li></ol>\n"
            ],
            "text/markdown": "1. 158\n2. 167\n\n\n",
            "text/latex": "\\begin{enumerate*}\n\\item 158\n\\item 167\n\\end{enumerate*}\n",
            "text/plain": [
              "[1] 158 167"
            ]
          },
          "metadata": {}
        }
      ]
    },
    {
      "cell_type": "markdown",
      "source": [
        "### Making a subset from original vector and assign it to a new variable"
      ],
      "metadata": {
        "id": "WAteLfmWPj8q"
      }
    },
    {
      "cell_type": "code",
      "source": [
        "first.two.elements <- heights[c(1, 2)]\n",
        "first.two.elements"
      ],
      "metadata": {
        "colab": {
          "base_uri": "https://localhost:8080/",
          "height": 34
        },
        "id": "2Wf1JpfZPrgF",
        "outputId": "a98579fb-4efa-421d-ef10-15644e27c9d6"
      },
      "execution_count": 75,
      "outputs": [
        {
          "output_type": "display_data",
          "data": {
            "text/html": [
              "<style>\n",
              ".list-inline {list-style: none; margin:0; padding: 0}\n",
              ".list-inline>li {display: inline-block}\n",
              ".list-inline>li:not(:last-child)::after {content: \"\\00b7\"; padding: 0 .5ex}\n",
              "</style>\n",
              "<ol class=list-inline><li>203</li><li>148</li></ol>\n"
            ],
            "text/markdown": "1. 203\n2. 148\n\n\n",
            "text/latex": "\\begin{enumerate*}\n\\item 203\n\\item 148\n\\end{enumerate*}\n",
            "text/plain": [
              "[1] 203 148"
            ]
          },
          "metadata": {}
        }
      ]
    },
    {
      "cell_type": "markdown",
      "source": [
        "## **Making and slicing with sequences**"
      ],
      "metadata": {
        "id": "07GSuYpmP2Z8"
      }
    },
    {
      "cell_type": "markdown",
      "source": [
        "The simplest way of doing this is to define a range, with the colon (:)"
      ],
      "metadata": {
        "id": "5x2X87K2P8Y1"
      }
    },
    {
      "cell_type": "code",
      "source": [
        "onetoten <- 1:10"
      ],
      "metadata": {
        "id": "av7dWci_P-gA"
      },
      "execution_count": 76,
      "outputs": []
    },
    {
      "cell_type": "markdown",
      "source": [
        "This creates a vector which can be sliced like any other:"
      ],
      "metadata": {
        "id": "htmbSMWlQFf4"
      }
    },
    {
      "cell_type": "code",
      "source": [
        "onetoten[8]"
      ],
      "metadata": {
        "colab": {
          "base_uri": "https://localhost:8080/",
          "height": 34
        },
        "id": "ezFbsKL1QHD-",
        "outputId": "aa444c07-10e0-40fa-de94-122f067e0082"
      },
      "execution_count": 77,
      "outputs": [
        {
          "output_type": "display_data",
          "data": {
            "text/html": [
              "8"
            ],
            "text/markdown": "8",
            "text/latex": "8",
            "text/plain": [
              "[1] 8"
            ]
          },
          "metadata": {}
        }
      ]
    },
    {
      "cell_type": "markdown",
      "source": [
        "One common use of sequences is to slice other vectors:"
      ],
      "metadata": {
        "id": "uwvVtklEQXKu"
      }
    },
    {
      "cell_type": "code",
      "source": [
        "onetoten[1:3]"
      ],
      "metadata": {
        "colab": {
          "base_uri": "https://localhost:8080/",
          "height": 34
        },
        "id": "3WY_tr0rQXvW",
        "outputId": "de01b5fd-b23e-455c-a63d-2b79d7173104"
      },
      "execution_count": 78,
      "outputs": [
        {
          "output_type": "display_data",
          "data": {
            "text/html": [
              "<style>\n",
              ".list-inline {list-style: none; margin:0; padding: 0}\n",
              ".list-inline>li {display: inline-block}\n",
              ".list-inline>li:not(:last-child)::after {content: \"\\00b7\"; padding: 0 .5ex}\n",
              "</style>\n",
              "<ol class=list-inline><li>1</li><li>2</li><li>3</li></ol>\n"
            ],
            "text/markdown": "1. 1\n2. 2\n3. 3\n\n\n",
            "text/latex": "\\begin{enumerate*}\n\\item 1\n\\item 2\n\\item 3\n\\end{enumerate*}\n",
            "text/plain": [
              "[1] 1 2 3"
            ]
          },
          "metadata": {}
        }
      ]
    },
    {
      "cell_type": "markdown",
      "source": [
        "Or the first 10 values in the heights vector we defined above:"
      ],
      "metadata": {
        "id": "yBZwiy1gQdT8"
      }
    },
    {
      "cell_type": "code",
      "source": [
        "heights[1:10]"
      ],
      "metadata": {
        "colab": {
          "base_uri": "https://localhost:8080/",
          "height": 34
        },
        "id": "4vDro84QQdxe",
        "outputId": "fd0501ce-7296-4b35-cec4-d7fdb230abd6"
      },
      "execution_count": 79,
      "outputs": [
        {
          "output_type": "display_data",
          "data": {
            "text/html": [
              "<style>\n",
              ".list-inline {list-style: none; margin:0; padding: 0}\n",
              ".list-inline>li {display: inline-block}\n",
              ".list-inline>li:not(:last-child)::after {content: \"\\00b7\"; padding: 0 .5ex}\n",
              "</style>\n",
              "<ol class=list-inline><li>203</li><li>148</li><li>156</li><li>158</li><li>167</li><li>162</li><li>172</li><li>164</li><li>172</li><li>187</li></ol>\n"
            ],
            "text/markdown": "1. 203\n2. 148\n3. 156\n4. 158\n5. 167\n6. 162\n7. 172\n8. 164\n9. 172\n10. 187\n\n\n",
            "text/latex": "\\begin{enumerate*}\n\\item 203\n\\item 148\n\\item 156\n\\item 158\n\\item 167\n\\item 162\n\\item 172\n\\item 164\n\\item 172\n\\item 187\n\\end{enumerate*}\n",
            "text/plain": [
              " [1] 203 148 156 158 167 162 172 164 172 187"
            ]
          },
          "metadata": {}
        }
      ]
    },
    {
      "cell_type": "markdown",
      "source": [
        "This works backwards, and with negative numbers too:"
      ],
      "metadata": {
        "id": "lWzSNE4NQp-3"
      }
    },
    {
      "cell_type": "code",
      "source": [
        "5:-5"
      ],
      "metadata": {
        "colab": {
          "base_uri": "https://localhost:8080/",
          "height": 34
        },
        "id": "L5PtXBXqQqmV",
        "outputId": "748ceba2-5367-4e33-bcc1-11d7e5d440ac"
      },
      "execution_count": 80,
      "outputs": [
        {
          "output_type": "display_data",
          "data": {
            "text/html": [
              "<style>\n",
              ".list-inline {list-style: none; margin:0; padding: 0}\n",
              ".list-inline>li {display: inline-block}\n",
              ".list-inline>li:not(:last-child)::after {content: \"\\00b7\"; padding: 0 .5ex}\n",
              "</style>\n",
              "<ol class=list-inline><li>5</li><li>4</li><li>3</li><li>2</li><li>1</li><li>0</li><li>-1</li><li>-2</li><li>-3</li><li>-4</li><li>-5</li></ol>\n"
            ],
            "text/markdown": "1. 5\n2. 4\n3. 3\n4. 2\n5. 1\n6. 0\n7. -1\n8. -2\n9. -3\n10. -4\n11. -5\n\n\n",
            "text/latex": "\\begin{enumerate*}\n\\item 5\n\\item 4\n\\item 3\n\\item 2\n\\item 1\n\\item 0\n\\item -1\n\\item -2\n\\item -3\n\\item -4\n\\item -5\n\\end{enumerate*}\n",
            "text/plain": [
              " [1]  5  4  3  2  1  0 -1 -2 -3 -4 -5"
            ]
          },
          "metadata": {}
        }
      ]
    },
    {
      "cell_type": "markdown",
      "source": [
        "#### **Seqeunce() Function** --> Python's `range()` function"
      ],
      "metadata": {
        "id": "HIisSkHMQtYO"
      }
    },
    {
      "cell_type": "markdown",
      "source": [
        "When your sequence doesn’t contain only whole numbers, or non-consecutive numbers, you can use the seq function:"
      ],
      "metadata": {
        "id": "GHnRi9V1yLRH"
      }
    },
    {
      "cell_type": "code",
      "source": [
        "seq(1,10,by=2)"
      ],
      "metadata": {
        "colab": {
          "base_uri": "https://localhost:8080/",
          "height": 34
        },
        "id": "Z6u-MyLBQ43z",
        "outputId": "dad512d6-0487-48ac-8f86-a0918beef4ab"
      },
      "execution_count": 81,
      "outputs": [
        {
          "output_type": "display_data",
          "data": {
            "text/html": [
              "<style>\n",
              ".list-inline {list-style: none; margin:0; padding: 0}\n",
              ".list-inline>li {display: inline-block}\n",
              ".list-inline>li:not(:last-child)::after {content: \"\\00b7\"; padding: 0 .5ex}\n",
              "</style>\n",
              "<ol class=list-inline><li>1</li><li>3</li><li>5</li><li>7</li><li>9</li></ol>\n"
            ],
            "text/markdown": "1. 1\n2. 3\n3. 5\n4. 7\n5. 9\n\n\n",
            "text/latex": "\\begin{enumerate*}\n\\item 1\n\\item 3\n\\item 5\n\\item 7\n\\item 9\n\\end{enumerate*}\n",
            "text/plain": [
              "[1] 1 3 5 7 9"
            ]
          },
          "metadata": {}
        }
      ]
    },
    {
      "cell_type": "code",
      "source": [
        "seq(0, 1, by=.2)"
      ],
      "metadata": {
        "colab": {
          "base_uri": "https://localhost:8080/",
          "height": 34
        },
        "id": "rPOWQ7QJQ-PQ",
        "outputId": "397a6d60-c94c-4e2d-f4b0-1b56ba89c810"
      },
      "execution_count": 82,
      "outputs": [
        {
          "output_type": "display_data",
          "data": {
            "text/html": [
              "<style>\n",
              ".list-inline {list-style: none; margin:0; padding: 0}\n",
              ".list-inline>li {display: inline-block}\n",
              ".list-inline>li:not(:last-child)::after {content: \"\\00b7\"; padding: 0 .5ex}\n",
              "</style>\n",
              "<ol class=list-inline><li>0</li><li>0.2</li><li>0.4</li><li>0.6</li><li>0.8</li><li>1</li></ol>\n"
            ],
            "text/markdown": "1. 0\n2. 0.2\n3. 0.4\n4. 0.6\n5. 0.8\n6. 1\n\n\n",
            "text/latex": "\\begin{enumerate*}\n\\item 0\n\\item 0.2\n\\item 0.4\n\\item 0.6\n\\item 0.8\n\\item 1\n\\end{enumerate*}\n",
            "text/plain": [
              "[1] 0.0 0.2 0.4 0.6 0.8 1.0"
            ]
          },
          "metadata": {}
        }
      ]
    },
    {
      "cell_type": "markdown",
      "source": [
        "## **Conditional slicing**"
      ],
      "metadata": {
        "id": "1c3bsw3vStDF"
      }
    },
    {
      "cell_type": "markdown",
      "source": [
        "One neat feature of R is that you can create a sequence of `TRUE` or `FALSE` values, by asking whether each value in a sequence matches a particular condition. For example:"
      ],
      "metadata": {
        "id": "gETIVT_UyPfa"
      }
    },
    {
      "cell_type": "code",
      "source": [
        "1:10 > 5"
      ],
      "metadata": {
        "colab": {
          "base_uri": "https://localhost:8080/",
          "height": 34
        },
        "id": "yfuRQF-PS93S",
        "outputId": "27882e40-af6b-4e7d-cede-d7cce65e64c4"
      },
      "execution_count": 83,
      "outputs": [
        {
          "output_type": "display_data",
          "data": {
            "text/html": [
              "<style>\n",
              ".list-inline {list-style: none; margin:0; padding: 0}\n",
              ".list-inline>li {display: inline-block}\n",
              ".list-inline>li:not(:last-child)::after {content: \"\\00b7\"; padding: 0 .5ex}\n",
              "</style>\n",
              "<ol class=list-inline><li>FALSE</li><li>FALSE</li><li>FALSE</li><li>FALSE</li><li>FALSE</li><li>TRUE</li><li>TRUE</li><li>TRUE</li><li>TRUE</li><li>TRUE</li></ol>\n"
            ],
            "text/markdown": "1. FALSE\n2. FALSE\n3. FALSE\n4. FALSE\n5. FALSE\n6. TRUE\n7. TRUE\n8. TRUE\n9. TRUE\n10. TRUE\n\n\n",
            "text/latex": "\\begin{enumerate*}\n\\item FALSE\n\\item FALSE\n\\item FALSE\n\\item FALSE\n\\item FALSE\n\\item TRUE\n\\item TRUE\n\\item TRUE\n\\item TRUE\n\\item TRUE\n\\end{enumerate*}\n",
            "text/plain": [
              " [1] FALSE FALSE FALSE FALSE FALSE  TRUE  TRUE  TRUE  TRUE  TRUE"
            ]
          },
          "metadata": {}
        }
      ]
    },
    {
      "cell_type": "markdown",
      "source": [
        "Re-using the heights vector from above, we can then use this to select values that are above the average:"
      ],
      "metadata": {
        "id": "Be88vPodTBbn"
      }
    },
    {
      "cell_type": "code",
      "source": [
        "heights > mean(heights)"
      ],
      "metadata": {
        "colab": {
          "base_uri": "https://localhost:8080/",
          "height": 34
        },
        "id": "luQQfG32TCNq",
        "outputId": "f4f5595a-f289-49a7-ea36-3d527f8031f0"
      },
      "execution_count": 84,
      "outputs": [
        {
          "output_type": "display_data",
          "data": {
            "text/html": [
              "<style>\n",
              ".list-inline {list-style: none; margin:0; padding: 0}\n",
              ".list-inline>li {display: inline-block}\n",
              ".list-inline>li:not(:last-child)::after {content: \"\\00b7\"; padding: 0 .5ex}\n",
              "</style>\n",
              "<ol class=list-inline><li>TRUE</li><li>FALSE</li><li>FALSE</li><li>FALSE</li><li>FALSE</li><li>FALSE</li><li>TRUE</li><li>FALSE</li><li>TRUE</li><li>TRUE</li><li>FALSE</li><li>TRUE</li><li>TRUE</li></ol>\n"
            ],
            "text/markdown": "1. TRUE\n2. FALSE\n3. FALSE\n4. FALSE\n5. FALSE\n6. FALSE\n7. TRUE\n8. FALSE\n9. TRUE\n10. TRUE\n11. FALSE\n12. TRUE\n13. TRUE\n\n\n",
            "text/latex": "\\begin{enumerate*}\n\\item TRUE\n\\item FALSE\n\\item FALSE\n\\item FALSE\n\\item FALSE\n\\item FALSE\n\\item TRUE\n\\item FALSE\n\\item TRUE\n\\item TRUE\n\\item FALSE\n\\item TRUE\n\\item TRUE\n\\end{enumerate*}\n",
            "text/plain": [
              " [1]  TRUE FALSE FALSE FALSE FALSE FALSE  TRUE FALSE  TRUE  TRUE FALSE  TRUE\n",
              "[13]  TRUE"
            ]
          },
          "metadata": {}
        }
      ]
    },
    {
      "cell_type": "markdown",
      "source": [
        "And we can use the vector of TRUE and FALSE values to select from the actual scores:"
      ],
      "metadata": {
        "id": "cvhDaRDtTGnk"
      }
    },
    {
      "cell_type": "code",
      "source": [
        "heights[heights > mean(heights)]"
      ],
      "metadata": {
        "colab": {
          "base_uri": "https://localhost:8080/",
          "height": 34
        },
        "id": "nHk3Ie8QTHIY",
        "outputId": "daf0c621-a583-43fb-d5c1-f1f5812e4985"
      },
      "execution_count": 85,
      "outputs": [
        {
          "output_type": "display_data",
          "data": {
            "text/html": [
              "<style>\n",
              ".list-inline {list-style: none; margin:0; padding: 0}\n",
              ".list-inline>li {display: inline-block}\n",
              ".list-inline>li:not(:last-child)::after {content: \"\\00b7\"; padding: 0 .5ex}\n",
              "</style>\n",
              "<ol class=list-inline><li>203</li><li>172</li><li>172</li><li>187</li><li>182</li><li>175</li></ol>\n"
            ],
            "text/markdown": "1. 203\n2. 172\n3. 172\n4. 187\n5. 182\n6. 175\n\n\n",
            "text/latex": "\\begin{enumerate*}\n\\item 203\n\\item 172\n\\item 172\n\\item 187\n\\item 182\n\\item 175\n\\end{enumerate*}\n",
            "text/plain": [
              "[1] 203 172 172 187 182 175"
            ]
          },
          "metadata": {}
        }
      ]
    },
    {
      "cell_type": "markdown",
      "source": [
        "### **Explicit Coercion**"
      ],
      "metadata": {
        "id": "0ngtjVqub2ED"
      }
    },
    {
      "cell_type": "markdown",
      "source": [
        "Objects can be coerced from one class to another class using `as.*` functions, if available."
      ],
      "metadata": {
        "id": "Vv9X6lWEb6Mc"
      }
    },
    {
      "cell_type": "code",
      "source": [
        "x <- 0:6"
      ],
      "metadata": {
        "id": "f0OECPf8cHmB"
      },
      "execution_count": 86,
      "outputs": []
    },
    {
      "cell_type": "code",
      "source": [
        "class(x)"
      ],
      "metadata": {
        "colab": {
          "base_uri": "https://localhost:8080/",
          "height": 34
        },
        "id": "t4e_-HRGif2N",
        "outputId": "43e532d1-8f8f-4132-f340-e5a074042e2f"
      },
      "execution_count": 87,
      "outputs": [
        {
          "output_type": "display_data",
          "data": {
            "text/html": [
              "'integer'"
            ],
            "text/markdown": "'integer'",
            "text/latex": "'integer'",
            "text/plain": [
              "[1] \"integer\""
            ]
          },
          "metadata": {}
        }
      ]
    },
    {
      "cell_type": "code",
      "source": [
        "as.numeric(x)"
      ],
      "metadata": {
        "colab": {
          "base_uri": "https://localhost:8080/",
          "height": 34
        },
        "id": "5YfcA4bbihSn",
        "outputId": "18215974-4e8c-4adf-a1fa-26d5be073f80"
      },
      "execution_count": 88,
      "outputs": [
        {
          "output_type": "display_data",
          "data": {
            "text/html": [
              "<style>\n",
              ".list-inline {list-style: none; margin:0; padding: 0}\n",
              ".list-inline>li {display: inline-block}\n",
              ".list-inline>li:not(:last-child)::after {content: \"\\00b7\"; padding: 0 .5ex}\n",
              "</style>\n",
              "<ol class=list-inline><li>0</li><li>1</li><li>2</li><li>3</li><li>4</li><li>5</li><li>6</li></ol>\n"
            ],
            "text/markdown": "1. 0\n2. 1\n3. 2\n4. 3\n5. 4\n6. 5\n7. 6\n\n\n",
            "text/latex": "\\begin{enumerate*}\n\\item 0\n\\item 1\n\\item 2\n\\item 3\n\\item 4\n\\item 5\n\\item 6\n\\end{enumerate*}\n",
            "text/plain": [
              "[1] 0 1 2 3 4 5 6"
            ]
          },
          "metadata": {}
        }
      ]
    },
    {
      "cell_type": "code",
      "source": [
        "as.logical(x)"
      ],
      "metadata": {
        "colab": {
          "base_uri": "https://localhost:8080/",
          "height": 34
        },
        "id": "I2IkHMa_indm",
        "outputId": "0f265237-f5a4-4651-91d8-46cada93029e"
      },
      "execution_count": 89,
      "outputs": [
        {
          "output_type": "display_data",
          "data": {
            "text/html": [
              "<style>\n",
              ".list-inline {list-style: none; margin:0; padding: 0}\n",
              ".list-inline>li {display: inline-block}\n",
              ".list-inline>li:not(:last-child)::after {content: \"\\00b7\"; padding: 0 .5ex}\n",
              "</style>\n",
              "<ol class=list-inline><li>FALSE</li><li>TRUE</li><li>TRUE</li><li>TRUE</li><li>TRUE</li><li>TRUE</li><li>TRUE</li></ol>\n"
            ],
            "text/markdown": "1. FALSE\n2. TRUE\n3. TRUE\n4. TRUE\n5. TRUE\n6. TRUE\n7. TRUE\n\n\n",
            "text/latex": "\\begin{enumerate*}\n\\item FALSE\n\\item TRUE\n\\item TRUE\n\\item TRUE\n\\item TRUE\n\\item TRUE\n\\item TRUE\n\\end{enumerate*}\n",
            "text/plain": [
              "[1] FALSE  TRUE  TRUE  TRUE  TRUE  TRUE  TRUE"
            ]
          },
          "metadata": {}
        }
      ]
    },
    {
      "cell_type": "code",
      "source": [
        "as.character(x)"
      ],
      "metadata": {
        "colab": {
          "base_uri": "https://localhost:8080/",
          "height": 34
        },
        "id": "hW_oRfPZirDg",
        "outputId": "d245802b-a439-46d9-c33c-0ece7ffd839b"
      },
      "execution_count": 90,
      "outputs": [
        {
          "output_type": "display_data",
          "data": {
            "text/html": [
              "<style>\n",
              ".list-inline {list-style: none; margin:0; padding: 0}\n",
              ".list-inline>li {display: inline-block}\n",
              ".list-inline>li:not(:last-child)::after {content: \"\\00b7\"; padding: 0 .5ex}\n",
              "</style>\n",
              "<ol class=list-inline><li>'0'</li><li>'1'</li><li>'2'</li><li>'3'</li><li>'4'</li><li>'5'</li><li>'6'</li></ol>\n"
            ],
            "text/markdown": "1. '0'\n2. '1'\n3. '2'\n4. '3'\n5. '4'\n6. '5'\n7. '6'\n\n\n",
            "text/latex": "\\begin{enumerate*}\n\\item '0'\n\\item '1'\n\\item '2'\n\\item '3'\n\\item '4'\n\\item '5'\n\\item '6'\n\\end{enumerate*}\n",
            "text/plain": [
              "[1] \"0\" \"1\" \"2\" \"3\" \"4\" \"5\" \"6\""
            ]
          },
          "metadata": {}
        }
      ]
    },
    {
      "cell_type": "code",
      "source": [
        "x <- c(\"a\", \"b\", \"c\")"
      ],
      "metadata": {
        "id": "hKLWWNYDloZg"
      },
      "execution_count": 121,
      "outputs": []
    },
    {
      "cell_type": "code",
      "source": [
        "as.numeric(x)"
      ],
      "metadata": {
        "colab": {
          "base_uri": "https://localhost:8080/",
          "height": 69
        },
        "id": "pu353jOjl2x5",
        "outputId": "b0851ff0-b00f-41cc-80af-c7aa7cc1f0e5"
      },
      "execution_count": 122,
      "outputs": [
        {
          "output_type": "stream",
          "name": "stderr",
          "text": [
            "Warning message in eval(expr, envir, enclos):\n",
            "“NAs introduced by coercion”\n"
          ]
        },
        {
          "output_type": "display_data",
          "data": {
            "text/html": [
              "<style>\n",
              ".list-inline {list-style: none; margin:0; padding: 0}\n",
              ".list-inline>li {display: inline-block}\n",
              ".list-inline>li:not(:last-child)::after {content: \"\\00b7\"; padding: 0 .5ex}\n",
              "</style>\n",
              "<ol class=list-inline><li>&lt;NA&gt;</li><li>&lt;NA&gt;</li><li>&lt;NA&gt;</li></ol>\n"
            ],
            "text/markdown": "1. &lt;NA&gt;\n2. &lt;NA&gt;\n3. &lt;NA&gt;\n\n\n",
            "text/latex": "\\begin{enumerate*}\n\\item <NA>\n\\item <NA>\n\\item <NA>\n\\end{enumerate*}\n",
            "text/plain": [
              "[1] NA NA NA"
            ]
          },
          "metadata": {}
        }
      ]
    },
    {
      "cell_type": "code",
      "source": [
        "as.logical(x)"
      ],
      "metadata": {
        "colab": {
          "base_uri": "https://localhost:8080/",
          "height": 34
        },
        "id": "8XMw00uzl-rc",
        "outputId": "52082e3e-77e4-428e-832c-8d6804882d9b"
      },
      "execution_count": 123,
      "outputs": [
        {
          "output_type": "display_data",
          "data": {
            "text/html": [
              "<style>\n",
              ".list-inline {list-style: none; margin:0; padding: 0}\n",
              ".list-inline>li {display: inline-block}\n",
              ".list-inline>li:not(:last-child)::after {content: \"\\00b7\"; padding: 0 .5ex}\n",
              "</style>\n",
              "<ol class=list-inline><li>&lt;NA&gt;</li><li>&lt;NA&gt;</li><li>&lt;NA&gt;</li></ol>\n"
            ],
            "text/markdown": "1. &lt;NA&gt;\n2. &lt;NA&gt;\n3. &lt;NA&gt;\n\n\n",
            "text/latex": "\\begin{enumerate*}\n\\item <NA>\n\\item <NA>\n\\item <NA>\n\\end{enumerate*}\n",
            "text/plain": [
              "[1] NA NA NA"
            ]
          },
          "metadata": {}
        }
      ]
    },
    {
      "cell_type": "code",
      "source": [
        "                                                                                                                                                                                                                                                                                                                                                                                                                                                                                                                                                                                                                                                                                                                                                                                                                                                                                                                                                                                                                                                                                                                                                                                                                                                                                                                                                                                                                                                                                                                                                                                                                                                                                      "
      ],
      "metadata": {
        "id": "FV-4LDhZl2pW"
      },
      "execution_count": null,
      "outputs": []
    },
    {
      "cell_type": "markdown",
      "source": [
        "## **Working with vectors**"
      ],
      "metadata": {
        "id": "eWIaaIa3xqGr"
      }
    },
    {
      "cell_type": "markdown",
      "source": [
        "Many of R’s most useful functions process vectors of numbers in some way"
      ],
      "metadata": {
        "id": "tWVSmjVjxshu"
      }
    },
    {
      "cell_type": "code",
      "source": [
        "mean(heights)"
      ],
      "metadata": {
        "colab": {
          "base_uri": "https://localhost:8080/",
          "height": 34
        },
        "id": "07OrNp3zx1cI",
        "outputId": "2d24e2aa-d1b4-40c0-ce08-f262a37230ed"
      },
      "execution_count": 91,
      "outputs": [
        {
          "output_type": "display_data",
          "data": {
            "text/html": [
              "167.692307692308"
            ],
            "text/markdown": "167.692307692308",
            "text/latex": "167.692307692308",
            "text/plain": [
              "[1] 167.6923"
            ]
          },
          "metadata": {}
        }
      ]
    },
    {
      "cell_type": "markdown",
      "source": [
        "Built in function in R to summarize a vector of numbers."
      ],
      "metadata": {
        "id": "3sm_D-veyapo"
      }
    },
    {
      "cell_type": "code",
      "source": [
        "median(heights)         # Median"
      ],
      "metadata": {
        "colab": {
          "base_uri": "https://localhost:8080/",
          "height": 34
        },
        "id": "jTCo_lFDygIW",
        "outputId": "7367dfd6-814d-4956-d036-90407e56a85b"
      },
      "execution_count": 92,
      "outputs": [
        {
          "output_type": "display_data",
          "data": {
            "text/html": [
              "167"
            ],
            "text/markdown": "167",
            "text/latex": "167",
            "text/plain": [
              "[1] 167"
            ]
          },
          "metadata": {}
        }
      ]
    },
    {
      "cell_type": "code",
      "source": [
        "sd(heights)             # Standard deviation"
      ],
      "metadata": {
        "colab": {
          "base_uri": "https://localhost:8080/",
          "height": 34
        },
        "id": "5BDVuJJDymvi",
        "outputId": "7076870a-a0a6-4d12-afde-c71f05d33213"
      },
      "execution_count": 93,
      "outputs": [
        {
          "output_type": "display_data",
          "data": {
            "text/html": [
              "17.5944338517641"
            ],
            "text/markdown": "17.5944338517641",
            "text/latex": "17.5944338517641",
            "text/plain": [
              "[1] 17.59443"
            ]
          },
          "metadata": {}
        }
      ]
    },
    {
      "cell_type": "code",
      "source": [
        "min(heights)            # Minimum"
      ],
      "metadata": {
        "colab": {
          "base_uri": "https://localhost:8080/",
          "height": 34
        },
        "id": "zpRctMffyyXb",
        "outputId": "7b67a95b-2930-40ee-cf95-cef2980facf8"
      },
      "execution_count": 94,
      "outputs": [
        {
          "output_type": "display_data",
          "data": {
            "text/html": [
              "134"
            ],
            "text/markdown": "134",
            "text/latex": "134",
            "text/plain": [
              "[1] 134"
            ]
          },
          "metadata": {}
        }
      ]
    },
    {
      "cell_type": "code",
      "source": [
        "max(heights)            # Maximum"
      ],
      "metadata": {
        "colab": {
          "base_uri": "https://localhost:8080/",
          "height": 34
        },
        "id": "T0BR8dgzy7VA",
        "outputId": "31f4579b-28f3-4cef-e4ef-492034815f7a"
      },
      "execution_count": 95,
      "outputs": [
        {
          "output_type": "display_data",
          "data": {
            "text/html": [
              "203"
            ],
            "text/markdown": "203",
            "text/latex": "203",
            "text/plain": [
              "[1] 203"
            ]
          },
          "metadata": {}
        }
      ]
    },
    {
      "cell_type": "code",
      "source": [
        "range(heights)          # Range returns a vector containing the minimum and maximum of all the given arguments."
      ],
      "metadata": {
        "colab": {
          "base_uri": "https://localhost:8080/",
          "height": 34
        },
        "id": "I0BtTMMYzDwB",
        "outputId": "0a859f7a-ccef-4072-b762-51357adf4581"
      },
      "execution_count": 96,
      "outputs": [
        {
          "output_type": "display_data",
          "data": {
            "text/html": [
              "<style>\n",
              ".list-inline {list-style: none; margin:0; padding: 0}\n",
              ".list-inline>li {display: inline-block}\n",
              ".list-inline>li:not(:last-child)::after {content: \"\\00b7\"; padding: 0 .5ex}\n",
              "</style>\n",
              "<ol class=list-inline><li>134</li><li>203</li></ol>\n"
            ],
            "text/markdown": "1. 134\n2. 203\n\n\n",
            "text/latex": "\\begin{enumerate*}\n\\item 134\n\\item 203\n\\end{enumerate*}\n",
            "text/plain": [
              "[1] 134 203"
            ]
          },
          "metadata": {}
        }
      ]
    },
    {
      "cell_type": "code",
      "source": [
        "IQR(heights)            #  IQR computes interquartile range of the ‘x’ values."
      ],
      "metadata": {
        "colab": {
          "base_uri": "https://localhost:8080/",
          "height": 34
        },
        "id": "TWvKYjRtzfOb",
        "outputId": "66328c0e-2a33-431d-f748-84279fc7e0c2"
      },
      "execution_count": 97,
      "outputs": [
        {
          "output_type": "display_data",
          "data": {
            "text/html": [
              "17"
            ],
            "text/markdown": "17",
            "text/latex": "17",
            "text/plain": [
              "[1] 17"
            ]
          },
          "metadata": {}
        }
      ]
    },
    {
      "cell_type": "code",
      "source": [
        "length(heights)         # Count number of items in a vector"
      ],
      "metadata": {
        "colab": {
          "base_uri": "https://localhost:8080/",
          "height": 34
        },
        "id": "W98qRAPxzxLU",
        "outputId": "150d4b0c-8f8a-44d1-93b6-3d019af0dae1"
      },
      "execution_count": 98,
      "outputs": [
        {
          "output_type": "display_data",
          "data": {
            "text/html": [
              "13"
            ],
            "text/markdown": "13",
            "text/latex": "13",
            "text/plain": [
              "[1] 13"
            ]
          },
          "metadata": {}
        }
      ]
    },
    {
      "cell_type": "markdown",
      "source": [
        "Some functions will give you more than one result. For eg."
      ],
      "metadata": {
        "id": "4NI6Hxmz0T5_"
      }
    },
    {
      "cell_type": "code",
      "source": [
        "height.quantiles <- quantile(heights)"
      ],
      "metadata": {
        "id": "p2N6yozG0ccE"
      },
      "execution_count": 99,
      "outputs": []
    },
    {
      "cell_type": "code",
      "source": [
        "height.quantiles"
      ],
      "metadata": {
        "colab": {
          "base_uri": "https://localhost:8080/",
          "height": 34
        },
        "id": "fh_YjVbXz-C7",
        "outputId": "b6d35ffd-755e-436a-f09b-3bd3cb96cf7c"
      },
      "execution_count": 100,
      "outputs": [
        {
          "output_type": "display_data",
          "data": {
            "text/html": [
              "<style>\n",
              ".dl-inline {width: auto; margin:0; padding: 0}\n",
              ".dl-inline>dt, .dl-inline>dd {float: none; width: auto; display: inline-block}\n",
              ".dl-inline>dt::after {content: \":\\0020\"; padding-right: .5ex}\n",
              ".dl-inline>dt:not(:first-of-type) {padding-left: .5ex}\n",
              "</style><dl class=dl-inline><dt>0%</dt><dd>134</dd><dt>25%</dt><dd>158</dd><dt>50%</dt><dd>167</dd><dt>75%</dt><dd>175</dd><dt>100%</dt><dd>203</dd></dl>\n"
            ],
            "text/markdown": "0%\n:   13425%\n:   15850%\n:   16775%\n:   175100%\n:   203\n\n",
            "text/latex": "\\begin{description*}\n\\item[0\\textbackslash{}\\%] 134\n\\item[25\\textbackslash{}\\%] 158\n\\item[50\\textbackslash{}\\%] 167\n\\item[75\\textbackslash{}\\%] 175\n\\item[100\\textbackslash{}\\%] 203\n\\end{description*}\n",
            "text/plain": [
              "  0%  25%  50%  75% 100% \n",
              " 134  158  167  175  203 "
            ]
          },
          "metadata": {}
        }
      ]
    },
    {
      "cell_type": "code",
      "source": [
        "height.quantiles[3]"
      ],
      "metadata": {
        "colab": {
          "base_uri": "https://localhost:8080/",
          "height": 34
        },
        "id": "PmWs1-jS0_MA",
        "outputId": "6748b1d1-2111-4167-a688-a3d85042aadf"
      },
      "execution_count": 101,
      "outputs": [
        {
          "output_type": "display_data",
          "data": {
            "text/html": [
              "<strong>50%:</strong> 167"
            ],
            "text/markdown": "**50%:** 167",
            "text/latex": "\\textbf{50\\textbackslash{}\\%:} 167",
            "text/plain": [
              "50% \n",
              "167 "
            ]
          },
          "metadata": {}
        }
      ]
    },
    {
      "cell_type": "code",
      "source": [
        "min.height <- height.quantiles[1]\n",
        "\n",
        "min.height"
      ],
      "metadata": {
        "colab": {
          "base_uri": "https://localhost:8080/",
          "height": 34
        },
        "id": "7r2TSOld1Lff",
        "outputId": "a93a0eb7-fde5-4e2b-c921-e32297ab63f9"
      },
      "execution_count": 102,
      "outputs": [
        {
          "output_type": "display_data",
          "data": {
            "text/html": [
              "<strong>0%:</strong> 134"
            ],
            "text/markdown": "**0%:** 134",
            "text/latex": "\\textbf{0\\textbackslash{}\\%:} 134",
            "text/plain": [
              " 0% \n",
              "134 "
            ]
          },
          "metadata": {}
        }
      ]
    },
    {
      "cell_type": "markdown",
      "source": [
        "### Histogram"
      ],
      "metadata": {
        "id": "nv-bIszv2h4r"
      }
    },
    {
      "cell_type": "code",
      "source": [
        "hist(heights)"
      ],
      "metadata": {
        "colab": {
          "base_uri": "https://localhost:8080/",
          "height": 437
        },
        "id": "ywx_EaI-2TnV",
        "outputId": "7e3699e3-a390-44d2-93da-c9f9b54f8155"
      },
      "execution_count": 103,
      "outputs": [
        {
          "output_type": "display_data",
          "data": {
            "text/plain": [
              "Plot with title “Histogram of heights”"
            ],
            "image/png": "[encoded data removed]"
          },
          "metadata": {
            "image/png": {
              "width": 420,
              "height": 420
            }
          }
        }
      ]
    },
    {
      "cell_type": "markdown",
      "source": [
        "### **Making new vectors**"
      ],
      "metadata": {
        "id": "ZhxV1EQa2zbG"
      }
    },
    {
      "cell_type": "code",
      "source": [
        "heights"
      ],
      "metadata": {
        "colab": {
          "base_uri": "https://localhost:8080/",
          "height": 34
        },
        "id": "v7bdx55K23p1",
        "outputId": "d000aad5-7d8e-41e0-c4f6-64d0384c8929"
      },
      "execution_count": 104,
      "outputs": [
        {
          "output_type": "display_data",
          "data": {
            "text/html": [
              "<style>\n",
              ".list-inline {list-style: none; margin:0; padding: 0}\n",
              ".list-inline>li {display: inline-block}\n",
              ".list-inline>li:not(:last-child)::after {content: \"\\00b7\"; padding: 0 .5ex}\n",
              "</style>\n",
              "<ol class=list-inline><li>203</li><li>148</li><li>156</li><li>158</li><li>167</li><li>162</li><li>172</li><li>164</li><li>172</li><li>187</li><li>134</li><li>182</li><li>175</li></ol>\n"
            ],
            "text/markdown": "1. 203\n2. 148\n3. 156\n4. 158\n5. 167\n6. 162\n7. 172\n8. 164\n9. 172\n10. 187\n11. 134\n12. 182\n13. 175\n\n\n",
            "text/latex": "\\begin{enumerate*}\n\\item 203\n\\item 148\n\\item 156\n\\item 158\n\\item 167\n\\item 162\n\\item 172\n\\item 164\n\\item 172\n\\item 187\n\\item 134\n\\item 182\n\\item 175\n\\end{enumerate*}\n",
            "text/plain": [
              " [1] 203 148 156 158 167 162 172 164 172 187 134 182 175"
            ]
          },
          "metadata": {}
        }
      ]
    },
    {
      "cell_type": "code",
      "source": [
        "sqrt(heights)"
      ],
      "metadata": {
        "colab": {
          "base_uri": "https://localhost:8080/",
          "height": 52
        },
        "id": "Y5asigZV3WHt",
        "outputId": "4e42b0bc-72df-4c3b-a9fd-e1d61718cfd7"
      },
      "execution_count": 105,
      "outputs": [
        {
          "output_type": "display_data",
          "data": {
            "text/html": [
              "<style>\n",
              ".list-inline {list-style: none; margin:0; padding: 0}\n",
              ".list-inline>li {display: inline-block}\n",
              ".list-inline>li:not(:last-child)::after {content: \"\\00b7\"; padding: 0 .5ex}\n",
              "</style>\n",
              "<ol class=list-inline><li>14.247806848775</li><li>12.1655250605964</li><li>12.4899959967968</li><li>12.5698050899765</li><li>12.9228479833201</li><li>12.7279220613579</li><li>13.114877048604</li><li>12.8062484748657</li><li>13.114877048604</li><li>13.6747943311773</li><li>11.5758369027902</li><li>13.490737563232</li><li>13.228756555323</li></ol>\n"
            ],
            "text/markdown": "1. 14.247806848775\n2. 12.1655250605964\n3. 12.4899959967968\n4. 12.5698050899765\n5. 12.9228479833201\n6. 12.7279220613579\n7. 13.114877048604\n8. 12.8062484748657\n9. 13.114877048604\n10. 13.6747943311773\n11. 11.5758369027902\n12. 13.490737563232\n13. 13.228756555323\n\n\n",
            "text/latex": "\\begin{enumerate*}\n\\item 14.247806848775\n\\item 12.1655250605964\n\\item 12.4899959967968\n\\item 12.5698050899765\n\\item 12.9228479833201\n\\item 12.7279220613579\n\\item 13.114877048604\n\\item 12.8062484748657\n\\item 13.114877048604\n\\item 13.6747943311773\n\\item 11.5758369027902\n\\item 13.490737563232\n\\item 13.228756555323\n\\end{enumerate*}\n",
            "text/plain": [
              " [1] 14.24781 12.16553 12.49000 12.56981 12.92285 12.72792 13.11488 12.80625\n",
              " [9] 13.11488 13.67479 11.57584 13.49074 13.22876"
            ]
          },
          "metadata": {}
        }
      ]
    },
    {
      "cell_type": "markdown",
      "source": [
        "Paste() combines the inputs you send it to produce an alphnumeric string"
      ],
      "metadata": {
        "id": "EOY3Pf5H3gXj"
      }
    },
    {
      "cell_type": "code",
      "source": [
        "paste(\"Once\", \"upon\", \"a\", \"time\")"
      ],
      "metadata": {
        "colab": {
          "base_uri": "https://localhost:8080/",
          "height": 34
        },
        "id": "w5r48ndG3uJC",
        "outputId": "1e910229-3dbb-4abe-bc87-9dcb68959872"
      },
      "execution_count": 106,
      "outputs": [
        {
          "output_type": "display_data",
          "data": {
            "text/html": [
              "'Once upon a time'"
            ],
            "text/markdown": "'Once upon a time'",
            "text/latex": "'Once upon a time'",
            "text/plain": [
              "[1] \"Once upon a time\""
            ]
          },
          "metadata": {}
        }
      ]
    },
    {
      "cell_type": "markdown",
      "source": [
        "If we send a vector to `paste()` it assumes we want a vector of results, with each element in the vector pasted next to each other:"
      ],
      "metadata": {
        "id": "1beG835G34DJ"
      }
    },
    {
      "cell_type": "code",
      "source": [
        "bottles <- c(100, 99, 98, \"...\")"
      ],
      "metadata": {
        "id": "ttHRWUWs35m5"
      },
      "execution_count": 107,
      "outputs": []
    },
    {
      "cell_type": "code",
      "source": [
        "paste(bottles, \"green bottles hanging on the wall\")"
      ],
      "metadata": {
        "colab": {
          "base_uri": "https://localhost:8080/",
          "height": 34
        },
        "id": "wsDAqOov4IHj",
        "outputId": "c86a4b33-d2db-4d4a-b4e7-7b3be62ddc78"
      },
      "execution_count": 108,
      "outputs": [
        {
          "output_type": "display_data",
          "data": {
            "text/html": [
              "<style>\n",
              ".list-inline {list-style: none; margin:0; padding: 0}\n",
              ".list-inline>li {display: inline-block}\n",
              ".list-inline>li:not(:last-child)::after {content: \"\\00b7\"; padding: 0 .5ex}\n",
              "</style>\n",
              "<ol class=list-inline><li>'100 green bottles hanging on the wall'</li><li>'99 green bottles hanging on the wall'</li><li>'98 green bottles hanging on the wall'</li><li>'... green bottles hanging on the wall'</li></ol>\n"
            ],
            "text/markdown": "1. '100 green bottles hanging on the wall'\n2. '99 green bottles hanging on the wall'\n3. '98 green bottles hanging on the wall'\n4. '... green bottles hanging on the wall'\n\n\n",
            "text/latex": "\\begin{enumerate*}\n\\item '100 green bottles hanging on the wall'\n\\item '99 green bottles hanging on the wall'\n\\item '98 green bottles hanging on the wall'\n\\item '... green bottles hanging on the wall'\n\\end{enumerate*}\n",
            "text/plain": [
              "[1] \"100 green bottles hanging on the wall\"\n",
              "[2] \"99 green bottles hanging on the wall\" \n",
              "[3] \"98 green bottles hanging on the wall\" \n",
              "[4] \"... green bottles hanging on the wall\""
            ]
          },
          "metadata": {}
        }
      ]
    },
    {
      "cell_type": "markdown",
      "source": [
        "`paste0()` function does much the same, but leaves no spaces in the combined strings, which can be useful:"
      ],
      "metadata": {
        "id": "iyaxLz4Z4qa3"
      }
    },
    {
      "cell_type": "code",
      "source": [
        "paste0(\"N=\", 1:10)"
      ],
      "metadata": {
        "colab": {
          "base_uri": "https://localhost:8080/",
          "height": 34
        },
        "id": "vhKjUCxM4zkM",
        "outputId": "2d482b33-05f3-4af3-864e-4f9aa88048fb"
      },
      "execution_count": 109,
      "outputs": [
        {
          "output_type": "display_data",
          "data": {
            "text/html": [
              "<style>\n",
              ".list-inline {list-style: none; margin:0; padding: 0}\n",
              ".list-inline>li {display: inline-block}\n",
              ".list-inline>li:not(:last-child)::after {content: \"\\00b7\"; padding: 0 .5ex}\n",
              "</style>\n",
              "<ol class=list-inline><li>'N=1'</li><li>'N=2'</li><li>'N=3'</li><li>'N=4'</li><li>'N=5'</li><li>'N=6'</li><li>'N=7'</li><li>'N=8'</li><li>'N=9'</li><li>'N=10'</li></ol>\n"
            ],
            "text/markdown": "1. 'N=1'\n2. 'N=2'\n3. 'N=3'\n4. 'N=4'\n5. 'N=5'\n6. 'N=6'\n7. 'N=7'\n8. 'N=8'\n9. 'N=9'\n10. 'N=10'\n\n\n",
            "text/latex": "\\begin{enumerate*}\n\\item 'N=1'\n\\item 'N=2'\n\\item 'N=3'\n\\item 'N=4'\n\\item 'N=5'\n\\item 'N=6'\n\\item 'N=7'\n\\item 'N=8'\n\\item 'N=9'\n\\item 'N=10'\n\\end{enumerate*}\n",
            "text/plain": [
              " [1] \"N=1\"  \"N=2\"  \"N=3\"  \"N=4\"  \"N=5\"  \"N=6\"  \"N=7\"  \"N=8\"  \"N=9\"  \"N=10\""
            ]
          },
          "metadata": {}
        }
      ]
    },
    {
      "cell_type": "markdown",
      "source": [
        "### **Making up data (new vectors)**"
      ],
      "metadata": {
        "id": "UoJ2kcTCB4Fo"
      }
    },
    {
      "cell_type": "markdown",
      "source": [
        "The `seq()` function allows you to create more specific sequences:"
      ],
      "metadata": {
        "id": "AUs9e706CB8S"
      }
    },
    {
      "cell_type": "code",
      "source": [
        "seq(from=0.1, to=2, by=0.1)"
      ],
      "metadata": {
        "colab": {
          "base_uri": "https://localhost:8080/",
          "height": 34
        },
        "id": "3MSGDwVQCA5Y",
        "outputId": "a3e94deb-68c7-4db1-896e-33b7d61f5a79"
      },
      "execution_count": 110,
      "outputs": [
        {
          "output_type": "display_data",
          "data": {
            "text/html": [
              "<style>\n",
              ".list-inline {list-style: none; margin:0; padding: 0}\n",
              ".list-inline>li {display: inline-block}\n",
              ".list-inline>li:not(:last-child)::after {content: \"\\00b7\"; padding: 0 .5ex}\n",
              "</style>\n",
              "<ol class=list-inline><li>0.1</li><li>0.2</li><li>0.3</li><li>0.4</li><li>0.5</li><li>0.6</li><li>0.7</li><li>0.8</li><li>0.9</li><li>1</li><li>1.1</li><li>1.2</li><li>1.3</li><li>1.4</li><li>1.5</li><li>1.6</li><li>1.7</li><li>1.8</li><li>1.9</li><li>2</li></ol>\n"
            ],
            "text/markdown": "1. 0.1\n2. 0.2\n3. 0.3\n4. 0.4\n5. 0.5\n6. 0.6\n7. 0.7\n8. 0.8\n9. 0.9\n10. 1\n11. 1.1\n12. 1.2\n13. 1.3\n14. 1.4\n15. 1.5\n16. 1.6\n17. 1.7\n18. 1.8\n19. 1.9\n20. 2\n\n\n",
            "text/latex": "\\begin{enumerate*}\n\\item 0.1\n\\item 0.2\n\\item 0.3\n\\item 0.4\n\\item 0.5\n\\item 0.6\n\\item 0.7\n\\item 0.8\n\\item 0.9\n\\item 1\n\\item 1.1\n\\item 1.2\n\\item 1.3\n\\item 1.4\n\\item 1.5\n\\item 1.6\n\\item 1.7\n\\item 1.8\n\\item 1.9\n\\item 2\n\\end{enumerate*}\n",
            "text/plain": [
              " [1] 0.1 0.2 0.3 0.4 0.5 0.6 0.7 0.8 0.9 1.0 1.1 1.2 1.3 1.4 1.5 1.6 1.7 1.8 1.9\n",
              "[20] 2.0"
            ]
          },
          "metadata": {}
        }
      ]
    },
    {
      "cell_type": "markdown",
      "source": [
        "Use Random number generating functions:"
      ],
      "metadata": {
        "id": "i-kusbBHCVqN"
      }
    },
    {
      "cell_type": "code",
      "source": [
        "# 10 uniformaly distributed random numbers between 0 and 1\n",
        "\n",
        "runif(10)"
      ],
      "metadata": {
        "colab": {
          "base_uri": "https://localhost:8080/",
          "height": 34
        },
        "id": "PZ2EJb8ICZAi",
        "outputId": "94f2ddf1-61d3-4faa-cd56-5b4283a949c5"
      },
      "execution_count": 111,
      "outputs": [
        {
          "output_type": "display_data",
          "data": {
            "text/html": [
              "<style>\n",
              ".list-inline {list-style: none; margin:0; padding: 0}\n",
              ".list-inline>li {display: inline-block}\n",
              ".list-inline>li:not(:last-child)::after {content: \"\\00b7\"; padding: 0 .5ex}\n",
              "</style>\n",
              "<ol class=list-inline><li>0.0767034501768649</li><li>0.588389790151268</li><li>0.603929592994973</li><li>0.245330769801512</li><li>0.921285443706438</li><li>0.716917323414236</li><li>0.431397232692689</li><li>0.899826862849295</li><li>0.897563416743651</li><li>0.902596154250205</li></ol>\n"
            ],
            "text/markdown": "1. 0.0767034501768649\n2. 0.588389790151268\n3. 0.603929592994973\n4. 0.245330769801512\n5. 0.921285443706438\n6. 0.716917323414236\n7. 0.431397232692689\n8. 0.899826862849295\n9. 0.897563416743651\n10. 0.902596154250205\n\n\n",
            "text/latex": "\\begin{enumerate*}\n\\item 0.0767034501768649\n\\item 0.588389790151268\n\\item 0.603929592994973\n\\item 0.245330769801512\n\\item 0.921285443706438\n\\item 0.716917323414236\n\\item 0.431397232692689\n\\item 0.899826862849295\n\\item 0.897563416743651\n\\item 0.902596154250205\n\\end{enumerate*}\n",
            "text/plain": [
              " [1] 0.07670345 0.58838979 0.60392959 0.24533077 0.92128544 0.71691732\n",
              " [7] 0.43139723 0.89982686 0.89756342 0.90259615"
            ]
          },
          "metadata": {}
        }
      ]
    },
    {
      "cell_type": "code",
      "source": [
        "# 1,000 uniformaly distributed random numbers beween 1 and 100\n",
        "\n",
        "my.numbers <- runif(1000, 1, 10)\n",
        "\n",
        "my.numbers"
      ],
      "metadata": {
        "colab": {
          "base_uri": "https://localhost:8080/",
          "height": 711
        },
        "id": "SQ7Q9wVDClWC",
        "outputId": "627065de-737d-47bd-b694-8a0ad4d1596f"
      },
      "execution_count": 112,
      "outputs": [
        {
          "output_type": "display_data",
          "data": {
            "text/html": [
              "<style>\n",
              ".list-inline {list-style: none; margin:0; padding: 0}\n",
              ".list-inline>li {display: inline-block}\n",
              ".list-inline>li:not(:last-child)::after {content: \"\\00b7\"; padding: 0 .5ex}\n",
              "</style>\n",
              "<ol class=list-inline><li>6.12492461153306</li><li>4.68118374585174</li><li>4.96296050865203</li><li>4.93356506736018</li><li>1.94057889166288</li><li>7.65143739548512</li><li>1.02665219735354</li><li>5.6129631458316</li><li>8.14239691314287</li><li>7.21538367914036</li><li>6.8947633036878</li><li>5.3282693864312</li><li>2.03994515305385</li><li>3.92463899520226</li><li>7.32847002637573</li><li>2.0447782590054</li><li>7.70482149580494</li><li>3.0657284562476</li><li>9.63789352891035</li><li>4.54862021724693</li><li>2.03775750566274</li><li>8.89112176094204</li><li>7.60522178374231</li><li>3.98958403035067</li><li>6.71498970291577</li><li>1.85289809084497</li><li>8.61941704084165</li><li>5.13213528925553</li><li>7.41375597706065</li><li>1.09551269398071</li><li>7.99084692797624</li><li>3.90530466241762</li><li>4.72237723972648</li><li>7.57487109256908</li><li>2.59595282841474</li><li>1.57328813173808</li><li>3.93026603292674</li><li>6.56517583411187</li><li>9.18238930869848</li><li>4.3626463948749</li><li>8.43616410368122</li><li>6.33732170891017</li><li>5.76127976365387</li><li>1.68719962914474</li><li>9.39647042262368</li><li>4.61150139104575</li><li>8.61082776309922</li><li>6.27133216918446</li><li>2.50096563366242</li><li>5.05752321239561</li><li>8.53561117709614</li><li>2.92697143671103</li><li>7.21000939561054</li><li>3.38009828305803</li><li>1.47623485024087</li><li>2.17576971347444</li><li>5.93740903027356</li><li>8.97883463930339</li><li>6.43745300127193</li><li>8.81731650512666</li><li>6.83094973536208</li><li>3.41103026550263</li><li>5.67967175436206</li><li>6.28400314669125</li><li>7.15207183058374</li><li>8.62837864062749</li><li>7.78498449851759</li><li>5.82805132865906</li><li>5.28736106376164</li><li>3.22051448258571</li><li>8.83600792079233</li><li>2.28549900581129</li><li>8.7739942362532</li><li>1.22502707270905</li><li>8.58225173037499</li><li>7.33638580143452</li><li>6.72660637530498</li><li>5.49650770309381</li><li>3.54516195389442</li><li>5.38213916565292</li><li>4.57379420730285</li><li>9.72823091736063</li><li>2.94208555668592</li><li>6.41039315634407</li><li>1.8872114084661</li><li>9.73202157439664</li><li>1.37691776757129</li><li>2.32929593138397</li><li>6.72088973922655</li><li>7.78720295778476</li><li>3.2277485113591</li><li>1.68593235453591</li><li>4.0993309142068</li><li>9.7767205121927</li><li>2.85413677385077</li><li>3.01790823391639</li><li>9.60529460594989</li><li>1.85627138987184</li><li>3.15016947127879</li><li>7.29125752160326</li><li>8.58398375846446</li><li>7.39608504972421</li><li>4.61598342726938</li><li>9.83414422045462</li><li>9.76044407999143</li><li>5.68249097606167</li><li>1.55591651168652</li><li>9.09822732303292</li><li>3.63013819325715</li><li>9.19623675127514</li><li>9.513156210538</li><li>7.91347988718189</li><li>1.98432982573286</li><li>9.70414558565244</li><li>5.22043478558771</li><li>5.15512330830097</li><li>9.70854934328236</li><li>5.93621140928008</li><li>3.34121184935793</li><li>9.82912586187012</li><li>8.37580366362818</li><li>5.0740708662197</li><li>5.64680988690816</li><li>4.07092988095246</li><li>6.42960225301795</li><li>7.68050274485722</li><li>6.87495759990998</li><li>1.21497299871407</li><li>7.18482690001838</li><li>8.40355135058053</li><li>6.59618408139795</li><li>7.9179241231177</li><li>5.13669004268013</li><li>1.84334366000257</li><li>8.4111289200373</li><li>4.64489853521809</li><li>4.28426328720525</li><li>2.75938916113228</li><li>7.15596496895887</li><li>3.89421199308708</li><li>5.1900421178434</li><li>1.53581529762596</li><li>2.84790417714976</li><li>8.40647674584761</li><li>8.88553826720454</li><li>6.47514700237662</li><li>1.6750957837794</li><li>2.55309899477288</li><li>1.15019050752744</li><li>2.74835483403876</li><li>4.38101131236181</li><li>7.53778150840662</li><li>8.70245594996959</li><li>6.71423817519099</li><li>8.73770242696628</li><li>2.74988620565273</li><li>4.56015338283032</li><li>2.2919181920588</li><li>5.30359520507045</li><li>4.77605888922699</li><li>5.37214483576827</li><li>3.04222583863884</li><li>4.44788305368274</li><li>1.79552063602023</li><li>9.58444164204411</li><li>2.87208082340658</li><li>1.2656620091293</li><li>8.54853418585844</li><li>2.51131314551458</li><li>3.26738006272353</li><li>1.37746103852987</li><li>8.00195056712255</li><li>1.20119019318372</li><li>6.35544037655927</li><li>2.293279400561</li><li>3.11571912840009</li><li>4.38136793090962</li><li>7.77050240756944</li><li>6.98814588366076</li><li>3.91330399666913</li><li>6.80630463291891</li><li>4.06861658045091</li><li>3.07880442845635</li><li>4.48725794907659</li><li>7.02857165387832</li><li>5.86090855672956</li><li>9.09263956500217</li><li>2.86776888952591</li><li>5.53113822964951</li><li>4.46960999863222</li><li>4.82894260250032</li><li>4.64146771328524</li><li>9.21485417988151</li><li>9.46357312938198</li><li>6.64705750625581</li><li>4.38855653186329</li><li>5.25812898366712</li><li>2.89492001128383</li><li>9.2565692209173</li><li>9.74230980104767</li><li>⋯</li><li>8.59104686346836</li><li>9.71308531914838</li><li>6.29662355198525</li><li>1.69962336984463</li><li>7.32299225777388</li><li>4.75819594925269</li><li>5.98494390537962</li><li>8.99854656634852</li><li>3.35907866177149</li><li>1.56220509111881</li><li>6.99522621557117</li><li>9.79895483050495</li><li>6.85356463608332</li><li>9.28033607592806</li><li>9.15734938089736</li><li>6.88457543775439</li><li>2.08917110646144</li><li>6.91321067186072</li><li>2.3810203729663</li><li>2.64948709262535</li><li>9.16090990230441</li><li>6.69449351681396</li><li>3.68190118530765</li><li>4.1708925398998</li><li>3.55528098344803</li><li>5.72946739429608</li><li>3.37710934248753</li><li>8.41448873258196</li><li>3.81257329974324</li><li>2.34590470604599</li><li>8.49040292343125</li><li>3.00117595400661</li><li>1.93046634970233</li><li>8.81805383390747</li><li>5.4040294487495</li><li>9.64213570021093</li><li>6.53780685202219</li><li>2.00763583532535</li><li>8.59325125161558</li><li>9.88341628480703</li><li>9.33805423835292</li><li>9.34565119724721</li><li>9.32011572085321</li><li>6.34064152301289</li><li>8.93196902354248</li><li>4.62604482914321</li><li>5.98460654215887</li><li>8.68545222003013</li><li>1.22672040155157</li><li>9.34570956043899</li><li>3.63974482868798</li><li>6.48519038315862</li><li>3.81849030731246</li><li>6.02086786436848</li><li>5.73708800482564</li><li>9.50364037416875</li><li>5.90701908874325</li><li>3.4452089194674</li><li>5.82341128936969</li><li>9.22055539325811</li><li>6.21964559913613</li><li>7.71401599515229</li><li>7.4086256173905</li><li>3.5608555295039</li><li>8.5925008575432</li><li>9.27854027203284</li><li>8.45394173054956</li><li>1.8528827582486</li><li>2.98151821596548</li><li>8.00578239187598</li><li>6.75720818620175</li><li>5.2747751919087</li><li>1.66284433519468</li><li>9.11377152684145</li><li>1.39775202306919</li><li>7.67813503323123</li><li>6.71038188785315</li><li>4.14241534657776</li><li>6.98652848019265</li><li>1.35533283720724</li><li>3.80365875805728</li><li>9.67538008419797</li><li>3.19839929626323</li><li>4.73139234539121</li><li>9.72668614098802</li><li>1.12642274098471</li><li>7.3143582562916</li><li>9.22803239454515</li><li>9.98177301720716</li><li>8.61467488692142</li><li>7.4173269988969</li><li>3.57271734951064</li><li>8.45167169114575</li><li>4.85567086143419</li><li>1.13041289988905</li><li>3.08858335600235</li><li>3.62756657716818</li><li>9.47392482380383</li><li>2.42445541825145</li><li>1.58440846554004</li><li>2.00324527709745</li><li>5.99155590683222</li><li>6.80299205030315</li><li>3.70195627794601</li><li>9.34661966958083</li><li>9.94681821577251</li><li>7.09392746933736</li><li>4.15180220222101</li><li>1.56562289176509</li><li>1.43299827375449</li><li>7.58523684553802</li><li>2.70714463712648</li><li>9.40810882928781</li><li>3.76148447883315</li><li>9.86684858356602</li><li>4.61004420556128</li><li>8.6194572718814</li><li>2.96239837398753</li><li>6.57159607438371</li><li>9.50938140158542</li><li>5.195032594027</li><li>6.14682775456458</li><li>2.977492360631</li><li>2.9439293385949</li><li>7.98468020465225</li><li>5.30341477203183</li><li>9.90672808839008</li><li>7.46497797803022</li><li>4.48877124092542</li><li>3.10838443087414</li><li>6.32118705869652</li><li>7.8434041487053</li><li>9.04104512673803</li><li>5.24915944412351</li><li>4.74608836974949</li><li>2.10943644028157</li><li>8.19169271923602</li><li>4.07454767380841</li><li>2.2633768520318</li><li>6.6164870436769</li><li>2.15496013849042</li><li>9.77944314712659</li><li>3.80431830487214</li><li>7.44705560198054</li><li>3.3368787553627</li><li>4.68173899454996</li><li>4.70058450312354</li><li>3.54743463359773</li><li>6.8022833855357</li><li>3.29189344565384</li><li>6.54075443837792</li><li>4.19613695680164</li><li>7.15529642207548</li><li>5.28219913155772</li><li>6.22164610167965</li><li>6.2169046937488</li><li>1.02003702963702</li><li>1.4828784535639</li><li>2.87078608758748</li><li>1.12825348693877</li><li>9.57501701754518</li><li>1.23496116185561</li><li>3.14803624758497</li><li>3.82308518909849</li><li>2.67839430901222</li><li>9.68045540410094</li><li>8.80119823315181</li><li>6.69940177490935</li><li>3.27173245605081</li><li>1.15162949170917</li><li>3.42937294370495</li><li>1.06629369384609</li><li>7.90216147433966</li><li>6.20592078589834</li><li>8.08326478023082</li><li>4.32810259377584</li><li>3.55782899400219</li><li>8.772339401301</li><li>1.68672352656722</li><li>5.39387186663225</li><li>3.11836725450121</li><li>7.75936734885909</li><li>4.83976121293381</li><li>6.38083647866733</li><li>4.33855418581516</li><li>8.28578901826404</li><li>8.0546736496035</li><li>3.29693362861872</li><li>7.08978986437432</li><li>2.2349238761235</li><li>9.61884800717235</li><li>3.72736851521768</li><li>6.78936975821853</li><li>5.37214325577952</li><li>9.15355732408352</li><li>8.58158113830723</li><li>9.02461232594214</li><li>6.34023226820864</li><li>5.70776401716284</li><li>9.40685733780265</li></ol>\n"
            ],
            "text/markdown": "1. 6.12492461153306\n2. 4.68118374585174\n3. 4.96296050865203\n4. 4.93356506736018\n5. 1.94057889166288\n6. 7.65143739548512\n7. 1.02665219735354\n8. 5.6129631458316\n9. 8.14239691314287\n10. 7.21538367914036\n11. 6.8947633036878\n12. 5.3282693864312\n13. 2.03994515305385\n14. 3.92463899520226\n15. 7.32847002637573\n16. 2.0447782590054\n17. 7.70482149580494\n18. 3.0657284562476\n19. 9.63789352891035\n20. 4.54862021724693\n21. 2.03775750566274\n22. 8.89112176094204\n23. 7.60522178374231\n24. 3.98958403035067\n25. 6.71498970291577\n26. 1.85289809084497\n27. 8.61941704084165\n28. 5.13213528925553\n29. 7.41375597706065\n30. 1.09551269398071\n31. 7.99084692797624\n32. 3.90530466241762\n33. 4.72237723972648\n34. 7.57487109256908\n35. 2.59595282841474\n36. 1.57328813173808\n37. 3.93026603292674\n38. 6.56517583411187\n39. 9.18238930869848\n40. 4.3626463948749\n41. 8.43616410368122\n42. 6.33732170891017\n43. 5.76127976365387\n44. 1.68719962914474\n45. 9.39647042262368\n46. 4.61150139104575\n47. 8.61082776309922\n48. 6.27133216918446\n49. 2.50096563366242\n50. 5.05752321239561\n51. 8.53561117709614\n52. 2.92697143671103\n53. 7.21000939561054\n54. 3.38009828305803\n55. 1.47623485024087\n56. 2.17576971347444\n57. 5.93740903027356\n58. 8.97883463930339\n59. 6.43745300127193\n60. 8.81731650512666\n61. 6.83094973536208\n62. 3.41103026550263\n63. 5.67967175436206\n64. 6.28400314669125\n65. 7.15207183058374\n66. 8.62837864062749\n67. 7.78498449851759\n68. 5.82805132865906\n69. 5.28736106376164\n70. 3.22051448258571\n71. 8.83600792079233\n72. 2.28549900581129\n73. 8.7739942362532\n74. 1.22502707270905\n75. 8.58225173037499\n76. 7.33638580143452\n77. 6.72660637530498\n78. 5.49650770309381\n79. 3.54516195389442\n80. 5.38213916565292\n81. 4.57379420730285\n82. 9.72823091736063\n83. 2.94208555668592\n84. 6.41039315634407\n85. 1.8872114084661\n86. 9.73202157439664\n87. 1.37691776757129\n88. 2.32929593138397\n89. 6.72088973922655\n90. 7.78720295778476\n91. 3.2277485113591\n92. 1.68593235453591\n93. 4.0993309142068\n94. 9.7767205121927\n95. 2.85413677385077\n96. 3.01790823391639\n97. 9.60529460594989\n98. 1.85627138987184\n99. 3.15016947127879\n100. 7.29125752160326\n101. 8.58398375846446\n102. 7.39608504972421\n103. 4.61598342726938\n104. 9.83414422045462\n105. 9.76044407999143\n106. 5.68249097606167\n107. 1.55591651168652\n108. 9.09822732303292\n109. 3.63013819325715\n110. 9.19623675127514\n111. 9.513156210538\n112. 7.91347988718189\n113. 1.98432982573286\n114. 9.70414558565244\n115. 5.22043478558771\n116. 5.15512330830097\n117. 9.70854934328236\n118. 5.93621140928008\n119. 3.34121184935793\n120. 9.82912586187012\n121. 8.37580366362818\n122. 5.0740708662197\n123. 5.64680988690816\n124. 4.07092988095246\n125. 6.42960225301795\n126. 7.68050274485722\n127. 6.87495759990998\n128. 1.21497299871407\n129. 7.18482690001838\n130. 8.40355135058053\n131. 6.59618408139795\n132. 7.9179241231177\n133. 5.13669004268013\n134. 1.84334366000257\n135. 8.4111289200373\n136. 4.64489853521809\n137. 4.28426328720525\n138. 2.75938916113228\n139. 7.15596496895887\n140. 3.89421199308708\n141. 5.1900421178434\n142. 1.53581529762596\n143. 2.84790417714976\n144. 8.40647674584761\n145. 8.88553826720454\n146. 6.47514700237662\n147. 1.6750957837794\n148. 2.55309899477288\n149. 1.15019050752744\n150. 2.74835483403876\n151. 4.38101131236181\n152. 7.53778150840662\n153. 8.70245594996959\n154. 6.71423817519099\n155. 8.73770242696628\n156. 2.74988620565273\n157. 4.56015338283032\n158. 2.2919181920588\n159. 5.30359520507045\n160. 4.77605888922699\n161. 5.37214483576827\n162. 3.04222583863884\n163. 4.44788305368274\n164. 1.79552063602023\n165. 9.58444164204411\n166. 2.87208082340658\n167. 1.2656620091293\n168. 8.54853418585844\n169. 2.51131314551458\n170. 3.26738006272353\n171. 1.37746103852987\n172. 8.00195056712255\n173. 1.20119019318372\n174. 6.35544037655927\n175. 2.293279400561\n176. 3.11571912840009\n177. 4.38136793090962\n178. 7.77050240756944\n179. 6.98814588366076\n180. 3.91330399666913\n181. 6.80630463291891\n182. 4.06861658045091\n183. 3.07880442845635\n184. 4.48725794907659\n185. 7.02857165387832\n186. 5.86090855672956\n187. 9.09263956500217\n188. 2.86776888952591\n189. 5.53113822964951\n190. 4.46960999863222\n191. 4.82894260250032\n192. 4.64146771328524\n193. 9.21485417988151\n194. 9.46357312938198\n195. 6.64705750625581\n196. 4.38855653186329\n197. 5.25812898366712\n198. 2.89492001128383\n199. 9.2565692209173\n200. 9.74230980104767\n201. ⋯\n202. 8.59104686346836\n203. 9.71308531914838\n204. 6.29662355198525\n205. 1.69962336984463\n206. 7.32299225777388\n207. 4.75819594925269\n208. 5.98494390537962\n209. 8.99854656634852\n210. 3.35907866177149\n211. 1.56220509111881\n212. 6.99522621557117\n213. 9.79895483050495\n214. 6.85356463608332\n215. 9.28033607592806\n216. 9.15734938089736\n217. 6.88457543775439\n218. 2.08917110646144\n219. 6.91321067186072\n220. 2.3810203729663\n221. 2.64948709262535\n222. 9.16090990230441\n223. 6.69449351681396\n224. 3.68190118530765\n225. 4.1708925398998\n226. 3.55528098344803\n227. 5.72946739429608\n228. 3.37710934248753\n229. 8.41448873258196\n230. 3.81257329974324\n231. 2.34590470604599\n232. 8.49040292343125\n233. 3.00117595400661\n234. 1.93046634970233\n235. 8.81805383390747\n236. 5.4040294487495\n237. 9.64213570021093\n238. 6.53780685202219\n239. 2.00763583532535\n240. 8.59325125161558\n241. 9.88341628480703\n242. 9.33805423835292\n243. 9.34565119724721\n244. 9.32011572085321\n245. 6.34064152301289\n246. 8.93196902354248\n247. 4.62604482914321\n248. 5.98460654215887\n249. 8.68545222003013\n250. 1.22672040155157\n251. 9.34570956043899\n252. 3.63974482868798\n253. 6.48519038315862\n254. 3.81849030731246\n255. 6.02086786436848\n256. 5.73708800482564\n257. 9.50364037416875\n258. 5.90701908874325\n259. 3.4452089194674\n260. 5.82341128936969\n261. 9.22055539325811\n262. 6.21964559913613\n263. 7.71401599515229\n264. 7.4086256173905\n265. 3.5608555295039\n266. 8.5925008575432\n267. 9.27854027203284\n268. 8.45394173054956\n269. 1.8528827582486\n270. 2.98151821596548\n271. 8.00578239187598\n272. 6.75720818620175\n273. 5.2747751919087\n274. 1.66284433519468\n275. 9.11377152684145\n276. 1.39775202306919\n277. 7.67813503323123\n278. 6.71038188785315\n279. 4.14241534657776\n280. 6.98652848019265\n281. 1.35533283720724\n282. 3.80365875805728\n283. 9.67538008419797\n284. 3.19839929626323\n285. 4.73139234539121\n286. 9.72668614098802\n287. 1.12642274098471\n288. 7.3143582562916\n289. 9.22803239454515\n290. 9.98177301720716\n291. 8.61467488692142\n292. 7.4173269988969\n293. 3.57271734951064\n294. 8.45167169114575\n295. 4.85567086143419\n296. 1.13041289988905\n297. 3.08858335600235\n298. 3.62756657716818\n299. 9.47392482380383\n300. 2.42445541825145\n301. 1.58440846554004\n302. 2.00324527709745\n303. 5.99155590683222\n304. 6.80299205030315\n305. 3.70195627794601\n306. 9.34661966958083\n307. 9.94681821577251\n308. 7.09392746933736\n309. 4.15180220222101\n310. 1.56562289176509\n311. 1.43299827375449\n312. 7.58523684553802\n313. 2.70714463712648\n314. 9.40810882928781\n315. 3.76148447883315\n316. 9.86684858356602\n317. 4.61004420556128\n318. 8.6194572718814\n319. 2.96239837398753\n320. 6.57159607438371\n321. 9.50938140158542\n322. 5.195032594027\n323. 6.14682775456458\n324. 2.977492360631\n325. 2.9439293385949\n326. 7.98468020465225\n327. 5.30341477203183\n328. 9.90672808839008\n329. 7.46497797803022\n330. 4.48877124092542\n331. 3.10838443087414\n332. 6.32118705869652\n333. 7.8434041487053\n334. 9.04104512673803\n335. 5.24915944412351\n336. 4.74608836974949\n337. 2.10943644028157\n338. 8.19169271923602\n339. 4.07454767380841\n340. 2.2633768520318\n341. 6.6164870436769\n342. 2.15496013849042\n343. 9.77944314712659\n344. 3.80431830487214\n345. 7.44705560198054\n346. 3.3368787553627\n347. 4.68173899454996\n348. 4.70058450312354\n349. 3.54743463359773\n350. 6.8022833855357\n351. 3.29189344565384\n352. 6.54075443837792\n353. 4.19613695680164\n354. 7.15529642207548\n355. 5.28219913155772\n356. 6.22164610167965\n357. 6.2169046937488\n358. 1.02003702963702\n359. 1.4828784535639\n360. 2.87078608758748\n361. 1.12825348693877\n362. 9.57501701754518\n363. 1.23496116185561\n364. 3.14803624758497\n365. 3.82308518909849\n366. 2.67839430901222\n367. 9.68045540410094\n368. 8.80119823315181\n369. 6.69940177490935\n370. 3.27173245605081\n371. 1.15162949170917\n372. 3.42937294370495\n373. 1.06629369384609\n374. 7.90216147433966\n375. 6.20592078589834\n376. 8.08326478023082\n377. 4.32810259377584\n378. 3.55782899400219\n379. 8.772339401301\n380. 1.68672352656722\n381. 5.39387186663225\n382. 3.11836725450121\n383. 7.75936734885909\n384. 4.83976121293381\n385. 6.38083647866733\n386. 4.33855418581516\n387. 8.28578901826404\n388. 8.0546736496035\n389. 3.29693362861872\n390. 7.08978986437432\n391. 2.2349238761235\n392. 9.61884800717235\n393. 3.72736851521768\n394. 6.78936975821853\n395. 5.37214325577952\n396. 9.15355732408352\n397. 8.58158113830723\n398. 9.02461232594214\n399. 6.34023226820864\n400. 5.70776401716284\n401. 9.40685733780265\n\n\n",
            "text/latex": "\\begin{enumerate*}\n\\item 6.12492461153306\n\\item 4.68118374585174\n\\item 4.96296050865203\n\\item 4.93356506736018\n\\item 1.94057889166288\n\\item 7.65143739548512\n\\item 1.02665219735354\n\\item 5.6129631458316\n\\item 8.14239691314287\n\\item 7.21538367914036\n\\item 6.8947633036878\n\\item 5.3282693864312\n\\item 2.03994515305385\n\\item 3.92463899520226\n\\item 7.32847002637573\n\\item 2.0447782590054\n\\item 7.70482149580494\n\\item 3.0657284562476\n\\item 9.63789352891035\n\\item 4.54862021724693\n\\item 2.03775750566274\n\\item 8.89112176094204\n\\item 7.60522178374231\n\\item 3.98958403035067\n\\item 6.71498970291577\n\\item 1.85289809084497\n\\item 8.61941704084165\n\\item 5.13213528925553\n\\item 7.41375597706065\n\\item 1.09551269398071\n\\item 7.99084692797624\n\\item 3.90530466241762\n\\item 4.72237723972648\n\\item 7.57487109256908\n\\item 2.59595282841474\n\\item 1.57328813173808\n\\item 3.93026603292674\n\\item 6.56517583411187\n\\item 9.18238930869848\n\\item 4.3626463948749\n\\item 8.43616410368122\n\\item 6.33732170891017\n\\item 5.76127976365387\n\\item 1.68719962914474\n\\item 9.39647042262368\n\\item 4.61150139104575\n\\item 8.61082776309922\n\\item 6.27133216918446\n\\item 2.50096563366242\n\\item 5.05752321239561\n\\item 8.53561117709614\n\\item 2.92697143671103\n\\item 7.21000939561054\n\\item 3.38009828305803\n\\item 1.47623485024087\n\\item 2.17576971347444\n\\item 5.93740903027356\n\\item 8.97883463930339\n\\item 6.43745300127193\n\\item 8.81731650512666\n\\item 6.83094973536208\n\\item 3.41103026550263\n\\item 5.67967175436206\n\\item 6.28400314669125\n\\item 7.15207183058374\n\\item 8.62837864062749\n\\item 7.78498449851759\n\\item 5.82805132865906\n\\item 5.28736106376164\n\\item 3.22051448258571\n\\item 8.83600792079233\n\\item 2.28549900581129\n\\item 8.7739942362532\n\\item 1.22502707270905\n\\item 8.58225173037499\n\\item 7.33638580143452\n\\item 6.72660637530498\n\\item 5.49650770309381\n\\item 3.54516195389442\n\\item 5.38213916565292\n\\item 4.57379420730285\n\\item 9.72823091736063\n\\item 2.94208555668592\n\\item 6.41039315634407\n\\item 1.8872114084661\n\\item 9.73202157439664\n\\item 1.37691776757129\n\\item 2.32929593138397\n\\item 6.72088973922655\n\\item 7.78720295778476\n\\item 3.2277485113591\n\\item 1.68593235453591\n\\item 4.0993309142068\n\\item 9.7767205121927\n\\item 2.85413677385077\n\\item 3.01790823391639\n\\item 9.60529460594989\n\\item 1.85627138987184\n\\item 3.15016947127879\n\\item 7.29125752160326\n\\item 8.58398375846446\n\\item 7.39608504972421\n\\item 4.61598342726938\n\\item 9.83414422045462\n\\item 9.76044407999143\n\\item 5.68249097606167\n\\item 1.55591651168652\n\\item 9.09822732303292\n\\item 3.63013819325715\n\\item 9.19623675127514\n\\item 9.513156210538\n\\item 7.91347988718189\n\\item 1.98432982573286\n\\item 9.70414558565244\n\\item 5.22043478558771\n\\item 5.15512330830097\n\\item 9.70854934328236\n\\item 5.93621140928008\n\\item 3.34121184935793\n\\item 9.82912586187012\n\\item 8.37580366362818\n\\item 5.0740708662197\n\\item 5.64680988690816\n\\item 4.07092988095246\n\\item 6.42960225301795\n\\item 7.68050274485722\n\\item 6.87495759990998\n\\item 1.21497299871407\n\\item 7.18482690001838\n\\item 8.40355135058053\n\\item 6.59618408139795\n\\item 7.9179241231177\n\\item 5.13669004268013\n\\item 1.84334366000257\n\\item 8.4111289200373\n\\item 4.64489853521809\n\\item 4.28426328720525\n\\item 2.75938916113228\n\\item 7.15596496895887\n\\item 3.89421199308708\n\\item 5.1900421178434\n\\item 1.53581529762596\n\\item 2.84790417714976\n\\item 8.40647674584761\n\\item 8.88553826720454\n\\item 6.47514700237662\n\\item 1.6750957837794\n\\item 2.55309899477288\n\\item 1.15019050752744\n\\item 2.74835483403876\n\\item 4.38101131236181\n\\item 7.53778150840662\n\\item 8.70245594996959\n\\item 6.71423817519099\n\\item 8.73770242696628\n\\item 2.74988620565273\n\\item 4.56015338283032\n\\item 2.2919181920588\n\\item 5.30359520507045\n\\item 4.77605888922699\n\\item 5.37214483576827\n\\item 3.04222583863884\n\\item 4.44788305368274\n\\item 1.79552063602023\n\\item 9.58444164204411\n\\item 2.87208082340658\n\\item 1.2656620091293\n\\item 8.54853418585844\n\\item 2.51131314551458\n\\item 3.26738006272353\n\\item 1.37746103852987\n\\item 8.00195056712255\n\\item 1.20119019318372\n\\item 6.35544037655927\n\\item 2.293279400561\n\\item 3.11571912840009\n\\item 4.38136793090962\n\\item 7.77050240756944\n\\item 6.98814588366076\n\\item 3.91330399666913\n\\item 6.80630463291891\n\\item 4.06861658045091\n\\item 3.07880442845635\n\\item 4.48725794907659\n\\item 7.02857165387832\n\\item 5.86090855672956\n\\item 9.09263956500217\n\\item 2.86776888952591\n\\item 5.53113822964951\n\\item 4.46960999863222\n\\item 4.82894260250032\n\\item 4.64146771328524\n\\item 9.21485417988151\n\\item 9.46357312938198\n\\item 6.64705750625581\n\\item 4.38855653186329\n\\item 5.25812898366712\n\\item 2.89492001128383\n\\item 9.2565692209173\n\\item 9.74230980104767\n\\item ⋯\n\\item 8.59104686346836\n\\item 9.71308531914838\n\\item 6.29662355198525\n\\item 1.69962336984463\n\\item 7.32299225777388\n\\item 4.75819594925269\n\\item 5.98494390537962\n\\item 8.99854656634852\n\\item 3.35907866177149\n\\item 1.56220509111881\n\\item 6.99522621557117\n\\item 9.79895483050495\n\\item 6.85356463608332\n\\item 9.28033607592806\n\\item 9.15734938089736\n\\item 6.88457543775439\n\\item 2.08917110646144\n\\item 6.91321067186072\n\\item 2.3810203729663\n\\item 2.64948709262535\n\\item 9.16090990230441\n\\item 6.69449351681396\n\\item 3.68190118530765\n\\item 4.1708925398998\n\\item 3.55528098344803\n\\item 5.72946739429608\n\\item 3.37710934248753\n\\item 8.41448873258196\n\\item 3.81257329974324\n\\item 2.34590470604599\n\\item 8.49040292343125\n\\item 3.00117595400661\n\\item 1.93046634970233\n\\item 8.81805383390747\n\\item 5.4040294487495\n\\item 9.64213570021093\n\\item 6.53780685202219\n\\item 2.00763583532535\n\\item 8.59325125161558\n\\item 9.88341628480703\n\\item 9.33805423835292\n\\item 9.34565119724721\n\\item 9.32011572085321\n\\item 6.34064152301289\n\\item 8.93196902354248\n\\item 4.62604482914321\n\\item 5.98460654215887\n\\item 8.68545222003013\n\\item 1.22672040155157\n\\item 9.34570956043899\n\\item 3.63974482868798\n\\item 6.48519038315862\n\\item 3.81849030731246\n\\item 6.02086786436848\n\\item 5.73708800482564\n\\item 9.50364037416875\n\\item 5.90701908874325\n\\item 3.4452089194674\n\\item 5.82341128936969\n\\item 9.22055539325811\n\\item 6.21964559913613\n\\item 7.71401599515229\n\\item 7.4086256173905\n\\item 3.5608555295039\n\\item 8.5925008575432\n\\item 9.27854027203284\n\\item 8.45394173054956\n\\item 1.8528827582486\n\\item 2.98151821596548\n\\item 8.00578239187598\n\\item 6.75720818620175\n\\item 5.2747751919087\n\\item 1.66284433519468\n\\item 9.11377152684145\n\\item 1.39775202306919\n\\item 7.67813503323123\n\\item 6.71038188785315\n\\item 4.14241534657776\n\\item 6.98652848019265\n\\item 1.35533283720724\n\\item 3.80365875805728\n\\item 9.67538008419797\n\\item 3.19839929626323\n\\item 4.73139234539121\n\\item 9.72668614098802\n\\item 1.12642274098471\n\\item 7.3143582562916\n\\item 9.22803239454515\n\\item 9.98177301720716\n\\item 8.61467488692142\n\\item 7.4173269988969\n\\item 3.57271734951064\n\\item 8.45167169114575\n\\item 4.85567086143419\n\\item 1.13041289988905\n\\item 3.08858335600235\n\\item 3.62756657716818\n\\item 9.47392482380383\n\\item 2.42445541825145\n\\item 1.58440846554004\n\\item 2.00324527709745\n\\item 5.99155590683222\n\\item 6.80299205030315\n\\item 3.70195627794601\n\\item 9.34661966958083\n\\item 9.94681821577251\n\\item 7.09392746933736\n\\item 4.15180220222101\n\\item 1.56562289176509\n\\item 1.43299827375449\n\\item 7.58523684553802\n\\item 2.70714463712648\n\\item 9.40810882928781\n\\item 3.76148447883315\n\\item 9.86684858356602\n\\item 4.61004420556128\n\\item 8.6194572718814\n\\item 2.96239837398753\n\\item 6.57159607438371\n\\item 9.50938140158542\n\\item 5.195032594027\n\\item 6.14682775456458\n\\item 2.977492360631\n\\item 2.9439293385949\n\\item 7.98468020465225\n\\item 5.30341477203183\n\\item 9.90672808839008\n\\item 7.46497797803022\n\\item 4.48877124092542\n\\item 3.10838443087414\n\\item 6.32118705869652\n\\item 7.8434041487053\n\\item 9.04104512673803\n\\item 5.24915944412351\n\\item 4.74608836974949\n\\item 2.10943644028157\n\\item 8.19169271923602\n\\item 4.07454767380841\n\\item 2.2633768520318\n\\item 6.6164870436769\n\\item 2.15496013849042\n\\item 9.77944314712659\n\\item 3.80431830487214\n\\item 7.44705560198054\n\\item 3.3368787553627\n\\item 4.68173899454996\n\\item 4.70058450312354\n\\item 3.54743463359773\n\\item 6.8022833855357\n\\item 3.29189344565384\n\\item 6.54075443837792\n\\item 4.19613695680164\n\\item 7.15529642207548\n\\item 5.28219913155772\n\\item 6.22164610167965\n\\item 6.2169046937488\n\\item 1.02003702963702\n\\item 1.4828784535639\n\\item 2.87078608758748\n\\item 1.12825348693877\n\\item 9.57501701754518\n\\item 1.23496116185561\n\\item 3.14803624758497\n\\item 3.82308518909849\n\\item 2.67839430901222\n\\item 9.68045540410094\n\\item 8.80119823315181\n\\item 6.69940177490935\n\\item 3.27173245605081\n\\item 1.15162949170917\n\\item 3.42937294370495\n\\item 1.06629369384609\n\\item 7.90216147433966\n\\item 6.20592078589834\n\\item 8.08326478023082\n\\item 4.32810259377584\n\\item 3.55782899400219\n\\item 8.772339401301\n\\item 1.68672352656722\n\\item 5.39387186663225\n\\item 3.11836725450121\n\\item 7.75936734885909\n\\item 4.83976121293381\n\\item 6.38083647866733\n\\item 4.33855418581516\n\\item 8.28578901826404\n\\item 8.0546736496035\n\\item 3.29693362861872\n\\item 7.08978986437432\n\\item 2.2349238761235\n\\item 9.61884800717235\n\\item 3.72736851521768\n\\item 6.78936975821853\n\\item 5.37214325577952\n\\item 9.15355732408352\n\\item 8.58158113830723\n\\item 9.02461232594214\n\\item 6.34023226820864\n\\item 5.70776401716284\n\\item 9.40685733780265\n\\end{enumerate*}\n",
            "text/plain": [
              "   [1] 6.124925 4.681184 4.962961 4.933565 1.940579 7.651437 1.026652 5.612963\n",
              "   [9] 8.142397 7.215384 6.894763 5.328269 2.039945 3.924639 7.328470 2.044778\n",
              "  [17] 7.704821 3.065728 9.637894 4.548620 2.037758 8.891122 7.605222 3.989584\n",
              "  [25] 6.714990 1.852898 8.619417 5.132135 7.413756 1.095513 7.990847 3.905305\n",
              "  [33] 4.722377 7.574871 2.595953 1.573288 3.930266 6.565176 9.182389 4.362646\n",
              "  [41] 8.436164 6.337322 5.761280 1.687200 9.396470 4.611501 8.610828 6.271332\n",
              "  [49] 2.500966 5.057523 8.535611 2.926971 7.210009 3.380098 1.476235 2.175770\n",
              "  [57] 5.937409 8.978835 6.437453 8.817317 6.830950 3.411030 5.679672 6.284003\n",
              "  [65] 7.152072 8.628379 7.784984 5.828051 5.287361 3.220514 8.836008 2.285499\n",
              "  [73] 8.773994 1.225027 8.582252 7.336386 6.726606 5.496508 3.545162 5.382139\n",
              "  [81] 4.573794 9.728231 2.942086 6.410393 1.887211 9.732022 1.376918 2.329296\n",
              "  [89] 6.720890 7.787203 3.227749 1.685932 4.099331 9.776721 2.854137 3.017908\n",
              "  [97] 9.605295 1.856271 3.150169 7.291258 8.583984 7.396085 4.615983 9.834144\n",
              " [105] 9.760444 5.682491 1.555917 9.098227 3.630138 9.196237 9.513156 7.913480\n",
              " [113] 1.984330 9.704146 5.220435 5.155123 9.708549 5.936211 3.341212 9.829126\n",
              " [121] 8.375804 5.074071 5.646810 4.070930 6.429602 7.680503 6.874958 1.214973\n",
              " [129] 7.184827 8.403551 6.596184 7.917924 5.136690 1.843344 8.411129 4.644899\n",
              " [137] 4.284263 2.759389 7.155965 3.894212 5.190042 1.535815 2.847904 8.406477\n",
              " [145] 8.885538 6.475147 1.675096 2.553099 1.150191 2.748355 4.381011 7.537782\n",
              " [153] 8.702456 6.714238 8.737702 2.749886 4.560153 2.291918 5.303595 4.776059\n",
              " [161] 5.372145 3.042226 4.447883 1.795521 9.584442 2.872081 1.265662 8.548534\n",
              " [169] 2.511313 3.267380 1.377461 8.001951 1.201190 6.355440 2.293279 3.115719\n",
              " [177] 4.381368 7.770502 6.988146 3.913304 6.806305 4.068617 3.078804 4.487258\n",
              " [185] 7.028572 5.860909 9.092640 2.867769 5.531138 4.469610 4.828943 4.641468\n",
              " [193] 9.214854 9.463573 6.647058 4.388557 5.258129 2.894920 9.256569 9.742310\n",
              " [201] 3.667033 4.775227 5.897555 6.568123 7.168240 3.255344 1.133561 4.786857\n",
              " [209] 3.871834 5.927449 3.846005 7.933182 3.949000 7.673277 2.399838 7.778153\n",
              " [217] 2.988995 1.269552 3.968921 4.946321 4.789814 9.554211 6.277941 5.627409\n",
              " [225] 4.545799 4.840255 3.231846 6.916528 7.910204 8.591786 9.932549 6.395100\n",
              " [233] 7.215212 9.424165 4.581627 8.637870 8.915919 4.830047 3.858137 3.027695\n",
              " [241] 9.168284 3.877815 9.724392 5.688120 1.518063 9.842265 5.012487 2.632657\n",
              " [249] 6.776045 7.803055 4.404262 5.595535 7.954122 9.505215 8.396028 5.297999\n",
              " [257] 6.158234 4.413853 3.093817 7.501131 2.588329 5.424346 5.793940 9.456404\n",
              " [265] 8.431606 4.575224 9.687268 9.711960 9.879245 2.925027 3.791150 9.246270\n",
              " [273] 3.054302 8.150446 2.500656 1.697094 2.630199 4.896372 6.649508 8.828740\n",
              " [281] 6.758869 4.255009 6.248600 5.686226 8.124869 5.291147 1.038903 6.948688\n",
              " [289] 8.084393 2.416067 8.096282 4.152980 4.920493 3.251755 1.115246 8.521059\n",
              " [297] 2.428254 9.360467 3.264854 5.287783 3.467746 2.390011 8.343896 2.529791\n",
              " [305] 2.450033 6.147169 2.773212 2.839221 6.320833 3.065631 1.527733 4.336406\n",
              " [313] 8.710906 7.239765 4.244657 6.220077 5.445132 9.245272 7.232209 1.248190\n",
              " [321] 7.115823 2.959825 3.818608 4.075948 2.198574 3.011423 9.883353 3.839696\n",
              " [329] 5.837508 8.873654 2.217274 9.875119 4.745006 7.722486 8.485371 6.687202\n",
              " [337] 4.487084 7.031971 1.613063 3.143339 4.765723 3.412761 9.917986 4.954183\n",
              " [345] 1.230916 5.316356 9.912778 2.212172 3.068963 2.491372 4.937722 3.704980\n",
              " [353] 8.785615 3.731476 6.751515 4.428699 8.466014 4.129485 5.874551 4.298954\n",
              " [361] 9.148763 7.634395 1.557074 8.651725 2.660333 8.167885 8.680172 8.778793\n",
              " [369] 5.153427 5.247647 5.477725 4.607183 7.910939 3.400866 5.820494 9.813355\n",
              " [377] 4.252641 6.376360 5.951832 4.936676 2.113621 3.014386 8.569809 6.680687\n",
              " [385] 7.155343 3.372638 3.650267 1.393497 5.888993 1.704176 3.402201 6.605627\n",
              " [393] 2.641651 7.213285 2.068075 7.982782 3.037175 2.533282 8.055524 9.711651\n",
              " [401] 8.951149 1.031312 6.401613 2.251057 9.020067 1.622251 4.607326 7.807282\n",
              " [409] 7.234188 5.175811 8.523716 2.373750 6.658557 1.242063 4.590039 3.705042\n",
              " [417] 3.782965 1.010535 9.359352 5.083285 4.389603 9.887561 9.945802 3.585907\n",
              " [425] 7.697910 9.095380 2.079962 1.783687 1.594128 2.279576 8.582943 3.128893\n",
              " [433] 2.241290 8.033478 3.619750 8.701494 7.274279 6.091675 2.654157 3.140829\n",
              " [441] 6.029930 8.932135 2.575025 8.132473 7.050912 3.364230 9.616388 8.109682\n",
              " [449] 9.209616 2.825214 3.928334 7.503750 9.417534 6.035419 8.249945 5.377035\n",
              " [457] 6.735244 8.674198 5.946408 7.793162 4.616638 3.935254 5.300112 5.626440\n",
              " [465] 3.580486 3.885571 6.325698 1.067377 9.117098 5.896102 8.256180 3.222081\n",
              " [473] 4.233769 4.275997 9.855029 4.154053 8.588388 4.808032 5.850686 6.386449\n",
              " [481] 9.878191 1.007757 7.028889 8.079770 5.372642 7.072976 1.012219 3.198333\n",
              " [489] 8.014756 3.662084 8.648713 8.595030 5.640195 4.035192 1.151472 5.549963\n",
              " [497] 7.427509 7.228193 3.358928 1.993770 5.822895 5.351096 4.634042 1.706261\n",
              " [505] 7.701054 5.694305 5.102469 5.397340 2.271444 9.332199 6.951105 2.559310\n",
              " [513] 4.933946 6.546681 8.870132 7.695256 7.064345 9.004556 9.040620 8.613711\n",
              " [521] 6.046298 5.254718 3.145729 4.291702 2.405284 1.221522 4.051360 7.897588\n",
              " [529] 5.974827 3.218443 2.117003 8.333535 9.475648 5.239232 1.500460 7.389146\n",
              " [537] 5.652722 3.292105 7.973412 9.726381 4.498996 2.154769 7.036529 3.009461\n",
              " [545] 6.440571 6.024907 8.297689 1.617107 1.571182 2.589993 2.912426 3.258782\n",
              " [553] 8.376709 6.809306 5.465278 5.661643 6.096159 5.362894 1.872226 1.195329\n",
              " [561] 4.956290 2.584721 7.784799 7.998291 1.033597 1.736388 8.979300 2.075369\n",
              " [569] 5.258404 7.182725 7.743753 1.030297 9.470402 3.527637 4.610780 8.090322\n",
              " [577] 2.008577 2.566542 3.516860 5.581258 3.430317 3.323926 4.607598 8.984272\n",
              " [585] 9.208700 4.397701 8.965229 4.939834 4.141306 7.915003 9.518234 1.820361\n",
              " [593] 2.068939 7.430640 5.005975 4.853705 2.489651 7.709869 5.762187 7.198432\n",
              " [601] 1.656363 2.312103 7.152793 4.256092 2.889763 1.027543 8.929756 8.643915\n",
              " [609] 4.995734 7.005719 5.594272 9.531295 7.626367 7.711554 8.947151 9.575974\n",
              " [617] 6.490042 9.778893 7.446148 8.429165 8.938389 5.435204 3.995863 2.127285\n",
              " [625] 1.915768 8.470981 8.934536 8.512612 4.051062 4.264987 8.967775 8.628327\n",
              " [633] 1.541447 5.815220 2.132637 4.743890 1.257505 3.345631 9.264534 8.657886\n",
              " [641] 7.251821 2.138193 9.226364 4.581242 4.864953 6.591536 3.461718 9.041006\n",
              " [649] 2.811217 1.982739 5.652317 7.505320 4.506037 6.794032 2.857851 3.011263\n",
              " [657] 1.075143 4.644856 1.558195 5.378648 4.969199 3.499011 1.834334 7.475895\n",
              " [665] 3.906890 8.568235 1.561927 9.543168 8.019238 8.854444 2.572364 5.094010\n",
              " [673] 7.848117 2.578758 9.790190 8.084473 3.284246 6.299399 1.388571 1.947956\n",
              " [681] 1.538949 3.929485 4.530055 9.576693 6.718953 5.093081 3.361251 5.624744\n",
              " [689] 9.086203 5.970576 3.232703 2.314300 3.345667 3.162043 3.047195 1.117253\n",
              " [697] 5.785059 1.506066 9.383901 4.317388 7.230680 6.490321 3.427458 6.360091\n",
              " [705] 7.874841 7.786844 7.009003 4.515559 4.670279 9.992167 7.289038 2.654833\n",
              " [713] 5.484075 3.924644 3.958406 2.487714 4.343604 7.093767 5.972291 1.739914\n",
              " [721] 5.890633 5.450860 8.339859 5.774848 6.602797 7.463429 7.675079 6.752186\n",
              " [729] 2.725676 2.145376 8.451140 5.268790 2.502157 4.567735 3.176549 6.976161\n",
              " [737] 9.793203 6.288086 7.706616 7.507436 1.938999 7.808082 3.980317 4.298140\n",
              " [745] 2.136629 8.705854 7.387751 3.419426 3.705519 5.337288 9.076549 4.998083\n",
              " [753] 8.177543 9.899573 4.407957 6.689765 1.417877 7.864063 8.696928 2.126665\n",
              " [761] 7.218552 2.873755 8.607611 5.100486 7.254538 6.422979 7.411336 6.447657\n",
              " [769] 8.327454 8.913999 8.496186 8.087142 2.142654 1.739727 2.478367 1.021843\n",
              " [777] 5.192139 8.993051 9.079777 2.890094 1.515111 5.070317 6.568469 1.696826\n",
              " [785] 3.957243 2.756649 6.228413 2.076959 1.250276 6.817205 1.647828 7.103795\n",
              " [793] 1.019447 3.246714 5.453138 4.238724 1.083684 5.238828 3.008022 9.852548\n",
              " [801] 8.591047 9.713085 6.296624 1.699623 7.322992 4.758196 5.984944 8.998547\n",
              " [809] 3.359079 1.562205 6.995226 9.798955 6.853565 9.280336 9.157349 6.884575\n",
              " [817] 2.089171 6.913211 2.381020 2.649487 9.160910 6.694494 3.681901 4.170893\n",
              " [825] 3.555281 5.729467 3.377109 8.414489 3.812573 2.345905 8.490403 3.001176\n",
              " [833] 1.930466 8.818054 5.404029 9.642136 6.537807 2.007636 8.593251 9.883416\n",
              " [841] 9.338054 9.345651 9.320116 6.340642 8.931969 4.626045 5.984607 8.685452\n",
              " [849] 1.226720 9.345710 3.639745 6.485190 3.818490 6.020868 5.737088 9.503640\n",
              " [857] 5.907019 3.445209 5.823411 9.220555 6.219646 7.714016 7.408626 3.560856\n",
              " [865] 8.592501 9.278540 8.453942 1.852883 2.981518 8.005782 6.757208 5.274775\n",
              " [873] 1.662844 9.113772 1.397752 7.678135 6.710382 4.142415 6.986528 1.355333\n",
              " [881] 3.803659 9.675380 3.198399 4.731392 9.726686 1.126423 7.314358 9.228032\n",
              " [889] 9.981773 8.614675 7.417327 3.572717 8.451672 4.855671 1.130413 3.088583\n",
              " [897] 3.627567 9.473925 2.424455 1.584408 2.003245 5.991556 6.802992 3.701956\n",
              " [905] 9.346620 9.946818 7.093927 4.151802 1.565623 1.432998 7.585237 2.707145\n",
              " [913] 9.408109 3.761484 9.866849 4.610044 8.619457 2.962398 6.571596 9.509381\n",
              " [921] 5.195033 6.146828 2.977492 2.943929 7.984680 5.303415 9.906728 7.464978\n",
              " [929] 4.488771 3.108384 6.321187 7.843404 9.041045 5.249159 4.746088 2.109436\n",
              " [937] 8.191693 4.074548 2.263377 6.616487 2.154960 9.779443 3.804318 7.447056\n",
              " [945] 3.336879 4.681739 4.700585 3.547435 6.802283 3.291893 6.540754 4.196137\n",
              " [953] 7.155296 5.282199 6.221646 6.216905 1.020037 1.482878 2.870786 1.128253\n",
              " [961] 9.575017 1.234961 3.148036 3.823085 2.678394 9.680455 8.801198 6.699402\n",
              " [969] 3.271732 1.151629 3.429373 1.066294 7.902161 6.205921 8.083265 4.328103\n",
              " [977] 3.557829 8.772339 1.686724 5.393872 3.118367 7.759367 4.839761 6.380836\n",
              " [985] 4.338554 8.285789 8.054674 3.296934 7.089790 2.234924 9.618848 3.727369\n",
              " [993] 6.789370 5.372143 9.153557 8.581581 9.024612 6.340232 5.707764 9.406857"
            ]
          },
          "metadata": {}
        }
      ]
    },
    {
      "cell_type": "code",
      "source": [
        "# 10 random-normal numbers with mean 10 and SD=1\n",
        "\n",
        "rnorm(10, mean=10)"
      ],
      "metadata": {
        "colab": {
          "base_uri": "https://localhost:8080/",
          "height": 34
        },
        "id": "WuDf0NU0DCOM",
        "outputId": "5503cb21-56ff-47d6-f522-f794f84e7dcb"
      },
      "execution_count": 113,
      "outputs": [
        {
          "output_type": "display_data",
          "data": {
            "text/html": [
              "<style>\n",
              ".list-inline {list-style: none; margin:0; padding: 0}\n",
              ".list-inline>li {display: inline-block}\n",
              ".list-inline>li:not(:last-child)::after {content: \"\\00b7\"; padding: 0 .5ex}\n",
              "</style>\n",
              "<ol class=list-inline><li>12.354258132261</li><li>8.86919485494138</li><li>11.2610235733946</li><li>9.94488948953837</li><li>9.95124557326586</li><li>10.4012300432296</li><li>9.1516430533185</li><li>10.1933717774366</li><li>11.281946840325</li><li>9.158451514162</li></ol>\n"
            ],
            "text/markdown": "1. 12.354258132261\n2. 8.86919485494138\n3. 11.2610235733946\n4. 9.94488948953837\n5. 9.95124557326586\n6. 10.4012300432296\n7. 9.1516430533185\n8. 10.1933717774366\n9. 11.281946840325\n10. 9.158451514162\n\n\n",
            "text/latex": "\\begin{enumerate*}\n\\item 12.354258132261\n\\item 8.86919485494138\n\\item 11.2610235733946\n\\item 9.94488948953837\n\\item 9.95124557326586\n\\item 10.4012300432296\n\\item 9.1516430533185\n\\item 10.1933717774366\n\\item 11.281946840325\n\\item 9.158451514162\n\\end{enumerate*}\n",
            "text/plain": [
              " [1] 12.354258  8.869195 11.261024  9.944889  9.951246 10.401230  9.151643\n",
              " [8] 10.193372 11.281947  9.158452"
            ]
          },
          "metadata": {}
        }
      ]
    },
    {
      "cell_type": "code",
      "source": [
        "# 10 random-normal numbers with mean 10 and SD=5\n",
        "\n",
        "rnorm(10, 10, 5)"
      ],
      "metadata": {
        "colab": {
          "base_uri": "https://localhost:8080/",
          "height": 34
        },
        "outputId": "76c89b02-7db9-41fd-a74d-8f86c6b36148",
        "id": "hmrm6lTUDecL"
      },
      "execution_count": 114,
      "outputs": [
        {
          "output_type": "display_data",
          "data": {
            "text/html": [
              "<style>\n",
              ".list-inline {list-style: none; margin:0; padding: 0}\n",
              ".list-inline>li {display: inline-block}\n",
              ".list-inline>li:not(:last-child)::after {content: \"\\00b7\"; padding: 0 .5ex}\n",
              "</style>\n",
              "<ol class=list-inline><li>-4.57013729771057</li><li>19.8902000712577</li><li>6.95073114388701</li><li>14.798476856008</li><li>18.8492081002938</li><li>15.5095591756213</li><li>17.8904591089795</li><li>14.2351529827089</li><li>13.8235817957949</li><li>20.3789927572809</li></ol>\n"
            ],
            "text/markdown": "1. -4.57013729771057\n2. 19.8902000712577\n3. 6.95073114388701\n4. 14.798476856008\n5. 18.8492081002938\n6. 15.5095591756213\n7. 17.8904591089795\n8. 14.2351529827089\n9. 13.8235817957949\n10. 20.3789927572809\n\n\n",
            "text/latex": "\\begin{enumerate*}\n\\item -4.57013729771057\n\\item 19.8902000712577\n\\item 6.95073114388701\n\\item 14.798476856008\n\\item 18.8492081002938\n\\item 15.5095591756213\n\\item 17.8904591089795\n\\item 14.2351529827089\n\\item 13.8235817957949\n\\item 20.3789927572809\n\\end{enumerate*}\n",
            "text/plain": [
              " [1] -4.570137 19.890200  6.950731 14.798477 18.849208 15.509559 17.890459\n",
              " [8] 14.235153 13.823582 20.378993"
            ]
          },
          "metadata": {}
        }
      ]
    },
    {
      "cell_type": "code",
      "source": [
        "random.numbers <- rnorm(1000)\n",
        "\n",
        "hist(random.numbers)"
      ],
      "metadata": {
        "colab": {
          "base_uri": "https://localhost:8080/",
          "height": 437
        },
        "id": "H08FUBfZDnbD",
        "outputId": "3188a5e1-0f05-4f2b-bc7c-efa316f24512"
      },
      "execution_count": 115,
      "outputs": [
        {
          "output_type": "display_data",
          "data": {
            "text/plain": [
              "Plot with title “Histogram of random.numbers”"
            ],
            "image/png": "[encoded data removed]"
          },
          "metadata": {
            "image/png": {
              "width": 420,
              "height": 420
            }
          }
        }
      ]
    },
    {
      "cell_type": "markdown",
      "source": [
        "## **Functions to Learn Now**"
      ],
      "metadata": {
        "id": "YvmMnkcTErBt"
      }
    },
    {
      "cell_type": "markdown",
      "source": [
        "### **Reptition**"
      ],
      "metadata": {
        "id": "9xdiRejwEwQy"
      }
    },
    {
      "cell_type": "code",
      "source": [
        "# repeat something N times\n",
        "\n",
        "rep(\"Apple pie\", 10) "
      ],
      "metadata": {
        "colab": {
          "base_uri": "https://localhost:8080/",
          "height": 34
        },
        "id": "U_UrAybdE44e",
        "outputId": "27cf483f-c210-4a0f-a827-2e5a64be8836"
      },
      "execution_count": 116,
      "outputs": [
        {
          "output_type": "display_data",
          "data": {
            "text/html": [
              "<style>\n",
              ".list-inline {list-style: none; margin:0; padding: 0}\n",
              ".list-inline>li {display: inline-block}\n",
              ".list-inline>li:not(:last-child)::after {content: \"\\00b7\"; padding: 0 .5ex}\n",
              "</style>\n",
              "<ol class=list-inline><li>'Apple pie'</li><li>'Apple pie'</li><li>'Apple pie'</li><li>'Apple pie'</li><li>'Apple pie'</li><li>'Apple pie'</li><li>'Apple pie'</li><li>'Apple pie'</li><li>'Apple pie'</li><li>'Apple pie'</li></ol>\n"
            ],
            "text/markdown": "1. 'Apple pie'\n2. 'Apple pie'\n3. 'Apple pie'\n4. 'Apple pie'\n5. 'Apple pie'\n6. 'Apple pie'\n7. 'Apple pie'\n8. 'Apple pie'\n9. 'Apple pie'\n10. 'Apple pie'\n\n\n",
            "text/latex": "\\begin{enumerate*}\n\\item 'Apple pie'\n\\item 'Apple pie'\n\\item 'Apple pie'\n\\item 'Apple pie'\n\\item 'Apple pie'\n\\item 'Apple pie'\n\\item 'Apple pie'\n\\item 'Apple pie'\n\\item 'Apple pie'\n\\item 'Apple pie'\n\\end{enumerate*}\n",
            "text/plain": [
              " [1] \"Apple pie\" \"Apple pie\" \"Apple pie\" \"Apple pie\" \"Apple pie\" \"Apple pie\"\n",
              " [7] \"Apple pie\" \"Apple pie\" \"Apple pie\" \"Apple pie\""
            ]
          },
          "metadata": {}
        }
      ]
    },
    {
      "cell_type": "code",
      "source": [
        "# repeat a short vector, combining into a single longer vector\n",
        "\n",
        "rep(c(\"Custard\", \"Gravy\"), 5)"
      ],
      "metadata": {
        "colab": {
          "base_uri": "https://localhost:8080/",
          "height": 34
        },
        "id": "AOfkBTjBFLqk",
        "outputId": "4d90dd2e-20c3-4b8c-bff1-280570feeedc"
      },
      "execution_count": 117,
      "outputs": [
        {
          "output_type": "display_data",
          "data": {
            "text/html": [
              "<style>\n",
              ".list-inline {list-style: none; margin:0; padding: 0}\n",
              ".list-inline>li {display: inline-block}\n",
              ".list-inline>li:not(:last-child)::after {content: \"\\00b7\"; padding: 0 .5ex}\n",
              "</style>\n",
              "<ol class=list-inline><li>'Custard'</li><li>'Gravy'</li><li>'Custard'</li><li>'Gravy'</li><li>'Custard'</li><li>'Gravy'</li><li>'Custard'</li><li>'Gravy'</li><li>'Custard'</li><li>'Gravy'</li></ol>\n"
            ],
            "text/markdown": "1. 'Custard'\n2. 'Gravy'\n3. 'Custard'\n4. 'Gravy'\n5. 'Custard'\n6. 'Gravy'\n7. 'Custard'\n8. 'Gravy'\n9. 'Custard'\n10. 'Gravy'\n\n\n",
            "text/latex": "\\begin{enumerate*}\n\\item 'Custard'\n\\item 'Gravy'\n\\item 'Custard'\n\\item 'Gravy'\n\\item 'Custard'\n\\item 'Gravy'\n\\item 'Custard'\n\\item 'Gravy'\n\\item 'Custard'\n\\item 'Gravy'\n\\end{enumerate*}\n",
            "text/plain": [
              " [1] \"Custard\" \"Gravy\"   \"Custard\" \"Gravy\"   \"Custard\" \"Gravy\"   \"Custard\"\n",
              " [8] \"Gravy\"   \"Custard\" \"Gravy\"  "
            ]
          },
          "metadata": {}
        }
      ]
    },
    {
      "cell_type": "markdown",
      "source": [
        "## **Sequences**"
      ],
      "metadata": {
        "id": "_g4aK3VaFZzC"
      }
    },
    {
      "cell_type": "code",
      "source": [
        "# make a sequence\n",
        "\n",
        "(countdown <- 100:1)"
      ],
      "metadata": {
        "colab": {
          "base_uri": "https://localhost:8080/",
          "height": 52
        },
        "id": "avHtGhDoFdm5",
        "outputId": "c0371f96-1495-4ecf-bd75-d93e7b1db108"
      },
      "execution_count": 118,
      "outputs": [
        {
          "output_type": "display_data",
          "data": {
            "text/html": [
              "<style>\n",
              ".list-inline {list-style: none; margin:0; padding: 0}\n",
              ".list-inline>li {display: inline-block}\n",
              ".list-inline>li:not(:last-child)::after {content: \"\\00b7\"; padding: 0 .5ex}\n",
              "</style>\n",
              "<ol class=list-inline><li>100</li><li>99</li><li>98</li><li>97</li><li>96</li><li>95</li><li>94</li><li>93</li><li>92</li><li>91</li><li>90</li><li>89</li><li>88</li><li>87</li><li>86</li><li>85</li><li>84</li><li>83</li><li>82</li><li>81</li><li>80</li><li>79</li><li>78</li><li>77</li><li>76</li><li>75</li><li>74</li><li>73</li><li>72</li><li>71</li><li>70</li><li>69</li><li>68</li><li>67</li><li>66</li><li>65</li><li>64</li><li>63</li><li>62</li><li>61</li><li>60</li><li>59</li><li>58</li><li>57</li><li>56</li><li>55</li><li>54</li><li>53</li><li>52</li><li>51</li><li>50</li><li>49</li><li>48</li><li>47</li><li>46</li><li>45</li><li>44</li><li>43</li><li>42</li><li>41</li><li>40</li><li>39</li><li>38</li><li>37</li><li>36</li><li>35</li><li>34</li><li>33</li><li>32</li><li>31</li><li>30</li><li>29</li><li>28</li><li>27</li><li>26</li><li>25</li><li>24</li><li>23</li><li>22</li><li>21</li><li>20</li><li>19</li><li>18</li><li>17</li><li>16</li><li>15</li><li>14</li><li>13</li><li>12</li><li>11</li><li>10</li><li>9</li><li>8</li><li>7</li><li>6</li><li>5</li><li>4</li><li>3</li><li>2</li><li>1</li></ol>\n"
            ],
            "text/markdown": "1. 100\n2. 99\n3. 98\n4. 97\n5. 96\n6. 95\n7. 94\n8. 93\n9. 92\n10. 91\n11. 90\n12. 89\n13. 88\n14. 87\n15. 86\n16. 85\n17. 84\n18. 83\n19. 82\n20. 81\n21. 80\n22. 79\n23. 78\n24. 77\n25. 76\n26. 75\n27. 74\n28. 73\n29. 72\n30. 71\n31. 70\n32. 69\n33. 68\n34. 67\n35. 66\n36. 65\n37. 64\n38. 63\n39. 62\n40. 61\n41. 60\n42. 59\n43. 58\n44. 57\n45. 56\n46. 55\n47. 54\n48. 53\n49. 52\n50. 51\n51. 50\n52. 49\n53. 48\n54. 47\n55. 46\n56. 45\n57. 44\n58. 43\n59. 42\n60. 41\n61. 40\n62. 39\n63. 38\n64. 37\n65. 36\n66. 35\n67. 34\n68. 33\n69. 32\n70. 31\n71. 30\n72. 29\n73. 28\n74. 27\n75. 26\n76. 25\n77. 24\n78. 23\n79. 22\n80. 21\n81. 20\n82. 19\n83. 18\n84. 17\n85. 16\n86. 15\n87. 14\n88. 13\n89. 12\n90. 11\n91. 10\n92. 9\n93. 8\n94. 7\n95. 6\n96. 5\n97. 4\n98. 3\n99. 2\n100. 1\n\n\n",
            "text/latex": "\\begin{enumerate*}\n\\item 100\n\\item 99\n\\item 98\n\\item 97\n\\item 96\n\\item 95\n\\item 94\n\\item 93\n\\item 92\n\\item 91\n\\item 90\n\\item 89\n\\item 88\n\\item 87\n\\item 86\n\\item 85\n\\item 84\n\\item 83\n\\item 82\n\\item 81\n\\item 80\n\\item 79\n\\item 78\n\\item 77\n\\item 76\n\\item 75\n\\item 74\n\\item 73\n\\item 72\n\\item 71\n\\item 70\n\\item 69\n\\item 68\n\\item 67\n\\item 66\n\\item 65\n\\item 64\n\\item 63\n\\item 62\n\\item 61\n\\item 60\n\\item 59\n\\item 58\n\\item 57\n\\item 56\n\\item 55\n\\item 54\n\\item 53\n\\item 52\n\\item 51\n\\item 50\n\\item 49\n\\item 48\n\\item 47\n\\item 46\n\\item 45\n\\item 44\n\\item 43\n\\item 42\n\\item 41\n\\item 40\n\\item 39\n\\item 38\n\\item 37\n\\item 36\n\\item 35\n\\item 34\n\\item 33\n\\item 32\n\\item 31\n\\item 30\n\\item 29\n\\item 28\n\\item 27\n\\item 26\n\\item 25\n\\item 24\n\\item 23\n\\item 22\n\\item 21\n\\item 20\n\\item 19\n\\item 18\n\\item 17\n\\item 16\n\\item 15\n\\item 14\n\\item 13\n\\item 12\n\\item 11\n\\item 10\n\\item 9\n\\item 8\n\\item 7\n\\item 6\n\\item 5\n\\item 4\n\\item 3\n\\item 2\n\\item 1\n\\end{enumerate*}\n",
            "text/plain": [
              "  [1] 100  99  98  97  96  95  94  93  92  91  90  89  88  87  86  85  84  83\n",
              " [19]  82  81  80  79  78  77  76  75  74  73  72  71  70  69  68  67  66  65\n",
              " [37]  64  63  62  61  60  59  58  57  56  55  54  53  52  51  50  49  48  47\n",
              " [55]  46  45  44  43  42  41  40  39  38  37  36  35  34  33  32  31  30  29\n",
              " [73]  28  27  26  25  24  23  22  21  20  19  18  17  16  15  14  13  12  11\n",
              " [91]  10   9   8   7   6   5   4   3   2   1"
            ]
          },
          "metadata": {}
        }
      ]
    },
    {
      "cell_type": "markdown",
      "source": [
        "Make a sequence with steps of a particular size"
      ],
      "metadata": {
        "id": "O1RWSi2GFoDy"
      }
    },
    {
      "cell_type": "code",
      "source": [
        "(tenths <- seq(from=0, to=1, by=0.1))"
      ],
      "metadata": {
        "colab": {
          "base_uri": "https://localhost:8080/",
          "height": 34
        },
        "id": "o819W4lTFmJ0",
        "outputId": "c0fd8dc5-3d87-4dbb-b3ee-394ef4d3991e"
      },
      "execution_count": 119,
      "outputs": [
        {
          "output_type": "display_data",
          "data": {
            "text/html": [
              "<style>\n",
              ".list-inline {list-style: none; margin:0; padding: 0}\n",
              ".list-inline>li {display: inline-block}\n",
              ".list-inline>li:not(:last-child)::after {content: \"\\00b7\"; padding: 0 .5ex}\n",
              "</style>\n",
              "<ol class=list-inline><li>0</li><li>0.1</li><li>0.2</li><li>0.3</li><li>0.4</li><li>0.5</li><li>0.6</li><li>0.7</li><li>0.8</li><li>0.9</li><li>1</li></ol>\n"
            ],
            "text/markdown": "1. 0\n2. 0.1\n3. 0.2\n4. 0.3\n5. 0.4\n6. 0.5\n7. 0.6\n8. 0.7\n9. 0.8\n10. 0.9\n11. 1\n\n\n",
            "text/latex": "\\begin{enumerate*}\n\\item 0\n\\item 0.1\n\\item 0.2\n\\item 0.3\n\\item 0.4\n\\item 0.5\n\\item 0.6\n\\item 0.7\n\\item 0.8\n\\item 0.9\n\\item 1\n\\end{enumerate*}\n",
            "text/plain": [
              " [1] 0.0 0.1 0.2 0.3 0.4 0.5 0.6 0.7 0.8 0.9 1.0"
            ]
          },
          "metadata": {}
        }
      ]
    },
    {
      "cell_type": "code",
      "source": [
        "(twelfth <- seq(from=0, to=10, length.out = 12))"
      ],
      "metadata": {
        "colab": {
          "base_uri": "https://localhost:8080/",
          "height": 34
        },
        "id": "rg24eVPtF4z-",
        "outputId": "e92cbe67-be16-4374-f008-b97062bc9aa6"
      },
      "execution_count": 120,
      "outputs": [
        {
          "output_type": "display_data",
          "data": {
            "text/html": [
              "<style>\n",
              ".list-inline {list-style: none; margin:0; padding: 0}\n",
              ".list-inline>li {display: inline-block}\n",
              ".list-inline>li:not(:last-child)::after {content: \"\\00b7\"; padding: 0 .5ex}\n",
              "</style>\n",
              "<ol class=list-inline><li>0</li><li>0.909090909090909</li><li>1.81818181818182</li><li>2.72727272727273</li><li>3.63636363636364</li><li>4.54545454545454</li><li>5.45454545454545</li><li>6.36363636363636</li><li>7.27272727272727</li><li>8.18181818181818</li><li>9.09090909090909</li><li>10</li></ol>\n"
            ],
            "text/markdown": "1. 0\n2. 0.909090909090909\n3. 1.81818181818182\n4. 2.72727272727273\n5. 3.63636363636364\n6. 4.54545454545454\n7. 5.45454545454545\n8. 6.36363636363636\n9. 7.27272727272727\n10. 8.18181818181818\n11. 9.09090909090909\n12. 10\n\n\n",
            "text/latex": "\\begin{enumerate*}\n\\item 0\n\\item 0.909090909090909\n\\item 1.81818181818182\n\\item 2.72727272727273\n\\item 3.63636363636364\n\\item 4.54545454545454\n\\item 5.45454545454545\n\\item 6.36363636363636\n\\item 7.27272727272727\n\\item 8.18181818181818\n\\item 9.09090909090909\n\\item 10\n\\end{enumerate*}\n",
            "text/plain": [
              " [1]  0.0000000  0.9090909  1.8181818  2.7272727  3.6363636  4.5454545\n",
              " [7]  5.4545455  6.3636364  7.2727273  8.1818182  9.0909091 10.0000000"
            ]
          },
          "metadata": {}
        }
      ]
    },
    {
      "cell_type": "markdown",
      "source": [
        "## **FACTORS**"
      ],
      "metadata": {
        "id": "tE8dIYFsrpQk"
      }
    },
    {
      "cell_type": "markdown",
      "source": [
        "* Factors are used to represent categorical data.\n",
        "* Factors can be unordered and ordered.\n",
        "* One can think of a factor as an integer vector where each integer has a label.\n",
        "* Factors are treated specially by modelling functions like `lm()` and `glm()`\n",
        "* Using Factors with labels is better than using integers because factors are self-describing, having a variable that has values \"Male\" and \"Female\" is than a variable that has values 1 and 2.\n"
      ],
      "metadata": {
        "id": "gRXbn2KwrtrX"
      }
    },
    {
      "cell_type": "code",
      "source": [
        "x <- factor(c(\"yes\", \"yes\", \"no\", \"yes\", \"no\"))"
      ],
      "metadata": {
        "id": "rHHd9rkbtOA6"
      },
      "execution_count": 124,
      "outputs": []
    },
    {
      "cell_type": "code",
      "source": [
        "x"
      ],
      "metadata": {
        "colab": {
          "base_uri": "https://localhost:8080/",
          "height": 52
        },
        "id": "qo0dcvRZugCc",
        "outputId": "5f66fcfc-1f3d-44eb-b727-a3663329dbfc"
      },
      "execution_count": 125,
      "outputs": [
        {
          "output_type": "display_data",
          "data": {
            "text/html": [
              "<style>\n",
              ".list-inline {list-style: none; margin:0; padding: 0}\n",
              ".list-inline>li {display: inline-block}\n",
              ".list-inline>li:not(:last-child)::after {content: \"\\00b7\"; padding: 0 .5ex}\n",
              "</style>\n",
              "<ol class=list-inline><li>yes</li><li>yes</li><li>no</li><li>yes</li><li>no</li></ol>\n",
              "\n",
              "<details>\n",
              "\t<summary style=display:list-item;cursor:pointer>\n",
              "\t\t<strong>Levels</strong>:\n",
              "\t</summary>\n",
              "\t<style>\n",
              "\t.list-inline {list-style: none; margin:0; padding: 0}\n",
              "\t.list-inline>li {display: inline-block}\n",
              "\t.list-inline>li:not(:last-child)::after {content: \"\\00b7\"; padding: 0 .5ex}\n",
              "\t</style>\n",
              "\t<ol class=list-inline><li>'no'</li><li>'yes'</li></ol>\n",
              "</details>"
            ],
            "text/markdown": "1. yes\n2. yes\n3. no\n4. yes\n5. no\n\n\n\n**Levels**: 1. 'no'\n2. 'yes'\n\n\n",
            "text/latex": "\\begin{enumerate*}\n\\item yes\n\\item yes\n\\item no\n\\item yes\n\\item no\n\\end{enumerate*}\n\n\\emph{Levels}: \\begin{enumerate*}\n\\item 'no'\n\\item 'yes'\n\\end{enumerate*}\n",
            "text/plain": [
              "[1] yes yes no  yes no \n",
              "Levels: no yes"
            ]
          },
          "metadata": {}
        }
      ]
    },
    {
      "cell_type": "code",
      "source": [
        "table(x)"
      ],
      "metadata": {
        "colab": {
          "base_uri": "https://localhost:8080/",
          "height": 69
        },
        "id": "6ejMVAImuvFC",
        "outputId": "81db50b4-96c4-400a-c2db-54fd43b59831"
      },
      "execution_count": 126,
      "outputs": [
        {
          "output_type": "display_data",
          "data": {
            "text/plain": [
              "x\n",
              " no yes \n",
              "  2   3 "
            ]
          },
          "metadata": {}
        }
      ]
    },
    {
      "cell_type": "code",
      "source": [
        "unclass(x)"
      ],
      "metadata": {
        "colab": {
          "base_uri": "https://localhost:8080/",
          "height": 34
        },
        "id": "OkhlgHNcu1A-",
        "outputId": "328e0bba-c753-4c44-c6ef-02213c439c61"
      },
      "execution_count": 127,
      "outputs": [
        {
          "output_type": "display_data",
          "data": {
            "text/html": [
              "<style>\n",
              ".list-inline {list-style: none; margin:0; padding: 0}\n",
              ".list-inline>li {display: inline-block}\n",
              ".list-inline>li:not(:last-child)::after {content: \"\\00b7\"; padding: 0 .5ex}\n",
              "</style>\n",
              "<ol class=list-inline><li>2</li><li>2</li><li>1</li><li>2</li><li>1</li></ol>\n"
            ],
            "text/markdown": "1. 2\n2. 2\n3. 1\n4. 2\n5. 1\n\n\n",
            "text/latex": "\\begin{enumerate*}\n\\item 2\n\\item 2\n\\item 1\n\\item 2\n\\item 1\n\\end{enumerate*}\n",
            "text/plain": [
              "[1] 2 2 1 2 1\n",
              "attr(,\"levels\")\n",
              "[1] \"no\"  \"yes\""
            ]
          },
          "metadata": {}
        }
      ]
    },
    {
      "cell_type": "code",
      "source": [
        "x <- factor(c(\"yes\", \"yes\", \"no\", \"yes\", \"no\"),\n",
        "                levels = c(\"yes\", \"no\"))\n",
        "\n",
        "x"
      ],
      "metadata": {
        "colab": {
          "base_uri": "https://localhost:8080/",
          "height": 69
        },
        "id": "NkTA4tJtu_Rq",
        "outputId": "a914c0f3-5d69-47b8-e9c0-cb96a5b59ce3"
      },
      "execution_count": 133,
      "outputs": [
        {
          "output_type": "display_data",
          "data": {
            "text/html": [
              "<style>\n",
              ".list-inline {list-style: none; margin:0; padding: 0}\n",
              ".list-inline>li {display: inline-block}\n",
              ".list-inline>li:not(:last-child)::after {content: \"\\00b7\"; padding: 0 .5ex}\n",
              "</style>\n",
              "<ol class=list-inline><li>yes</li><li>yes</li><li>no</li><li>yes</li><li>no</li></ol>\n",
              "\n",
              "<details>\n",
              "\t<summary style=display:list-item;cursor:pointer>\n",
              "\t\t<strong>Levels</strong>:\n",
              "\t</summary>\n",
              "\t<style>\n",
              "\t.list-inline {list-style: none; margin:0; padding: 0}\n",
              "\t.list-inline>li {display: inline-block}\n",
              "\t.list-inline>li:not(:last-child)::after {content: \"\\00b7\"; padding: 0 .5ex}\n",
              "\t</style>\n",
              "\t<ol class=list-inline><li>'yes'</li><li>'no'</li></ol>\n",
              "</details>"
            ],
            "text/markdown": "1. yes\n2. yes\n3. no\n4. yes\n5. no\n\n\n\n**Levels**: 1. 'yes'\n2. 'no'\n\n\n",
            "text/latex": "\\begin{enumerate*}\n\\item yes\n\\item yes\n\\item no\n\\item yes\n\\item no\n\\end{enumerate*}\n\n\\emph{Levels}: \\begin{enumerate*}\n\\item 'yes'\n\\item 'no'\n\\end{enumerate*}\n",
            "text/plain": [
              "[1] yes yes no  yes no \n",
              "Levels: yes no"
            ]
          },
          "metadata": {}
        }
      ]
    },
    {
      "cell_type": "markdown",
      "source": [
        "## **Missing Values**"
      ],
      "metadata": {
        "id": "FLfOhFMvxdge"
      }
    },
    {
      "cell_type": "markdown",
      "source": [
        "Missing values are denoted by NA or NaN for undefined mathematical operations.\n",
        "* **`is.na()`** is used to test objects if they are **NA**.\n",
        "* **`is.nan()`** is used to test for **NaN**.\n",
        "* **NA** values have a class also, so there are integer **NA**, character **NA**, etc.\n",
        "* A **NaN** value is also **NA** but the converse is not true\n"
      ],
      "metadata": {
        "id": "j4VZL4PWxikp"
      }
    },
    {
      "cell_type": "code",
      "source": [
        "x <- c(1, 2, NA, 10, 3)"
      ],
      "metadata": {
        "id": "TODZoP4fxgu0"
      },
      "execution_count": 134,
      "outputs": []
    },
    {
      "cell_type": "code",
      "source": [
        "is.na(x)"
      ],
      "metadata": {
        "colab": {
          "base_uri": "https://localhost:8080/",
          "height": 34
        },
        "id": "JEIcE0gp_aKa",
        "outputId": "3f15c9ef-eac9-48b7-bebb-556ff9022ef5"
      },
      "execution_count": 137,
      "outputs": [
        {
          "output_type": "display_data",
          "data": {
            "text/html": [
              "<style>\n",
              ".list-inline {list-style: none; margin:0; padding: 0}\n",
              ".list-inline>li {display: inline-block}\n",
              ".list-inline>li:not(:last-child)::after {content: \"\\00b7\"; padding: 0 .5ex}\n",
              "</style>\n",
              "<ol class=list-inline><li>FALSE</li><li>FALSE</li><li>TRUE</li><li>FALSE</li><li>FALSE</li></ol>\n"
            ],
            "text/markdown": "1. FALSE\n2. FALSE\n3. TRUE\n4. FALSE\n5. FALSE\n\n\n",
            "text/latex": "\\begin{enumerate*}\n\\item FALSE\n\\item FALSE\n\\item TRUE\n\\item FALSE\n\\item FALSE\n\\end{enumerate*}\n",
            "text/plain": [
              "[1] FALSE FALSE  TRUE FALSE FALSE"
            ]
          },
          "metadata": {}
        }
      ]
    },
    {
      "cell_type": "code",
      "source": [
        "is.nan(x)"
      ],
      "metadata": {
        "colab": {
          "base_uri": "https://localhost:8080/",
          "height": 34
        },
        "id": "PXlJ-h_D_b-O",
        "outputId": "8140202c-b0a3-48aa-e027-c1fc4c014f25"
      },
      "execution_count": 138,
      "outputs": [
        {
          "output_type": "display_data",
          "data": {
            "text/html": [
              "<style>\n",
              ".list-inline {list-style: none; margin:0; padding: 0}\n",
              ".list-inline>li {display: inline-block}\n",
              ".list-inline>li:not(:last-child)::after {content: \"\\00b7\"; padding: 0 .5ex}\n",
              "</style>\n",
              "<ol class=list-inline><li>FALSE</li><li>FALSE</li><li>FALSE</li><li>FALSE</li><li>FALSE</li></ol>\n"
            ],
            "text/markdown": "1. FALSE\n2. FALSE\n3. FALSE\n4. FALSE\n5. FALSE\n\n\n",
            "text/latex": "\\begin{enumerate*}\n\\item FALSE\n\\item FALSE\n\\item FALSE\n\\item FALSE\n\\item FALSE\n\\end{enumerate*}\n",
            "text/plain": [
              "[1] FALSE FALSE FALSE FALSE FALSE"
            ]
          },
          "metadata": {}
        }
      ]
    },
    {
      "cell_type": "code",
      "source": [
        "x <- c(1, 2, NaN, NA, 4)"
      ],
      "metadata": {
        "id": "_72MU0rv_mOu"
      },
      "execution_count": 139,
      "outputs": []
    },
    {
      "cell_type": "code",
      "source": [
        "is.na(x)"
      ],
      "metadata": {
        "colab": {
          "base_uri": "https://localhost:8080/",
          "height": 34
        },
        "id": "zLNlIJNn_pH1",
        "outputId": "397e988b-1b9c-4a7a-dda5-1296bf309311"
      },
      "execution_count": 140,
      "outputs": [
        {
          "output_type": "display_data",
          "data": {
            "text/html": [
              "<style>\n",
              ".list-inline {list-style: none; margin:0; padding: 0}\n",
              ".list-inline>li {display: inline-block}\n",
              ".list-inline>li:not(:last-child)::after {content: \"\\00b7\"; padding: 0 .5ex}\n",
              "</style>\n",
              "<ol class=list-inline><li>FALSE</li><li>FALSE</li><li>TRUE</li><li>TRUE</li><li>FALSE</li></ol>\n"
            ],
            "text/markdown": "1. FALSE\n2. FALSE\n3. TRUE\n4. TRUE\n5. FALSE\n\n\n",
            "text/latex": "\\begin{enumerate*}\n\\item FALSE\n\\item FALSE\n\\item TRUE\n\\item TRUE\n\\item FALSE\n\\end{enumerate*}\n",
            "text/plain": [
              "[1] FALSE FALSE  TRUE  TRUE FALSE"
            ]
          },
          "metadata": {}
        }
      ]
    },
    {
      "cell_type": "code",
      "source": [
        "is.nan(x)"
      ],
      "metadata": {
        "colab": {
          "base_uri": "https://localhost:8080/",
          "height": 34
        },
        "id": "A6MTRbgB_tW6",
        "outputId": "23ffb716-3d0a-453d-cae5-7e530cade6e2"
      },
      "execution_count": 141,
      "outputs": [
        {
          "output_type": "display_data",
          "data": {
            "text/html": [
              "<style>\n",
              ".list-inline {list-style: none; margin:0; padding: 0}\n",
              ".list-inline>li {display: inline-block}\n",
              ".list-inline>li:not(:last-child)::after {content: \"\\00b7\"; padding: 0 .5ex}\n",
              "</style>\n",
              "<ol class=list-inline><li>FALSE</li><li>FALSE</li><li>TRUE</li><li>FALSE</li><li>FALSE</li></ol>\n"
            ],
            "text/markdown": "1. FALSE\n2. FALSE\n3. TRUE\n4. FALSE\n5. FALSE\n\n\n",
            "text/latex": "\\begin{enumerate*}\n\\item FALSE\n\\item FALSE\n\\item TRUE\n\\item FALSE\n\\item FALSE\n\\end{enumerate*}\n",
            "text/plain": [
              "[1] FALSE FALSE  TRUE FALSE FALSE"
            ]
          },
          "metadata": {}
        }
      ]
    },
    {
      "cell_type": "code",
      "source": [],
      "metadata": {
        "id": "BMp07pTV_vJm"
      },
      "execution_count": null,
      "outputs": []
    }
  ]
}