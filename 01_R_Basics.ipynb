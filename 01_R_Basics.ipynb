{
  "nbformat": 4,
  "nbformat_minor": 0,
  "metadata": {
    "colab": {
      "provenance": [],
      "collapsed_sections": [],
      "authorship_tag": "ABX9TyOyhfNgCdCjHjZNnCZ2gXMf",
      "include_colab_link": true
    },
    "kernelspec": {
      "name": "ir",
      "display_name": "R"
    },
    "language_info": {
      "name": "R"
    }
  },
  "cells": [
    {
      "cell_type": "markdown",
      "metadata": {
        "id": "view-in-github",
        "colab_type": "text"
      },
      "source": [
        "<a href=\"https://colab.research.google.com/github/naskn02/R-Language/blob/main/01_R_Basics.ipynb\" target=\"_parent\"><img src=\"https://colab.research.google.com/assets/colab-badge.svg\" alt=\"Open In Colab\"/></a>"
      ]
    },
    {
      "cell_type": "markdown",
      "source": [
        "# **Working with R**"
      ],
      "metadata": {
        "id": "PkRiDYj2_Rha"
      }
    },
    {
      "cell_type": "markdown",
      "source": [
        "## **First Command**"
      ],
      "metadata": {
        "id": "2bJOhSCy_da1"
      }
    },
    {
      "cell_type": "code",
      "execution_count": null,
      "metadata": {
        "colab": {
          "base_uri": "https://localhost:8080/",
          "height": 1000
        },
        "id": "IAc9zLxe-LQu",
        "outputId": "a4e5c690-3df6-4730-85ac-ec3839476657"
      },
      "outputs": [
        {
          "output_type": "display_data",
          "data": {
            "text/html": [
              "<table class=\"dataframe\">\n",
              "<caption>A data.frame: 32 × 11</caption>\n",
              "<thead>\n",
              "\t<tr><th></th><th scope=col>mpg</th><th scope=col>cyl</th><th scope=col>disp</th><th scope=col>hp</th><th scope=col>drat</th><th scope=col>wt</th><th scope=col>qsec</th><th scope=col>vs</th><th scope=col>am</th><th scope=col>gear</th><th scope=col>carb</th></tr>\n",
              "\t<tr><th></th><th scope=col>&lt;dbl&gt;</th><th scope=col>&lt;dbl&gt;</th><th scope=col>&lt;dbl&gt;</th><th scope=col>&lt;dbl&gt;</th><th scope=col>&lt;dbl&gt;</th><th scope=col>&lt;dbl&gt;</th><th scope=col>&lt;dbl&gt;</th><th scope=col>&lt;dbl&gt;</th><th scope=col>&lt;dbl&gt;</th><th scope=col>&lt;dbl&gt;</th><th scope=col>&lt;dbl&gt;</th></tr>\n",
              "</thead>\n",
              "<tbody>\n",
              "\t<tr><th scope=row>Mazda RX4</th><td>21.0</td><td>6</td><td>160.0</td><td>110</td><td>3.90</td><td>2.620</td><td>16.46</td><td>0</td><td>1</td><td>4</td><td>4</td></tr>\n",
              "\t<tr><th scope=row>Mazda RX4 Wag</th><td>21.0</td><td>6</td><td>160.0</td><td>110</td><td>3.90</td><td>2.875</td><td>17.02</td><td>0</td><td>1</td><td>4</td><td>4</td></tr>\n",
              "\t<tr><th scope=row>Datsun 710</th><td>22.8</td><td>4</td><td>108.0</td><td> 93</td><td>3.85</td><td>2.320</td><td>18.61</td><td>1</td><td>1</td><td>4</td><td>1</td></tr>\n",
              "\t<tr><th scope=row>Hornet 4 Drive</th><td>21.4</td><td>6</td><td>258.0</td><td>110</td><td>3.08</td><td>3.215</td><td>19.44</td><td>1</td><td>0</td><td>3</td><td>1</td></tr>\n",
              "\t<tr><th scope=row>Hornet Sportabout</th><td>18.7</td><td>8</td><td>360.0</td><td>175</td><td>3.15</td><td>3.440</td><td>17.02</td><td>0</td><td>0</td><td>3</td><td>2</td></tr>\n",
              "\t<tr><th scope=row>Valiant</th><td>18.1</td><td>6</td><td>225.0</td><td>105</td><td>2.76</td><td>3.460</td><td>20.22</td><td>1</td><td>0</td><td>3</td><td>1</td></tr>\n",
              "\t<tr><th scope=row>Duster 360</th><td>14.3</td><td>8</td><td>360.0</td><td>245</td><td>3.21</td><td>3.570</td><td>15.84</td><td>0</td><td>0</td><td>3</td><td>4</td></tr>\n",
              "\t<tr><th scope=row>Merc 240D</th><td>24.4</td><td>4</td><td>146.7</td><td> 62</td><td>3.69</td><td>3.190</td><td>20.00</td><td>1</td><td>0</td><td>4</td><td>2</td></tr>\n",
              "\t<tr><th scope=row>Merc 230</th><td>22.8</td><td>4</td><td>140.8</td><td> 95</td><td>3.92</td><td>3.150</td><td>22.90</td><td>1</td><td>0</td><td>4</td><td>2</td></tr>\n",
              "\t<tr><th scope=row>Merc 280</th><td>19.2</td><td>6</td><td>167.6</td><td>123</td><td>3.92</td><td>3.440</td><td>18.30</td><td>1</td><td>0</td><td>4</td><td>4</td></tr>\n",
              "\t<tr><th scope=row>Merc 280C</th><td>17.8</td><td>6</td><td>167.6</td><td>123</td><td>3.92</td><td>3.440</td><td>18.90</td><td>1</td><td>0</td><td>4</td><td>4</td></tr>\n",
              "\t<tr><th scope=row>Merc 450SE</th><td>16.4</td><td>8</td><td>275.8</td><td>180</td><td>3.07</td><td>4.070</td><td>17.40</td><td>0</td><td>0</td><td>3</td><td>3</td></tr>\n",
              "\t<tr><th scope=row>Merc 450SL</th><td>17.3</td><td>8</td><td>275.8</td><td>180</td><td>3.07</td><td>3.730</td><td>17.60</td><td>0</td><td>0</td><td>3</td><td>3</td></tr>\n",
              "\t<tr><th scope=row>Merc 450SLC</th><td>15.2</td><td>8</td><td>275.8</td><td>180</td><td>3.07</td><td>3.780</td><td>18.00</td><td>0</td><td>0</td><td>3</td><td>3</td></tr>\n",
              "\t<tr><th scope=row>Cadillac Fleetwood</th><td>10.4</td><td>8</td><td>472.0</td><td>205</td><td>2.93</td><td>5.250</td><td>17.98</td><td>0</td><td>0</td><td>3</td><td>4</td></tr>\n",
              "\t<tr><th scope=row>Lincoln Continental</th><td>10.4</td><td>8</td><td>460.0</td><td>215</td><td>3.00</td><td>5.424</td><td>17.82</td><td>0</td><td>0</td><td>3</td><td>4</td></tr>\n",
              "\t<tr><th scope=row>Chrysler Imperial</th><td>14.7</td><td>8</td><td>440.0</td><td>230</td><td>3.23</td><td>5.345</td><td>17.42</td><td>0</td><td>0</td><td>3</td><td>4</td></tr>\n",
              "\t<tr><th scope=row>Fiat 128</th><td>32.4</td><td>4</td><td> 78.7</td><td> 66</td><td>4.08</td><td>2.200</td><td>19.47</td><td>1</td><td>1</td><td>4</td><td>1</td></tr>\n",
              "\t<tr><th scope=row>Honda Civic</th><td>30.4</td><td>4</td><td> 75.7</td><td> 52</td><td>4.93</td><td>1.615</td><td>18.52</td><td>1</td><td>1</td><td>4</td><td>2</td></tr>\n",
              "\t<tr><th scope=row>Toyota Corolla</th><td>33.9</td><td>4</td><td> 71.1</td><td> 65</td><td>4.22</td><td>1.835</td><td>19.90</td><td>1</td><td>1</td><td>4</td><td>1</td></tr>\n",
              "\t<tr><th scope=row>Toyota Corona</th><td>21.5</td><td>4</td><td>120.1</td><td> 97</td><td>3.70</td><td>2.465</td><td>20.01</td><td>1</td><td>0</td><td>3</td><td>1</td></tr>\n",
              "\t<tr><th scope=row>Dodge Challenger</th><td>15.5</td><td>8</td><td>318.0</td><td>150</td><td>2.76</td><td>3.520</td><td>16.87</td><td>0</td><td>0</td><td>3</td><td>2</td></tr>\n",
              "\t<tr><th scope=row>AMC Javelin</th><td>15.2</td><td>8</td><td>304.0</td><td>150</td><td>3.15</td><td>3.435</td><td>17.30</td><td>0</td><td>0</td><td>3</td><td>2</td></tr>\n",
              "\t<tr><th scope=row>Camaro Z28</th><td>13.3</td><td>8</td><td>350.0</td><td>245</td><td>3.73</td><td>3.840</td><td>15.41</td><td>0</td><td>0</td><td>3</td><td>4</td></tr>\n",
              "\t<tr><th scope=row>Pontiac Firebird</th><td>19.2</td><td>8</td><td>400.0</td><td>175</td><td>3.08</td><td>3.845</td><td>17.05</td><td>0</td><td>0</td><td>3</td><td>2</td></tr>\n",
              "\t<tr><th scope=row>Fiat X1-9</th><td>27.3</td><td>4</td><td> 79.0</td><td> 66</td><td>4.08</td><td>1.935</td><td>18.90</td><td>1</td><td>1</td><td>4</td><td>1</td></tr>\n",
              "\t<tr><th scope=row>Porsche 914-2</th><td>26.0</td><td>4</td><td>120.3</td><td> 91</td><td>4.43</td><td>2.140</td><td>16.70</td><td>0</td><td>1</td><td>5</td><td>2</td></tr>\n",
              "\t<tr><th scope=row>Lotus Europa</th><td>30.4</td><td>4</td><td> 95.1</td><td>113</td><td>3.77</td><td>1.513</td><td>16.90</td><td>1</td><td>1</td><td>5</td><td>2</td></tr>\n",
              "\t<tr><th scope=row>Ford Pantera L</th><td>15.8</td><td>8</td><td>351.0</td><td>264</td><td>4.22</td><td>3.170</td><td>14.50</td><td>0</td><td>1</td><td>5</td><td>4</td></tr>\n",
              "\t<tr><th scope=row>Ferrari Dino</th><td>19.7</td><td>6</td><td>145.0</td><td>175</td><td>3.62</td><td>2.770</td><td>15.50</td><td>0</td><td>1</td><td>5</td><td>6</td></tr>\n",
              "\t<tr><th scope=row>Maserati Bora</th><td>15.0</td><td>8</td><td>301.0</td><td>335</td><td>3.54</td><td>3.570</td><td>14.60</td><td>0</td><td>1</td><td>5</td><td>8</td></tr>\n",
              "\t<tr><th scope=row>Volvo 142E</th><td>21.4</td><td>4</td><td>121.0</td><td>109</td><td>4.11</td><td>2.780</td><td>18.60</td><td>1</td><td>1</td><td>4</td><td>2</td></tr>\n",
              "</tbody>\n",
              "</table>\n"
            ],
            "text/markdown": "\nA data.frame: 32 × 11\n\n| <!--/--> | mpg &lt;dbl&gt; | cyl &lt;dbl&gt; | disp &lt;dbl&gt; | hp &lt;dbl&gt; | drat &lt;dbl&gt; | wt &lt;dbl&gt; | qsec &lt;dbl&gt; | vs &lt;dbl&gt; | am &lt;dbl&gt; | gear &lt;dbl&gt; | carb &lt;dbl&gt; |\n|---|---|---|---|---|---|---|---|---|---|---|---|\n| Mazda RX4 | 21.0 | 6 | 160.0 | 110 | 3.90 | 2.620 | 16.46 | 0 | 1 | 4 | 4 |\n| Mazda RX4 Wag | 21.0 | 6 | 160.0 | 110 | 3.90 | 2.875 | 17.02 | 0 | 1 | 4 | 4 |\n| Datsun 710 | 22.8 | 4 | 108.0 |  93 | 3.85 | 2.320 | 18.61 | 1 | 1 | 4 | 1 |\n| Hornet 4 Drive | 21.4 | 6 | 258.0 | 110 | 3.08 | 3.215 | 19.44 | 1 | 0 | 3 | 1 |\n| Hornet Sportabout | 18.7 | 8 | 360.0 | 175 | 3.15 | 3.440 | 17.02 | 0 | 0 | 3 | 2 |\n| Valiant | 18.1 | 6 | 225.0 | 105 | 2.76 | 3.460 | 20.22 | 1 | 0 | 3 | 1 |\n| Duster 360 | 14.3 | 8 | 360.0 | 245 | 3.21 | 3.570 | 15.84 | 0 | 0 | 3 | 4 |\n| Merc 240D | 24.4 | 4 | 146.7 |  62 | 3.69 | 3.190 | 20.00 | 1 | 0 | 4 | 2 |\n| Merc 230 | 22.8 | 4 | 140.8 |  95 | 3.92 | 3.150 | 22.90 | 1 | 0 | 4 | 2 |\n| Merc 280 | 19.2 | 6 | 167.6 | 123 | 3.92 | 3.440 | 18.30 | 1 | 0 | 4 | 4 |\n| Merc 280C | 17.8 | 6 | 167.6 | 123 | 3.92 | 3.440 | 18.90 | 1 | 0 | 4 | 4 |\n| Merc 450SE | 16.4 | 8 | 275.8 | 180 | 3.07 | 4.070 | 17.40 | 0 | 0 | 3 | 3 |\n| Merc 450SL | 17.3 | 8 | 275.8 | 180 | 3.07 | 3.730 | 17.60 | 0 | 0 | 3 | 3 |\n| Merc 450SLC | 15.2 | 8 | 275.8 | 180 | 3.07 | 3.780 | 18.00 | 0 | 0 | 3 | 3 |\n| Cadillac Fleetwood | 10.4 | 8 | 472.0 | 205 | 2.93 | 5.250 | 17.98 | 0 | 0 | 3 | 4 |\n| Lincoln Continental | 10.4 | 8 | 460.0 | 215 | 3.00 | 5.424 | 17.82 | 0 | 0 | 3 | 4 |\n| Chrysler Imperial | 14.7 | 8 | 440.0 | 230 | 3.23 | 5.345 | 17.42 | 0 | 0 | 3 | 4 |\n| Fiat 128 | 32.4 | 4 |  78.7 |  66 | 4.08 | 2.200 | 19.47 | 1 | 1 | 4 | 1 |\n| Honda Civic | 30.4 | 4 |  75.7 |  52 | 4.93 | 1.615 | 18.52 | 1 | 1 | 4 | 2 |\n| Toyota Corolla | 33.9 | 4 |  71.1 |  65 | 4.22 | 1.835 | 19.90 | 1 | 1 | 4 | 1 |\n| Toyota Corona | 21.5 | 4 | 120.1 |  97 | 3.70 | 2.465 | 20.01 | 1 | 0 | 3 | 1 |\n| Dodge Challenger | 15.5 | 8 | 318.0 | 150 | 2.76 | 3.520 | 16.87 | 0 | 0 | 3 | 2 |\n| AMC Javelin | 15.2 | 8 | 304.0 | 150 | 3.15 | 3.435 | 17.30 | 0 | 0 | 3 | 2 |\n| Camaro Z28 | 13.3 | 8 | 350.0 | 245 | 3.73 | 3.840 | 15.41 | 0 | 0 | 3 | 4 |\n| Pontiac Firebird | 19.2 | 8 | 400.0 | 175 | 3.08 | 3.845 | 17.05 | 0 | 0 | 3 | 2 |\n| Fiat X1-9 | 27.3 | 4 |  79.0 |  66 | 4.08 | 1.935 | 18.90 | 1 | 1 | 4 | 1 |\n| Porsche 914-2 | 26.0 | 4 | 120.3 |  91 | 4.43 | 2.140 | 16.70 | 0 | 1 | 5 | 2 |\n| Lotus Europa | 30.4 | 4 |  95.1 | 113 | 3.77 | 1.513 | 16.90 | 1 | 1 | 5 | 2 |\n| Ford Pantera L | 15.8 | 8 | 351.0 | 264 | 4.22 | 3.170 | 14.50 | 0 | 1 | 5 | 4 |\n| Ferrari Dino | 19.7 | 6 | 145.0 | 175 | 3.62 | 2.770 | 15.50 | 0 | 1 | 5 | 6 |\n| Maserati Bora | 15.0 | 8 | 301.0 | 335 | 3.54 | 3.570 | 14.60 | 0 | 1 | 5 | 8 |\n| Volvo 142E | 21.4 | 4 | 121.0 | 109 | 4.11 | 2.780 | 18.60 | 1 | 1 | 4 | 2 |\n\n",
            "text/latex": "A data.frame: 32 × 11\n\\begin{tabular}{r|lllllllllll}\n  & mpg & cyl & disp & hp & drat & wt & qsec & vs & am & gear & carb\\\\\n  & <dbl> & <dbl> & <dbl> & <dbl> & <dbl> & <dbl> & <dbl> & <dbl> & <dbl> & <dbl> & <dbl>\\\\\n\\hline\n\tMazda RX4 & 21.0 & 6 & 160.0 & 110 & 3.90 & 2.620 & 16.46 & 0 & 1 & 4 & 4\\\\\n\tMazda RX4 Wag & 21.0 & 6 & 160.0 & 110 & 3.90 & 2.875 & 17.02 & 0 & 1 & 4 & 4\\\\\n\tDatsun 710 & 22.8 & 4 & 108.0 &  93 & 3.85 & 2.320 & 18.61 & 1 & 1 & 4 & 1\\\\\n\tHornet 4 Drive & 21.4 & 6 & 258.0 & 110 & 3.08 & 3.215 & 19.44 & 1 & 0 & 3 & 1\\\\\n\tHornet Sportabout & 18.7 & 8 & 360.0 & 175 & 3.15 & 3.440 & 17.02 & 0 & 0 & 3 & 2\\\\\n\tValiant & 18.1 & 6 & 225.0 & 105 & 2.76 & 3.460 & 20.22 & 1 & 0 & 3 & 1\\\\\n\tDuster 360 & 14.3 & 8 & 360.0 & 245 & 3.21 & 3.570 & 15.84 & 0 & 0 & 3 & 4\\\\\n\tMerc 240D & 24.4 & 4 & 146.7 &  62 & 3.69 & 3.190 & 20.00 & 1 & 0 & 4 & 2\\\\\n\tMerc 230 & 22.8 & 4 & 140.8 &  95 & 3.92 & 3.150 & 22.90 & 1 & 0 & 4 & 2\\\\\n\tMerc 280 & 19.2 & 6 & 167.6 & 123 & 3.92 & 3.440 & 18.30 & 1 & 0 & 4 & 4\\\\\n\tMerc 280C & 17.8 & 6 & 167.6 & 123 & 3.92 & 3.440 & 18.90 & 1 & 0 & 4 & 4\\\\\n\tMerc 450SE & 16.4 & 8 & 275.8 & 180 & 3.07 & 4.070 & 17.40 & 0 & 0 & 3 & 3\\\\\n\tMerc 450SL & 17.3 & 8 & 275.8 & 180 & 3.07 & 3.730 & 17.60 & 0 & 0 & 3 & 3\\\\\n\tMerc 450SLC & 15.2 & 8 & 275.8 & 180 & 3.07 & 3.780 & 18.00 & 0 & 0 & 3 & 3\\\\\n\tCadillac Fleetwood & 10.4 & 8 & 472.0 & 205 & 2.93 & 5.250 & 17.98 & 0 & 0 & 3 & 4\\\\\n\tLincoln Continental & 10.4 & 8 & 460.0 & 215 & 3.00 & 5.424 & 17.82 & 0 & 0 & 3 & 4\\\\\n\tChrysler Imperial & 14.7 & 8 & 440.0 & 230 & 3.23 & 5.345 & 17.42 & 0 & 0 & 3 & 4\\\\\n\tFiat 128 & 32.4 & 4 &  78.7 &  66 & 4.08 & 2.200 & 19.47 & 1 & 1 & 4 & 1\\\\\n\tHonda Civic & 30.4 & 4 &  75.7 &  52 & 4.93 & 1.615 & 18.52 & 1 & 1 & 4 & 2\\\\\n\tToyota Corolla & 33.9 & 4 &  71.1 &  65 & 4.22 & 1.835 & 19.90 & 1 & 1 & 4 & 1\\\\\n\tToyota Corona & 21.5 & 4 & 120.1 &  97 & 3.70 & 2.465 & 20.01 & 1 & 0 & 3 & 1\\\\\n\tDodge Challenger & 15.5 & 8 & 318.0 & 150 & 2.76 & 3.520 & 16.87 & 0 & 0 & 3 & 2\\\\\n\tAMC Javelin & 15.2 & 8 & 304.0 & 150 & 3.15 & 3.435 & 17.30 & 0 & 0 & 3 & 2\\\\\n\tCamaro Z28 & 13.3 & 8 & 350.0 & 245 & 3.73 & 3.840 & 15.41 & 0 & 0 & 3 & 4\\\\\n\tPontiac Firebird & 19.2 & 8 & 400.0 & 175 & 3.08 & 3.845 & 17.05 & 0 & 0 & 3 & 2\\\\\n\tFiat X1-9 & 27.3 & 4 &  79.0 &  66 & 4.08 & 1.935 & 18.90 & 1 & 1 & 4 & 1\\\\\n\tPorsche 914-2 & 26.0 & 4 & 120.3 &  91 & 4.43 & 2.140 & 16.70 & 0 & 1 & 5 & 2\\\\\n\tLotus Europa & 30.4 & 4 &  95.1 & 113 & 3.77 & 1.513 & 16.90 & 1 & 1 & 5 & 2\\\\\n\tFord Pantera L & 15.8 & 8 & 351.0 & 264 & 4.22 & 3.170 & 14.50 & 0 & 1 & 5 & 4\\\\\n\tFerrari Dino & 19.7 & 6 & 145.0 & 175 & 3.62 & 2.770 & 15.50 & 0 & 1 & 5 & 6\\\\\n\tMaserati Bora & 15.0 & 8 & 301.0 & 335 & 3.54 & 3.570 & 14.60 & 0 & 1 & 5 & 8\\\\\n\tVolvo 142E & 21.4 & 4 & 121.0 & 109 & 4.11 & 2.780 & 18.60 & 1 & 1 & 4 & 2\\\\\n\\end{tabular}\n",
            "text/plain": [
              "                    mpg  cyl disp  hp  drat wt    qsec  vs am gear carb\n",
              "Mazda RX4           21.0 6   160.0 110 3.90 2.620 16.46 0  1  4    4   \n",
              "Mazda RX4 Wag       21.0 6   160.0 110 3.90 2.875 17.02 0  1  4    4   \n",
              "Datsun 710          22.8 4   108.0  93 3.85 2.320 18.61 1  1  4    1   \n",
              "Hornet 4 Drive      21.4 6   258.0 110 3.08 3.215 19.44 1  0  3    1   \n",
              "Hornet Sportabout   18.7 8   360.0 175 3.15 3.440 17.02 0  0  3    2   \n",
              "Valiant             18.1 6   225.0 105 2.76 3.460 20.22 1  0  3    1   \n",
              "Duster 360          14.3 8   360.0 245 3.21 3.570 15.84 0  0  3    4   \n",
              "Merc 240D           24.4 4   146.7  62 3.69 3.190 20.00 1  0  4    2   \n",
              "Merc 230            22.8 4   140.8  95 3.92 3.150 22.90 1  0  4    2   \n",
              "Merc 280            19.2 6   167.6 123 3.92 3.440 18.30 1  0  4    4   \n",
              "Merc 280C           17.8 6   167.6 123 3.92 3.440 18.90 1  0  4    4   \n",
              "Merc 450SE          16.4 8   275.8 180 3.07 4.070 17.40 0  0  3    3   \n",
              "Merc 450SL          17.3 8   275.8 180 3.07 3.730 17.60 0  0  3    3   \n",
              "Merc 450SLC         15.2 8   275.8 180 3.07 3.780 18.00 0  0  3    3   \n",
              "Cadillac Fleetwood  10.4 8   472.0 205 2.93 5.250 17.98 0  0  3    4   \n",
              "Lincoln Continental 10.4 8   460.0 215 3.00 5.424 17.82 0  0  3    4   \n",
              "Chrysler Imperial   14.7 8   440.0 230 3.23 5.345 17.42 0  0  3    4   \n",
              "Fiat 128            32.4 4    78.7  66 4.08 2.200 19.47 1  1  4    1   \n",
              "Honda Civic         30.4 4    75.7  52 4.93 1.615 18.52 1  1  4    2   \n",
              "Toyota Corolla      33.9 4    71.1  65 4.22 1.835 19.90 1  1  4    1   \n",
              "Toyota Corona       21.5 4   120.1  97 3.70 2.465 20.01 1  0  3    1   \n",
              "Dodge Challenger    15.5 8   318.0 150 2.76 3.520 16.87 0  0  3    2   \n",
              "AMC Javelin         15.2 8   304.0 150 3.15 3.435 17.30 0  0  3    2   \n",
              "Camaro Z28          13.3 8   350.0 245 3.73 3.840 15.41 0  0  3    4   \n",
              "Pontiac Firebird    19.2 8   400.0 175 3.08 3.845 17.05 0  0  3    2   \n",
              "Fiat X1-9           27.3 4    79.0  66 4.08 1.935 18.90 1  1  4    1   \n",
              "Porsche 914-2       26.0 4   120.3  91 4.43 2.140 16.70 0  1  5    2   \n",
              "Lotus Europa        30.4 4    95.1 113 3.77 1.513 16.90 1  1  5    2   \n",
              "Ford Pantera L      15.8 8   351.0 264 4.22 3.170 14.50 0  1  5    4   \n",
              "Ferrari Dino        19.7 6   145.0 175 3.62 2.770 15.50 0  1  5    6   \n",
              "Maserati Bora       15.0 8   301.0 335 3.54 3.570 14.60 0  1  5    8   \n",
              "Volvo 142E          21.4 4   121.0 109 4.11 2.780 18.60 1  1  4    2   "
            ]
          },
          "metadata": {}
        }
      ],
      "source": [
        "mtcars"
      ]
    },
    {
      "cell_type": "markdown",
      "source": [
        "### Summarize data --> Similar to Pandas's df.describe()"
      ],
      "metadata": {
        "id": "DOKBYEFp_1oB"
      }
    },
    {
      "cell_type": "code",
      "source": [
        "summary(mtcars)"
      ],
      "metadata": {
        "colab": {
          "base_uri": "https://localhost:8080/",
          "height": 381
        },
        "id": "R0gFrFK8_zNH",
        "outputId": "0e821a4d-6265-4aa3-98e3-6c00806300ae"
      },
      "execution_count": null,
      "outputs": [
        {
          "output_type": "display_data",
          "data": {
            "text/plain": [
              "      mpg             cyl             disp             hp       \n",
              " Min.   :10.40   Min.   :4.000   Min.   : 71.1   Min.   : 52.0  \n",
              " 1st Qu.:15.43   1st Qu.:4.000   1st Qu.:120.8   1st Qu.: 96.5  \n",
              " Median :19.20   Median :6.000   Median :196.3   Median :123.0  \n",
              " Mean   :20.09   Mean   :6.188   Mean   :230.7   Mean   :146.7  \n",
              " 3rd Qu.:22.80   3rd Qu.:8.000   3rd Qu.:326.0   3rd Qu.:180.0  \n",
              " Max.   :33.90   Max.   :8.000   Max.   :472.0   Max.   :335.0  \n",
              "      drat             wt             qsec             vs        \n",
              " Min.   :2.760   Min.   :1.513   Min.   :14.50   Min.   :0.0000  \n",
              " 1st Qu.:3.080   1st Qu.:2.581   1st Qu.:16.89   1st Qu.:0.0000  \n",
              " Median :3.695   Median :3.325   Median :17.71   Median :0.0000  \n",
              " Mean   :3.597   Mean   :3.217   Mean   :17.85   Mean   :0.4375  \n",
              " 3rd Qu.:3.920   3rd Qu.:3.610   3rd Qu.:18.90   3rd Qu.:1.0000  \n",
              " Max.   :4.930   Max.   :5.424   Max.   :22.90   Max.   :1.0000  \n",
              "       am              gear            carb      \n",
              " Min.   :0.0000   Min.   :3.000   Min.   :1.000  \n",
              " 1st Qu.:0.0000   1st Qu.:3.000   1st Qu.:2.000  \n",
              " Median :0.0000   Median :4.000   Median :2.000  \n",
              " Mean   :0.4062   Mean   :3.688   Mean   :2.812  \n",
              " 3rd Qu.:1.0000   3rd Qu.:4.000   3rd Qu.:4.000  \n",
              " Max.   :1.0000   Max.   :5.000   Max.   :8.000  "
            ]
          },
          "metadata": {}
        }
      ]
    },
    {
      "cell_type": "markdown",
      "source": [
        "### View Top 5 rows with head() --> Similar to df.head()\n",
        " "
      ],
      "metadata": {
        "id": "cjvRbAuoALQc"
      }
    },
    {
      "cell_type": "code",
      "source": [
        "head(mtcars)"
      ],
      "metadata": {
        "colab": {
          "base_uri": "https://localhost:8080/",
          "height": 286
        },
        "id": "c9tC_AJXAY3s",
        "outputId": "867146b5-7c9e-4fdf-e87c-99ab310d26f6"
      },
      "execution_count": null,
      "outputs": [
        {
          "output_type": "display_data",
          "data": {
            "text/html": [
              "<table class=\"dataframe\">\n",
              "<caption>A data.frame: 6 × 11</caption>\n",
              "<thead>\n",
              "\t<tr><th></th><th scope=col>mpg</th><th scope=col>cyl</th><th scope=col>disp</th><th scope=col>hp</th><th scope=col>drat</th><th scope=col>wt</th><th scope=col>qsec</th><th scope=col>vs</th><th scope=col>am</th><th scope=col>gear</th><th scope=col>carb</th></tr>\n",
              "\t<tr><th></th><th scope=col>&lt;dbl&gt;</th><th scope=col>&lt;dbl&gt;</th><th scope=col>&lt;dbl&gt;</th><th scope=col>&lt;dbl&gt;</th><th scope=col>&lt;dbl&gt;</th><th scope=col>&lt;dbl&gt;</th><th scope=col>&lt;dbl&gt;</th><th scope=col>&lt;dbl&gt;</th><th scope=col>&lt;dbl&gt;</th><th scope=col>&lt;dbl&gt;</th><th scope=col>&lt;dbl&gt;</th></tr>\n",
              "</thead>\n",
              "<tbody>\n",
              "\t<tr><th scope=row>Mazda RX4</th><td>21.0</td><td>6</td><td>160</td><td>110</td><td>3.90</td><td>2.620</td><td>16.46</td><td>0</td><td>1</td><td>4</td><td>4</td></tr>\n",
              "\t<tr><th scope=row>Mazda RX4 Wag</th><td>21.0</td><td>6</td><td>160</td><td>110</td><td>3.90</td><td>2.875</td><td>17.02</td><td>0</td><td>1</td><td>4</td><td>4</td></tr>\n",
              "\t<tr><th scope=row>Datsun 710</th><td>22.8</td><td>4</td><td>108</td><td> 93</td><td>3.85</td><td>2.320</td><td>18.61</td><td>1</td><td>1</td><td>4</td><td>1</td></tr>\n",
              "\t<tr><th scope=row>Hornet 4 Drive</th><td>21.4</td><td>6</td><td>258</td><td>110</td><td>3.08</td><td>3.215</td><td>19.44</td><td>1</td><td>0</td><td>3</td><td>1</td></tr>\n",
              "\t<tr><th scope=row>Hornet Sportabout</th><td>18.7</td><td>8</td><td>360</td><td>175</td><td>3.15</td><td>3.440</td><td>17.02</td><td>0</td><td>0</td><td>3</td><td>2</td></tr>\n",
              "\t<tr><th scope=row>Valiant</th><td>18.1</td><td>6</td><td>225</td><td>105</td><td>2.76</td><td>3.460</td><td>20.22</td><td>1</td><td>0</td><td>3</td><td>1</td></tr>\n",
              "</tbody>\n",
              "</table>\n"
            ],
            "text/markdown": "\nA data.frame: 6 × 11\n\n| <!--/--> | mpg &lt;dbl&gt; | cyl &lt;dbl&gt; | disp &lt;dbl&gt; | hp &lt;dbl&gt; | drat &lt;dbl&gt; | wt &lt;dbl&gt; | qsec &lt;dbl&gt; | vs &lt;dbl&gt; | am &lt;dbl&gt; | gear &lt;dbl&gt; | carb &lt;dbl&gt; |\n|---|---|---|---|---|---|---|---|---|---|---|---|\n| Mazda RX4 | 21.0 | 6 | 160 | 110 | 3.90 | 2.620 | 16.46 | 0 | 1 | 4 | 4 |\n| Mazda RX4 Wag | 21.0 | 6 | 160 | 110 | 3.90 | 2.875 | 17.02 | 0 | 1 | 4 | 4 |\n| Datsun 710 | 22.8 | 4 | 108 |  93 | 3.85 | 2.320 | 18.61 | 1 | 1 | 4 | 1 |\n| Hornet 4 Drive | 21.4 | 6 | 258 | 110 | 3.08 | 3.215 | 19.44 | 1 | 0 | 3 | 1 |\n| Hornet Sportabout | 18.7 | 8 | 360 | 175 | 3.15 | 3.440 | 17.02 | 0 | 0 | 3 | 2 |\n| Valiant | 18.1 | 6 | 225 | 105 | 2.76 | 3.460 | 20.22 | 1 | 0 | 3 | 1 |\n\n",
            "text/latex": "A data.frame: 6 × 11\n\\begin{tabular}{r|lllllllllll}\n  & mpg & cyl & disp & hp & drat & wt & qsec & vs & am & gear & carb\\\\\n  & <dbl> & <dbl> & <dbl> & <dbl> & <dbl> & <dbl> & <dbl> & <dbl> & <dbl> & <dbl> & <dbl>\\\\\n\\hline\n\tMazda RX4 & 21.0 & 6 & 160 & 110 & 3.90 & 2.620 & 16.46 & 0 & 1 & 4 & 4\\\\\n\tMazda RX4 Wag & 21.0 & 6 & 160 & 110 & 3.90 & 2.875 & 17.02 & 0 & 1 & 4 & 4\\\\\n\tDatsun 710 & 22.8 & 4 & 108 &  93 & 3.85 & 2.320 & 18.61 & 1 & 1 & 4 & 1\\\\\n\tHornet 4 Drive & 21.4 & 6 & 258 & 110 & 3.08 & 3.215 & 19.44 & 1 & 0 & 3 & 1\\\\\n\tHornet Sportabout & 18.7 & 8 & 360 & 175 & 3.15 & 3.440 & 17.02 & 0 & 0 & 3 & 2\\\\\n\tValiant & 18.1 & 6 & 225 & 105 & 2.76 & 3.460 & 20.22 & 1 & 0 & 3 & 1\\\\\n\\end{tabular}\n",
            "text/plain": [
              "                  mpg  cyl disp hp  drat wt    qsec  vs am gear carb\n",
              "Mazda RX4         21.0 6   160  110 3.90 2.620 16.46 0  1  4    4   \n",
              "Mazda RX4 Wag     21.0 6   160  110 3.90 2.875 17.02 0  1  4    4   \n",
              "Datsun 710        22.8 4   108   93 3.85 2.320 18.61 1  1  4    1   \n",
              "Hornet 4 Drive    21.4 6   258  110 3.08 3.215 19.44 1  0  3    1   \n",
              "Hornet Sportabout 18.7 8   360  175 3.15 3.440 17.02 0  0  3    2   \n",
              "Valiant           18.1 6   225  105 2.76 3.460 20.22 1  0  3    1   "
            ]
          },
          "metadata": {}
        }
      ]
    },
    {
      "cell_type": "markdown",
      "source": [
        "## **Naming Things**"
      ],
      "metadata": {
        "id": "Cak4wQFSAsxS"
      }
    },
    {
      "cell_type": "markdown",
      "source": [
        "### Assignment Operator\n",
        "To assign labels we use the <- symbol"
      ],
      "metadata": {
        "id": "0YSa0i5PA9aT"
      }
    },
    {
      "cell_type": "code",
      "source": [
        "the_magic_number <- 3"
      ],
      "metadata": {
        "id": "HB42__XvAwDh"
      },
      "execution_count": null,
      "outputs": []
    },
    {
      "cell_type": "markdown",
      "source": [
        "To both assign a variable and display it we would type"
      ],
      "metadata": {
        "id": "VUusHGu6Bfzq"
      }
    },
    {
      "cell_type": "code",
      "source": [
        "(i_am_a_new_variable <- 22)"
      ],
      "metadata": {
        "colab": {
          "base_uri": "https://localhost:8080/",
          "height": 34
        },
        "id": "vcOSm3UjBhpl",
        "outputId": "95366550-3ede-42ae-dc1a-8c1367f70c39"
      },
      "execution_count": null,
      "outputs": [
        {
          "output_type": "display_data",
          "data": {
            "text/html": [
              "22"
            ],
            "text/markdown": "22",
            "text/latex": "22",
            "text/plain": [
              "[1] 22"
            ]
          },
          "metadata": {}
        }
      ]
    },
    {
      "cell_type": "markdown",
      "source": [
        "We can also do calculations as we assign variables:"
      ],
      "metadata": {
        "id": "HOSnirjRBp2Y"
      }
    },
    {
      "cell_type": "code",
      "source": [
        "one_score <- 20\n",
        "\n",
        "(four_score_years_and_ten <- one_score * 4 + 10)"
      ],
      "metadata": {
        "colab": {
          "base_uri": "https://localhost:8080/",
          "height": 34
        },
        "id": "nK7QhFkfBq6m",
        "outputId": "50b88c5b-4d1d-4f11-a9d4-4aea940086f3"
      },
      "execution_count": null,
      "outputs": [
        {
          "output_type": "display_data",
          "data": {
            "text/html": [
              "90"
            ],
            "text/markdown": "90",
            "text/latex": "90",
            "text/plain": [
              "[1] 90"
            ]
          },
          "metadata": {}
        }
      ]
    },
    {
      "cell_type": "markdown",
      "source": [
        "## **Vector and Lists**\n"
      ],
      "metadata": {
        "id": "MYpSDjacMmpg"
      }
    },
    {
      "cell_type": "markdown",
      "source": [
        "When working with data, we often have lists or sequences of ‘things’. For example: a list of measurements we have made.\n",
        "\n",
        "When all the things are of the same type, R calls this a vector2.\n",
        "\n",
        "When there is a mix of different things R calls this a list."
      ],
      "metadata": {
        "id": "XwzgBXi8Mtit"
      }
    },
    {
      "cell_type": "markdown",
      "source": [
        "### Vectors"
      ],
      "metadata": {
        "id": "V098HTuMM3AP"
      }
    },
    {
      "cell_type": "markdown",
      "source": [
        "We can create a vector of numbers and display it like this:"
      ],
      "metadata": {
        "id": "V64PfoqjNBIM"
      }
    },
    {
      "cell_type": "code",
      "source": [
        "heights <- c(203, 148, 156, 158, 167,\n",
        "             162, 172, 164, 172, 187,\n",
        "             134, 182, 175)\n",
        "heights"
      ],
      "metadata": {
        "colab": {
          "base_uri": "https://localhost:8080/",
          "height": 34
        },
        "id": "LxbExgWFM8U-",
        "outputId": "7db83792-dd45-4c6e-a9f0-b7f198420727"
      },
      "execution_count": null,
      "outputs": [
        {
          "output_type": "display_data",
          "data": {
            "text/html": [
              "<style>\n",
              ".list-inline {list-style: none; margin:0; padding: 0}\n",
              ".list-inline>li {display: inline-block}\n",
              ".list-inline>li:not(:last-child)::after {content: \"\\00b7\"; padding: 0 .5ex}\n",
              "</style>\n",
              "<ol class=list-inline><li>203</li><li>148</li><li>156</li><li>158</li><li>167</li><li>162</li><li>172</li><li>164</li><li>172</li><li>187</li><li>134</li><li>182</li><li>175</li></ol>\n"
            ],
            "text/markdown": "1. 203\n2. 148\n3. 156\n4. 158\n5. 167\n6. 162\n7. 172\n8. 164\n9. 172\n10. 187\n11. 134\n12. 182\n13. 175\n\n\n",
            "text/latex": "\\begin{enumerate*}\n\\item 203\n\\item 148\n\\item 156\n\\item 158\n\\item 167\n\\item 162\n\\item 172\n\\item 164\n\\item 172\n\\item 187\n\\item 134\n\\item 182\n\\item 175\n\\end{enumerate*}\n",
            "text/plain": [
              " [1] 203 148 156 158 167 162 172 164 172 187 134 182 175"
            ]
          },
          "metadata": {}
        }
      ]
    },
    {
      "cell_type": "markdown",
      "source": [
        "The `c()` command is shorthand for combine, so the example above combines the individual elements (numbers) into a new vector."
      ],
      "metadata": {
        "id": "vCqgpmxxNM6E"
      }
    },
    {
      "cell_type": "markdown",
      "source": [
        "We can create a vector of alphanumeric names just as easily:"
      ],
      "metadata": {
        "id": "Rzf9uRLbNQz_"
      }
    },
    {
      "cell_type": "code",
      "source": [
        "names <- c(\"Ben\", \"Joe\", \"Sue\", \"Rosa\")\n",
        "\n",
        "names"
      ],
      "metadata": {
        "colab": {
          "base_uri": "https://localhost:8080/",
          "height": 34
        },
        "id": "MUg-pWKHNaXf",
        "outputId": "b4cb5ab8-cb80-4329-dfec-6823c3cc7500"
      },
      "execution_count": null,
      "outputs": [
        {
          "output_type": "display_data",
          "data": {
            "text/html": [
              "<style>\n",
              ".list-inline {list-style: none; margin:0; padding: 0}\n",
              ".list-inline>li {display: inline-block}\n",
              ".list-inline>li:not(:last-child)::after {content: \"\\00b7\"; padding: 0 .5ex}\n",
              "</style>\n",
              "<ol class=list-inline><li>'Ben'</li><li>'Joe'</li><li>'Sue'</li><li>'Rosa'</li></ol>\n"
            ],
            "text/markdown": "1. 'Ben'\n2. 'Joe'\n3. 'Sue'\n4. 'Rosa'\n\n\n",
            "text/latex": "\\begin{enumerate*}\n\\item 'Ben'\n\\item 'Joe'\n\\item 'Sue'\n\\item 'Rosa'\n\\end{enumerate*}\n",
            "text/plain": [
              "[1] \"Ben\"  \"Joe\"  \"Sue\"  \"Rosa\""
            ]
          },
          "metadata": {}
        }
      ]
    },
    {
      "cell_type": "markdown",
      "source": [
        "Printing variable values:"
      ],
      "metadata": {
        "id": "iWjUzD4bNo-Y"
      }
    },
    {
      "cell_type": "code",
      "source": [
        "print(names)"
      ],
      "metadata": {
        "colab": {
          "base_uri": "https://localhost:8080/"
        },
        "id": "Sv8FlD23Nsz8",
        "outputId": "bc3c50b2-3dcb-4f09-da7e-b86908143132"
      },
      "execution_count": null,
      "outputs": [
        {
          "output_type": "stream",
          "name": "stdout",
          "text": [
            "[1] \"Ben\"  \"Joe\"  \"Sue\"  \"Rosa\"\n"
          ]
        }
      ]
    },
    {
      "cell_type": "markdown",
      "source": [
        "## **Accessing Elements**"
      ],
      "metadata": {
        "id": "soN-Lo8fN8-k"
      }
    },
    {
      "cell_type": "code",
      "source": [
        "my.vector <- c(10, 20, 30, 40)"
      ],
      "metadata": {
        "id": "WanOaEFZOE5i"
      },
      "execution_count": null,
      "outputs": []
    },
    {
      "cell_type": "code",
      "source": [
        "my.vector[1]          # First Index position in R is 1 whereas in Python it starts with 0"
      ],
      "metadata": {
        "colab": {
          "base_uri": "https://localhost:8080/",
          "height": 34
        },
        "id": "tPFOv5LDOJJj",
        "outputId": "daca59f9-0403-4ec3-b729-338ac3a156fb"
      },
      "execution_count": null,
      "outputs": [
        {
          "output_type": "display_data",
          "data": {
            "text/html": [
              "10"
            ],
            "text/markdown": "10",
            "text/latex": "10",
            "text/plain": [
              "[1] 10"
            ]
          },
          "metadata": {}
        }
      ]
    },
    {
      "cell_type": "markdown",
      "source": [
        "The square brackets specify a subset of the vector we want - in this case, just the first element."
      ],
      "metadata": {
        "id": "ItFFjHFbOhaX"
      }
    },
    {
      "cell_type": "markdown",
      "source": [
        "## **Selecting more than one element**"
      ],
      "metadata": {
        "id": "HrKDjEv9Oj65"
      }
    },
    {
      "cell_type": "markdown",
      "source": [
        "In sqaure bracket, only range can be given with \":\" (colon) but if you want to grab more than one element, we have to use `c()` function to grab those positions."
      ],
      "metadata": {
        "id": "U6OFrJhNO4qh"
      }
    },
    {
      "cell_type": "code",
      "source": [
        "my.vector[c(1,4)]"
      ],
      "metadata": {
        "colab": {
          "base_uri": "https://localhost:8080/",
          "height": 34
        },
        "id": "UhCpJ2CaOpnk",
        "outputId": "6d6506a8-010b-4b4c-86ab-4afabf559944"
      },
      "execution_count": null,
      "outputs": [
        {
          "output_type": "display_data",
          "data": {
            "text/html": [
              "<style>\n",
              ".list-inline {list-style: none; margin:0; padding: 0}\n",
              ".list-inline>li {display: inline-block}\n",
              ".list-inline>li:not(:last-child)::after {content: \"\\00b7\"; padding: 0 .5ex}\n",
              "</style>\n",
              "<ol class=list-inline><li>10</li><li>40</li></ol>\n"
            ],
            "text/markdown": "1. 10\n2. 40\n\n\n",
            "text/latex": "\\begin{enumerate*}\n\\item 10\n\\item 40\n\\end{enumerate*}\n",
            "text/plain": [
              "[1] 10 40"
            ]
          },
          "metadata": {}
        }
      ]
    },
    {
      "cell_type": "code",
      "source": [
        "elements.to.grab <- c(4, 5)"
      ],
      "metadata": {
        "id": "AbFE-qrrPUup"
      },
      "execution_count": null,
      "outputs": []
    },
    {
      "cell_type": "code",
      "source": [
        "heights[elements.to.grab]"
      ],
      "metadata": {
        "colab": {
          "base_uri": "https://localhost:8080/",
          "height": 34
        },
        "id": "KvpgM5XJPYRe",
        "outputId": "cfb2a91c-2072-44ae-9f6b-72c48f26ec2b"
      },
      "execution_count": null,
      "outputs": [
        {
          "output_type": "display_data",
          "data": {
            "text/html": [
              "<style>\n",
              ".list-inline {list-style: none; margin:0; padding: 0}\n",
              ".list-inline>li {display: inline-block}\n",
              ".list-inline>li:not(:last-child)::after {content: \"\\00b7\"; padding: 0 .5ex}\n",
              "</style>\n",
              "<ol class=list-inline><li>158</li><li>167</li></ol>\n"
            ],
            "text/markdown": "1. 158\n2. 167\n\n\n",
            "text/latex": "\\begin{enumerate*}\n\\item 158\n\\item 167\n\\end{enumerate*}\n",
            "text/plain": [
              "[1] 158 167"
            ]
          },
          "metadata": {}
        }
      ]
    },
    {
      "cell_type": "markdown",
      "source": [
        "### Making a subset from original vector and assign it to a new variable"
      ],
      "metadata": {
        "id": "WAteLfmWPj8q"
      }
    },
    {
      "cell_type": "code",
      "source": [
        "first.two.elements <- heights[c(1, 2)]\n",
        "first.two.elements"
      ],
      "metadata": {
        "colab": {
          "base_uri": "https://localhost:8080/",
          "height": 34
        },
        "id": "2Wf1JpfZPrgF",
        "outputId": "786d3207-0849-4588-a74b-934184a8e5bc"
      },
      "execution_count": null,
      "outputs": [
        {
          "output_type": "display_data",
          "data": {
            "text/html": [
              "<style>\n",
              ".list-inline {list-style: none; margin:0; padding: 0}\n",
              ".list-inline>li {display: inline-block}\n",
              ".list-inline>li:not(:last-child)::after {content: \"\\00b7\"; padding: 0 .5ex}\n",
              "</style>\n",
              "<ol class=list-inline><li>203</li><li>148</li></ol>\n"
            ],
            "text/markdown": "1. 203\n2. 148\n\n\n",
            "text/latex": "\\begin{enumerate*}\n\\item 203\n\\item 148\n\\end{enumerate*}\n",
            "text/plain": [
              "[1] 203 148"
            ]
          },
          "metadata": {}
        }
      ]
    },
    {
      "cell_type": "markdown",
      "source": [
        "## **Making and slicing with sequences**"
      ],
      "metadata": {
        "id": "07GSuYpmP2Z8"
      }
    },
    {
      "cell_type": "markdown",
      "source": [
        "The simplest way of doing this is to define a range, with the colon (:)"
      ],
      "metadata": {
        "id": "5x2X87K2P8Y1"
      }
    },
    {
      "cell_type": "code",
      "source": [
        "onetoten <- 1:10"
      ],
      "metadata": {
        "id": "av7dWci_P-gA"
      },
      "execution_count": null,
      "outputs": []
    },
    {
      "cell_type": "markdown",
      "source": [
        "This creates a vector which can be sliced like any other:"
      ],
      "metadata": {
        "id": "htmbSMWlQFf4"
      }
    },
    {
      "cell_type": "code",
      "source": [
        "onetoten[8]"
      ],
      "metadata": {
        "colab": {
          "base_uri": "https://localhost:8080/",
          "height": 34
        },
        "id": "ezFbsKL1QHD-",
        "outputId": "1df18125-ea3d-4ad9-f1d4-0e741f6c266a"
      },
      "execution_count": null,
      "outputs": [
        {
          "output_type": "display_data",
          "data": {
            "text/html": [
              "8"
            ],
            "text/markdown": "8",
            "text/latex": "8",
            "text/plain": [
              "[1] 8"
            ]
          },
          "metadata": {}
        }
      ]
    },
    {
      "cell_type": "markdown",
      "source": [
        "One common use of sequences is to slice other vectors:"
      ],
      "metadata": {
        "id": "uwvVtklEQXKu"
      }
    },
    {
      "cell_type": "code",
      "source": [
        "onetoten[1:3]"
      ],
      "metadata": {
        "colab": {
          "base_uri": "https://localhost:8080/",
          "height": 34
        },
        "id": "3WY_tr0rQXvW",
        "outputId": "c862e9c1-e800-4a2c-f450-fd0e1ddd39fd"
      },
      "execution_count": null,
      "outputs": [
        {
          "output_type": "display_data",
          "data": {
            "text/html": [
              "<style>\n",
              ".list-inline {list-style: none; margin:0; padding: 0}\n",
              ".list-inline>li {display: inline-block}\n",
              ".list-inline>li:not(:last-child)::after {content: \"\\00b7\"; padding: 0 .5ex}\n",
              "</style>\n",
              "<ol class=list-inline><li>1</li><li>2</li><li>3</li></ol>\n"
            ],
            "text/markdown": "1. 1\n2. 2\n3. 3\n\n\n",
            "text/latex": "\\begin{enumerate*}\n\\item 1\n\\item 2\n\\item 3\n\\end{enumerate*}\n",
            "text/plain": [
              "[1] 1 2 3"
            ]
          },
          "metadata": {}
        }
      ]
    },
    {
      "cell_type": "markdown",
      "source": [
        "Or the first 10 values in the heights vector we defined above:"
      ],
      "metadata": {
        "id": "yBZwiy1gQdT8"
      }
    },
    {
      "cell_type": "code",
      "source": [
        "heights[1:10]"
      ],
      "metadata": {
        "colab": {
          "base_uri": "https://localhost:8080/",
          "height": 34
        },
        "id": "4vDro84QQdxe",
        "outputId": "75b39b76-994f-43d2-b06c-d0bd733afaea"
      },
      "execution_count": null,
      "outputs": [
        {
          "output_type": "display_data",
          "data": {
            "text/html": [
              "<style>\n",
              ".list-inline {list-style: none; margin:0; padding: 0}\n",
              ".list-inline>li {display: inline-block}\n",
              ".list-inline>li:not(:last-child)::after {content: \"\\00b7\"; padding: 0 .5ex}\n",
              "</style>\n",
              "<ol class=list-inline><li>203</li><li>148</li><li>156</li><li>158</li><li>167</li><li>162</li><li>172</li><li>164</li><li>172</li><li>187</li></ol>\n"
            ],
            "text/markdown": "1. 203\n2. 148\n3. 156\n4. 158\n5. 167\n6. 162\n7. 172\n8. 164\n9. 172\n10. 187\n\n\n",
            "text/latex": "\\begin{enumerate*}\n\\item 203\n\\item 148\n\\item 156\n\\item 158\n\\item 167\n\\item 162\n\\item 172\n\\item 164\n\\item 172\n\\item 187\n\\end{enumerate*}\n",
            "text/plain": [
              " [1] 203 148 156 158 167 162 172 164 172 187"
            ]
          },
          "metadata": {}
        }
      ]
    },
    {
      "cell_type": "markdown",
      "source": [
        "This works backwards, and with negative numbers too:"
      ],
      "metadata": {
        "id": "lWzSNE4NQp-3"
      }
    },
    {
      "cell_type": "code",
      "source": [
        "5:-5"
      ],
      "metadata": {
        "colab": {
          "base_uri": "https://localhost:8080/",
          "height": 34
        },
        "id": "L5PtXBXqQqmV",
        "outputId": "a10833ec-c28f-4831-d153-8dfd3169619e"
      },
      "execution_count": null,
      "outputs": [
        {
          "output_type": "display_data",
          "data": {
            "text/html": [
              "<style>\n",
              ".list-inline {list-style: none; margin:0; padding: 0}\n",
              ".list-inline>li {display: inline-block}\n",
              ".list-inline>li:not(:last-child)::after {content: \"\\00b7\"; padding: 0 .5ex}\n",
              "</style>\n",
              "<ol class=list-inline><li>5</li><li>4</li><li>3</li><li>2</li><li>1</li><li>0</li><li>-1</li><li>-2</li><li>-3</li><li>-4</li><li>-5</li></ol>\n"
            ],
            "text/markdown": "1. 5\n2. 4\n3. 3\n4. 2\n5. 1\n6. 0\n7. -1\n8. -2\n9. -3\n10. -4\n11. -5\n\n\n",
            "text/latex": "\\begin{enumerate*}\n\\item 5\n\\item 4\n\\item 3\n\\item 2\n\\item 1\n\\item 0\n\\item -1\n\\item -2\n\\item -3\n\\item -4\n\\item -5\n\\end{enumerate*}\n",
            "text/plain": [
              " [1]  5  4  3  2  1  0 -1 -2 -3 -4 -5"
            ]
          },
          "metadata": {}
        }
      ]
    },
    {
      "cell_type": "markdown",
      "source": [
        "#### **Seqeunce() Function** --> Python's `range()` function"
      ],
      "metadata": {
        "id": "HIisSkHMQtYO"
      }
    },
    {
      "cell_type": "markdown",
      "source": [
        "When your sequence doesn’t contain only whole numbers, or non-consecutive numbers, you can use the seq function:"
      ],
      "metadata": {
        "id": "GHnRi9V1yLRH"
      }
    },
    {
      "cell_type": "code",
      "source": [
        "seq(1,10,by=2)"
      ],
      "metadata": {
        "colab": {
          "base_uri": "https://localhost:8080/",
          "height": 34
        },
        "id": "Z6u-MyLBQ43z",
        "outputId": "beb0ebe5-d8e0-4926-f3cc-ca5b0e4540c6"
      },
      "execution_count": null,
      "outputs": [
        {
          "output_type": "display_data",
          "data": {
            "text/html": [
              "<style>\n",
              ".list-inline {list-style: none; margin:0; padding: 0}\n",
              ".list-inline>li {display: inline-block}\n",
              ".list-inline>li:not(:last-child)::after {content: \"\\00b7\"; padding: 0 .5ex}\n",
              "</style>\n",
              "<ol class=list-inline><li>1</li><li>3</li><li>5</li><li>7</li><li>9</li></ol>\n"
            ],
            "text/markdown": "1. 1\n2. 3\n3. 5\n4. 7\n5. 9\n\n\n",
            "text/latex": "\\begin{enumerate*}\n\\item 1\n\\item 3\n\\item 5\n\\item 7\n\\item 9\n\\end{enumerate*}\n",
            "text/plain": [
              "[1] 1 3 5 7 9"
            ]
          },
          "metadata": {}
        }
      ]
    },
    {
      "cell_type": "code",
      "source": [
        "seq(0, 1, by=.2)"
      ],
      "metadata": {
        "colab": {
          "base_uri": "https://localhost:8080/",
          "height": 34
        },
        "id": "rPOWQ7QJQ-PQ",
        "outputId": "7a6d3096-da22-4867-d2ef-253492a389bb"
      },
      "execution_count": null,
      "outputs": [
        {
          "output_type": "display_data",
          "data": {
            "text/html": [
              "<style>\n",
              ".list-inline {list-style: none; margin:0; padding: 0}\n",
              ".list-inline>li {display: inline-block}\n",
              ".list-inline>li:not(:last-child)::after {content: \"\\00b7\"; padding: 0 .5ex}\n",
              "</style>\n",
              "<ol class=list-inline><li>0</li><li>0.2</li><li>0.4</li><li>0.6</li><li>0.8</li><li>1</li></ol>\n"
            ],
            "text/markdown": "1. 0\n2. 0.2\n3. 0.4\n4. 0.6\n5. 0.8\n6. 1\n\n\n",
            "text/latex": "\\begin{enumerate*}\n\\item 0\n\\item 0.2\n\\item 0.4\n\\item 0.6\n\\item 0.8\n\\item 1\n\\end{enumerate*}\n",
            "text/plain": [
              "[1] 0.0 0.2 0.4 0.6 0.8 1.0"
            ]
          },
          "metadata": {}
        }
      ]
    },
    {
      "cell_type": "markdown",
      "source": [
        "## **Conditional slicing**"
      ],
      "metadata": {
        "id": "1c3bsw3vStDF"
      }
    },
    {
      "cell_type": "markdown",
      "source": [
        "One neat feature of R is that you can create a sequence of `TRUE` or `FALSE` values, by asking whether each value in a sequence matches a particular condition. For example:"
      ],
      "metadata": {
        "id": "gETIVT_UyPfa"
      }
    },
    {
      "cell_type": "code",
      "source": [
        "1:10 > 5"
      ],
      "metadata": {
        "colab": {
          "base_uri": "https://localhost:8080/",
          "height": 34
        },
        "id": "yfuRQF-PS93S",
        "outputId": "57e0550a-e766-42f8-d0c7-09103ac4fbfd"
      },
      "execution_count": null,
      "outputs": [
        {
          "output_type": "display_data",
          "data": {
            "text/html": [
              "<style>\n",
              ".list-inline {list-style: none; margin:0; padding: 0}\n",
              ".list-inline>li {display: inline-block}\n",
              ".list-inline>li:not(:last-child)::after {content: \"\\00b7\"; padding: 0 .5ex}\n",
              "</style>\n",
              "<ol class=list-inline><li>FALSE</li><li>FALSE</li><li>FALSE</li><li>FALSE</li><li>FALSE</li><li>TRUE</li><li>TRUE</li><li>TRUE</li><li>TRUE</li><li>TRUE</li></ol>\n"
            ],
            "text/markdown": "1. FALSE\n2. FALSE\n3. FALSE\n4. FALSE\n5. FALSE\n6. TRUE\n7. TRUE\n8. TRUE\n9. TRUE\n10. TRUE\n\n\n",
            "text/latex": "\\begin{enumerate*}\n\\item FALSE\n\\item FALSE\n\\item FALSE\n\\item FALSE\n\\item FALSE\n\\item TRUE\n\\item TRUE\n\\item TRUE\n\\item TRUE\n\\item TRUE\n\\end{enumerate*}\n",
            "text/plain": [
              " [1] FALSE FALSE FALSE FALSE FALSE  TRUE  TRUE  TRUE  TRUE  TRUE"
            ]
          },
          "metadata": {}
        }
      ]
    },
    {
      "cell_type": "markdown",
      "source": [
        "Re-using the heights vector from above, we can then use this to select values that are above the average:"
      ],
      "metadata": {
        "id": "Be88vPodTBbn"
      }
    },
    {
      "cell_type": "code",
      "source": [
        "heights > mean(heights)"
      ],
      "metadata": {
        "colab": {
          "base_uri": "https://localhost:8080/",
          "height": 34
        },
        "id": "luQQfG32TCNq",
        "outputId": "7ad685f6-39e8-4002-de23-ea5940b94a76"
      },
      "execution_count": null,
      "outputs": [
        {
          "output_type": "display_data",
          "data": {
            "text/html": [
              "<style>\n",
              ".list-inline {list-style: none; margin:0; padding: 0}\n",
              ".list-inline>li {display: inline-block}\n",
              ".list-inline>li:not(:last-child)::after {content: \"\\00b7\"; padding: 0 .5ex}\n",
              "</style>\n",
              "<ol class=list-inline><li>TRUE</li><li>FALSE</li><li>FALSE</li><li>FALSE</li><li>FALSE</li><li>FALSE</li><li>TRUE</li><li>FALSE</li><li>TRUE</li><li>TRUE</li><li>FALSE</li><li>TRUE</li><li>TRUE</li></ol>\n"
            ],
            "text/markdown": "1. TRUE\n2. FALSE\n3. FALSE\n4. FALSE\n5. FALSE\n6. FALSE\n7. TRUE\n8. FALSE\n9. TRUE\n10. TRUE\n11. FALSE\n12. TRUE\n13. TRUE\n\n\n",
            "text/latex": "\\begin{enumerate*}\n\\item TRUE\n\\item FALSE\n\\item FALSE\n\\item FALSE\n\\item FALSE\n\\item FALSE\n\\item TRUE\n\\item FALSE\n\\item TRUE\n\\item TRUE\n\\item FALSE\n\\item TRUE\n\\item TRUE\n\\end{enumerate*}\n",
            "text/plain": [
              " [1]  TRUE FALSE FALSE FALSE FALSE FALSE  TRUE FALSE  TRUE  TRUE FALSE  TRUE\n",
              "[13]  TRUE"
            ]
          },
          "metadata": {}
        }
      ]
    },
    {
      "cell_type": "markdown",
      "source": [
        "And we can use the vector of TRUE and FALSE values to select from the actual scores:"
      ],
      "metadata": {
        "id": "cvhDaRDtTGnk"
      }
    },
    {
      "cell_type": "code",
      "source": [
        "heights[heights > mean(heights)]"
      ],
      "metadata": {
        "colab": {
          "base_uri": "https://localhost:8080/",
          "height": 34
        },
        "id": "nHk3Ie8QTHIY",
        "outputId": "312bd14e-8805-4750-c6ba-d522e458ae48"
      },
      "execution_count": null,
      "outputs": [
        {
          "output_type": "display_data",
          "data": {
            "text/html": [
              "<style>\n",
              ".list-inline {list-style: none; margin:0; padding: 0}\n",
              ".list-inline>li {display: inline-block}\n",
              ".list-inline>li:not(:last-child)::after {content: \"\\00b7\"; padding: 0 .5ex}\n",
              "</style>\n",
              "<ol class=list-inline><li>203</li><li>172</li><li>172</li><li>187</li><li>182</li><li>175</li></ol>\n"
            ],
            "text/markdown": "1. 203\n2. 172\n3. 172\n4. 187\n5. 182\n6. 175\n\n\n",
            "text/latex": "\\begin{enumerate*}\n\\item 203\n\\item 172\n\\item 172\n\\item 187\n\\item 182\n\\item 175\n\\end{enumerate*}\n",
            "text/plain": [
              "[1] 203 172 172 187 182 175"
            ]
          },
          "metadata": {}
        }
      ]
    },
    {
      "cell_type": "markdown",
      "source": [
        "## **Working with vectors**"
      ],
      "metadata": {
        "id": "eWIaaIa3xqGr"
      }
    },
    {
      "cell_type": "markdown",
      "source": [
        "Many of R’s most useful functions process vectors of numbers in some way"
      ],
      "metadata": {
        "id": "tWVSmjVjxshu"
      }
    },
    {
      "cell_type": "code",
      "source": [
        "mean(heights)"
      ],
      "metadata": {
        "colab": {
          "base_uri": "https://localhost:8080/",
          "height": 34
        },
        "id": "07OrNp3zx1cI",
        "outputId": "05538c40-9f4e-4aa7-f233-b01bc53fd0b5"
      },
      "execution_count": null,
      "outputs": [
        {
          "output_type": "display_data",
          "data": {
            "text/html": [
              "167.692307692308"
            ],
            "text/markdown": "167.692307692308",
            "text/latex": "167.692307692308",
            "text/plain": [
              "[1] 167.6923"
            ]
          },
          "metadata": {}
        }
      ]
    },
    {
      "cell_type": "markdown",
      "source": [
        "Built in function in R to summarize a vector of numbers."
      ],
      "metadata": {
        "id": "3sm_D-veyapo"
      }
    },
    {
      "cell_type": "code",
      "source": [
        "median(heights)         # Median"
      ],
      "metadata": {
        "colab": {
          "base_uri": "https://localhost:8080/",
          "height": 34
        },
        "id": "jTCo_lFDygIW",
        "outputId": "52f59ed9-9e80-4044-9782-39cef30ee873"
      },
      "execution_count": null,
      "outputs": [
        {
          "output_type": "display_data",
          "data": {
            "text/html": [
              "167"
            ],
            "text/markdown": "167",
            "text/latex": "167",
            "text/plain": [
              "[1] 167"
            ]
          },
          "metadata": {}
        }
      ]
    },
    {
      "cell_type": "code",
      "source": [
        "sd(heights)             # Standard deviation"
      ],
      "metadata": {
        "colab": {
          "base_uri": "https://localhost:8080/",
          "height": 34
        },
        "id": "5BDVuJJDymvi",
        "outputId": "067e878d-d6f7-4fb6-d919-df6646d7d1b3"
      },
      "execution_count": null,
      "outputs": [
        {
          "output_type": "display_data",
          "data": {
            "text/html": [
              "17.5944338517641"
            ],
            "text/markdown": "17.5944338517641",
            "text/latex": "17.5944338517641",
            "text/plain": [
              "[1] 17.59443"
            ]
          },
          "metadata": {}
        }
      ]
    },
    {
      "cell_type": "code",
      "source": [
        "min(heights)            # Minimum"
      ],
      "metadata": {
        "colab": {
          "base_uri": "https://localhost:8080/",
          "height": 34
        },
        "id": "zpRctMffyyXb",
        "outputId": "e0464465-d8eb-42b9-f608-e72fbf2771fa"
      },
      "execution_count": null,
      "outputs": [
        {
          "output_type": "display_data",
          "data": {
            "text/html": [
              "134"
            ],
            "text/markdown": "134",
            "text/latex": "134",
            "text/plain": [
              "[1] 134"
            ]
          },
          "metadata": {}
        }
      ]
    },
    {
      "cell_type": "code",
      "source": [
        "max(heights)            # Maximum"
      ],
      "metadata": {
        "colab": {
          "base_uri": "https://localhost:8080/",
          "height": 34
        },
        "id": "T0BR8dgzy7VA",
        "outputId": "4617ab34-be24-4130-8cb5-3c8282be8a7b"
      },
      "execution_count": null,
      "outputs": [
        {
          "output_type": "display_data",
          "data": {
            "text/html": [
              "203"
            ],
            "text/markdown": "203",
            "text/latex": "203",
            "text/plain": [
              "[1] 203"
            ]
          },
          "metadata": {}
        }
      ]
    },
    {
      "cell_type": "code",
      "source": [
        "range(heights)          # Range returns a vector containing the minimum and maximum of all the given arguments."
      ],
      "metadata": {
        "colab": {
          "base_uri": "https://localhost:8080/",
          "height": 34
        },
        "id": "I0BtTMMYzDwB",
        "outputId": "0e7d4aa7-b58a-48d1-e63d-4260f2b1c95a"
      },
      "execution_count": null,
      "outputs": [
        {
          "output_type": "display_data",
          "data": {
            "text/html": [
              "<style>\n",
              ".list-inline {list-style: none; margin:0; padding: 0}\n",
              ".list-inline>li {display: inline-block}\n",
              ".list-inline>li:not(:last-child)::after {content: \"\\00b7\"; padding: 0 .5ex}\n",
              "</style>\n",
              "<ol class=list-inline><li>134</li><li>203</li></ol>\n"
            ],
            "text/markdown": "1. 134\n2. 203\n\n\n",
            "text/latex": "\\begin{enumerate*}\n\\item 134\n\\item 203\n\\end{enumerate*}\n",
            "text/plain": [
              "[1] 134 203"
            ]
          },
          "metadata": {}
        }
      ]
    },
    {
      "cell_type": "code",
      "source": [
        "IQR(heights)            #  IQR computes interquartile range of the ‘x’ values."
      ],
      "metadata": {
        "colab": {
          "base_uri": "https://localhost:8080/",
          "height": 34
        },
        "id": "TWvKYjRtzfOb",
        "outputId": "6bb000e1-55c8-41ce-a1d7-819f116f9ca2"
      },
      "execution_count": null,
      "outputs": [
        {
          "output_type": "display_data",
          "data": {
            "text/html": [
              "17"
            ],
            "text/markdown": "17",
            "text/latex": "17",
            "text/plain": [
              "[1] 17"
            ]
          },
          "metadata": {}
        }
      ]
    },
    {
      "cell_type": "code",
      "source": [
        "length(heights)         # Count number of items in a vector"
      ],
      "metadata": {
        "colab": {
          "base_uri": "https://localhost:8080/",
          "height": 34
        },
        "id": "W98qRAPxzxLU",
        "outputId": "e3fde236-cbb3-4e7f-a22a-4877b4d8e067"
      },
      "execution_count": null,
      "outputs": [
        {
          "output_type": "display_data",
          "data": {
            "text/html": [
              "13"
            ],
            "text/markdown": "13",
            "text/latex": "13",
            "text/plain": [
              "[1] 13"
            ]
          },
          "metadata": {}
        }
      ]
    },
    {
      "cell_type": "markdown",
      "source": [
        "Some functions will give you more than one result. For eg."
      ],
      "metadata": {
        "id": "4NI6Hxmz0T5_"
      }
    },
    {
      "cell_type": "code",
      "source": [
        "height.quantiles <- quantile(heights)"
      ],
      "metadata": {
        "id": "p2N6yozG0ccE"
      },
      "execution_count": null,
      "outputs": []
    },
    {
      "cell_type": "code",
      "source": [
        "height.quantiles"
      ],
      "metadata": {
        "colab": {
          "base_uri": "https://localhost:8080/",
          "height": 34
        },
        "id": "fh_YjVbXz-C7",
        "outputId": "746c9303-0866-4cee-9882-5118b87947cd"
      },
      "execution_count": null,
      "outputs": [
        {
          "output_type": "display_data",
          "data": {
            "text/html": [
              "<style>\n",
              ".dl-inline {width: auto; margin:0; padding: 0}\n",
              ".dl-inline>dt, .dl-inline>dd {float: none; width: auto; display: inline-block}\n",
              ".dl-inline>dt::after {content: \":\\0020\"; padding-right: .5ex}\n",
              ".dl-inline>dt:not(:first-of-type) {padding-left: .5ex}\n",
              "</style><dl class=dl-inline><dt>0%</dt><dd>134</dd><dt>25%</dt><dd>158</dd><dt>50%</dt><dd>167</dd><dt>75%</dt><dd>175</dd><dt>100%</dt><dd>203</dd></dl>\n"
            ],
            "text/markdown": "0%\n:   13425%\n:   15850%\n:   16775%\n:   175100%\n:   203\n\n",
            "text/latex": "\\begin{description*}\n\\item[0\\textbackslash{}\\%] 134\n\\item[25\\textbackslash{}\\%] 158\n\\item[50\\textbackslash{}\\%] 167\n\\item[75\\textbackslash{}\\%] 175\n\\item[100\\textbackslash{}\\%] 203\n\\end{description*}\n",
            "text/plain": [
              "  0%  25%  50%  75% 100% \n",
              " 134  158  167  175  203 "
            ]
          },
          "metadata": {}
        }
      ]
    },
    {
      "cell_type": "code",
      "source": [
        "height.quantiles[3]"
      ],
      "metadata": {
        "colab": {
          "base_uri": "https://localhost:8080/",
          "height": 34
        },
        "id": "PmWs1-jS0_MA",
        "outputId": "4a66fe60-c626-457a-f828-5277d2105f23"
      },
      "execution_count": null,
      "outputs": [
        {
          "output_type": "display_data",
          "data": {
            "text/html": [
              "<strong>50%:</strong> 167"
            ],
            "text/markdown": "**50%:** 167",
            "text/latex": "\\textbf{50\\textbackslash{}\\%:} 167",
            "text/plain": [
              "50% \n",
              "167 "
            ]
          },
          "metadata": {}
        }
      ]
    },
    {
      "cell_type": "code",
      "source": [
        "min.height <- height.quantiles[1]\n",
        "\n",
        "min.height"
      ],
      "metadata": {
        "colab": {
          "base_uri": "https://localhost:8080/",
          "height": 34
        },
        "id": "7r2TSOld1Lff",
        "outputId": "bb238282-d708-4877-c8d9-dcab90133c6f"
      },
      "execution_count": null,
      "outputs": [
        {
          "output_type": "display_data",
          "data": {
            "text/html": [
              "<strong>0%:</strong> 134"
            ],
            "text/markdown": "**0%:** 134",
            "text/latex": "\\textbf{0\\textbackslash{}\\%:} 134",
            "text/plain": [
              " 0% \n",
              "134 "
            ]
          },
          "metadata": {}
        }
      ]
    },
    {
      "cell_type": "markdown",
      "source": [
        "### Histogram"
      ],
      "metadata": {
        "id": "nv-bIszv2h4r"
      }
    },
    {
      "cell_type": "code",
      "source": [
        "hist(heights)"
      ],
      "metadata": {
        "colab": {
          "base_uri": "https://localhost:8080/",
          "height": 437
        },
        "id": "ywx_EaI-2TnV",
        "outputId": "577b6ec6-99a8-42e4-ce01-b07726ab87e0"
      },
      "execution_count": null,
      "outputs": [
        {
          "output_type": "display_data",
          "data": {
            "text/plain": [
              "Plot with title “Histogram of heights”"
            ],
            "image/png": "[encoded data removed]"
          },
          "metadata": {
            "image/png": {
              "width": 420,
              "height": 420
            }
          }
        }
      ]
    },
    {
      "cell_type": "markdown",
      "source": [
        "### **Making new vectors**"
      ],
      "metadata": {
        "id": "ZhxV1EQa2zbG"
      }
    },
    {
      "cell_type": "code",
      "source": [
        "heights"
      ],
      "metadata": {
        "colab": {
          "base_uri": "https://localhost:8080/",
          "height": 34
        },
        "id": "v7bdx55K23p1",
        "outputId": "d421f4e0-4599-44ad-c6e0-caeec17ed44a"
      },
      "execution_count": null,
      "outputs": [
        {
          "output_type": "display_data",
          "data": {
            "text/html": [
              "<style>\n",
              ".list-inline {list-style: none; margin:0; padding: 0}\n",
              ".list-inline>li {display: inline-block}\n",
              ".list-inline>li:not(:last-child)::after {content: \"\\00b7\"; padding: 0 .5ex}\n",
              "</style>\n",
              "<ol class=list-inline><li>203</li><li>148</li><li>156</li><li>158</li><li>167</li><li>162</li><li>172</li><li>164</li><li>172</li><li>187</li><li>134</li><li>182</li><li>175</li></ol>\n"
            ],
            "text/markdown": "1. 203\n2. 148\n3. 156\n4. 158\n5. 167\n6. 162\n7. 172\n8. 164\n9. 172\n10. 187\n11. 134\n12. 182\n13. 175\n\n\n",
            "text/latex": "\\begin{enumerate*}\n\\item 203\n\\item 148\n\\item 156\n\\item 158\n\\item 167\n\\item 162\n\\item 172\n\\item 164\n\\item 172\n\\item 187\n\\item 134\n\\item 182\n\\item 175\n\\end{enumerate*}\n",
            "text/plain": [
              " [1] 203 148 156 158 167 162 172 164 172 187 134 182 175"
            ]
          },
          "metadata": {}
        }
      ]
    },
    {
      "cell_type": "code",
      "source": [
        "sqrt(heights)"
      ],
      "metadata": {
        "colab": {
          "base_uri": "https://localhost:8080/",
          "height": 52
        },
        "id": "Y5asigZV3WHt",
        "outputId": "919d6f31-8965-41a6-dcdf-92020055773a"
      },
      "execution_count": null,
      "outputs": [
        {
          "output_type": "display_data",
          "data": {
            "text/html": [
              "<style>\n",
              ".list-inline {list-style: none; margin:0; padding: 0}\n",
              ".list-inline>li {display: inline-block}\n",
              ".list-inline>li:not(:last-child)::after {content: \"\\00b7\"; padding: 0 .5ex}\n",
              "</style>\n",
              "<ol class=list-inline><li>14.247806848775</li><li>12.1655250605964</li><li>12.4899959967968</li><li>12.5698050899765</li><li>12.9228479833201</li><li>12.7279220613579</li><li>13.114877048604</li><li>12.8062484748657</li><li>13.114877048604</li><li>13.6747943311773</li><li>11.5758369027902</li><li>13.490737563232</li><li>13.228756555323</li></ol>\n"
            ],
            "text/markdown": "1. 14.247806848775\n2. 12.1655250605964\n3. 12.4899959967968\n4. 12.5698050899765\n5. 12.9228479833201\n6. 12.7279220613579\n7. 13.114877048604\n8. 12.8062484748657\n9. 13.114877048604\n10. 13.6747943311773\n11. 11.5758369027902\n12. 13.490737563232\n13. 13.228756555323\n\n\n",
            "text/latex": "\\begin{enumerate*}\n\\item 14.247806848775\n\\item 12.1655250605964\n\\item 12.4899959967968\n\\item 12.5698050899765\n\\item 12.9228479833201\n\\item 12.7279220613579\n\\item 13.114877048604\n\\item 12.8062484748657\n\\item 13.114877048604\n\\item 13.6747943311773\n\\item 11.5758369027902\n\\item 13.490737563232\n\\item 13.228756555323\n\\end{enumerate*}\n",
            "text/plain": [
              " [1] 14.24781 12.16553 12.49000 12.56981 12.92285 12.72792 13.11488 12.80625\n",
              " [9] 13.11488 13.67479 11.57584 13.49074 13.22876"
            ]
          },
          "metadata": {}
        }
      ]
    },
    {
      "cell_type": "markdown",
      "source": [
        "Paste() combines the inputs you send it to produce an alphnumeric string"
      ],
      "metadata": {
        "id": "EOY3Pf5H3gXj"
      }
    },
    {
      "cell_type": "code",
      "source": [
        "paste(\"Once\", \"upon\", \"a\", \"time\")"
      ],
      "metadata": {
        "colab": {
          "base_uri": "https://localhost:8080/",
          "height": 34
        },
        "id": "w5r48ndG3uJC",
        "outputId": "98738a5b-9d2e-485e-bb80-c8c8634f976b"
      },
      "execution_count": null,
      "outputs": [
        {
          "output_type": "display_data",
          "data": {
            "text/html": [
              "'Once upon a time'"
            ],
            "text/markdown": "'Once upon a time'",
            "text/latex": "'Once upon a time'",
            "text/plain": [
              "[1] \"Once upon a time\""
            ]
          },
          "metadata": {}
        }
      ]
    },
    {
      "cell_type": "markdown",
      "source": [
        "If we send a vector to `paste()` it assumes we want a vector of results, with each element in the vector pasted next to each other:"
      ],
      "metadata": {
        "id": "1beG835G34DJ"
      }
    },
    {
      "cell_type": "code",
      "source": [
        "bottles <- c(100, 99, 98, \"...\")"
      ],
      "metadata": {
        "id": "ttHRWUWs35m5"
      },
      "execution_count": null,
      "outputs": []
    },
    {
      "cell_type": "code",
      "source": [
        "paste(bottles, \"green bottles hanging on the wall\")"
      ],
      "metadata": {
        "colab": {
          "base_uri": "https://localhost:8080/",
          "height": 34
        },
        "id": "wsDAqOov4IHj",
        "outputId": "94b3052a-37f3-4b9c-ad71-53c21e71d007"
      },
      "execution_count": null,
      "outputs": [
        {
          "output_type": "display_data",
          "data": {
            "text/html": [
              "<style>\n",
              ".list-inline {list-style: none; margin:0; padding: 0}\n",
              ".list-inline>li {display: inline-block}\n",
              ".list-inline>li:not(:last-child)::after {content: \"\\00b7\"; padding: 0 .5ex}\n",
              "</style>\n",
              "<ol class=list-inline><li>'100 green bottles hanging on the wall'</li><li>'99 green bottles hanging on the wall'</li><li>'98 green bottles hanging on the wall'</li><li>'... green bottles hanging on the wall'</li></ol>\n"
            ],
            "text/markdown": "1. '100 green bottles hanging on the wall'\n2. '99 green bottles hanging on the wall'\n3. '98 green bottles hanging on the wall'\n4. '... green bottles hanging on the wall'\n\n\n",
            "text/latex": "\\begin{enumerate*}\n\\item '100 green bottles hanging on the wall'\n\\item '99 green bottles hanging on the wall'\n\\item '98 green bottles hanging on the wall'\n\\item '... green bottles hanging on the wall'\n\\end{enumerate*}\n",
            "text/plain": [
              "[1] \"100 green bottles hanging on the wall\"\n",
              "[2] \"99 green bottles hanging on the wall\" \n",
              "[3] \"98 green bottles hanging on the wall\" \n",
              "[4] \"... green bottles hanging on the wall\""
            ]
          },
          "metadata": {}
        }
      ]
    },
    {
      "cell_type": "markdown",
      "source": [
        "`paste0()` function does much the same, but leaves no spaces in the combined strings, which can be useful:"
      ],
      "metadata": {
        "id": "iyaxLz4Z4qa3"
      }
    },
    {
      "cell_type": "code",
      "source": [
        "paste0(\"N=\", 1:10)"
      ],
      "metadata": {
        "colab": {
          "base_uri": "https://localhost:8080/",
          "height": 34
        },
        "id": "vhKjUCxM4zkM",
        "outputId": "67f844fb-6cbc-47af-8c2d-c4d3c299d0cb"
      },
      "execution_count": null,
      "outputs": [
        {
          "output_type": "display_data",
          "data": {
            "text/html": [
              "<style>\n",
              ".list-inline {list-style: none; margin:0; padding: 0}\n",
              ".list-inline>li {display: inline-block}\n",
              ".list-inline>li:not(:last-child)::after {content: \"\\00b7\"; padding: 0 .5ex}\n",
              "</style>\n",
              "<ol class=list-inline><li>'N=1'</li><li>'N=2'</li><li>'N=3'</li><li>'N=4'</li><li>'N=5'</li><li>'N=6'</li><li>'N=7'</li><li>'N=8'</li><li>'N=9'</li><li>'N=10'</li></ol>\n"
            ],
            "text/markdown": "1. 'N=1'\n2. 'N=2'\n3. 'N=3'\n4. 'N=4'\n5. 'N=5'\n6. 'N=6'\n7. 'N=7'\n8. 'N=8'\n9. 'N=9'\n10. 'N=10'\n\n\n",
            "text/latex": "\\begin{enumerate*}\n\\item 'N=1'\n\\item 'N=2'\n\\item 'N=3'\n\\item 'N=4'\n\\item 'N=5'\n\\item 'N=6'\n\\item 'N=7'\n\\item 'N=8'\n\\item 'N=9'\n\\item 'N=10'\n\\end{enumerate*}\n",
            "text/plain": [
              " [1] \"N=1\"  \"N=2\"  \"N=3\"  \"N=4\"  \"N=5\"  \"N=6\"  \"N=7\"  \"N=8\"  \"N=9\"  \"N=10\""
            ]
          },
          "metadata": {}
        }
      ]
    },
    {
      "cell_type": "markdown",
      "source": [
        "### **Making up data (new vectors)**"
      ],
      "metadata": {
        "id": "UoJ2kcTCB4Fo"
      }
    },
    {
      "cell_type": "markdown",
      "source": [
        "The `seq()` function allows you to create more specific sequences:"
      ],
      "metadata": {
        "id": "AUs9e706CB8S"
      }
    },
    {
      "cell_type": "code",
      "source": [
        "seq(from=0.1, to=2, by=0.1)"
      ],
      "metadata": {
        "colab": {
          "base_uri": "https://localhost:8080/",
          "height": 34
        },
        "id": "3MSGDwVQCA5Y",
        "outputId": "92c0414b-41b8-4d2f-bf3e-7df995ac52d1"
      },
      "execution_count": 2,
      "outputs": [
        {
          "output_type": "display_data",
          "data": {
            "text/html": [
              "<style>\n",
              ".list-inline {list-style: none; margin:0; padding: 0}\n",
              ".list-inline>li {display: inline-block}\n",
              ".list-inline>li:not(:last-child)::after {content: \"\\00b7\"; padding: 0 .5ex}\n",
              "</style>\n",
              "<ol class=list-inline><li>0.1</li><li>0.2</li><li>0.3</li><li>0.4</li><li>0.5</li><li>0.6</li><li>0.7</li><li>0.8</li><li>0.9</li><li>1</li><li>1.1</li><li>1.2</li><li>1.3</li><li>1.4</li><li>1.5</li><li>1.6</li><li>1.7</li><li>1.8</li><li>1.9</li><li>2</li></ol>\n"
            ],
            "text/markdown": "1. 0.1\n2. 0.2\n3. 0.3\n4. 0.4\n5. 0.5\n6. 0.6\n7. 0.7\n8. 0.8\n9. 0.9\n10. 1\n11. 1.1\n12. 1.2\n13. 1.3\n14. 1.4\n15. 1.5\n16. 1.6\n17. 1.7\n18. 1.8\n19. 1.9\n20. 2\n\n\n",
            "text/latex": "\\begin{enumerate*}\n\\item 0.1\n\\item 0.2\n\\item 0.3\n\\item 0.4\n\\item 0.5\n\\item 0.6\n\\item 0.7\n\\item 0.8\n\\item 0.9\n\\item 1\n\\item 1.1\n\\item 1.2\n\\item 1.3\n\\item 1.4\n\\item 1.5\n\\item 1.6\n\\item 1.7\n\\item 1.8\n\\item 1.9\n\\item 2\n\\end{enumerate*}\n",
            "text/plain": [
              " [1] 0.1 0.2 0.3 0.4 0.5 0.6 0.7 0.8 0.9 1.0 1.1 1.2 1.3 1.4 1.5 1.6 1.7 1.8 1.9\n",
              "[20] 2.0"
            ]
          },
          "metadata": {}
        }
      ]
    },
    {
      "cell_type": "markdown",
      "source": [
        "Use Random number generating functions:"
      ],
      "metadata": {
        "id": "i-kusbBHCVqN"
      }
    },
    {
      "cell_type": "code",
      "source": [
        "# 10 uniformaly distributed random numbers between 0 and 1\n",
        "\n",
        "runif(10)"
      ],
      "metadata": {
        "colab": {
          "base_uri": "https://localhost:8080/",
          "height": 52
        },
        "id": "PZ2EJb8ICZAi",
        "outputId": "970bb114-9337-48ea-8ae4-0d64e4c5f11c"
      },
      "execution_count": 3,
      "outputs": [
        {
          "output_type": "display_data",
          "data": {
            "text/html": [
              "<style>\n",
              ".list-inline {list-style: none; margin:0; padding: 0}\n",
              ".list-inline>li {display: inline-block}\n",
              ".list-inline>li:not(:last-child)::after {content: \"\\00b7\"; padding: 0 .5ex}\n",
              "</style>\n",
              "<ol class=list-inline><li>0.0654902206733823</li><li>0.560927049955353</li><li>0.19699487881735</li><li>0.893917546141893</li><li>0.386095593916252</li><li>0.866449036402628</li><li>0.869894582079723</li><li>0.182633915217593</li><li>0.495834032539278</li><li>0.170835393946618</li></ol>\n"
            ],
            "text/markdown": "1. 0.0654902206733823\n2. 0.560927049955353\n3. 0.19699487881735\n4. 0.893917546141893\n5. 0.386095593916252\n6. 0.866449036402628\n7. 0.869894582079723\n8. 0.182633915217593\n9. 0.495834032539278\n10. 0.170835393946618\n\n\n",
            "text/latex": "\\begin{enumerate*}\n\\item 0.0654902206733823\n\\item 0.560927049955353\n\\item 0.19699487881735\n\\item 0.893917546141893\n\\item 0.386095593916252\n\\item 0.866449036402628\n\\item 0.869894582079723\n\\item 0.182633915217593\n\\item 0.495834032539278\n\\item 0.170835393946618\n\\end{enumerate*}\n",
            "text/plain": [
              " [1] 0.06549022 0.56092705 0.19699488 0.89391755 0.38609559 0.86644904\n",
              " [7] 0.86989458 0.18263392 0.49583403 0.17083539"
            ]
          },
          "metadata": {}
        }
      ]
    },
    {
      "cell_type": "code",
      "source": [
        "# 1,000 uniformaly distributed random numbers beween 1 and 100\n",
        "\n",
        "my.numbers <- runif(1000, 1, 10)\n",
        "\n",
        "my.numbers"
      ],
      "metadata": {
        "colab": {
          "base_uri": "https://localhost:8080/",
          "height": 885
        },
        "id": "SQ7Q9wVDClWC",
        "outputId": "4524cfef-8562-4685-b91c-95f8640da339"
      },
      "execution_count": 6,
      "outputs": [
        {
          "output_type": "display_data",
          "data": {
            "text/html": [
              "<style>\n",
              ".list-inline {list-style: none; margin:0; padding: 0}\n",
              ".list-inline>li {display: inline-block}\n",
              ".list-inline>li:not(:last-child)::after {content: \"\\00b7\"; padding: 0 .5ex}\n",
              "</style>\n",
              "<ol class=list-inline><li>8.99720076168887</li><li>8.00133975478821</li><li>4.99611031962559</li><li>3.63224190636538</li><li>2.62799694063142</li><li>3.14474575547501</li><li>3.61421753931791</li><li>6.37438828474842</li><li>1.94292516657151</li><li>2.99873095494695</li><li>8.37547162082046</li><li>5.48460653843358</li><li>8.93551179836504</li><li>4.33751978771761</li><li>9.28268568473868</li><li>8.03343603177927</li><li>5.77804960915819</li><li>7.9191630166024</li><li>8.70589442038909</li><li>9.93784399912693</li><li>9.61078616906889</li><li>8.46161589934491</li><li>6.09268076485023</li><li>4.45836984342895</li><li>6.06416655704379</li><li>6.01340064476244</li><li>1.08936393726617</li><li>9.61940711154602</li><li>3.00891091465019</li><li>9.43966485280544</li><li>4.05158733180724</li><li>1.59990111226216</li><li>2.41206416999921</li><li>6.24389763642102</li><li>1.11047755740583</li><li>5.07297536195256</li><li>2.10389808099717</li><li>2.31635915534571</li><li>4.80986823234707</li><li>6.11021039844491</li><li>8.83424915652722</li><li>3.25075723370537</li><li>9.29092442290857</li><li>3.55042558372952</li><li>2.96847150078975</li><li>8.17109435773455</li><li>9.70740308868699</li><li>8.31890174769796</li><li>6.61879040533677</li><li>2.29211066989228</li><li>5.84438958158717</li><li>5.20828959229402</li><li>3.82514836522751</li><li>8.99670654372312</li><li>2.73408290045336</li><li>3.79280309542082</li><li>1.13675131392665</li><li>4.7760082478635</li><li>9.58008625009097</li><li>6.87621973012574</li><li>8.56919754482806</li><li>8.58067974215373</li><li>7.79906370281242</li><li>2.01073442795314</li><li>6.71033898298629</li><li>4.09142921445891</li><li>7.14812914677896</li><li>4.48961641965434</li><li>6.44998024799861</li><li>2.41567673883401</li><li>1.76859398162924</li><li>8.87790004420094</li><li>7.10413416940719</li><li>1.58777793403715</li><li>5.99422162235714</li><li>7.76793868513778</li><li>6.32490837434307</li><li>5.70759862754494</li><li>4.6269360370934</li><li>1.26369117433205</li><li>3.61477615125477</li><li>5.48400710453279</li><li>1.55891785956919</li><li>5.34586715023033</li><li>5.14589925226755</li><li>5.50310092698783</li><li>4.60644540819339</li><li>9.88984866207466</li><li>1.62721937336028</li><li>2.16844744211994</li><li>2.82535243616439</li><li>3.32864349149168</li><li>5.26062006014399</li><li>9.5311174094677</li><li>7.27943493518978</li><li>8.29852292081341</li><li>3.37476573092863</li><li>5.41778350016102</li><li>4.60206782934256</li><li>6.21426401496865</li><li>3.4993610389065</li><li>9.9893158080522</li><li>1.99997295485809</li><li>6.3347331257537</li><li>8.13212477136403</li><li>8.92899511381984</li><li>6.51665966655128</li><li>6.17283765296452</li><li>4.02771610533819</li><li>7.72743181581609</li><li>6.41771004651673</li><li>5.35583819728345</li><li>4.69040397554636</li><li>8.20359062543139</li><li>2.3722477578558</li><li>7.11713848472573</li><li>8.42444543191232</li><li>4.71373585797846</li><li>9.73614857625216</li><li>6.21007941896096</li><li>5.056003495818</li><li>6.49461095710285</li><li>4.47556093195453</li><li>8.55675883195363</li><li>8.76321904407814</li><li>9.99312341958284</li><li>8.14248344372027</li><li>9.41593413846567</li><li>2.81105110934004</li><li>6.46658898075111</li><li>4.89096230524592</li><li>3.65375519031659</li><li>3.90458407020196</li><li>2.26445897039957</li><li>4.05721603753045</li><li>1.99602320720442</li><li>1.92438710411079</li><li>3.99768396629952</li><li>5.53675618139096</li><li>9.88566585141234</li><li>7.30130467005074</li><li>5.8791198884137</li><li>6.13007310335524</li><li>1.73331073112786</li><li>4.75495089124888</li><li>7.28482227143832</li><li>2.10248813172802</li><li>1.89273684914224</li><li>8.89955404982902</li><li>3.73103269771673</li><li>9.920471545076</li><li>1.13182444800623</li><li>4.24937628698535</li><li>1.69988973834552</li><li>7.29650340275839</li><li>9.36903517949395</li><li>3.81869902927428</li><li>8.18141774018295</li><li>7.24430497502908</li><li>6.56014755554497</li><li>9.29471361311153</li><li>2.34615775779821</li><li>2.15076146717183</li><li>1.27835441078059</li><li>4.98174601956271</li><li>8.32984471833333</li><li>5.03536919271573</li><li>4.67026989813894</li><li>6.48698423407041</li><li>4.09201815421693</li><li>4.65469234273769</li><li>9.84579108865</li><li>1.39675434399396</li><li>4.04396526701748</li><li>6.2289883911144</li><li>9.22869557072408</li><li>5.82498636213131</li><li>9.29867324931547</li><li>5.16634046146646</li><li>5.26505109039135</li><li>7.99563278094865</li><li>2.84254062664695</li><li>3.37528322963044</li><li>4.1525917481631</li><li>2.88872641976923</li><li>5.75176090560853</li><li>5.84743490512483</li><li>9.96596854482777</li><li>8.59286217205226</li><li>5.36193966958672</li><li>3.50025256955996</li><li>2.19778549671173</li><li>5.05338037293404</li><li>4.5620911216829</li><li>2.49860571091995</li><li>9.05966557911597</li><li>3.38894374738447</li><li>2.86087173991837</li><li>7.04757647309452</li><li>1.18387513002381</li><li>⋯</li><li>5.20817082491703</li><li>1.88429830735549</li><li>6.2834847595077</li><li>8.49011748610064</li><li>3.96931898780167</li><li>9.81111656548455</li><li>2.10627027694136</li><li>2.29305329662748</li><li>7.88171800831333</li><li>9.79706479096785</li><li>7.59892909089103</li><li>6.98607938829809</li><li>7.93343644216657</li><li>3.73401253973134</li><li>1.42433359241113</li><li>6.15340790897608</li><li>9.20376653340645</li><li>7.17077899165452</li><li>9.37061273329891</li><li>4.61882906453684</li><li>1.15801962418482</li><li>3.68693823763169</li><li>7.93963321251795</li><li>8.85662048333324</li><li>6.24873037775978</li><li>2.16560068167746</li><li>5.17757129808888</li><li>4.8907344348263</li><li>5.17274111323059</li><li>7.14843874494545</li><li>8.31855009542778</li><li>1.7898218575865</li><li>7.87635499425232</li><li>6.71062554349191</li><li>4.77063270914368</li><li>8.6860543738585</li><li>1.02197809400968</li><li>8.26109251379967</li><li>4.69909259979613</li><li>9.83966881874949</li><li>4.47943524038419</li><li>4.2086058256682</li><li>1.20651686331257</li><li>4.41012852685526</li><li>4.52262058248743</li><li>3.28027154505253</li><li>7.5863413142506</li><li>8.97228449210525</li><li>6.66928515885957</li><li>2.15235154563561</li><li>5.43395208241418</li><li>6.7678122764919</li><li>9.90685667516664</li><li>9.92223854246549</li><li>2.1314737922512</li><li>3.76970681990497</li><li>9.85640634363517</li><li>6.44789070659317</li><li>4.32959551969543</li><li>8.54494439903647</li><li>5.33249398926273</li><li>2.85129865305498</li><li>5.96923433290794</li><li>9.8998361795675</li><li>3.83183606574312</li><li>8.30427652737126</li><li>4.14678029180504</li><li>6.32073659007438</li><li>9.50517543591559</li><li>7.26671034283936</li><li>6.69274444621988</li><li>5.89799240138382</li><li>1.6420400030911</li><li>2.30264611868188</li><li>6.95307676983066</li><li>7.49747661990114</li><li>1.15440867096186</li><li>9.92645450145938</li><li>3.74835585989058</li><li>5.21517003676854</li><li>6.46842014160939</li><li>8.92527713417076</li><li>2.99362204247154</li><li>6.87460933811963</li><li>8.92131238500588</li><li>2.18076542415656</li><li>9.42868150444701</li><li>2.43827912746929</li><li>9.89043556712568</li><li>5.49872578098439</li><li>4.68695680052042</li><li>8.5736870681867</li><li>1.01776002906263</li><li>6.14940826804377</li><li>2.61161758285016</li><li>8.58759207976982</li><li>9.22657383652404</li><li>6.20871503790841</li><li>3.9785302656237</li><li>2.84199657617137</li><li>4.41230643866584</li><li>6.04695363994688</li><li>4.01616618642583</li><li>7.80659008398652</li><li>2.49626977718435</li><li>5.25719851907343</li><li>7.77370854420587</li><li>6.11163413384929</li><li>3.99120951187797</li><li>7.8064580145292</li><li>2.07675870228559</li><li>4.59446955868043</li><li>6.63275664043613</li><li>2.01758404797874</li><li>5.32599045801908</li><li>1.67520633270033</li><li>7.94765179581009</li><li>1.89995180279948</li><li>7.22620377945714</li><li>5.49655937333591</li><li>2.97780399979092</li><li>6.9636343929451</li><li>6.10930264461786</li><li>3.27338728471659</li><li>8.85369148594327</li><li>6.62707618484274</li><li>2.73115312564187</li><li>6.66701879701577</li><li>7.67537776217796</li><li>3.82690420839936</li><li>8.15784473554231</li><li>2.30957862944342</li><li>2.22684639319777</li><li>7.25287992181256</li><li>8.03202650370076</li><li>8.24504116713069</li><li>7.36060450179502</li><li>2.43348688539118</li><li>9.41357628186233</li><li>2.9064902102109</li><li>2.48035831609741</li><li>9.91607343475334</li><li>2.33100883406587</li><li>5.92518468038179</li><li>8.67014120076783</li><li>6.69831328419968</li><li>9.50634595612064</li><li>7.22336443071254</li><li>6.97612425219268</li><li>6.18958559446037</li><li>8.42996004945599</li><li>5.51111381058581</li><li>7.74914865009487</li><li>5.12388411862776</li><li>5.5692005106248</li><li>3.70635037333705</li><li>5.22915960918181</li><li>3.98937738290988</li><li>4.5221035531722</li><li>2.15510665206239</li><li>9.09456041641533</li><li>5.04853539192118</li><li>8.02411167370155</li><li>8.1464013569057</li><li>2.68033632053994</li><li>7.66469673230313</li><li>1.42173860548064</li><li>1.02949841925874</li><li>4.27996876882389</li><li>3.52712837094441</li><li>9.48258213535883</li><li>2.22115832474083</li><li>8.52225592616014</li><li>6.52605169382878</li><li>3.27823736402206</li><li>8.64382118661888</li><li>5.33146638679318</li><li>8.43813848821446</li><li>8.05815093033016</li><li>8.96086426638067</li><li>1.40948210051283</li><li>3.08605156023987</li><li>1.66512634186074</li><li>4.10148836160079</li><li>9.17603136692196</li><li>6.91915580071509</li><li>4.20699056587182</li><li>6.2339578664396</li><li>7.46355983335525</li><li>5.16963324812241</li><li>6.58076226175763</li><li>2.29163701902144</li><li>5.26091805985197</li><li>1.76166031416506</li><li>1.71910408209078</li><li>5.11902400199324</li><li>1.7298005304765</li><li>4.13618397573009</li><li>8.99103832780384</li><li>1.12207878194749</li></ol>\n"
            ],
            "text/markdown": "1. 8.99720076168887\n2. 8.00133975478821\n3. 4.99611031962559\n4. 3.63224190636538\n5. 2.62799694063142\n6. 3.14474575547501\n7. 3.61421753931791\n8. 6.37438828474842\n9. 1.94292516657151\n10. 2.99873095494695\n11. 8.37547162082046\n12. 5.48460653843358\n13. 8.93551179836504\n14. 4.33751978771761\n15. 9.28268568473868\n16. 8.03343603177927\n17. 5.77804960915819\n18. 7.9191630166024\n19. 8.70589442038909\n20. 9.93784399912693\n21. 9.61078616906889\n22. 8.46161589934491\n23. 6.09268076485023\n24. 4.45836984342895\n25. 6.06416655704379\n26. 6.01340064476244\n27. 1.08936393726617\n28. 9.61940711154602\n29. 3.00891091465019\n30. 9.43966485280544\n31. 4.05158733180724\n32. 1.59990111226216\n33. 2.41206416999921\n34. 6.24389763642102\n35. 1.11047755740583\n36. 5.07297536195256\n37. 2.10389808099717\n38. 2.31635915534571\n39. 4.80986823234707\n40. 6.11021039844491\n41. 8.83424915652722\n42. 3.25075723370537\n43. 9.29092442290857\n44. 3.55042558372952\n45. 2.96847150078975\n46. 8.17109435773455\n47. 9.70740308868699\n48. 8.31890174769796\n49. 6.61879040533677\n50. 2.29211066989228\n51. 5.84438958158717\n52. 5.20828959229402\n53. 3.82514836522751\n54. 8.99670654372312\n55. 2.73408290045336\n56. 3.79280309542082\n57. 1.13675131392665\n58. 4.7760082478635\n59. 9.58008625009097\n60. 6.87621973012574\n61. 8.56919754482806\n62. 8.58067974215373\n63. 7.79906370281242\n64. 2.01073442795314\n65. 6.71033898298629\n66. 4.09142921445891\n67. 7.14812914677896\n68. 4.48961641965434\n69. 6.44998024799861\n70. 2.41567673883401\n71. 1.76859398162924\n72. 8.87790004420094\n73. 7.10413416940719\n74. 1.58777793403715\n75. 5.99422162235714\n76. 7.76793868513778\n77. 6.32490837434307\n78. 5.70759862754494\n79. 4.6269360370934\n80. 1.26369117433205\n81. 3.61477615125477\n82. 5.48400710453279\n83. 1.55891785956919\n84. 5.34586715023033\n85. 5.14589925226755\n86. 5.50310092698783\n87. 4.60644540819339\n88. 9.88984866207466\n89. 1.62721937336028\n90. 2.16844744211994\n91. 2.82535243616439\n92. 3.32864349149168\n93. 5.26062006014399\n94. 9.5311174094677\n95. 7.27943493518978\n96. 8.29852292081341\n97. 3.37476573092863\n98. 5.41778350016102\n99. 4.60206782934256\n100. 6.21426401496865\n101. 3.4993610389065\n102. 9.9893158080522\n103. 1.99997295485809\n104. 6.3347331257537\n105. 8.13212477136403\n106. 8.92899511381984\n107. 6.51665966655128\n108. 6.17283765296452\n109. 4.02771610533819\n110. 7.72743181581609\n111. 6.41771004651673\n112. 5.35583819728345\n113. 4.69040397554636\n114. 8.20359062543139\n115. 2.3722477578558\n116. 7.11713848472573\n117. 8.42444543191232\n118. 4.71373585797846\n119. 9.73614857625216\n120. 6.21007941896096\n121. 5.056003495818\n122. 6.49461095710285\n123. 4.47556093195453\n124. 8.55675883195363\n125. 8.76321904407814\n126. 9.99312341958284\n127. 8.14248344372027\n128. 9.41593413846567\n129. 2.81105110934004\n130. 6.46658898075111\n131. 4.89096230524592\n132. 3.65375519031659\n133. 3.90458407020196\n134. 2.26445897039957\n135. 4.05721603753045\n136. 1.99602320720442\n137. 1.92438710411079\n138. 3.99768396629952\n139. 5.53675618139096\n140. 9.88566585141234\n141. 7.30130467005074\n142. 5.8791198884137\n143. 6.13007310335524\n144. 1.73331073112786\n145. 4.75495089124888\n146. 7.28482227143832\n147. 2.10248813172802\n148. 1.89273684914224\n149. 8.89955404982902\n150. 3.73103269771673\n151. 9.920471545076\n152. 1.13182444800623\n153. 4.24937628698535\n154. 1.69988973834552\n155. 7.29650340275839\n156. 9.36903517949395\n157. 3.81869902927428\n158. 8.18141774018295\n159. 7.24430497502908\n160. 6.56014755554497\n161. 9.29471361311153\n162. 2.34615775779821\n163. 2.15076146717183\n164. 1.27835441078059\n165. 4.98174601956271\n166. 8.32984471833333\n167. 5.03536919271573\n168. 4.67026989813894\n169. 6.48698423407041\n170. 4.09201815421693\n171. 4.65469234273769\n172. 9.84579108865\n173. 1.39675434399396\n174. 4.04396526701748\n175. 6.2289883911144\n176. 9.22869557072408\n177. 5.82498636213131\n178. 9.29867324931547\n179. 5.16634046146646\n180. 5.26505109039135\n181. 7.99563278094865\n182. 2.84254062664695\n183. 3.37528322963044\n184. 4.1525917481631\n185. 2.88872641976923\n186. 5.75176090560853\n187. 5.84743490512483\n188. 9.96596854482777\n189. 8.59286217205226\n190. 5.36193966958672\n191. 3.50025256955996\n192. 2.19778549671173\n193. 5.05338037293404\n194. 4.5620911216829\n195. 2.49860571091995\n196. 9.05966557911597\n197. 3.38894374738447\n198. 2.86087173991837\n199. 7.04757647309452\n200. 1.18387513002381\n201. ⋯\n202. 5.20817082491703\n203. 1.88429830735549\n204. 6.2834847595077\n205. 8.49011748610064\n206. 3.96931898780167\n207. 9.81111656548455\n208. 2.10627027694136\n209. 2.29305329662748\n210. 7.88171800831333\n211. 9.79706479096785\n212. 7.59892909089103\n213. 6.98607938829809\n214. 7.93343644216657\n215. 3.73401253973134\n216. 1.42433359241113\n217. 6.15340790897608\n218. 9.20376653340645\n219. 7.17077899165452\n220. 9.37061273329891\n221. 4.61882906453684\n222. 1.15801962418482\n223. 3.68693823763169\n224. 7.93963321251795\n225. 8.85662048333324\n226. 6.24873037775978\n227. 2.16560068167746\n228. 5.17757129808888\n229. 4.8907344348263\n230. 5.17274111323059\n231. 7.14843874494545\n232. 8.31855009542778\n233. 1.7898218575865\n234. 7.87635499425232\n235. 6.71062554349191\n236. 4.77063270914368\n237. 8.6860543738585\n238. 1.02197809400968\n239. 8.26109251379967\n240. 4.69909259979613\n241. 9.83966881874949\n242. 4.47943524038419\n243. 4.2086058256682\n244. 1.20651686331257\n245. 4.41012852685526\n246. 4.52262058248743\n247. 3.28027154505253\n248. 7.5863413142506\n249. 8.97228449210525\n250. 6.66928515885957\n251. 2.15235154563561\n252. 5.43395208241418\n253. 6.7678122764919\n254. 9.90685667516664\n255. 9.92223854246549\n256. 2.1314737922512\n257. 3.76970681990497\n258. 9.85640634363517\n259. 6.44789070659317\n260. 4.32959551969543\n261. 8.54494439903647\n262. 5.33249398926273\n263. 2.85129865305498\n264. 5.96923433290794\n265. 9.8998361795675\n266. 3.83183606574312\n267. 8.30427652737126\n268. 4.14678029180504\n269. 6.32073659007438\n270. 9.50517543591559\n271. 7.26671034283936\n272. 6.69274444621988\n273. 5.89799240138382\n274. 1.6420400030911\n275. 2.30264611868188\n276. 6.95307676983066\n277. 7.49747661990114\n278. 1.15440867096186\n279. 9.92645450145938\n280. 3.74835585989058\n281. 5.21517003676854\n282. 6.46842014160939\n283. 8.92527713417076\n284. 2.99362204247154\n285. 6.87460933811963\n286. 8.92131238500588\n287. 2.18076542415656\n288. 9.42868150444701\n289. 2.43827912746929\n290. 9.89043556712568\n291. 5.49872578098439\n292. 4.68695680052042\n293. 8.5736870681867\n294. 1.01776002906263\n295. 6.14940826804377\n296. 2.61161758285016\n297. 8.58759207976982\n298. 9.22657383652404\n299. 6.20871503790841\n300. 3.9785302656237\n301. 2.84199657617137\n302. 4.41230643866584\n303. 6.04695363994688\n304. 4.01616618642583\n305. 7.80659008398652\n306. 2.49626977718435\n307. 5.25719851907343\n308. 7.77370854420587\n309. 6.11163413384929\n310. 3.99120951187797\n311. 7.8064580145292\n312. 2.07675870228559\n313. 4.59446955868043\n314. 6.63275664043613\n315. 2.01758404797874\n316. 5.32599045801908\n317. 1.67520633270033\n318. 7.94765179581009\n319. 1.89995180279948\n320. 7.22620377945714\n321. 5.49655937333591\n322. 2.97780399979092\n323. 6.9636343929451\n324. 6.10930264461786\n325. 3.27338728471659\n326. 8.85369148594327\n327. 6.62707618484274\n328. 2.73115312564187\n329. 6.66701879701577\n330. 7.67537776217796\n331. 3.82690420839936\n332. 8.15784473554231\n333. 2.30957862944342\n334. 2.22684639319777\n335. 7.25287992181256\n336. 8.03202650370076\n337. 8.24504116713069\n338. 7.36060450179502\n339. 2.43348688539118\n340. 9.41357628186233\n341. 2.9064902102109\n342. 2.48035831609741\n343. 9.91607343475334\n344. 2.33100883406587\n345. 5.92518468038179\n346. 8.67014120076783\n347. 6.69831328419968\n348. 9.50634595612064\n349. 7.22336443071254\n350. 6.97612425219268\n351. 6.18958559446037\n352. 8.42996004945599\n353. 5.51111381058581\n354. 7.74914865009487\n355. 5.12388411862776\n356. 5.5692005106248\n357. 3.70635037333705\n358. 5.22915960918181\n359. 3.98937738290988\n360. 4.5221035531722\n361. 2.15510665206239\n362. 9.09456041641533\n363. 5.04853539192118\n364. 8.02411167370155\n365. 8.1464013569057\n366. 2.68033632053994\n367. 7.66469673230313\n368. 1.42173860548064\n369. 1.02949841925874\n370. 4.27996876882389\n371. 3.52712837094441\n372. 9.48258213535883\n373. 2.22115832474083\n374. 8.52225592616014\n375. 6.52605169382878\n376. 3.27823736402206\n377. 8.64382118661888\n378. 5.33146638679318\n379. 8.43813848821446\n380. 8.05815093033016\n381. 8.96086426638067\n382. 1.40948210051283\n383. 3.08605156023987\n384. 1.66512634186074\n385. 4.10148836160079\n386. 9.17603136692196\n387. 6.91915580071509\n388. 4.20699056587182\n389. 6.2339578664396\n390. 7.46355983335525\n391. 5.16963324812241\n392. 6.58076226175763\n393. 2.29163701902144\n394. 5.26091805985197\n395. 1.76166031416506\n396. 1.71910408209078\n397. 5.11902400199324\n398. 1.7298005304765\n399. 4.13618397573009\n400. 8.99103832780384\n401. 1.12207878194749\n\n\n",
            "text/latex": "\\begin{enumerate*}\n\\item 8.99720076168887\n\\item 8.00133975478821\n\\item 4.99611031962559\n\\item 3.63224190636538\n\\item 2.62799694063142\n\\item 3.14474575547501\n\\item 3.61421753931791\n\\item 6.37438828474842\n\\item 1.94292516657151\n\\item 2.99873095494695\n\\item 8.37547162082046\n\\item 5.48460653843358\n\\item 8.93551179836504\n\\item 4.33751978771761\n\\item 9.28268568473868\n\\item 8.03343603177927\n\\item 5.77804960915819\n\\item 7.9191630166024\n\\item 8.70589442038909\n\\item 9.93784399912693\n\\item 9.61078616906889\n\\item 8.46161589934491\n\\item 6.09268076485023\n\\item 4.45836984342895\n\\item 6.06416655704379\n\\item 6.01340064476244\n\\item 1.08936393726617\n\\item 9.61940711154602\n\\item 3.00891091465019\n\\item 9.43966485280544\n\\item 4.05158733180724\n\\item 1.59990111226216\n\\item 2.41206416999921\n\\item 6.24389763642102\n\\item 1.11047755740583\n\\item 5.07297536195256\n\\item 2.10389808099717\n\\item 2.31635915534571\n\\item 4.80986823234707\n\\item 6.11021039844491\n\\item 8.83424915652722\n\\item 3.25075723370537\n\\item 9.29092442290857\n\\item 3.55042558372952\n\\item 2.96847150078975\n\\item 8.17109435773455\n\\item 9.70740308868699\n\\item 8.31890174769796\n\\item 6.61879040533677\n\\item 2.29211066989228\n\\item 5.84438958158717\n\\item 5.20828959229402\n\\item 3.82514836522751\n\\item 8.99670654372312\n\\item 2.73408290045336\n\\item 3.79280309542082\n\\item 1.13675131392665\n\\item 4.7760082478635\n\\item 9.58008625009097\n\\item 6.87621973012574\n\\item 8.56919754482806\n\\item 8.58067974215373\n\\item 7.79906370281242\n\\item 2.01073442795314\n\\item 6.71033898298629\n\\item 4.09142921445891\n\\item 7.14812914677896\n\\item 4.48961641965434\n\\item 6.44998024799861\n\\item 2.41567673883401\n\\item 1.76859398162924\n\\item 8.87790004420094\n\\item 7.10413416940719\n\\item 1.58777793403715\n\\item 5.99422162235714\n\\item 7.76793868513778\n\\item 6.32490837434307\n\\item 5.70759862754494\n\\item 4.6269360370934\n\\item 1.26369117433205\n\\item 3.61477615125477\n\\item 5.48400710453279\n\\item 1.55891785956919\n\\item 5.34586715023033\n\\item 5.14589925226755\n\\item 5.50310092698783\n\\item 4.60644540819339\n\\item 9.88984866207466\n\\item 1.62721937336028\n\\item 2.16844744211994\n\\item 2.82535243616439\n\\item 3.32864349149168\n\\item 5.26062006014399\n\\item 9.5311174094677\n\\item 7.27943493518978\n\\item 8.29852292081341\n\\item 3.37476573092863\n\\item 5.41778350016102\n\\item 4.60206782934256\n\\item 6.21426401496865\n\\item 3.4993610389065\n\\item 9.9893158080522\n\\item 1.99997295485809\n\\item 6.3347331257537\n\\item 8.13212477136403\n\\item 8.92899511381984\n\\item 6.51665966655128\n\\item 6.17283765296452\n\\item 4.02771610533819\n\\item 7.72743181581609\n\\item 6.41771004651673\n\\item 5.35583819728345\n\\item 4.69040397554636\n\\item 8.20359062543139\n\\item 2.3722477578558\n\\item 7.11713848472573\n\\item 8.42444543191232\n\\item 4.71373585797846\n\\item 9.73614857625216\n\\item 6.21007941896096\n\\item 5.056003495818\n\\item 6.49461095710285\n\\item 4.47556093195453\n\\item 8.55675883195363\n\\item 8.76321904407814\n\\item 9.99312341958284\n\\item 8.14248344372027\n\\item 9.41593413846567\n\\item 2.81105110934004\n\\item 6.46658898075111\n\\item 4.89096230524592\n\\item 3.65375519031659\n\\item 3.90458407020196\n\\item 2.26445897039957\n\\item 4.05721603753045\n\\item 1.99602320720442\n\\item 1.92438710411079\n\\item 3.99768396629952\n\\item 5.53675618139096\n\\item 9.88566585141234\n\\item 7.30130467005074\n\\item 5.8791198884137\n\\item 6.13007310335524\n\\item 1.73331073112786\n\\item 4.75495089124888\n\\item 7.28482227143832\n\\item 2.10248813172802\n\\item 1.89273684914224\n\\item 8.89955404982902\n\\item 3.73103269771673\n\\item 9.920471545076\n\\item 1.13182444800623\n\\item 4.24937628698535\n\\item 1.69988973834552\n\\item 7.29650340275839\n\\item 9.36903517949395\n\\item 3.81869902927428\n\\item 8.18141774018295\n\\item 7.24430497502908\n\\item 6.56014755554497\n\\item 9.29471361311153\n\\item 2.34615775779821\n\\item 2.15076146717183\n\\item 1.27835441078059\n\\item 4.98174601956271\n\\item 8.32984471833333\n\\item 5.03536919271573\n\\item 4.67026989813894\n\\item 6.48698423407041\n\\item 4.09201815421693\n\\item 4.65469234273769\n\\item 9.84579108865\n\\item 1.39675434399396\n\\item 4.04396526701748\n\\item 6.2289883911144\n\\item 9.22869557072408\n\\item 5.82498636213131\n\\item 9.29867324931547\n\\item 5.16634046146646\n\\item 5.26505109039135\n\\item 7.99563278094865\n\\item 2.84254062664695\n\\item 3.37528322963044\n\\item 4.1525917481631\n\\item 2.88872641976923\n\\item 5.75176090560853\n\\item 5.84743490512483\n\\item 9.96596854482777\n\\item 8.59286217205226\n\\item 5.36193966958672\n\\item 3.50025256955996\n\\item 2.19778549671173\n\\item 5.05338037293404\n\\item 4.5620911216829\n\\item 2.49860571091995\n\\item 9.05966557911597\n\\item 3.38894374738447\n\\item 2.86087173991837\n\\item 7.04757647309452\n\\item 1.18387513002381\n\\item ⋯\n\\item 5.20817082491703\n\\item 1.88429830735549\n\\item 6.2834847595077\n\\item 8.49011748610064\n\\item 3.96931898780167\n\\item 9.81111656548455\n\\item 2.10627027694136\n\\item 2.29305329662748\n\\item 7.88171800831333\n\\item 9.79706479096785\n\\item 7.59892909089103\n\\item 6.98607938829809\n\\item 7.93343644216657\n\\item 3.73401253973134\n\\item 1.42433359241113\n\\item 6.15340790897608\n\\item 9.20376653340645\n\\item 7.17077899165452\n\\item 9.37061273329891\n\\item 4.61882906453684\n\\item 1.15801962418482\n\\item 3.68693823763169\n\\item 7.93963321251795\n\\item 8.85662048333324\n\\item 6.24873037775978\n\\item 2.16560068167746\n\\item 5.17757129808888\n\\item 4.8907344348263\n\\item 5.17274111323059\n\\item 7.14843874494545\n\\item 8.31855009542778\n\\item 1.7898218575865\n\\item 7.87635499425232\n\\item 6.71062554349191\n\\item 4.77063270914368\n\\item 8.6860543738585\n\\item 1.02197809400968\n\\item 8.26109251379967\n\\item 4.69909259979613\n\\item 9.83966881874949\n\\item 4.47943524038419\n\\item 4.2086058256682\n\\item 1.20651686331257\n\\item 4.41012852685526\n\\item 4.52262058248743\n\\item 3.28027154505253\n\\item 7.5863413142506\n\\item 8.97228449210525\n\\item 6.66928515885957\n\\item 2.15235154563561\n\\item 5.43395208241418\n\\item 6.7678122764919\n\\item 9.90685667516664\n\\item 9.92223854246549\n\\item 2.1314737922512\n\\item 3.76970681990497\n\\item 9.85640634363517\n\\item 6.44789070659317\n\\item 4.32959551969543\n\\item 8.54494439903647\n\\item 5.33249398926273\n\\item 2.85129865305498\n\\item 5.96923433290794\n\\item 9.8998361795675\n\\item 3.83183606574312\n\\item 8.30427652737126\n\\item 4.14678029180504\n\\item 6.32073659007438\n\\item 9.50517543591559\n\\item 7.26671034283936\n\\item 6.69274444621988\n\\item 5.89799240138382\n\\item 1.6420400030911\n\\item 2.30264611868188\n\\item 6.95307676983066\n\\item 7.49747661990114\n\\item 1.15440867096186\n\\item 9.92645450145938\n\\item 3.74835585989058\n\\item 5.21517003676854\n\\item 6.46842014160939\n\\item 8.92527713417076\n\\item 2.99362204247154\n\\item 6.87460933811963\n\\item 8.92131238500588\n\\item 2.18076542415656\n\\item 9.42868150444701\n\\item 2.43827912746929\n\\item 9.89043556712568\n\\item 5.49872578098439\n\\item 4.68695680052042\n\\item 8.5736870681867\n\\item 1.01776002906263\n\\item 6.14940826804377\n\\item 2.61161758285016\n\\item 8.58759207976982\n\\item 9.22657383652404\n\\item 6.20871503790841\n\\item 3.9785302656237\n\\item 2.84199657617137\n\\item 4.41230643866584\n\\item 6.04695363994688\n\\item 4.01616618642583\n\\item 7.80659008398652\n\\item 2.49626977718435\n\\item 5.25719851907343\n\\item 7.77370854420587\n\\item 6.11163413384929\n\\item 3.99120951187797\n\\item 7.8064580145292\n\\item 2.07675870228559\n\\item 4.59446955868043\n\\item 6.63275664043613\n\\item 2.01758404797874\n\\item 5.32599045801908\n\\item 1.67520633270033\n\\item 7.94765179581009\n\\item 1.89995180279948\n\\item 7.22620377945714\n\\item 5.49655937333591\n\\item 2.97780399979092\n\\item 6.9636343929451\n\\item 6.10930264461786\n\\item 3.27338728471659\n\\item 8.85369148594327\n\\item 6.62707618484274\n\\item 2.73115312564187\n\\item 6.66701879701577\n\\item 7.67537776217796\n\\item 3.82690420839936\n\\item 8.15784473554231\n\\item 2.30957862944342\n\\item 2.22684639319777\n\\item 7.25287992181256\n\\item 8.03202650370076\n\\item 8.24504116713069\n\\item 7.36060450179502\n\\item 2.43348688539118\n\\item 9.41357628186233\n\\item 2.9064902102109\n\\item 2.48035831609741\n\\item 9.91607343475334\n\\item 2.33100883406587\n\\item 5.92518468038179\n\\item 8.67014120076783\n\\item 6.69831328419968\n\\item 9.50634595612064\n\\item 7.22336443071254\n\\item 6.97612425219268\n\\item 6.18958559446037\n\\item 8.42996004945599\n\\item 5.51111381058581\n\\item 7.74914865009487\n\\item 5.12388411862776\n\\item 5.5692005106248\n\\item 3.70635037333705\n\\item 5.22915960918181\n\\item 3.98937738290988\n\\item 4.5221035531722\n\\item 2.15510665206239\n\\item 9.09456041641533\n\\item 5.04853539192118\n\\item 8.02411167370155\n\\item 8.1464013569057\n\\item 2.68033632053994\n\\item 7.66469673230313\n\\item 1.42173860548064\n\\item 1.02949841925874\n\\item 4.27996876882389\n\\item 3.52712837094441\n\\item 9.48258213535883\n\\item 2.22115832474083\n\\item 8.52225592616014\n\\item 6.52605169382878\n\\item 3.27823736402206\n\\item 8.64382118661888\n\\item 5.33146638679318\n\\item 8.43813848821446\n\\item 8.05815093033016\n\\item 8.96086426638067\n\\item 1.40948210051283\n\\item 3.08605156023987\n\\item 1.66512634186074\n\\item 4.10148836160079\n\\item 9.17603136692196\n\\item 6.91915580071509\n\\item 4.20699056587182\n\\item 6.2339578664396\n\\item 7.46355983335525\n\\item 5.16963324812241\n\\item 6.58076226175763\n\\item 2.29163701902144\n\\item 5.26091805985197\n\\item 1.76166031416506\n\\item 1.71910408209078\n\\item 5.11902400199324\n\\item 1.7298005304765\n\\item 4.13618397573009\n\\item 8.99103832780384\n\\item 1.12207878194749\n\\end{enumerate*}\n",
            "text/plain": [
              "   [1] 8.997201 8.001340 4.996110 3.632242 2.627997 3.144746 3.614218 6.374388\n",
              "   [9] 1.942925 2.998731 8.375472 5.484607 8.935512 4.337520 9.282686 8.033436\n",
              "  [17] 5.778050 7.919163 8.705894 9.937844 9.610786 8.461616 6.092681 4.458370\n",
              "  [25] 6.064167 6.013401 1.089364 9.619407 3.008911 9.439665 4.051587 1.599901\n",
              "  [33] 2.412064 6.243898 1.110478 5.072975 2.103898 2.316359 4.809868 6.110210\n",
              "  [41] 8.834249 3.250757 9.290924 3.550426 2.968472 8.171094 9.707403 8.318902\n",
              "  [49] 6.618790 2.292111 5.844390 5.208290 3.825148 8.996707 2.734083 3.792803\n",
              "  [57] 1.136751 4.776008 9.580086 6.876220 8.569198 8.580680 7.799064 2.010734\n",
              "  [65] 6.710339 4.091429 7.148129 4.489616 6.449980 2.415677 1.768594 8.877900\n",
              "  [73] 7.104134 1.587778 5.994222 7.767939 6.324908 5.707599 4.626936 1.263691\n",
              "  [81] 3.614776 5.484007 1.558918 5.345867 5.145899 5.503101 4.606445 9.889849\n",
              "  [89] 1.627219 2.168447 2.825352 3.328643 5.260620 9.531117 7.279435 8.298523\n",
              "  [97] 3.374766 5.417784 4.602068 6.214264 3.499361 9.989316 1.999973 6.334733\n",
              " [105] 8.132125 8.928995 6.516660 6.172838 4.027716 7.727432 6.417710 5.355838\n",
              " [113] 4.690404 8.203591 2.372248 7.117138 8.424445 4.713736 9.736149 6.210079\n",
              " [121] 5.056003 6.494611 4.475561 8.556759 8.763219 9.993123 8.142483 9.415934\n",
              " [129] 2.811051 6.466589 4.890962 3.653755 3.904584 2.264459 4.057216 1.996023\n",
              " [137] 1.924387 3.997684 5.536756 9.885666 7.301305 5.879120 6.130073 1.733311\n",
              " [145] 4.754951 7.284822 2.102488 1.892737 8.899554 3.731033 9.920472 1.131824\n",
              " [153] 4.249376 1.699890 7.296503 9.369035 3.818699 8.181418 7.244305 6.560148\n",
              " [161] 9.294714 2.346158 2.150761 1.278354 4.981746 8.329845 5.035369 4.670270\n",
              " [169] 6.486984 4.092018 4.654692 9.845791 1.396754 4.043965 6.228988 9.228696\n",
              " [177] 5.824986 9.298673 5.166340 5.265051 7.995633 2.842541 3.375283 4.152592\n",
              " [185] 2.888726 5.751761 5.847435 9.965969 8.592862 5.361940 3.500253 2.197785\n",
              " [193] 5.053380 4.562091 2.498606 9.059666 3.388944 2.860872 7.047576 1.183875\n",
              " [201] 9.022842 3.107127 8.374053 5.967008 6.786955 5.532457 7.155202 8.877747\n",
              " [209] 6.053367 3.001477 8.235591 9.666615 6.209458 9.323563 3.475985 9.686039\n",
              " [217] 5.420211 8.320773 6.122468 3.687939 5.915713 2.021350 6.061907 8.024433\n",
              " [225] 6.051518 3.107266 9.142448 3.937046 3.884666 2.085478 6.789151 5.335494\n",
              " [233] 6.367799 8.176292 2.222873 7.701032 1.925447 8.737561 2.272754 2.327510\n",
              " [241] 2.147325 3.336259 4.376947 7.450784 4.244083 1.012710 4.625461 9.615005\n",
              " [249] 8.463553 9.177182 8.866957 5.920410 3.624224 5.759039 9.962387 5.426721\n",
              " [257] 5.830425 9.255814 2.996523 5.128810 3.861556 9.435367 4.634880 2.146802\n",
              " [265] 4.040026 4.699314 9.903505 2.965295 3.985642 6.595965 2.400867 2.285184\n",
              " [273] 5.365078 9.187676 5.777399 6.697405 7.125031 5.762625 9.567107 2.663721\n",
              " [281] 5.100630 7.505214 6.820054 8.011186 2.179111 7.303236 8.267014 4.627420\n",
              " [289] 8.305093 4.889097 8.885833 3.950559 5.282345 7.740704 9.169899 3.347542\n",
              " [297] 8.888485 4.521052 4.872151 6.560151 7.557371 1.729580 7.927165 4.785723\n",
              " [305] 7.216230 2.962875 5.569328 8.495487 9.201373 8.071541 1.593790 1.987623\n",
              " [313] 9.127429 3.737266 2.948775 6.894932 4.301774 8.268920 2.251898 7.792561\n",
              " [321] 3.362316 7.588828 5.078789 3.157239 7.736759 2.943447 7.081068 5.700418\n",
              " [329] 1.054994 3.981841 4.999935 6.028702 5.034565 2.176989 4.139614 2.218280\n",
              " [337] 1.226714 9.086663 9.728834 7.433141 2.434032 5.640078 3.310689 5.539619\n",
              " [345] 4.236384 7.204844 9.085679 7.913214 9.780851 8.413712 1.257996 1.632223\n",
              " [353] 6.276334 4.298582 9.965917 7.895660 1.939897 1.533721 9.898926 6.963708\n",
              " [361] 7.072199 8.019668 3.773321 6.608497 9.965261 2.480201 9.445810 5.525915\n",
              " [369] 7.936661 8.327453 8.885492 9.067119 8.817817 3.890248 4.742438 3.502579\n",
              " [377] 4.329385 8.334521 3.460035 9.898557 9.929037 6.945194 5.056267 3.160334\n",
              " [385] 3.917865 3.746051 6.478680 9.890151 1.661105 4.210472 8.974967 5.023488\n",
              " [393] 9.598067 6.337048 1.998260 7.957174 2.168000 6.821632 7.278605 1.324970\n",
              " [401] 4.607776 2.355205 9.283469 1.306388 4.920845 7.236394 4.980654 6.637607\n",
              " [409] 2.494070 7.206808 6.545769 3.391210 6.907232 1.026022 6.502003 9.381896\n",
              " [417] 1.362357 4.859962 8.474511 9.529130 2.987465 6.152327 9.344660 8.029643\n",
              " [425] 3.710482 7.430539 5.797256 1.345383 5.402145 6.540121 2.459236 3.425723\n",
              " [433] 1.084317 7.064267 6.237032 1.726505 9.343165 7.807107 3.365164 8.740980\n",
              " [441] 8.751591 6.356020 5.196963 6.884092 1.593634 7.665314 7.786194 5.394960\n",
              " [449] 1.911190 8.879189 1.881608 1.201218 2.237710 9.589724 1.253631 3.150828\n",
              " [457] 8.904376 4.004036 3.520251 2.135574 8.009607 4.081395 9.283971 6.923995\n",
              " [465] 1.329881 6.566296 8.989838 2.160971 2.409428 8.847579 5.713995 1.550853\n",
              " [473] 6.439517 7.100312 7.490933 1.060713 9.000410 7.434846 9.439294 9.053907\n",
              " [481] 6.144333 6.448527 4.797580 1.886527 1.139919 9.383284 1.784360 8.351320\n",
              " [489] 5.225499 5.620107 4.546554 3.452346 4.942396 9.157030 9.086686 1.110989\n",
              " [497] 1.354085 8.624884 1.873900 6.024713 5.704214 5.191445 9.134090 8.295729\n",
              " [505] 8.859847 4.009216 8.293365 9.988018 3.678024 2.325816 8.106530 8.451812\n",
              " [513] 1.849374 3.746834 3.264154 6.969976 5.507595 9.594145 3.848407 5.695297\n",
              " [521] 7.571740 8.910490 2.162143 9.735032 2.973248 7.348939 6.147181 9.526847\n",
              " [529] 9.345369 3.437111 5.175496 5.305142 6.932830 6.080168 6.371926 2.794979\n",
              " [537] 1.160051 4.496446 1.847450 7.637182 6.597929 9.806322 8.876174 5.385437\n",
              " [545] 9.842369 7.149626 8.001836 9.090955 2.821064 2.851353 7.182240 5.723193\n",
              " [553] 6.313175 6.013323 9.904851 8.542369 2.030905 9.089856 4.252868 2.398924\n",
              " [561] 4.780785 2.668036 8.845619 6.644338 8.465982 5.328049 4.298982 3.773682\n",
              " [569] 7.617179 1.309275 1.202706 7.780645 7.854458 1.815565 2.748801 4.810637\n",
              " [577] 7.487098 5.799274 9.566229 1.044012 9.096819 3.912477 2.969446 2.384920\n",
              " [585] 5.247713 7.229433 8.374576 8.195489 6.688592 8.574809 4.591821 1.772834\n",
              " [593] 9.014963 7.639572 8.005722 2.698184 2.157811 5.265673 2.546848 7.809128\n",
              " [601] 8.892907 1.235064 2.084655 6.646779 6.110874 9.949043 5.830189 6.870561\n",
              " [609] 1.243294 9.326632 5.399166 1.146208 4.637233 7.370916 6.459476 7.319133\n",
              " [617] 1.976981 6.775215 7.206156 2.346524 6.525437 1.134212 6.602488 4.769559\n",
              " [625] 2.561570 8.817419 4.175347 8.567127 4.016623 6.269084 6.376856 7.148945\n",
              " [633] 7.538947 1.197181 8.406368 6.187769 3.370180 1.649044 9.407709 1.138321\n",
              " [641] 2.091047 6.986331 2.677880 5.355650 5.461256 8.060615 3.855703 6.903288\n",
              " [649] 8.168539 5.351921 7.337332 6.178368 8.686956 5.694187 1.535848 1.321701\n",
              " [657] 8.975453 2.924040 3.209042 2.580392 3.707166 7.369530 7.888522 2.362158\n",
              " [665] 3.842231 9.348841 3.557302 1.672918 7.263348 6.156414 2.743493 8.782615\n",
              " [673] 8.407856 3.931622 4.115504 2.468054 9.686468 7.357642 5.319133 4.373586\n",
              " [681] 7.941567 3.316129 5.754273 5.260379 1.544391 9.536915 2.100551 6.913066\n",
              " [689] 8.605462 3.829162 6.448301 8.712055 3.204138 5.412710 4.173181 6.511849\n",
              " [697] 3.009428 9.278870 7.083447 8.153552 4.830098 7.076607 8.215579 7.433700\n",
              " [705] 6.062742 1.487999 7.940695 2.081914 7.906242 5.202733 6.551431 6.034464\n",
              " [713] 6.848667 4.457679 1.733348 5.316283 2.292527 6.740659 9.967832 8.097830\n",
              " [721] 5.440944 5.202556 6.842500 4.761326 3.461395 9.709146 8.234496 2.560401\n",
              " [729] 8.090797 9.546915 7.782450 3.587551 4.288835 9.209476 4.297908 4.888085\n",
              " [737] 4.485462 6.467649 8.392850 8.006688 8.816901 9.797007 5.693863 7.775803\n",
              " [745] 8.776814 3.930620 8.862986 3.646582 9.829611 2.796176 7.805248 1.388416\n",
              " [753] 1.714862 1.266673 2.023886 5.999310 6.928843 2.049589 7.165455 2.127079\n",
              " [761] 4.596859 9.055459 8.066149 1.837112 9.480652 9.213875 6.496570 4.487765\n",
              " [769] 2.253724 8.690280 8.802552 9.258378 2.842481 5.371193 1.372788 9.428356\n",
              " [777] 7.458686 5.179189 8.785184 5.969471 4.797950 7.038054 5.219069 4.408778\n",
              " [785] 7.397556 4.930309 1.691804 6.124698 8.557956 3.262501 4.307564 7.014623\n",
              " [793] 1.567374 1.219360 9.085863 5.264189 6.503864 1.568076 8.755537 9.302144\n",
              " [801] 5.208171 1.884298 6.283485 8.490117 3.969319 9.811117 2.106270 2.293053\n",
              " [809] 7.881718 9.797065 7.598929 6.986079 7.933436 3.734013 1.424334 6.153408\n",
              " [817] 9.203767 7.170779 9.370613 4.618829 1.158020 3.686938 7.939633 8.856620\n",
              " [825] 6.248730 2.165601 5.177571 4.890734 5.172741 7.148439 8.318550 1.789822\n",
              " [833] 7.876355 6.710626 4.770633 8.686054 1.021978 8.261093 4.699093 9.839669\n",
              " [841] 4.479435 4.208606 1.206517 4.410129 4.522621 3.280272 7.586341 8.972284\n",
              " [849] 6.669285 2.152352 5.433952 6.767812 9.906857 9.922239 2.131474 3.769707\n",
              " [857] 9.856406 6.447891 4.329596 8.544944 5.332494 2.851299 5.969234 9.899836\n",
              " [865] 3.831836 8.304277 4.146780 6.320737 9.505175 7.266710 6.692744 5.897992\n",
              " [873] 1.642040 2.302646 6.953077 7.497477 1.154409 9.926455 3.748356 5.215170\n",
              " [881] 6.468420 8.925277 2.993622 6.874609 8.921312 2.180765 9.428682 2.438279\n",
              " [889] 9.890436 5.498726 4.686957 8.573687 1.017760 6.149408 2.611618 8.587592\n",
              " [897] 9.226574 6.208715 3.978530 2.841997 4.412306 6.046954 4.016166 7.806590\n",
              " [905] 2.496270 5.257199 7.773709 6.111634 3.991210 7.806458 2.076759 4.594470\n",
              " [913] 6.632757 2.017584 5.325990 1.675206 7.947652 1.899952 7.226204 5.496559\n",
              " [921] 2.977804 6.963634 6.109303 3.273387 8.853691 6.627076 2.731153 6.667019\n",
              " [929] 7.675378 3.826904 8.157845 2.309579 2.226846 7.252880 8.032027 8.245041\n",
              " [937] 7.360605 2.433487 9.413576 2.906490 2.480358 9.916073 2.331009 5.925185\n",
              " [945] 8.670141 6.698313 9.506346 7.223364 6.976124 6.189586 8.429960 5.511114\n",
              " [953] 7.749149 5.123884 5.569201 3.706350 5.229160 3.989377 4.522104 2.155107\n",
              " [961] 9.094560 5.048535 8.024112 8.146401 2.680336 7.664697 1.421739 1.029498\n",
              " [969] 4.279969 3.527128 9.482582 2.221158 8.522256 6.526052 3.278237 8.643821\n",
              " [977] 5.331466 8.438138 8.058151 8.960864 1.409482 3.086052 1.665126 4.101488\n",
              " [985] 9.176031 6.919156 4.206991 6.233958 7.463560 5.169633 6.580762 2.291637\n",
              " [993] 5.260918 1.761660 1.719104 5.119024 1.729801 4.136184 8.991038 1.122079"
            ]
          },
          "metadata": {}
        }
      ]
    },
    {
      "cell_type": "code",
      "source": [
        "# 10 random-normal numbers with mean 10 and SD=1\n",
        "\n",
        "rnorm(10, mean=10)"
      ],
      "metadata": {
        "colab": {
          "base_uri": "https://localhost:8080/",
          "height": 52
        },
        "id": "WuDf0NU0DCOM",
        "outputId": "7f837564-1ba4-4d3a-b793-ce05ba75b2f0"
      },
      "execution_count": 7,
      "outputs": [
        {
          "output_type": "display_data",
          "data": {
            "text/html": [
              "<style>\n",
              ".list-inline {list-style: none; margin:0; padding: 0}\n",
              ".list-inline>li {display: inline-block}\n",
              ".list-inline>li:not(:last-child)::after {content: \"\\00b7\"; padding: 0 .5ex}\n",
              "</style>\n",
              "<ol class=list-inline><li>9.44028653076112</li><li>10.9515678854576</li><li>10.8429665384983</li><li>10.6702647186085</li><li>9.60269504429044</li><li>9.22472338620491</li><li>10.4374236449567</li><li>8.01767573197646</li><li>10.1376917387703</li><li>8.97400285771899</li></ol>\n"
            ],
            "text/markdown": "1. 9.44028653076112\n2. 10.9515678854576\n3. 10.8429665384983\n4. 10.6702647186085\n5. 9.60269504429044\n6. 9.22472338620491\n7. 10.4374236449567\n8. 8.01767573197646\n9. 10.1376917387703\n10. 8.97400285771899\n\n\n",
            "text/latex": "\\begin{enumerate*}\n\\item 9.44028653076112\n\\item 10.9515678854576\n\\item 10.8429665384983\n\\item 10.6702647186085\n\\item 9.60269504429044\n\\item 9.22472338620491\n\\item 10.4374236449567\n\\item 8.01767573197646\n\\item 10.1376917387703\n\\item 8.97400285771899\n\\end{enumerate*}\n",
            "text/plain": [
              " [1]  9.440287 10.951568 10.842967 10.670265  9.602695  9.224723 10.437424\n",
              " [8]  8.017676 10.137692  8.974003"
            ]
          },
          "metadata": {}
        }
      ]
    },
    {
      "cell_type": "code",
      "source": [
        "# 10 random-normal numbers with mean 10 and SD=5\n",
        "\n",
        "rnorm(10, 10, 5)"
      ],
      "metadata": {
        "colab": {
          "base_uri": "https://localhost:8080/",
          "height": 52
        },
        "outputId": "d841eec2-0e04-4a17-bdf1-7d5fb1dccec8",
        "id": "hmrm6lTUDecL"
      },
      "execution_count": 8,
      "outputs": [
        {
          "output_type": "display_data",
          "data": {
            "text/html": [
              "<style>\n",
              ".list-inline {list-style: none; margin:0; padding: 0}\n",
              ".list-inline>li {display: inline-block}\n",
              ".list-inline>li:not(:last-child)::after {content: \"\\00b7\"; padding: 0 .5ex}\n",
              "</style>\n",
              "<ol class=list-inline><li>13.8632768754815</li><li>15.7825556317714</li><li>9.16751450983321</li><li>10.8118759988836</li><li>13.687518431387</li><li>3.55972111301948</li><li>15.0745904978842</li><li>17.0853086750521</li><li>15.0520321664736</li><li>9.02916434991507</li></ol>\n"
            ],
            "text/markdown": "1. 13.8632768754815\n2. 15.7825556317714\n3. 9.16751450983321\n4. 10.8118759988836\n5. 13.687518431387\n6. 3.55972111301948\n7. 15.0745904978842\n8. 17.0853086750521\n9. 15.0520321664736\n10. 9.02916434991507\n\n\n",
            "text/latex": "\\begin{enumerate*}\n\\item 13.8632768754815\n\\item 15.7825556317714\n\\item 9.16751450983321\n\\item 10.8118759988836\n\\item 13.687518431387\n\\item 3.55972111301948\n\\item 15.0745904978842\n\\item 17.0853086750521\n\\item 15.0520321664736\n\\item 9.02916434991507\n\\end{enumerate*}\n",
            "text/plain": [
              " [1] 13.863277 15.782556  9.167515 10.811876 13.687518  3.559721 15.074590\n",
              " [8] 17.085309 15.052032  9.029164"
            ]
          },
          "metadata": {}
        }
      ]
    },
    {
      "cell_type": "code",
      "source": [
        "random.numbers <- rnorm(1000)\n",
        "\n",
        "hist(random.numbers)"
      ],
      "metadata": {
        "colab": {
          "base_uri": "https://localhost:8080/",
          "height": 437
        },
        "id": "H08FUBfZDnbD",
        "outputId": "33f0974b-7899-45d3-afeb-5ecb459bf854"
      },
      "execution_count": 9,
      "outputs": [
        {
          "output_type": "display_data",
          "data": {
            "text/plain": [
              "Plot with title “Histogram of random.numbers”"
            ],
            "image/png": "[encoded data removed]"
          },
          "metadata": {
            "image/png": {
              "width": 420,
              "height": 420
            }
          }
        }
      ]
    }
  ]
}