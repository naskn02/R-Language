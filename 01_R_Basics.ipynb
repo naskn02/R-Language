{
  "nbformat": 4,
  "nbformat_minor": 0,
  "metadata": {
    "colab": {
      "provenance": [],
      "collapsed_sections": [],
      "authorship_tag": "ABX9TyPOHkh3ZmGzCJWTO9CRCoWP",
      "include_colab_link": true
    },
    "kernelspec": {
      "name": "ir",
      "display_name": "R"
    },
    "language_info": {
      "name": "R"
    }
  },
  "cells": [
    {
      "cell_type": "markdown",
      "metadata": {
        "id": "view-in-github",
        "colab_type": "text"
      },
      "source": [
        "<a href=\"https://colab.research.google.com/github/naskn02/R-Language/blob/main/01_R_Basics.ipynb\" target=\"_parent\"><img src=\"https://colab.research.google.com/assets/colab-badge.svg\" alt=\"Open In Colab\"/></a>"
      ]
    },
    {
      "cell_type": "markdown",
      "source": [
        "## **R Objects and Data Types**"
      ],
      "metadata": {
        "id": "BWEW_DI3OWkR"
      }
    },
    {
      "cell_type": "markdown",
      "source": [
        "Everything in R is an object. R has 5 basic or atomic classes of objects:\n",
        "\n",
        "1. character\n",
        "2. numeric (real numbers)\n",
        "3. integer\n",
        "4. complex\n",
        "5. logical (True/ False)\n"
      ],
      "metadata": {
        "id": "wLwNeoaIOeA-"
      }
    },
    {
      "cell_type": "markdown",
      "source": [
        "# **Working with R**"
      ],
      "metadata": {
        "id": "PkRiDYj2_Rha"
      }
    },
    {
      "cell_type": "markdown",
      "source": [
        "## **First Command**"
      ],
      "metadata": {
        "id": "2bJOhSCy_da1"
      }
    },
    {
      "cell_type": "code",
      "execution_count": null,
      "metadata": {
        "colab": {
          "base_uri": "https://localhost:8080/",
          "height": 1000
        },
        "id": "IAc9zLxe-LQu",
        "outputId": "6217fed4-cfc1-4af6-ebcd-30743680dbec"
      },
      "outputs": [
        {
          "output_type": "display_data",
          "data": {
            "text/html": [
              "<table class=\"dataframe\">\n",
              "<caption>A data.frame: 32 × 11</caption>\n",
              "<thead>\n",
              "\t<tr><th></th><th scope=col>mpg</th><th scope=col>cyl</th><th scope=col>disp</th><th scope=col>hp</th><th scope=col>drat</th><th scope=col>wt</th><th scope=col>qsec</th><th scope=col>vs</th><th scope=col>am</th><th scope=col>gear</th><th scope=col>carb</th></tr>\n",
              "\t<tr><th></th><th scope=col>&lt;dbl&gt;</th><th scope=col>&lt;dbl&gt;</th><th scope=col>&lt;dbl&gt;</th><th scope=col>&lt;dbl&gt;</th><th scope=col>&lt;dbl&gt;</th><th scope=col>&lt;dbl&gt;</th><th scope=col>&lt;dbl&gt;</th><th scope=col>&lt;dbl&gt;</th><th scope=col>&lt;dbl&gt;</th><th scope=col>&lt;dbl&gt;</th><th scope=col>&lt;dbl&gt;</th></tr>\n",
              "</thead>\n",
              "<tbody>\n",
              "\t<tr><th scope=row>Mazda RX4</th><td>21.0</td><td>6</td><td>160.0</td><td>110</td><td>3.90</td><td>2.620</td><td>16.46</td><td>0</td><td>1</td><td>4</td><td>4</td></tr>\n",
              "\t<tr><th scope=row>Mazda RX4 Wag</th><td>21.0</td><td>6</td><td>160.0</td><td>110</td><td>3.90</td><td>2.875</td><td>17.02</td><td>0</td><td>1</td><td>4</td><td>4</td></tr>\n",
              "\t<tr><th scope=row>Datsun 710</th><td>22.8</td><td>4</td><td>108.0</td><td> 93</td><td>3.85</td><td>2.320</td><td>18.61</td><td>1</td><td>1</td><td>4</td><td>1</td></tr>\n",
              "\t<tr><th scope=row>Hornet 4 Drive</th><td>21.4</td><td>6</td><td>258.0</td><td>110</td><td>3.08</td><td>3.215</td><td>19.44</td><td>1</td><td>0</td><td>3</td><td>1</td></tr>\n",
              "\t<tr><th scope=row>Hornet Sportabout</th><td>18.7</td><td>8</td><td>360.0</td><td>175</td><td>3.15</td><td>3.440</td><td>17.02</td><td>0</td><td>0</td><td>3</td><td>2</td></tr>\n",
              "\t<tr><th scope=row>Valiant</th><td>18.1</td><td>6</td><td>225.0</td><td>105</td><td>2.76</td><td>3.460</td><td>20.22</td><td>1</td><td>0</td><td>3</td><td>1</td></tr>\n",
              "\t<tr><th scope=row>Duster 360</th><td>14.3</td><td>8</td><td>360.0</td><td>245</td><td>3.21</td><td>3.570</td><td>15.84</td><td>0</td><td>0</td><td>3</td><td>4</td></tr>\n",
              "\t<tr><th scope=row>Merc 240D</th><td>24.4</td><td>4</td><td>146.7</td><td> 62</td><td>3.69</td><td>3.190</td><td>20.00</td><td>1</td><td>0</td><td>4</td><td>2</td></tr>\n",
              "\t<tr><th scope=row>Merc 230</th><td>22.8</td><td>4</td><td>140.8</td><td> 95</td><td>3.92</td><td>3.150</td><td>22.90</td><td>1</td><td>0</td><td>4</td><td>2</td></tr>\n",
              "\t<tr><th scope=row>Merc 280</th><td>19.2</td><td>6</td><td>167.6</td><td>123</td><td>3.92</td><td>3.440</td><td>18.30</td><td>1</td><td>0</td><td>4</td><td>4</td></tr>\n",
              "\t<tr><th scope=row>Merc 280C</th><td>17.8</td><td>6</td><td>167.6</td><td>123</td><td>3.92</td><td>3.440</td><td>18.90</td><td>1</td><td>0</td><td>4</td><td>4</td></tr>\n",
              "\t<tr><th scope=row>Merc 450SE</th><td>16.4</td><td>8</td><td>275.8</td><td>180</td><td>3.07</td><td>4.070</td><td>17.40</td><td>0</td><td>0</td><td>3</td><td>3</td></tr>\n",
              "\t<tr><th scope=row>Merc 450SL</th><td>17.3</td><td>8</td><td>275.8</td><td>180</td><td>3.07</td><td>3.730</td><td>17.60</td><td>0</td><td>0</td><td>3</td><td>3</td></tr>\n",
              "\t<tr><th scope=row>Merc 450SLC</th><td>15.2</td><td>8</td><td>275.8</td><td>180</td><td>3.07</td><td>3.780</td><td>18.00</td><td>0</td><td>0</td><td>3</td><td>3</td></tr>\n",
              "\t<tr><th scope=row>Cadillac Fleetwood</th><td>10.4</td><td>8</td><td>472.0</td><td>205</td><td>2.93</td><td>5.250</td><td>17.98</td><td>0</td><td>0</td><td>3</td><td>4</td></tr>\n",
              "\t<tr><th scope=row>Lincoln Continental</th><td>10.4</td><td>8</td><td>460.0</td><td>215</td><td>3.00</td><td>5.424</td><td>17.82</td><td>0</td><td>0</td><td>3</td><td>4</td></tr>\n",
              "\t<tr><th scope=row>Chrysler Imperial</th><td>14.7</td><td>8</td><td>440.0</td><td>230</td><td>3.23</td><td>5.345</td><td>17.42</td><td>0</td><td>0</td><td>3</td><td>4</td></tr>\n",
              "\t<tr><th scope=row>Fiat 128</th><td>32.4</td><td>4</td><td> 78.7</td><td> 66</td><td>4.08</td><td>2.200</td><td>19.47</td><td>1</td><td>1</td><td>4</td><td>1</td></tr>\n",
              "\t<tr><th scope=row>Honda Civic</th><td>30.4</td><td>4</td><td> 75.7</td><td> 52</td><td>4.93</td><td>1.615</td><td>18.52</td><td>1</td><td>1</td><td>4</td><td>2</td></tr>\n",
              "\t<tr><th scope=row>Toyota Corolla</th><td>33.9</td><td>4</td><td> 71.1</td><td> 65</td><td>4.22</td><td>1.835</td><td>19.90</td><td>1</td><td>1</td><td>4</td><td>1</td></tr>\n",
              "\t<tr><th scope=row>Toyota Corona</th><td>21.5</td><td>4</td><td>120.1</td><td> 97</td><td>3.70</td><td>2.465</td><td>20.01</td><td>1</td><td>0</td><td>3</td><td>1</td></tr>\n",
              "\t<tr><th scope=row>Dodge Challenger</th><td>15.5</td><td>8</td><td>318.0</td><td>150</td><td>2.76</td><td>3.520</td><td>16.87</td><td>0</td><td>0</td><td>3</td><td>2</td></tr>\n",
              "\t<tr><th scope=row>AMC Javelin</th><td>15.2</td><td>8</td><td>304.0</td><td>150</td><td>3.15</td><td>3.435</td><td>17.30</td><td>0</td><td>0</td><td>3</td><td>2</td></tr>\n",
              "\t<tr><th scope=row>Camaro Z28</th><td>13.3</td><td>8</td><td>350.0</td><td>245</td><td>3.73</td><td>3.840</td><td>15.41</td><td>0</td><td>0</td><td>3</td><td>4</td></tr>\n",
              "\t<tr><th scope=row>Pontiac Firebird</th><td>19.2</td><td>8</td><td>400.0</td><td>175</td><td>3.08</td><td>3.845</td><td>17.05</td><td>0</td><td>0</td><td>3</td><td>2</td></tr>\n",
              "\t<tr><th scope=row>Fiat X1-9</th><td>27.3</td><td>4</td><td> 79.0</td><td> 66</td><td>4.08</td><td>1.935</td><td>18.90</td><td>1</td><td>1</td><td>4</td><td>1</td></tr>\n",
              "\t<tr><th scope=row>Porsche 914-2</th><td>26.0</td><td>4</td><td>120.3</td><td> 91</td><td>4.43</td><td>2.140</td><td>16.70</td><td>0</td><td>1</td><td>5</td><td>2</td></tr>\n",
              "\t<tr><th scope=row>Lotus Europa</th><td>30.4</td><td>4</td><td> 95.1</td><td>113</td><td>3.77</td><td>1.513</td><td>16.90</td><td>1</td><td>1</td><td>5</td><td>2</td></tr>\n",
              "\t<tr><th scope=row>Ford Pantera L</th><td>15.8</td><td>8</td><td>351.0</td><td>264</td><td>4.22</td><td>3.170</td><td>14.50</td><td>0</td><td>1</td><td>5</td><td>4</td></tr>\n",
              "\t<tr><th scope=row>Ferrari Dino</th><td>19.7</td><td>6</td><td>145.0</td><td>175</td><td>3.62</td><td>2.770</td><td>15.50</td><td>0</td><td>1</td><td>5</td><td>6</td></tr>\n",
              "\t<tr><th scope=row>Maserati Bora</th><td>15.0</td><td>8</td><td>301.0</td><td>335</td><td>3.54</td><td>3.570</td><td>14.60</td><td>0</td><td>1</td><td>5</td><td>8</td></tr>\n",
              "\t<tr><th scope=row>Volvo 142E</th><td>21.4</td><td>4</td><td>121.0</td><td>109</td><td>4.11</td><td>2.780</td><td>18.60</td><td>1</td><td>1</td><td>4</td><td>2</td></tr>\n",
              "</tbody>\n",
              "</table>\n"
            ],
            "text/markdown": "\nA data.frame: 32 × 11\n\n| <!--/--> | mpg &lt;dbl&gt; | cyl &lt;dbl&gt; | disp &lt;dbl&gt; | hp &lt;dbl&gt; | drat &lt;dbl&gt; | wt &lt;dbl&gt; | qsec &lt;dbl&gt; | vs &lt;dbl&gt; | am &lt;dbl&gt; | gear &lt;dbl&gt; | carb &lt;dbl&gt; |\n|---|---|---|---|---|---|---|---|---|---|---|---|\n| Mazda RX4 | 21.0 | 6 | 160.0 | 110 | 3.90 | 2.620 | 16.46 | 0 | 1 | 4 | 4 |\n| Mazda RX4 Wag | 21.0 | 6 | 160.0 | 110 | 3.90 | 2.875 | 17.02 | 0 | 1 | 4 | 4 |\n| Datsun 710 | 22.8 | 4 | 108.0 |  93 | 3.85 | 2.320 | 18.61 | 1 | 1 | 4 | 1 |\n| Hornet 4 Drive | 21.4 | 6 | 258.0 | 110 | 3.08 | 3.215 | 19.44 | 1 | 0 | 3 | 1 |\n| Hornet Sportabout | 18.7 | 8 | 360.0 | 175 | 3.15 | 3.440 | 17.02 | 0 | 0 | 3 | 2 |\n| Valiant | 18.1 | 6 | 225.0 | 105 | 2.76 | 3.460 | 20.22 | 1 | 0 | 3 | 1 |\n| Duster 360 | 14.3 | 8 | 360.0 | 245 | 3.21 | 3.570 | 15.84 | 0 | 0 | 3 | 4 |\n| Merc 240D | 24.4 | 4 | 146.7 |  62 | 3.69 | 3.190 | 20.00 | 1 | 0 | 4 | 2 |\n| Merc 230 | 22.8 | 4 | 140.8 |  95 | 3.92 | 3.150 | 22.90 | 1 | 0 | 4 | 2 |\n| Merc 280 | 19.2 | 6 | 167.6 | 123 | 3.92 | 3.440 | 18.30 | 1 | 0 | 4 | 4 |\n| Merc 280C | 17.8 | 6 | 167.6 | 123 | 3.92 | 3.440 | 18.90 | 1 | 0 | 4 | 4 |\n| Merc 450SE | 16.4 | 8 | 275.8 | 180 | 3.07 | 4.070 | 17.40 | 0 | 0 | 3 | 3 |\n| Merc 450SL | 17.3 | 8 | 275.8 | 180 | 3.07 | 3.730 | 17.60 | 0 | 0 | 3 | 3 |\n| Merc 450SLC | 15.2 | 8 | 275.8 | 180 | 3.07 | 3.780 | 18.00 | 0 | 0 | 3 | 3 |\n| Cadillac Fleetwood | 10.4 | 8 | 472.0 | 205 | 2.93 | 5.250 | 17.98 | 0 | 0 | 3 | 4 |\n| Lincoln Continental | 10.4 | 8 | 460.0 | 215 | 3.00 | 5.424 | 17.82 | 0 | 0 | 3 | 4 |\n| Chrysler Imperial | 14.7 | 8 | 440.0 | 230 | 3.23 | 5.345 | 17.42 | 0 | 0 | 3 | 4 |\n| Fiat 128 | 32.4 | 4 |  78.7 |  66 | 4.08 | 2.200 | 19.47 | 1 | 1 | 4 | 1 |\n| Honda Civic | 30.4 | 4 |  75.7 |  52 | 4.93 | 1.615 | 18.52 | 1 | 1 | 4 | 2 |\n| Toyota Corolla | 33.9 | 4 |  71.1 |  65 | 4.22 | 1.835 | 19.90 | 1 | 1 | 4 | 1 |\n| Toyota Corona | 21.5 | 4 | 120.1 |  97 | 3.70 | 2.465 | 20.01 | 1 | 0 | 3 | 1 |\n| Dodge Challenger | 15.5 | 8 | 318.0 | 150 | 2.76 | 3.520 | 16.87 | 0 | 0 | 3 | 2 |\n| AMC Javelin | 15.2 | 8 | 304.0 | 150 | 3.15 | 3.435 | 17.30 | 0 | 0 | 3 | 2 |\n| Camaro Z28 | 13.3 | 8 | 350.0 | 245 | 3.73 | 3.840 | 15.41 | 0 | 0 | 3 | 4 |\n| Pontiac Firebird | 19.2 | 8 | 400.0 | 175 | 3.08 | 3.845 | 17.05 | 0 | 0 | 3 | 2 |\n| Fiat X1-9 | 27.3 | 4 |  79.0 |  66 | 4.08 | 1.935 | 18.90 | 1 | 1 | 4 | 1 |\n| Porsche 914-2 | 26.0 | 4 | 120.3 |  91 | 4.43 | 2.140 | 16.70 | 0 | 1 | 5 | 2 |\n| Lotus Europa | 30.4 | 4 |  95.1 | 113 | 3.77 | 1.513 | 16.90 | 1 | 1 | 5 | 2 |\n| Ford Pantera L | 15.8 | 8 | 351.0 | 264 | 4.22 | 3.170 | 14.50 | 0 | 1 | 5 | 4 |\n| Ferrari Dino | 19.7 | 6 | 145.0 | 175 | 3.62 | 2.770 | 15.50 | 0 | 1 | 5 | 6 |\n| Maserati Bora | 15.0 | 8 | 301.0 | 335 | 3.54 | 3.570 | 14.60 | 0 | 1 | 5 | 8 |\n| Volvo 142E | 21.4 | 4 | 121.0 | 109 | 4.11 | 2.780 | 18.60 | 1 | 1 | 4 | 2 |\n\n",
            "text/latex": "A data.frame: 32 × 11\n\\begin{tabular}{r|lllllllllll}\n  & mpg & cyl & disp & hp & drat & wt & qsec & vs & am & gear & carb\\\\\n  & <dbl> & <dbl> & <dbl> & <dbl> & <dbl> & <dbl> & <dbl> & <dbl> & <dbl> & <dbl> & <dbl>\\\\\n\\hline\n\tMazda RX4 & 21.0 & 6 & 160.0 & 110 & 3.90 & 2.620 & 16.46 & 0 & 1 & 4 & 4\\\\\n\tMazda RX4 Wag & 21.0 & 6 & 160.0 & 110 & 3.90 & 2.875 & 17.02 & 0 & 1 & 4 & 4\\\\\n\tDatsun 710 & 22.8 & 4 & 108.0 &  93 & 3.85 & 2.320 & 18.61 & 1 & 1 & 4 & 1\\\\\n\tHornet 4 Drive & 21.4 & 6 & 258.0 & 110 & 3.08 & 3.215 & 19.44 & 1 & 0 & 3 & 1\\\\\n\tHornet Sportabout & 18.7 & 8 & 360.0 & 175 & 3.15 & 3.440 & 17.02 & 0 & 0 & 3 & 2\\\\\n\tValiant & 18.1 & 6 & 225.0 & 105 & 2.76 & 3.460 & 20.22 & 1 & 0 & 3 & 1\\\\\n\tDuster 360 & 14.3 & 8 & 360.0 & 245 & 3.21 & 3.570 & 15.84 & 0 & 0 & 3 & 4\\\\\n\tMerc 240D & 24.4 & 4 & 146.7 &  62 & 3.69 & 3.190 & 20.00 & 1 & 0 & 4 & 2\\\\\n\tMerc 230 & 22.8 & 4 & 140.8 &  95 & 3.92 & 3.150 & 22.90 & 1 & 0 & 4 & 2\\\\\n\tMerc 280 & 19.2 & 6 & 167.6 & 123 & 3.92 & 3.440 & 18.30 & 1 & 0 & 4 & 4\\\\\n\tMerc 280C & 17.8 & 6 & 167.6 & 123 & 3.92 & 3.440 & 18.90 & 1 & 0 & 4 & 4\\\\\n\tMerc 450SE & 16.4 & 8 & 275.8 & 180 & 3.07 & 4.070 & 17.40 & 0 & 0 & 3 & 3\\\\\n\tMerc 450SL & 17.3 & 8 & 275.8 & 180 & 3.07 & 3.730 & 17.60 & 0 & 0 & 3 & 3\\\\\n\tMerc 450SLC & 15.2 & 8 & 275.8 & 180 & 3.07 & 3.780 & 18.00 & 0 & 0 & 3 & 3\\\\\n\tCadillac Fleetwood & 10.4 & 8 & 472.0 & 205 & 2.93 & 5.250 & 17.98 & 0 & 0 & 3 & 4\\\\\n\tLincoln Continental & 10.4 & 8 & 460.0 & 215 & 3.00 & 5.424 & 17.82 & 0 & 0 & 3 & 4\\\\\n\tChrysler Imperial & 14.7 & 8 & 440.0 & 230 & 3.23 & 5.345 & 17.42 & 0 & 0 & 3 & 4\\\\\n\tFiat 128 & 32.4 & 4 &  78.7 &  66 & 4.08 & 2.200 & 19.47 & 1 & 1 & 4 & 1\\\\\n\tHonda Civic & 30.4 & 4 &  75.7 &  52 & 4.93 & 1.615 & 18.52 & 1 & 1 & 4 & 2\\\\\n\tToyota Corolla & 33.9 & 4 &  71.1 &  65 & 4.22 & 1.835 & 19.90 & 1 & 1 & 4 & 1\\\\\n\tToyota Corona & 21.5 & 4 & 120.1 &  97 & 3.70 & 2.465 & 20.01 & 1 & 0 & 3 & 1\\\\\n\tDodge Challenger & 15.5 & 8 & 318.0 & 150 & 2.76 & 3.520 & 16.87 & 0 & 0 & 3 & 2\\\\\n\tAMC Javelin & 15.2 & 8 & 304.0 & 150 & 3.15 & 3.435 & 17.30 & 0 & 0 & 3 & 2\\\\\n\tCamaro Z28 & 13.3 & 8 & 350.0 & 245 & 3.73 & 3.840 & 15.41 & 0 & 0 & 3 & 4\\\\\n\tPontiac Firebird & 19.2 & 8 & 400.0 & 175 & 3.08 & 3.845 & 17.05 & 0 & 0 & 3 & 2\\\\\n\tFiat X1-9 & 27.3 & 4 &  79.0 &  66 & 4.08 & 1.935 & 18.90 & 1 & 1 & 4 & 1\\\\\n\tPorsche 914-2 & 26.0 & 4 & 120.3 &  91 & 4.43 & 2.140 & 16.70 & 0 & 1 & 5 & 2\\\\\n\tLotus Europa & 30.4 & 4 &  95.1 & 113 & 3.77 & 1.513 & 16.90 & 1 & 1 & 5 & 2\\\\\n\tFord Pantera L & 15.8 & 8 & 351.0 & 264 & 4.22 & 3.170 & 14.50 & 0 & 1 & 5 & 4\\\\\n\tFerrari Dino & 19.7 & 6 & 145.0 & 175 & 3.62 & 2.770 & 15.50 & 0 & 1 & 5 & 6\\\\\n\tMaserati Bora & 15.0 & 8 & 301.0 & 335 & 3.54 & 3.570 & 14.60 & 0 & 1 & 5 & 8\\\\\n\tVolvo 142E & 21.4 & 4 & 121.0 & 109 & 4.11 & 2.780 & 18.60 & 1 & 1 & 4 & 2\\\\\n\\end{tabular}\n",
            "text/plain": [
              "                    mpg  cyl disp  hp  drat wt    qsec  vs am gear carb\n",
              "Mazda RX4           21.0 6   160.0 110 3.90 2.620 16.46 0  1  4    4   \n",
              "Mazda RX4 Wag       21.0 6   160.0 110 3.90 2.875 17.02 0  1  4    4   \n",
              "Datsun 710          22.8 4   108.0  93 3.85 2.320 18.61 1  1  4    1   \n",
              "Hornet 4 Drive      21.4 6   258.0 110 3.08 3.215 19.44 1  0  3    1   \n",
              "Hornet Sportabout   18.7 8   360.0 175 3.15 3.440 17.02 0  0  3    2   \n",
              "Valiant             18.1 6   225.0 105 2.76 3.460 20.22 1  0  3    1   \n",
              "Duster 360          14.3 8   360.0 245 3.21 3.570 15.84 0  0  3    4   \n",
              "Merc 240D           24.4 4   146.7  62 3.69 3.190 20.00 1  0  4    2   \n",
              "Merc 230            22.8 4   140.8  95 3.92 3.150 22.90 1  0  4    2   \n",
              "Merc 280            19.2 6   167.6 123 3.92 3.440 18.30 1  0  4    4   \n",
              "Merc 280C           17.8 6   167.6 123 3.92 3.440 18.90 1  0  4    4   \n",
              "Merc 450SE          16.4 8   275.8 180 3.07 4.070 17.40 0  0  3    3   \n",
              "Merc 450SL          17.3 8   275.8 180 3.07 3.730 17.60 0  0  3    3   \n",
              "Merc 450SLC         15.2 8   275.8 180 3.07 3.780 18.00 0  0  3    3   \n",
              "Cadillac Fleetwood  10.4 8   472.0 205 2.93 5.250 17.98 0  0  3    4   \n",
              "Lincoln Continental 10.4 8   460.0 215 3.00 5.424 17.82 0  0  3    4   \n",
              "Chrysler Imperial   14.7 8   440.0 230 3.23 5.345 17.42 0  0  3    4   \n",
              "Fiat 128            32.4 4    78.7  66 4.08 2.200 19.47 1  1  4    1   \n",
              "Honda Civic         30.4 4    75.7  52 4.93 1.615 18.52 1  1  4    2   \n",
              "Toyota Corolla      33.9 4    71.1  65 4.22 1.835 19.90 1  1  4    1   \n",
              "Toyota Corona       21.5 4   120.1  97 3.70 2.465 20.01 1  0  3    1   \n",
              "Dodge Challenger    15.5 8   318.0 150 2.76 3.520 16.87 0  0  3    2   \n",
              "AMC Javelin         15.2 8   304.0 150 3.15 3.435 17.30 0  0  3    2   \n",
              "Camaro Z28          13.3 8   350.0 245 3.73 3.840 15.41 0  0  3    4   \n",
              "Pontiac Firebird    19.2 8   400.0 175 3.08 3.845 17.05 0  0  3    2   \n",
              "Fiat X1-9           27.3 4    79.0  66 4.08 1.935 18.90 1  1  4    1   \n",
              "Porsche 914-2       26.0 4   120.3  91 4.43 2.140 16.70 0  1  5    2   \n",
              "Lotus Europa        30.4 4    95.1 113 3.77 1.513 16.90 1  1  5    2   \n",
              "Ford Pantera L      15.8 8   351.0 264 4.22 3.170 14.50 0  1  5    4   \n",
              "Ferrari Dino        19.7 6   145.0 175 3.62 2.770 15.50 0  1  5    6   \n",
              "Maserati Bora       15.0 8   301.0 335 3.54 3.570 14.60 0  1  5    8   \n",
              "Volvo 142E          21.4 4   121.0 109 4.11 2.780 18.60 1  1  4    2   "
            ]
          },
          "metadata": {}
        }
      ],
      "source": [
        "mtcars"
      ]
    },
    {
      "cell_type": "markdown",
      "source": [
        "### Summarize data --> Similar to Pandas's df.describe()"
      ],
      "metadata": {
        "id": "DOKBYEFp_1oB"
      }
    },
    {
      "cell_type": "code",
      "source": [
        "summary(mtcars)"
      ],
      "metadata": {
        "colab": {
          "base_uri": "https://localhost:8080/",
          "height": 381
        },
        "id": "R0gFrFK8_zNH",
        "outputId": "24e166fa-bfbc-4bc1-cd75-0b426fe23d5a"
      },
      "execution_count": null,
      "outputs": [
        {
          "output_type": "display_data",
          "data": {
            "text/plain": [
              "      mpg             cyl             disp             hp       \n",
              " Min.   :10.40   Min.   :4.000   Min.   : 71.1   Min.   : 52.0  \n",
              " 1st Qu.:15.43   1st Qu.:4.000   1st Qu.:120.8   1st Qu.: 96.5  \n",
              " Median :19.20   Median :6.000   Median :196.3   Median :123.0  \n",
              " Mean   :20.09   Mean   :6.188   Mean   :230.7   Mean   :146.7  \n",
              " 3rd Qu.:22.80   3rd Qu.:8.000   3rd Qu.:326.0   3rd Qu.:180.0  \n",
              " Max.   :33.90   Max.   :8.000   Max.   :472.0   Max.   :335.0  \n",
              "      drat             wt             qsec             vs        \n",
              " Min.   :2.760   Min.   :1.513   Min.   :14.50   Min.   :0.0000  \n",
              " 1st Qu.:3.080   1st Qu.:2.581   1st Qu.:16.89   1st Qu.:0.0000  \n",
              " Median :3.695   Median :3.325   Median :17.71   Median :0.0000  \n",
              " Mean   :3.597   Mean   :3.217   Mean   :17.85   Mean   :0.4375  \n",
              " 3rd Qu.:3.920   3rd Qu.:3.610   3rd Qu.:18.90   3rd Qu.:1.0000  \n",
              " Max.   :4.930   Max.   :5.424   Max.   :22.90   Max.   :1.0000  \n",
              "       am              gear            carb      \n",
              " Min.   :0.0000   Min.   :3.000   Min.   :1.000  \n",
              " 1st Qu.:0.0000   1st Qu.:3.000   1st Qu.:2.000  \n",
              " Median :0.0000   Median :4.000   Median :2.000  \n",
              " Mean   :0.4062   Mean   :3.688   Mean   :2.812  \n",
              " 3rd Qu.:1.0000   3rd Qu.:4.000   3rd Qu.:4.000  \n",
              " Max.   :1.0000   Max.   :5.000   Max.   :8.000  "
            ]
          },
          "metadata": {}
        }
      ]
    },
    {
      "cell_type": "markdown",
      "source": [
        "### View Top 5 rows with head() --> Similar to df.head()\n",
        " "
      ],
      "metadata": {
        "id": "cjvRbAuoALQc"
      }
    },
    {
      "cell_type": "code",
      "source": [
        "head(mtcars)"
      ],
      "metadata": {
        "colab": {
          "base_uri": "https://localhost:8080/",
          "height": 286
        },
        "id": "c9tC_AJXAY3s",
        "outputId": "8e6eebe0-0d9c-4c7d-a2f8-00902d261c23"
      },
      "execution_count": null,
      "outputs": [
        {
          "output_type": "display_data",
          "data": {
            "text/html": [
              "<table class=\"dataframe\">\n",
              "<caption>A data.frame: 6 × 11</caption>\n",
              "<thead>\n",
              "\t<tr><th></th><th scope=col>mpg</th><th scope=col>cyl</th><th scope=col>disp</th><th scope=col>hp</th><th scope=col>drat</th><th scope=col>wt</th><th scope=col>qsec</th><th scope=col>vs</th><th scope=col>am</th><th scope=col>gear</th><th scope=col>carb</th></tr>\n",
              "\t<tr><th></th><th scope=col>&lt;dbl&gt;</th><th scope=col>&lt;dbl&gt;</th><th scope=col>&lt;dbl&gt;</th><th scope=col>&lt;dbl&gt;</th><th scope=col>&lt;dbl&gt;</th><th scope=col>&lt;dbl&gt;</th><th scope=col>&lt;dbl&gt;</th><th scope=col>&lt;dbl&gt;</th><th scope=col>&lt;dbl&gt;</th><th scope=col>&lt;dbl&gt;</th><th scope=col>&lt;dbl&gt;</th></tr>\n",
              "</thead>\n",
              "<tbody>\n",
              "\t<tr><th scope=row>Mazda RX4</th><td>21.0</td><td>6</td><td>160</td><td>110</td><td>3.90</td><td>2.620</td><td>16.46</td><td>0</td><td>1</td><td>4</td><td>4</td></tr>\n",
              "\t<tr><th scope=row>Mazda RX4 Wag</th><td>21.0</td><td>6</td><td>160</td><td>110</td><td>3.90</td><td>2.875</td><td>17.02</td><td>0</td><td>1</td><td>4</td><td>4</td></tr>\n",
              "\t<tr><th scope=row>Datsun 710</th><td>22.8</td><td>4</td><td>108</td><td> 93</td><td>3.85</td><td>2.320</td><td>18.61</td><td>1</td><td>1</td><td>4</td><td>1</td></tr>\n",
              "\t<tr><th scope=row>Hornet 4 Drive</th><td>21.4</td><td>6</td><td>258</td><td>110</td><td>3.08</td><td>3.215</td><td>19.44</td><td>1</td><td>0</td><td>3</td><td>1</td></tr>\n",
              "\t<tr><th scope=row>Hornet Sportabout</th><td>18.7</td><td>8</td><td>360</td><td>175</td><td>3.15</td><td>3.440</td><td>17.02</td><td>0</td><td>0</td><td>3</td><td>2</td></tr>\n",
              "\t<tr><th scope=row>Valiant</th><td>18.1</td><td>6</td><td>225</td><td>105</td><td>2.76</td><td>3.460</td><td>20.22</td><td>1</td><td>0</td><td>3</td><td>1</td></tr>\n",
              "</tbody>\n",
              "</table>\n"
            ],
            "text/markdown": "\nA data.frame: 6 × 11\n\n| <!--/--> | mpg &lt;dbl&gt; | cyl &lt;dbl&gt; | disp &lt;dbl&gt; | hp &lt;dbl&gt; | drat &lt;dbl&gt; | wt &lt;dbl&gt; | qsec &lt;dbl&gt; | vs &lt;dbl&gt; | am &lt;dbl&gt; | gear &lt;dbl&gt; | carb &lt;dbl&gt; |\n|---|---|---|---|---|---|---|---|---|---|---|---|\n| Mazda RX4 | 21.0 | 6 | 160 | 110 | 3.90 | 2.620 | 16.46 | 0 | 1 | 4 | 4 |\n| Mazda RX4 Wag | 21.0 | 6 | 160 | 110 | 3.90 | 2.875 | 17.02 | 0 | 1 | 4 | 4 |\n| Datsun 710 | 22.8 | 4 | 108 |  93 | 3.85 | 2.320 | 18.61 | 1 | 1 | 4 | 1 |\n| Hornet 4 Drive | 21.4 | 6 | 258 | 110 | 3.08 | 3.215 | 19.44 | 1 | 0 | 3 | 1 |\n| Hornet Sportabout | 18.7 | 8 | 360 | 175 | 3.15 | 3.440 | 17.02 | 0 | 0 | 3 | 2 |\n| Valiant | 18.1 | 6 | 225 | 105 | 2.76 | 3.460 | 20.22 | 1 | 0 | 3 | 1 |\n\n",
            "text/latex": "A data.frame: 6 × 11\n\\begin{tabular}{r|lllllllllll}\n  & mpg & cyl & disp & hp & drat & wt & qsec & vs & am & gear & carb\\\\\n  & <dbl> & <dbl> & <dbl> & <dbl> & <dbl> & <dbl> & <dbl> & <dbl> & <dbl> & <dbl> & <dbl>\\\\\n\\hline\n\tMazda RX4 & 21.0 & 6 & 160 & 110 & 3.90 & 2.620 & 16.46 & 0 & 1 & 4 & 4\\\\\n\tMazda RX4 Wag & 21.0 & 6 & 160 & 110 & 3.90 & 2.875 & 17.02 & 0 & 1 & 4 & 4\\\\\n\tDatsun 710 & 22.8 & 4 & 108 &  93 & 3.85 & 2.320 & 18.61 & 1 & 1 & 4 & 1\\\\\n\tHornet 4 Drive & 21.4 & 6 & 258 & 110 & 3.08 & 3.215 & 19.44 & 1 & 0 & 3 & 1\\\\\n\tHornet Sportabout & 18.7 & 8 & 360 & 175 & 3.15 & 3.440 & 17.02 & 0 & 0 & 3 & 2\\\\\n\tValiant & 18.1 & 6 & 225 & 105 & 2.76 & 3.460 & 20.22 & 1 & 0 & 3 & 1\\\\\n\\end{tabular}\n",
            "text/plain": [
              "                  mpg  cyl disp hp  drat wt    qsec  vs am gear carb\n",
              "Mazda RX4         21.0 6   160  110 3.90 2.620 16.46 0  1  4    4   \n",
              "Mazda RX4 Wag     21.0 6   160  110 3.90 2.875 17.02 0  1  4    4   \n",
              "Datsun 710        22.8 4   108   93 3.85 2.320 18.61 1  1  4    1   \n",
              "Hornet 4 Drive    21.4 6   258  110 3.08 3.215 19.44 1  0  3    1   \n",
              "Hornet Sportabout 18.7 8   360  175 3.15 3.440 17.02 0  0  3    2   \n",
              "Valiant           18.1 6   225  105 2.76 3.460 20.22 1  0  3    1   "
            ]
          },
          "metadata": {}
        }
      ]
    },
    {
      "cell_type": "markdown",
      "source": [
        "## **Naming Things**"
      ],
      "metadata": {
        "id": "Cak4wQFSAsxS"
      }
    },
    {
      "cell_type": "markdown",
      "source": [
        "### Assignment Operator\n",
        "To assign labels we use the <- symbol"
      ],
      "metadata": {
        "id": "0YSa0i5PA9aT"
      }
    },
    {
      "cell_type": "code",
      "source": [
        "the_magic_number <- 3"
      ],
      "metadata": {
        "id": "HB42__XvAwDh"
      },
      "execution_count": null,
      "outputs": []
    },
    {
      "cell_type": "markdown",
      "source": [
        "To both assign a variable and display it we would type"
      ],
      "metadata": {
        "id": "VUusHGu6Bfzq"
      }
    },
    {
      "cell_type": "code",
      "source": [
        "(i_am_a_new_variable <- 22)"
      ],
      "metadata": {
        "colab": {
          "base_uri": "https://localhost:8080/",
          "height": 34
        },
        "id": "vcOSm3UjBhpl",
        "outputId": "a7d1779e-6990-4760-c9e9-a2ec778e351d"
      },
      "execution_count": null,
      "outputs": [
        {
          "output_type": "display_data",
          "data": {
            "text/html": [
              "22"
            ],
            "text/markdown": "22",
            "text/latex": "22",
            "text/plain": [
              "[1] 22"
            ]
          },
          "metadata": {}
        }
      ]
    },
    {
      "cell_type": "markdown",
      "source": [
        "We can also do calculations as we assign variables:"
      ],
      "metadata": {
        "id": "HOSnirjRBp2Y"
      }
    },
    {
      "cell_type": "code",
      "source": [
        "one_score <- 20\n",
        "\n",
        "(four_score_years_and_ten <- one_score * 4 + 10)"
      ],
      "metadata": {
        "colab": {
          "base_uri": "https://localhost:8080/",
          "height": 34
        },
        "id": "nK7QhFkfBq6m",
        "outputId": "c3bddbec-5d24-4190-d124-fcd37679096f"
      },
      "execution_count": null,
      "outputs": [
        {
          "output_type": "display_data",
          "data": {
            "text/html": [
              "90"
            ],
            "text/markdown": "90",
            "text/latex": "90",
            "text/plain": [
              "[1] 90"
            ]
          },
          "metadata": {}
        }
      ]
    },
    {
      "cell_type": "markdown",
      "source": [
        "## **Vector and Lists**\n"
      ],
      "metadata": {
        "id": "MYpSDjacMmpg"
      }
    },
    {
      "cell_type": "markdown",
      "source": [
        "* When working with data, we often have lists or sequences of ‘things’. For example: a list of measurements we have made.\n",
        "* When all the things are of the same type, R calls this a vector.\n",
        "* When there is a mix of different things R calls this a list.\n",
        "* When different objects are mixed in a vector, coercion occurs so that every element in the vector is of the same class."
      ],
      "metadata": {
        "id": "XwzgBXi8Mtit"
      }
    },
    {
      "cell_type": "markdown",
      "source": [
        "### Vectors"
      ],
      "metadata": {
        "id": "V098HTuMM3AP"
      }
    },
    {
      "cell_type": "markdown",
      "source": [
        "We can create a vector of numbers and display it like this:"
      ],
      "metadata": {
        "id": "V64PfoqjNBIM"
      }
    },
    {
      "cell_type": "code",
      "source": [
        "heights <- c(203, 148, 156, 158, 167,\n",
        "             162, 172, 164, 172, 187,\n",
        "             134, 182, 175)\n",
        "heights"
      ],
      "metadata": {
        "colab": {
          "base_uri": "https://localhost:8080/",
          "height": 34
        },
        "id": "LxbExgWFM8U-",
        "outputId": "1bfc6851-565b-4d66-df20-eece113f599f"
      },
      "execution_count": null,
      "outputs": [
        {
          "output_type": "display_data",
          "data": {
            "text/html": [
              "<style>\n",
              ".list-inline {list-style: none; margin:0; padding: 0}\n",
              ".list-inline>li {display: inline-block}\n",
              ".list-inline>li:not(:last-child)::after {content: \"\\00b7\"; padding: 0 .5ex}\n",
              "</style>\n",
              "<ol class=list-inline><li>203</li><li>148</li><li>156</li><li>158</li><li>167</li><li>162</li><li>172</li><li>164</li><li>172</li><li>187</li><li>134</li><li>182</li><li>175</li></ol>\n"
            ],
            "text/markdown": "1. 203\n2. 148\n3. 156\n4. 158\n5. 167\n6. 162\n7. 172\n8. 164\n9. 172\n10. 187\n11. 134\n12. 182\n13. 175\n\n\n",
            "text/latex": "\\begin{enumerate*}\n\\item 203\n\\item 148\n\\item 156\n\\item 158\n\\item 167\n\\item 162\n\\item 172\n\\item 164\n\\item 172\n\\item 187\n\\item 134\n\\item 182\n\\item 175\n\\end{enumerate*}\n",
            "text/plain": [
              " [1] 203 148 156 158 167 162 172 164 172 187 134 182 175"
            ]
          },
          "metadata": {}
        }
      ]
    },
    {
      "cell_type": "markdown",
      "source": [
        "The `c()` command is shorthand for combine, so the example above combines the individual elements (numbers) into a new vector."
      ],
      "metadata": {
        "id": "vCqgpmxxNM6E"
      }
    },
    {
      "cell_type": "markdown",
      "source": [
        "We can create a vector of alphanumeric names just as easily:"
      ],
      "metadata": {
        "id": "Rzf9uRLbNQz_"
      }
    },
    {
      "cell_type": "code",
      "source": [
        "names <- c(\"Ben\", \"Joe\", \"Sue\", \"Rosa\")\n",
        "\n",
        "names"
      ],
      "metadata": {
        "colab": {
          "base_uri": "https://localhost:8080/",
          "height": 34
        },
        "id": "MUg-pWKHNaXf",
        "outputId": "f087315c-f6ee-4b99-96d6-26023e4c2a06"
      },
      "execution_count": null,
      "outputs": [
        {
          "output_type": "display_data",
          "data": {
            "text/html": [
              "<style>\n",
              ".list-inline {list-style: none; margin:0; padding: 0}\n",
              ".list-inline>li {display: inline-block}\n",
              ".list-inline>li:not(:last-child)::after {content: \"\\00b7\"; padding: 0 .5ex}\n",
              "</style>\n",
              "<ol class=list-inline><li>'Ben'</li><li>'Joe'</li><li>'Sue'</li><li>'Rosa'</li></ol>\n"
            ],
            "text/markdown": "1. 'Ben'\n2. 'Joe'\n3. 'Sue'\n4. 'Rosa'\n\n\n",
            "text/latex": "\\begin{enumerate*}\n\\item 'Ben'\n\\item 'Joe'\n\\item 'Sue'\n\\item 'Rosa'\n\\end{enumerate*}\n",
            "text/plain": [
              "[1] \"Ben\"  \"Joe\"  \"Sue\"  \"Rosa\""
            ]
          },
          "metadata": {}
        }
      ]
    },
    {
      "cell_type": "markdown",
      "source": [
        "Printing variable values:"
      ],
      "metadata": {
        "id": "iWjUzD4bNo-Y"
      }
    },
    {
      "cell_type": "code",
      "source": [
        "print(names)"
      ],
      "metadata": {
        "colab": {
          "base_uri": "https://localhost:8080/"
        },
        "id": "Sv8FlD23Nsz8",
        "outputId": "9d7eca09-76e4-48f6-a42f-eb6b1622ca4a"
      },
      "execution_count": null,
      "outputs": [
        {
          "output_type": "stream",
          "name": "stdout",
          "text": [
            "[1] \"Ben\"  \"Joe\"  \"Sue\"  \"Rosa\"\n"
          ]
        }
      ]
    },
    {
      "cell_type": "markdown",
      "source": [
        "## **Accessing Elements**"
      ],
      "metadata": {
        "id": "soN-Lo8fN8-k"
      }
    },
    {
      "cell_type": "code",
      "source": [
        "my.vector <- c(10, 20, 30, 40)"
      ],
      "metadata": {
        "id": "WanOaEFZOE5i"
      },
      "execution_count": null,
      "outputs": []
    },
    {
      "cell_type": "code",
      "source": [
        "my.vector[1]          # First Index position in R is 1 whereas in Python it starts with 0"
      ],
      "metadata": {
        "colab": {
          "base_uri": "https://localhost:8080/",
          "height": 34
        },
        "id": "tPFOv5LDOJJj",
        "outputId": "97dd5b35-0dae-4779-8688-cc6028fdb710"
      },
      "execution_count": null,
      "outputs": [
        {
          "output_type": "display_data",
          "data": {
            "text/html": [
              "10"
            ],
            "text/markdown": "10",
            "text/latex": "10",
            "text/plain": [
              "[1] 10"
            ]
          },
          "metadata": {}
        }
      ]
    },
    {
      "cell_type": "markdown",
      "source": [
        "The square brackets specify a subset of the vector we want - in this case, just the first element."
      ],
      "metadata": {
        "id": "ItFFjHFbOhaX"
      }
    },
    {
      "cell_type": "markdown",
      "source": [
        "## **Selecting more than one element**"
      ],
      "metadata": {
        "id": "HrKDjEv9Oj65"
      }
    },
    {
      "cell_type": "markdown",
      "source": [
        "In sqaure bracket, only range can be given with \":\" (colon) but if you want to grab more than one element, we have to use `c()` function to grab those positions."
      ],
      "metadata": {
        "id": "U6OFrJhNO4qh"
      }
    },
    {
      "cell_type": "code",
      "source": [
        "my.vector[c(1,4)]"
      ],
      "metadata": {
        "colab": {
          "base_uri": "https://localhost:8080/",
          "height": 34
        },
        "id": "UhCpJ2CaOpnk",
        "outputId": "144c1ced-cd4b-432c-cdc2-2f7d28ebe898"
      },
      "execution_count": null,
      "outputs": [
        {
          "output_type": "display_data",
          "data": {
            "text/html": [
              "<style>\n",
              ".list-inline {list-style: none; margin:0; padding: 0}\n",
              ".list-inline>li {display: inline-block}\n",
              ".list-inline>li:not(:last-child)::after {content: \"\\00b7\"; padding: 0 .5ex}\n",
              "</style>\n",
              "<ol class=list-inline><li>10</li><li>40</li></ol>\n"
            ],
            "text/markdown": "1. 10\n2. 40\n\n\n",
            "text/latex": "\\begin{enumerate*}\n\\item 10\n\\item 40\n\\end{enumerate*}\n",
            "text/plain": [
              "[1] 10 40"
            ]
          },
          "metadata": {}
        }
      ]
    },
    {
      "cell_type": "code",
      "source": [
        "elements.to.grab <- c(4, 5)"
      ],
      "metadata": {
        "id": "AbFE-qrrPUup"
      },
      "execution_count": null,
      "outputs": []
    },
    {
      "cell_type": "code",
      "source": [
        "heights[elements.to.grab]"
      ],
      "metadata": {
        "colab": {
          "base_uri": "https://localhost:8080/",
          "height": 34
        },
        "id": "KvpgM5XJPYRe",
        "outputId": "3fdd1447-9c73-4c63-a710-3f0d728a74f1"
      },
      "execution_count": null,
      "outputs": [
        {
          "output_type": "display_data",
          "data": {
            "text/html": [
              "<style>\n",
              ".list-inline {list-style: none; margin:0; padding: 0}\n",
              ".list-inline>li {display: inline-block}\n",
              ".list-inline>li:not(:last-child)::after {content: \"\\00b7\"; padding: 0 .5ex}\n",
              "</style>\n",
              "<ol class=list-inline><li>158</li><li>167</li></ol>\n"
            ],
            "text/markdown": "1. 158\n2. 167\n\n\n",
            "text/latex": "\\begin{enumerate*}\n\\item 158\n\\item 167\n\\end{enumerate*}\n",
            "text/plain": [
              "[1] 158 167"
            ]
          },
          "metadata": {}
        }
      ]
    },
    {
      "cell_type": "markdown",
      "source": [
        "### Making a subset from original vector and assign it to a new variable"
      ],
      "metadata": {
        "id": "WAteLfmWPj8q"
      }
    },
    {
      "cell_type": "code",
      "source": [
        "first.two.elements <- heights[c(1, 2)]\n",
        "first.two.elements"
      ],
      "metadata": {
        "colab": {
          "base_uri": "https://localhost:8080/",
          "height": 34
        },
        "id": "2Wf1JpfZPrgF",
        "outputId": "a10cc08b-06be-403e-ea2c-19f0509ab1da"
      },
      "execution_count": null,
      "outputs": [
        {
          "output_type": "display_data",
          "data": {
            "text/html": [
              "<style>\n",
              ".list-inline {list-style: none; margin:0; padding: 0}\n",
              ".list-inline>li {display: inline-block}\n",
              ".list-inline>li:not(:last-child)::after {content: \"\\00b7\"; padding: 0 .5ex}\n",
              "</style>\n",
              "<ol class=list-inline><li>203</li><li>148</li></ol>\n"
            ],
            "text/markdown": "1. 203\n2. 148\n\n\n",
            "text/latex": "\\begin{enumerate*}\n\\item 203\n\\item 148\n\\end{enumerate*}\n",
            "text/plain": [
              "[1] 203 148"
            ]
          },
          "metadata": {}
        }
      ]
    },
    {
      "cell_type": "markdown",
      "source": [
        "## **Making and slicing with sequences**"
      ],
      "metadata": {
        "id": "07GSuYpmP2Z8"
      }
    },
    {
      "cell_type": "markdown",
      "source": [
        "The simplest way of doing this is to define a range, with the colon (:)"
      ],
      "metadata": {
        "id": "5x2X87K2P8Y1"
      }
    },
    {
      "cell_type": "code",
      "source": [
        "onetoten <- 1:10"
      ],
      "metadata": {
        "id": "av7dWci_P-gA"
      },
      "execution_count": null,
      "outputs": []
    },
    {
      "cell_type": "markdown",
      "source": [
        "This creates a vector which can be sliced like any other:"
      ],
      "metadata": {
        "id": "htmbSMWlQFf4"
      }
    },
    {
      "cell_type": "code",
      "source": [
        "onetoten[8]"
      ],
      "metadata": {
        "colab": {
          "base_uri": "https://localhost:8080/",
          "height": 34
        },
        "id": "ezFbsKL1QHD-",
        "outputId": "0847bfa2-986f-4a02-b5b5-d03a08f98b6f"
      },
      "execution_count": null,
      "outputs": [
        {
          "output_type": "display_data",
          "data": {
            "text/html": [
              "8"
            ],
            "text/markdown": "8",
            "text/latex": "8",
            "text/plain": [
              "[1] 8"
            ]
          },
          "metadata": {}
        }
      ]
    },
    {
      "cell_type": "markdown",
      "source": [
        "One common use of sequences is to slice other vectors:"
      ],
      "metadata": {
        "id": "uwvVtklEQXKu"
      }
    },
    {
      "cell_type": "code",
      "source": [
        "onetoten[1:3]"
      ],
      "metadata": {
        "colab": {
          "base_uri": "https://localhost:8080/",
          "height": 34
        },
        "id": "3WY_tr0rQXvW",
        "outputId": "1009e15d-350d-4696-e448-aab626a7eadb"
      },
      "execution_count": null,
      "outputs": [
        {
          "output_type": "display_data",
          "data": {
            "text/html": [
              "<style>\n",
              ".list-inline {list-style: none; margin:0; padding: 0}\n",
              ".list-inline>li {display: inline-block}\n",
              ".list-inline>li:not(:last-child)::after {content: \"\\00b7\"; padding: 0 .5ex}\n",
              "</style>\n",
              "<ol class=list-inline><li>1</li><li>2</li><li>3</li></ol>\n"
            ],
            "text/markdown": "1. 1\n2. 2\n3. 3\n\n\n",
            "text/latex": "\\begin{enumerate*}\n\\item 1\n\\item 2\n\\item 3\n\\end{enumerate*}\n",
            "text/plain": [
              "[1] 1 2 3"
            ]
          },
          "metadata": {}
        }
      ]
    },
    {
      "cell_type": "markdown",
      "source": [
        "Or the first 10 values in the heights vector we defined above:"
      ],
      "metadata": {
        "id": "yBZwiy1gQdT8"
      }
    },
    {
      "cell_type": "code",
      "source": [
        "heights[1:10]"
      ],
      "metadata": {
        "colab": {
          "base_uri": "https://localhost:8080/",
          "height": 34
        },
        "id": "4vDro84QQdxe",
        "outputId": "2bce5fe0-e84b-42c0-cac4-975ff3f13958"
      },
      "execution_count": null,
      "outputs": [
        {
          "output_type": "display_data",
          "data": {
            "text/html": [
              "<style>\n",
              ".list-inline {list-style: none; margin:0; padding: 0}\n",
              ".list-inline>li {display: inline-block}\n",
              ".list-inline>li:not(:last-child)::after {content: \"\\00b7\"; padding: 0 .5ex}\n",
              "</style>\n",
              "<ol class=list-inline><li>203</li><li>148</li><li>156</li><li>158</li><li>167</li><li>162</li><li>172</li><li>164</li><li>172</li><li>187</li></ol>\n"
            ],
            "text/markdown": "1. 203\n2. 148\n3. 156\n4. 158\n5. 167\n6. 162\n7. 172\n8. 164\n9. 172\n10. 187\n\n\n",
            "text/latex": "\\begin{enumerate*}\n\\item 203\n\\item 148\n\\item 156\n\\item 158\n\\item 167\n\\item 162\n\\item 172\n\\item 164\n\\item 172\n\\item 187\n\\end{enumerate*}\n",
            "text/plain": [
              " [1] 203 148 156 158 167 162 172 164 172 187"
            ]
          },
          "metadata": {}
        }
      ]
    },
    {
      "cell_type": "markdown",
      "source": [
        "This works backwards, and with negative numbers too:"
      ],
      "metadata": {
        "id": "lWzSNE4NQp-3"
      }
    },
    {
      "cell_type": "code",
      "source": [
        "5:-5"
      ],
      "metadata": {
        "colab": {
          "base_uri": "https://localhost:8080/",
          "height": 34
        },
        "id": "L5PtXBXqQqmV",
        "outputId": "1201f962-07bd-44a1-d924-a9e88b7d6607"
      },
      "execution_count": null,
      "outputs": [
        {
          "output_type": "display_data",
          "data": {
            "text/html": [
              "<style>\n",
              ".list-inline {list-style: none; margin:0; padding: 0}\n",
              ".list-inline>li {display: inline-block}\n",
              ".list-inline>li:not(:last-child)::after {content: \"\\00b7\"; padding: 0 .5ex}\n",
              "</style>\n",
              "<ol class=list-inline><li>5</li><li>4</li><li>3</li><li>2</li><li>1</li><li>0</li><li>-1</li><li>-2</li><li>-3</li><li>-4</li><li>-5</li></ol>\n"
            ],
            "text/markdown": "1. 5\n2. 4\n3. 3\n4. 2\n5. 1\n6. 0\n7. -1\n8. -2\n9. -3\n10. -4\n11. -5\n\n\n",
            "text/latex": "\\begin{enumerate*}\n\\item 5\n\\item 4\n\\item 3\n\\item 2\n\\item 1\n\\item 0\n\\item -1\n\\item -2\n\\item -3\n\\item -4\n\\item -5\n\\end{enumerate*}\n",
            "text/plain": [
              " [1]  5  4  3  2  1  0 -1 -2 -3 -4 -5"
            ]
          },
          "metadata": {}
        }
      ]
    },
    {
      "cell_type": "markdown",
      "source": [
        "#### **Seqeunce() Function** --> Python's `range()` function"
      ],
      "metadata": {
        "id": "HIisSkHMQtYO"
      }
    },
    {
      "cell_type": "markdown",
      "source": [
        "When your sequence doesn’t contain only whole numbers, or non-consecutive numbers, you can use the seq function:"
      ],
      "metadata": {
        "id": "GHnRi9V1yLRH"
      }
    },
    {
      "cell_type": "code",
      "source": [
        "seq(1,10,by=2)"
      ],
      "metadata": {
        "colab": {
          "base_uri": "https://localhost:8080/",
          "height": 34
        },
        "id": "Z6u-MyLBQ43z",
        "outputId": "3a9a6414-49ff-4a62-dfd8-4e6bbf6c8b11"
      },
      "execution_count": null,
      "outputs": [
        {
          "output_type": "display_data",
          "data": {
            "text/html": [
              "<style>\n",
              ".list-inline {list-style: none; margin:0; padding: 0}\n",
              ".list-inline>li {display: inline-block}\n",
              ".list-inline>li:not(:last-child)::after {content: \"\\00b7\"; padding: 0 .5ex}\n",
              "</style>\n",
              "<ol class=list-inline><li>1</li><li>3</li><li>5</li><li>7</li><li>9</li></ol>\n"
            ],
            "text/markdown": "1. 1\n2. 3\n3. 5\n4. 7\n5. 9\n\n\n",
            "text/latex": "\\begin{enumerate*}\n\\item 1\n\\item 3\n\\item 5\n\\item 7\n\\item 9\n\\end{enumerate*}\n",
            "text/plain": [
              "[1] 1 3 5 7 9"
            ]
          },
          "metadata": {}
        }
      ]
    },
    {
      "cell_type": "code",
      "source": [
        "seq(0, 1, by=.2)"
      ],
      "metadata": {
        "colab": {
          "base_uri": "https://localhost:8080/",
          "height": 34
        },
        "id": "rPOWQ7QJQ-PQ",
        "outputId": "fba8a18a-79f2-4c0b-efab-33f8a10ba1b2"
      },
      "execution_count": null,
      "outputs": [
        {
          "output_type": "display_data",
          "data": {
            "text/html": [
              "<style>\n",
              ".list-inline {list-style: none; margin:0; padding: 0}\n",
              ".list-inline>li {display: inline-block}\n",
              ".list-inline>li:not(:last-child)::after {content: \"\\00b7\"; padding: 0 .5ex}\n",
              "</style>\n",
              "<ol class=list-inline><li>0</li><li>0.2</li><li>0.4</li><li>0.6</li><li>0.8</li><li>1</li></ol>\n"
            ],
            "text/markdown": "1. 0\n2. 0.2\n3. 0.4\n4. 0.6\n5. 0.8\n6. 1\n\n\n",
            "text/latex": "\\begin{enumerate*}\n\\item 0\n\\item 0.2\n\\item 0.4\n\\item 0.6\n\\item 0.8\n\\item 1\n\\end{enumerate*}\n",
            "text/plain": [
              "[1] 0.0 0.2 0.4 0.6 0.8 1.0"
            ]
          },
          "metadata": {}
        }
      ]
    },
    {
      "cell_type": "markdown",
      "source": [
        "## **Conditional slicing**"
      ],
      "metadata": {
        "id": "1c3bsw3vStDF"
      }
    },
    {
      "cell_type": "markdown",
      "source": [
        "One neat feature of R is that you can create a sequence of `TRUE` or `FALSE` values, by asking whether each value in a sequence matches a particular condition. For example:"
      ],
      "metadata": {
        "id": "gETIVT_UyPfa"
      }
    },
    {
      "cell_type": "code",
      "source": [
        "1:10 > 5"
      ],
      "metadata": {
        "colab": {
          "base_uri": "https://localhost:8080/",
          "height": 34
        },
        "id": "yfuRQF-PS93S",
        "outputId": "62dc239c-4acd-4d31-b442-045f2070724c"
      },
      "execution_count": null,
      "outputs": [
        {
          "output_type": "display_data",
          "data": {
            "text/html": [
              "<style>\n",
              ".list-inline {list-style: none; margin:0; padding: 0}\n",
              ".list-inline>li {display: inline-block}\n",
              ".list-inline>li:not(:last-child)::after {content: \"\\00b7\"; padding: 0 .5ex}\n",
              "</style>\n",
              "<ol class=list-inline><li>FALSE</li><li>FALSE</li><li>FALSE</li><li>FALSE</li><li>FALSE</li><li>TRUE</li><li>TRUE</li><li>TRUE</li><li>TRUE</li><li>TRUE</li></ol>\n"
            ],
            "text/markdown": "1. FALSE\n2. FALSE\n3. FALSE\n4. FALSE\n5. FALSE\n6. TRUE\n7. TRUE\n8. TRUE\n9. TRUE\n10. TRUE\n\n\n",
            "text/latex": "\\begin{enumerate*}\n\\item FALSE\n\\item FALSE\n\\item FALSE\n\\item FALSE\n\\item FALSE\n\\item TRUE\n\\item TRUE\n\\item TRUE\n\\item TRUE\n\\item TRUE\n\\end{enumerate*}\n",
            "text/plain": [
              " [1] FALSE FALSE FALSE FALSE FALSE  TRUE  TRUE  TRUE  TRUE  TRUE"
            ]
          },
          "metadata": {}
        }
      ]
    },
    {
      "cell_type": "markdown",
      "source": [
        "Re-using the heights vector from above, we can then use this to select values that are above the average:"
      ],
      "metadata": {
        "id": "Be88vPodTBbn"
      }
    },
    {
      "cell_type": "code",
      "source": [
        "heights > mean(heights)"
      ],
      "metadata": {
        "colab": {
          "base_uri": "https://localhost:8080/",
          "height": 34
        },
        "id": "luQQfG32TCNq",
        "outputId": "6ca0ae95-0d64-46bd-aea6-67031965f475"
      },
      "execution_count": null,
      "outputs": [
        {
          "output_type": "display_data",
          "data": {
            "text/html": [
              "<style>\n",
              ".list-inline {list-style: none; margin:0; padding: 0}\n",
              ".list-inline>li {display: inline-block}\n",
              ".list-inline>li:not(:last-child)::after {content: \"\\00b7\"; padding: 0 .5ex}\n",
              "</style>\n",
              "<ol class=list-inline><li>TRUE</li><li>FALSE</li><li>FALSE</li><li>FALSE</li><li>FALSE</li><li>FALSE</li><li>TRUE</li><li>FALSE</li><li>TRUE</li><li>TRUE</li><li>FALSE</li><li>TRUE</li><li>TRUE</li></ol>\n"
            ],
            "text/markdown": "1. TRUE\n2. FALSE\n3. FALSE\n4. FALSE\n5. FALSE\n6. FALSE\n7. TRUE\n8. FALSE\n9. TRUE\n10. TRUE\n11. FALSE\n12. TRUE\n13. TRUE\n\n\n",
            "text/latex": "\\begin{enumerate*}\n\\item TRUE\n\\item FALSE\n\\item FALSE\n\\item FALSE\n\\item FALSE\n\\item FALSE\n\\item TRUE\n\\item FALSE\n\\item TRUE\n\\item TRUE\n\\item FALSE\n\\item TRUE\n\\item TRUE\n\\end{enumerate*}\n",
            "text/plain": [
              " [1]  TRUE FALSE FALSE FALSE FALSE FALSE  TRUE FALSE  TRUE  TRUE FALSE  TRUE\n",
              "[13]  TRUE"
            ]
          },
          "metadata": {}
        }
      ]
    },
    {
      "cell_type": "markdown",
      "source": [
        "And we can use the vector of TRUE and FALSE values to select from the actual scores:"
      ],
      "metadata": {
        "id": "cvhDaRDtTGnk"
      }
    },
    {
      "cell_type": "code",
      "source": [
        "heights[heights > mean(heights)]"
      ],
      "metadata": {
        "colab": {
          "base_uri": "https://localhost:8080/",
          "height": 34
        },
        "id": "nHk3Ie8QTHIY",
        "outputId": "fb965bf4-7e8f-47e1-d926-799f164b062d"
      },
      "execution_count": null,
      "outputs": [
        {
          "output_type": "display_data",
          "data": {
            "text/html": [
              "<style>\n",
              ".list-inline {list-style: none; margin:0; padding: 0}\n",
              ".list-inline>li {display: inline-block}\n",
              ".list-inline>li:not(:last-child)::after {content: \"\\00b7\"; padding: 0 .5ex}\n",
              "</style>\n",
              "<ol class=list-inline><li>203</li><li>172</li><li>172</li><li>187</li><li>182</li><li>175</li></ol>\n"
            ],
            "text/markdown": "1. 203\n2. 172\n3. 172\n4. 187\n5. 182\n6. 175\n\n\n",
            "text/latex": "\\begin{enumerate*}\n\\item 203\n\\item 172\n\\item 172\n\\item 187\n\\item 182\n\\item 175\n\\end{enumerate*}\n",
            "text/plain": [
              "[1] 203 172 172 187 182 175"
            ]
          },
          "metadata": {}
        }
      ]
    },
    {
      "cell_type": "markdown",
      "source": [
        "### **Explicit Coercion**"
      ],
      "metadata": {
        "id": "0ngtjVqub2ED"
      }
    },
    {
      "cell_type": "markdown",
      "source": [
        "Objects can be coerced from one class to another class using `as.*` functions, if available."
      ],
      "metadata": {
        "id": "Vv9X6lWEb6Mc"
      }
    },
    {
      "cell_type": "code",
      "source": [
        "x <- 0:6"
      ],
      "metadata": {
        "id": "f0OECPf8cHmB"
      },
      "execution_count": null,
      "outputs": []
    },
    {
      "cell_type": "code",
      "source": [
        "class(x)"
      ],
      "metadata": {
        "colab": {
          "base_uri": "https://localhost:8080/",
          "height": 34
        },
        "id": "t4e_-HRGif2N",
        "outputId": "43c2b959-9843-4f41-e982-3c70b79460ef"
      },
      "execution_count": null,
      "outputs": [
        {
          "output_type": "display_data",
          "data": {
            "text/html": [
              "'integer'"
            ],
            "text/markdown": "'integer'",
            "text/latex": "'integer'",
            "text/plain": [
              "[1] \"integer\""
            ]
          },
          "metadata": {}
        }
      ]
    },
    {
      "cell_type": "code",
      "source": [
        "as.numeric(x)"
      ],
      "metadata": {
        "colab": {
          "base_uri": "https://localhost:8080/",
          "height": 34
        },
        "id": "5YfcA4bbihSn",
        "outputId": "96f2fdab-7cd4-4073-da20-ed169917762e"
      },
      "execution_count": null,
      "outputs": [
        {
          "output_type": "display_data",
          "data": {
            "text/html": [
              "<style>\n",
              ".list-inline {list-style: none; margin:0; padding: 0}\n",
              ".list-inline>li {display: inline-block}\n",
              ".list-inline>li:not(:last-child)::after {content: \"\\00b7\"; padding: 0 .5ex}\n",
              "</style>\n",
              "<ol class=list-inline><li>0</li><li>1</li><li>2</li><li>3</li><li>4</li><li>5</li><li>6</li></ol>\n"
            ],
            "text/markdown": "1. 0\n2. 1\n3. 2\n4. 3\n5. 4\n6. 5\n7. 6\n\n\n",
            "text/latex": "\\begin{enumerate*}\n\\item 0\n\\item 1\n\\item 2\n\\item 3\n\\item 4\n\\item 5\n\\item 6\n\\end{enumerate*}\n",
            "text/plain": [
              "[1] 0 1 2 3 4 5 6"
            ]
          },
          "metadata": {}
        }
      ]
    },
    {
      "cell_type": "code",
      "source": [
        "as.logical(x)"
      ],
      "metadata": {
        "colab": {
          "base_uri": "https://localhost:8080/",
          "height": 34
        },
        "id": "I2IkHMa_indm",
        "outputId": "3a1d0080-d28f-4d5d-8ae3-739b35c9f0c0"
      },
      "execution_count": null,
      "outputs": [
        {
          "output_type": "display_data",
          "data": {
            "text/html": [
              "<style>\n",
              ".list-inline {list-style: none; margin:0; padding: 0}\n",
              ".list-inline>li {display: inline-block}\n",
              ".list-inline>li:not(:last-child)::after {content: \"\\00b7\"; padding: 0 .5ex}\n",
              "</style>\n",
              "<ol class=list-inline><li>FALSE</li><li>TRUE</li><li>TRUE</li><li>TRUE</li><li>TRUE</li><li>TRUE</li><li>TRUE</li></ol>\n"
            ],
            "text/markdown": "1. FALSE\n2. TRUE\n3. TRUE\n4. TRUE\n5. TRUE\n6. TRUE\n7. TRUE\n\n\n",
            "text/latex": "\\begin{enumerate*}\n\\item FALSE\n\\item TRUE\n\\item TRUE\n\\item TRUE\n\\item TRUE\n\\item TRUE\n\\item TRUE\n\\end{enumerate*}\n",
            "text/plain": [
              "[1] FALSE  TRUE  TRUE  TRUE  TRUE  TRUE  TRUE"
            ]
          },
          "metadata": {}
        }
      ]
    },
    {
      "cell_type": "code",
      "source": [
        "as.character(x)"
      ],
      "metadata": {
        "colab": {
          "base_uri": "https://localhost:8080/",
          "height": 34
        },
        "id": "hW_oRfPZirDg",
        "outputId": "7e91c5b3-fbde-40f5-b4c6-ebebe55f880c"
      },
      "execution_count": null,
      "outputs": [
        {
          "output_type": "display_data",
          "data": {
            "text/html": [
              "<style>\n",
              ".list-inline {list-style: none; margin:0; padding: 0}\n",
              ".list-inline>li {display: inline-block}\n",
              ".list-inline>li:not(:last-child)::after {content: \"\\00b7\"; padding: 0 .5ex}\n",
              "</style>\n",
              "<ol class=list-inline><li>'0'</li><li>'1'</li><li>'2'</li><li>'3'</li><li>'4'</li><li>'5'</li><li>'6'</li></ol>\n"
            ],
            "text/markdown": "1. '0'\n2. '1'\n3. '2'\n4. '3'\n5. '4'\n6. '5'\n7. '6'\n\n\n",
            "text/latex": "\\begin{enumerate*}\n\\item '0'\n\\item '1'\n\\item '2'\n\\item '3'\n\\item '4'\n\\item '5'\n\\item '6'\n\\end{enumerate*}\n",
            "text/plain": [
              "[1] \"0\" \"1\" \"2\" \"3\" \"4\" \"5\" \"6\""
            ]
          },
          "metadata": {}
        }
      ]
    },
    {
      "cell_type": "code",
      "source": [
        "x <- c(\"a\", \"b\", \"c\")"
      ],
      "metadata": {
        "id": "hKLWWNYDloZg"
      },
      "execution_count": null,
      "outputs": []
    },
    {
      "cell_type": "code",
      "source": [
        "as.numeric(x)"
      ],
      "metadata": {
        "colab": {
          "base_uri": "https://localhost:8080/",
          "height": 69
        },
        "id": "pu353jOjl2x5",
        "outputId": "c04941cc-5a50-40aa-fd39-3e67322f02cd"
      },
      "execution_count": null,
      "outputs": [
        {
          "output_type": "stream",
          "name": "stderr",
          "text": [
            "Warning message in eval(expr, envir, enclos):\n",
            "“NAs introduced by coercion”\n"
          ]
        },
        {
          "output_type": "display_data",
          "data": {
            "text/html": [
              "<style>\n",
              ".list-inline {list-style: none; margin:0; padding: 0}\n",
              ".list-inline>li {display: inline-block}\n",
              ".list-inline>li:not(:last-child)::after {content: \"\\00b7\"; padding: 0 .5ex}\n",
              "</style>\n",
              "<ol class=list-inline><li>&lt;NA&gt;</li><li>&lt;NA&gt;</li><li>&lt;NA&gt;</li></ol>\n"
            ],
            "text/markdown": "1. &lt;NA&gt;\n2. &lt;NA&gt;\n3. &lt;NA&gt;\n\n\n",
            "text/latex": "\\begin{enumerate*}\n\\item <NA>\n\\item <NA>\n\\item <NA>\n\\end{enumerate*}\n",
            "text/plain": [
              "[1] NA NA NA"
            ]
          },
          "metadata": {}
        }
      ]
    },
    {
      "cell_type": "code",
      "source": [
        "as.logical(x)"
      ],
      "metadata": {
        "colab": {
          "base_uri": "https://localhost:8080/",
          "height": 34
        },
        "id": "8XMw00uzl-rc",
        "outputId": "e01251d7-c97b-46bb-e093-9d679e885378"
      },
      "execution_count": null,
      "outputs": [
        {
          "output_type": "display_data",
          "data": {
            "text/html": [
              "<style>\n",
              ".list-inline {list-style: none; margin:0; padding: 0}\n",
              ".list-inline>li {display: inline-block}\n",
              ".list-inline>li:not(:last-child)::after {content: \"\\00b7\"; padding: 0 .5ex}\n",
              "</style>\n",
              "<ol class=list-inline><li>&lt;NA&gt;</li><li>&lt;NA&gt;</li><li>&lt;NA&gt;</li></ol>\n"
            ],
            "text/markdown": "1. &lt;NA&gt;\n2. &lt;NA&gt;\n3. &lt;NA&gt;\n\n\n",
            "text/latex": "\\begin{enumerate*}\n\\item <NA>\n\\item <NA>\n\\item <NA>\n\\end{enumerate*}\n",
            "text/plain": [
              "[1] NA NA NA"
            ]
          },
          "metadata": {}
        }
      ]
    },
    {
      "cell_type": "code",
      "source": [
        "                                                                                                                                                                                                                                                                                                                                                                                                                                                                                                                                                                                                                                                                                                                                                                                                                                                                                                                                                                                                                                                                                                                                                                                                                                                                                                                                                                                                                                                                                                                                                                                                                                                                                      "
      ],
      "metadata": {
        "id": "FV-4LDhZl2pW"
      },
      "execution_count": null,
      "outputs": []
    },
    {
      "cell_type": "markdown",
      "source": [
        "## **Working with vectors**"
      ],
      "metadata": {
        "id": "eWIaaIa3xqGr"
      }
    },
    {
      "cell_type": "markdown",
      "source": [
        "Many of R’s most useful functions process vectors of numbers in some way"
      ],
      "metadata": {
        "id": "tWVSmjVjxshu"
      }
    },
    {
      "cell_type": "code",
      "source": [
        "mean(heights)"
      ],
      "metadata": {
        "colab": {
          "base_uri": "https://localhost:8080/",
          "height": 34
        },
        "id": "07OrNp3zx1cI",
        "outputId": "2faf164f-7c01-4454-8a69-79b0d9ceb3b4"
      },
      "execution_count": null,
      "outputs": [
        {
          "output_type": "display_data",
          "data": {
            "text/html": [
              "167.692307692308"
            ],
            "text/markdown": "167.692307692308",
            "text/latex": "167.692307692308",
            "text/plain": [
              "[1] 167.6923"
            ]
          },
          "metadata": {}
        }
      ]
    },
    {
      "cell_type": "markdown",
      "source": [
        "Built in function in R to summarize a vector of numbers."
      ],
      "metadata": {
        "id": "3sm_D-veyapo"
      }
    },
    {
      "cell_type": "code",
      "source": [
        "median(heights)         # Median"
      ],
      "metadata": {
        "colab": {
          "base_uri": "https://localhost:8080/",
          "height": 34
        },
        "id": "jTCo_lFDygIW",
        "outputId": "8801bb7f-7647-4dce-882f-3814e4b308e4"
      },
      "execution_count": null,
      "outputs": [
        {
          "output_type": "display_data",
          "data": {
            "text/html": [
              "167"
            ],
            "text/markdown": "167",
            "text/latex": "167",
            "text/plain": [
              "[1] 167"
            ]
          },
          "metadata": {}
        }
      ]
    },
    {
      "cell_type": "code",
      "source": [
        "sd(heights)             # Standard deviation"
      ],
      "metadata": {
        "colab": {
          "base_uri": "https://localhost:8080/",
          "height": 34
        },
        "id": "5BDVuJJDymvi",
        "outputId": "973132cc-089e-4840-df28-f3890434970c"
      },
      "execution_count": null,
      "outputs": [
        {
          "output_type": "display_data",
          "data": {
            "text/html": [
              "17.5944338517641"
            ],
            "text/markdown": "17.5944338517641",
            "text/latex": "17.5944338517641",
            "text/plain": [
              "[1] 17.59443"
            ]
          },
          "metadata": {}
        }
      ]
    },
    {
      "cell_type": "code",
      "source": [
        "min(heights)            # Minimum"
      ],
      "metadata": {
        "colab": {
          "base_uri": "https://localhost:8080/",
          "height": 34
        },
        "id": "zpRctMffyyXb",
        "outputId": "ab017e8c-0edf-4b03-96c1-ab8a0aafa844"
      },
      "execution_count": null,
      "outputs": [
        {
          "output_type": "display_data",
          "data": {
            "text/html": [
              "134"
            ],
            "text/markdown": "134",
            "text/latex": "134",
            "text/plain": [
              "[1] 134"
            ]
          },
          "metadata": {}
        }
      ]
    },
    {
      "cell_type": "code",
      "source": [
        "max(heights)            # Maximum"
      ],
      "metadata": {
        "colab": {
          "base_uri": "https://localhost:8080/",
          "height": 34
        },
        "id": "T0BR8dgzy7VA",
        "outputId": "55bebec6-e03a-4dd8-bbf9-e65cd84912a9"
      },
      "execution_count": null,
      "outputs": [
        {
          "output_type": "display_data",
          "data": {
            "text/html": [
              "203"
            ],
            "text/markdown": "203",
            "text/latex": "203",
            "text/plain": [
              "[1] 203"
            ]
          },
          "metadata": {}
        }
      ]
    },
    {
      "cell_type": "code",
      "source": [
        "range(heights)          # Range returns a vector containing the minimum and maximum of all the given arguments."
      ],
      "metadata": {
        "colab": {
          "base_uri": "https://localhost:8080/",
          "height": 34
        },
        "id": "I0BtTMMYzDwB",
        "outputId": "fef2a023-7e50-4cf3-edc8-e18180f3ec11"
      },
      "execution_count": null,
      "outputs": [
        {
          "output_type": "display_data",
          "data": {
            "text/html": [
              "<style>\n",
              ".list-inline {list-style: none; margin:0; padding: 0}\n",
              ".list-inline>li {display: inline-block}\n",
              ".list-inline>li:not(:last-child)::after {content: \"\\00b7\"; padding: 0 .5ex}\n",
              "</style>\n",
              "<ol class=list-inline><li>134</li><li>203</li></ol>\n"
            ],
            "text/markdown": "1. 134\n2. 203\n\n\n",
            "text/latex": "\\begin{enumerate*}\n\\item 134\n\\item 203\n\\end{enumerate*}\n",
            "text/plain": [
              "[1] 134 203"
            ]
          },
          "metadata": {}
        }
      ]
    },
    {
      "cell_type": "code",
      "source": [
        "IQR(heights)            #  IQR computes interquartile range of the ‘x’ values."
      ],
      "metadata": {
        "colab": {
          "base_uri": "https://localhost:8080/",
          "height": 34
        },
        "id": "TWvKYjRtzfOb",
        "outputId": "756ef674-d7e7-4a71-a9ed-34ca4e59cef9"
      },
      "execution_count": null,
      "outputs": [
        {
          "output_type": "display_data",
          "data": {
            "text/html": [
              "17"
            ],
            "text/markdown": "17",
            "text/latex": "17",
            "text/plain": [
              "[1] 17"
            ]
          },
          "metadata": {}
        }
      ]
    },
    {
      "cell_type": "code",
      "source": [
        "length(heights)         # Count number of items in a vector"
      ],
      "metadata": {
        "colab": {
          "base_uri": "https://localhost:8080/",
          "height": 34
        },
        "id": "W98qRAPxzxLU",
        "outputId": "da2a52c9-8f20-4821-bc1f-7ad4fbaaaf9a"
      },
      "execution_count": null,
      "outputs": [
        {
          "output_type": "display_data",
          "data": {
            "text/html": [
              "13"
            ],
            "text/markdown": "13",
            "text/latex": "13",
            "text/plain": [
              "[1] 13"
            ]
          },
          "metadata": {}
        }
      ]
    },
    {
      "cell_type": "markdown",
      "source": [
        "Some functions will give you more than one result. For eg."
      ],
      "metadata": {
        "id": "4NI6Hxmz0T5_"
      }
    },
    {
      "cell_type": "code",
      "source": [
        "height.quantiles <- quantile(heights)"
      ],
      "metadata": {
        "id": "p2N6yozG0ccE"
      },
      "execution_count": null,
      "outputs": []
    },
    {
      "cell_type": "code",
      "source": [
        "height.quantiles"
      ],
      "metadata": {
        "colab": {
          "base_uri": "https://localhost:8080/",
          "height": 34
        },
        "id": "fh_YjVbXz-C7",
        "outputId": "6c716154-1356-4bed-fd23-01ca4abe1a06"
      },
      "execution_count": null,
      "outputs": [
        {
          "output_type": "display_data",
          "data": {
            "text/html": [
              "<style>\n",
              ".dl-inline {width: auto; margin:0; padding: 0}\n",
              ".dl-inline>dt, .dl-inline>dd {float: none; width: auto; display: inline-block}\n",
              ".dl-inline>dt::after {content: \":\\0020\"; padding-right: .5ex}\n",
              ".dl-inline>dt:not(:first-of-type) {padding-left: .5ex}\n",
              "</style><dl class=dl-inline><dt>0%</dt><dd>134</dd><dt>25%</dt><dd>158</dd><dt>50%</dt><dd>167</dd><dt>75%</dt><dd>175</dd><dt>100%</dt><dd>203</dd></dl>\n"
            ],
            "text/markdown": "0%\n:   13425%\n:   15850%\n:   16775%\n:   175100%\n:   203\n\n",
            "text/latex": "\\begin{description*}\n\\item[0\\textbackslash{}\\%] 134\n\\item[25\\textbackslash{}\\%] 158\n\\item[50\\textbackslash{}\\%] 167\n\\item[75\\textbackslash{}\\%] 175\n\\item[100\\textbackslash{}\\%] 203\n\\end{description*}\n",
            "text/plain": [
              "  0%  25%  50%  75% 100% \n",
              " 134  158  167  175  203 "
            ]
          },
          "metadata": {}
        }
      ]
    },
    {
      "cell_type": "code",
      "source": [
        "height.quantiles[3]"
      ],
      "metadata": {
        "colab": {
          "base_uri": "https://localhost:8080/",
          "height": 34
        },
        "id": "PmWs1-jS0_MA",
        "outputId": "71df76a2-aa4f-484e-9f40-ea14782ba3ce"
      },
      "execution_count": null,
      "outputs": [
        {
          "output_type": "display_data",
          "data": {
            "text/html": [
              "<strong>50%:</strong> 167"
            ],
            "text/markdown": "**50%:** 167",
            "text/latex": "\\textbf{50\\textbackslash{}\\%:} 167",
            "text/plain": [
              "50% \n",
              "167 "
            ]
          },
          "metadata": {}
        }
      ]
    },
    {
      "cell_type": "code",
      "source": [
        "min.height <- height.quantiles[1]\n",
        "\n",
        "min.height"
      ],
      "metadata": {
        "colab": {
          "base_uri": "https://localhost:8080/",
          "height": 34
        },
        "id": "7r2TSOld1Lff",
        "outputId": "753488ef-8b63-4427-88e3-93ca82d94a9d"
      },
      "execution_count": null,
      "outputs": [
        {
          "output_type": "display_data",
          "data": {
            "text/html": [
              "<strong>0%:</strong> 134"
            ],
            "text/markdown": "**0%:** 134",
            "text/latex": "\\textbf{0\\textbackslash{}\\%:} 134",
            "text/plain": [
              " 0% \n",
              "134 "
            ]
          },
          "metadata": {}
        }
      ]
    },
    {
      "cell_type": "markdown",
      "source": [
        "### Histogram"
      ],
      "metadata": {
        "id": "nv-bIszv2h4r"
      }
    },
    {
      "cell_type": "code",
      "source": [
        "hist(heights)"
      ],
      "metadata": {
        "colab": {
          "base_uri": "https://localhost:8080/",
          "height": 437
        },
        "id": "ywx_EaI-2TnV",
        "outputId": "6c9f9b95-e5a6-41ad-af02-d7551caf60ad"
      },
      "execution_count": null,
      "outputs": [
        {
          "output_type": "display_data",
          "data": {
            "text/plain": [
              "Plot with title “Histogram of heights”"
            ],
            "image/png": "[encoded data removed]"
          },
          "metadata": {
            "image/png": {
              "width": 420,
              "height": 420
            }
          }
        }
      ]
    },
    {
      "cell_type": "markdown",
      "source": [
        "### **Making new vectors**"
      ],
      "metadata": {
        "id": "ZhxV1EQa2zbG"
      }
    },
    {
      "cell_type": "code",
      "source": [
        "heights"
      ],
      "metadata": {
        "colab": {
          "base_uri": "https://localhost:8080/",
          "height": 34
        },
        "id": "v7bdx55K23p1",
        "outputId": "4dd253c9-db1c-4749-bb57-95b6c44e30af"
      },
      "execution_count": null,
      "outputs": [
        {
          "output_type": "display_data",
          "data": {
            "text/html": [
              "<style>\n",
              ".list-inline {list-style: none; margin:0; padding: 0}\n",
              ".list-inline>li {display: inline-block}\n",
              ".list-inline>li:not(:last-child)::after {content: \"\\00b7\"; padding: 0 .5ex}\n",
              "</style>\n",
              "<ol class=list-inline><li>203</li><li>148</li><li>156</li><li>158</li><li>167</li><li>162</li><li>172</li><li>164</li><li>172</li><li>187</li><li>134</li><li>182</li><li>175</li></ol>\n"
            ],
            "text/markdown": "1. 203\n2. 148\n3. 156\n4. 158\n5. 167\n6. 162\n7. 172\n8. 164\n9. 172\n10. 187\n11. 134\n12. 182\n13. 175\n\n\n",
            "text/latex": "\\begin{enumerate*}\n\\item 203\n\\item 148\n\\item 156\n\\item 158\n\\item 167\n\\item 162\n\\item 172\n\\item 164\n\\item 172\n\\item 187\n\\item 134\n\\item 182\n\\item 175\n\\end{enumerate*}\n",
            "text/plain": [
              " [1] 203 148 156 158 167 162 172 164 172 187 134 182 175"
            ]
          },
          "metadata": {}
        }
      ]
    },
    {
      "cell_type": "code",
      "source": [
        "sqrt(heights)"
      ],
      "metadata": {
        "colab": {
          "base_uri": "https://localhost:8080/",
          "height": 52
        },
        "id": "Y5asigZV3WHt",
        "outputId": "1d673daa-b9be-449f-a809-f555c67d7988"
      },
      "execution_count": null,
      "outputs": [
        {
          "output_type": "display_data",
          "data": {
            "text/html": [
              "<style>\n",
              ".list-inline {list-style: none; margin:0; padding: 0}\n",
              ".list-inline>li {display: inline-block}\n",
              ".list-inline>li:not(:last-child)::after {content: \"\\00b7\"; padding: 0 .5ex}\n",
              "</style>\n",
              "<ol class=list-inline><li>14.247806848775</li><li>12.1655250605964</li><li>12.4899959967968</li><li>12.5698050899765</li><li>12.9228479833201</li><li>12.7279220613579</li><li>13.114877048604</li><li>12.8062484748657</li><li>13.114877048604</li><li>13.6747943311773</li><li>11.5758369027902</li><li>13.490737563232</li><li>13.228756555323</li></ol>\n"
            ],
            "text/markdown": "1. 14.247806848775\n2. 12.1655250605964\n3. 12.4899959967968\n4. 12.5698050899765\n5. 12.9228479833201\n6. 12.7279220613579\n7. 13.114877048604\n8. 12.8062484748657\n9. 13.114877048604\n10. 13.6747943311773\n11. 11.5758369027902\n12. 13.490737563232\n13. 13.228756555323\n\n\n",
            "text/latex": "\\begin{enumerate*}\n\\item 14.247806848775\n\\item 12.1655250605964\n\\item 12.4899959967968\n\\item 12.5698050899765\n\\item 12.9228479833201\n\\item 12.7279220613579\n\\item 13.114877048604\n\\item 12.8062484748657\n\\item 13.114877048604\n\\item 13.6747943311773\n\\item 11.5758369027902\n\\item 13.490737563232\n\\item 13.228756555323\n\\end{enumerate*}\n",
            "text/plain": [
              " [1] 14.24781 12.16553 12.49000 12.56981 12.92285 12.72792 13.11488 12.80625\n",
              " [9] 13.11488 13.67479 11.57584 13.49074 13.22876"
            ]
          },
          "metadata": {}
        }
      ]
    },
    {
      "cell_type": "markdown",
      "source": [
        "Paste() combines the inputs you send it to produce an alphnumeric string"
      ],
      "metadata": {
        "id": "EOY3Pf5H3gXj"
      }
    },
    {
      "cell_type": "code",
      "source": [
        "paste(\"Once\", \"upon\", \"a\", \"time\")"
      ],
      "metadata": {
        "colab": {
          "base_uri": "https://localhost:8080/",
          "height": 34
        },
        "id": "w5r48ndG3uJC",
        "outputId": "595bf0f0-a9b8-420a-cfda-65fce6ad33b0"
      },
      "execution_count": null,
      "outputs": [
        {
          "output_type": "display_data",
          "data": {
            "text/html": [
              "'Once upon a time'"
            ],
            "text/markdown": "'Once upon a time'",
            "text/latex": "'Once upon a time'",
            "text/plain": [
              "[1] \"Once upon a time\""
            ]
          },
          "metadata": {}
        }
      ]
    },
    {
      "cell_type": "markdown",
      "source": [
        "If we send a vector to `paste()` it assumes we want a vector of results, with each element in the vector pasted next to each other:"
      ],
      "metadata": {
        "id": "1beG835G34DJ"
      }
    },
    {
      "cell_type": "code",
      "source": [
        "bottles <- c(100, 99, 98, \"...\")"
      ],
      "metadata": {
        "id": "ttHRWUWs35m5"
      },
      "execution_count": null,
      "outputs": []
    },
    {
      "cell_type": "code",
      "source": [
        "paste(bottles, \"green bottles hanging on the wall\")"
      ],
      "metadata": {
        "colab": {
          "base_uri": "https://localhost:8080/",
          "height": 34
        },
        "id": "wsDAqOov4IHj",
        "outputId": "5e8062f6-47e1-4546-8502-11a77993681e"
      },
      "execution_count": null,
      "outputs": [
        {
          "output_type": "display_data",
          "data": {
            "text/html": [
              "<style>\n",
              ".list-inline {list-style: none; margin:0; padding: 0}\n",
              ".list-inline>li {display: inline-block}\n",
              ".list-inline>li:not(:last-child)::after {content: \"\\00b7\"; padding: 0 .5ex}\n",
              "</style>\n",
              "<ol class=list-inline><li>'100 green bottles hanging on the wall'</li><li>'99 green bottles hanging on the wall'</li><li>'98 green bottles hanging on the wall'</li><li>'... green bottles hanging on the wall'</li></ol>\n"
            ],
            "text/markdown": "1. '100 green bottles hanging on the wall'\n2. '99 green bottles hanging on the wall'\n3. '98 green bottles hanging on the wall'\n4. '... green bottles hanging on the wall'\n\n\n",
            "text/latex": "\\begin{enumerate*}\n\\item '100 green bottles hanging on the wall'\n\\item '99 green bottles hanging on the wall'\n\\item '98 green bottles hanging on the wall'\n\\item '... green bottles hanging on the wall'\n\\end{enumerate*}\n",
            "text/plain": [
              "[1] \"100 green bottles hanging on the wall\"\n",
              "[2] \"99 green bottles hanging on the wall\" \n",
              "[3] \"98 green bottles hanging on the wall\" \n",
              "[4] \"... green bottles hanging on the wall\""
            ]
          },
          "metadata": {}
        }
      ]
    },
    {
      "cell_type": "markdown",
      "source": [
        "`paste0()` function does much the same, but leaves no spaces in the combined strings, which can be useful:"
      ],
      "metadata": {
        "id": "iyaxLz4Z4qa3"
      }
    },
    {
      "cell_type": "code",
      "source": [
        "paste0(\"N=\", 1:10)"
      ],
      "metadata": {
        "colab": {
          "base_uri": "https://localhost:8080/",
          "height": 34
        },
        "id": "vhKjUCxM4zkM",
        "outputId": "8003d5cf-95b3-48ee-bd01-48a9fedaeaf2"
      },
      "execution_count": null,
      "outputs": [
        {
          "output_type": "display_data",
          "data": {
            "text/html": [
              "<style>\n",
              ".list-inline {list-style: none; margin:0; padding: 0}\n",
              ".list-inline>li {display: inline-block}\n",
              ".list-inline>li:not(:last-child)::after {content: \"\\00b7\"; padding: 0 .5ex}\n",
              "</style>\n",
              "<ol class=list-inline><li>'N=1'</li><li>'N=2'</li><li>'N=3'</li><li>'N=4'</li><li>'N=5'</li><li>'N=6'</li><li>'N=7'</li><li>'N=8'</li><li>'N=9'</li><li>'N=10'</li></ol>\n"
            ],
            "text/markdown": "1. 'N=1'\n2. 'N=2'\n3. 'N=3'\n4. 'N=4'\n5. 'N=5'\n6. 'N=6'\n7. 'N=7'\n8. 'N=8'\n9. 'N=9'\n10. 'N=10'\n\n\n",
            "text/latex": "\\begin{enumerate*}\n\\item 'N=1'\n\\item 'N=2'\n\\item 'N=3'\n\\item 'N=4'\n\\item 'N=5'\n\\item 'N=6'\n\\item 'N=7'\n\\item 'N=8'\n\\item 'N=9'\n\\item 'N=10'\n\\end{enumerate*}\n",
            "text/plain": [
              " [1] \"N=1\"  \"N=2\"  \"N=3\"  \"N=4\"  \"N=5\"  \"N=6\"  \"N=7\"  \"N=8\"  \"N=9\"  \"N=10\""
            ]
          },
          "metadata": {}
        }
      ]
    },
    {
      "cell_type": "markdown",
      "source": [
        "### **Making up data (new vectors)**"
      ],
      "metadata": {
        "id": "UoJ2kcTCB4Fo"
      }
    },
    {
      "cell_type": "markdown",
      "source": [
        "The `seq()` function allows you to create more specific sequences:"
      ],
      "metadata": {
        "id": "AUs9e706CB8S"
      }
    },
    {
      "cell_type": "code",
      "source": [
        "seq(from=0.1, to=2, by=0.1)"
      ],
      "metadata": {
        "colab": {
          "base_uri": "https://localhost:8080/",
          "height": 34
        },
        "id": "3MSGDwVQCA5Y",
        "outputId": "36a65dd7-2664-4c7e-d87a-1c69dbb8fa4a"
      },
      "execution_count": null,
      "outputs": [
        {
          "output_type": "display_data",
          "data": {
            "text/html": [
              "<style>\n",
              ".list-inline {list-style: none; margin:0; padding: 0}\n",
              ".list-inline>li {display: inline-block}\n",
              ".list-inline>li:not(:last-child)::after {content: \"\\00b7\"; padding: 0 .5ex}\n",
              "</style>\n",
              "<ol class=list-inline><li>0.1</li><li>0.2</li><li>0.3</li><li>0.4</li><li>0.5</li><li>0.6</li><li>0.7</li><li>0.8</li><li>0.9</li><li>1</li><li>1.1</li><li>1.2</li><li>1.3</li><li>1.4</li><li>1.5</li><li>1.6</li><li>1.7</li><li>1.8</li><li>1.9</li><li>2</li></ol>\n"
            ],
            "text/markdown": "1. 0.1\n2. 0.2\n3. 0.3\n4. 0.4\n5. 0.5\n6. 0.6\n7. 0.7\n8. 0.8\n9. 0.9\n10. 1\n11. 1.1\n12. 1.2\n13. 1.3\n14. 1.4\n15. 1.5\n16. 1.6\n17. 1.7\n18. 1.8\n19. 1.9\n20. 2\n\n\n",
            "text/latex": "\\begin{enumerate*}\n\\item 0.1\n\\item 0.2\n\\item 0.3\n\\item 0.4\n\\item 0.5\n\\item 0.6\n\\item 0.7\n\\item 0.8\n\\item 0.9\n\\item 1\n\\item 1.1\n\\item 1.2\n\\item 1.3\n\\item 1.4\n\\item 1.5\n\\item 1.6\n\\item 1.7\n\\item 1.8\n\\item 1.9\n\\item 2\n\\end{enumerate*}\n",
            "text/plain": [
              " [1] 0.1 0.2 0.3 0.4 0.5 0.6 0.7 0.8 0.9 1.0 1.1 1.2 1.3 1.4 1.5 1.6 1.7 1.8 1.9\n",
              "[20] 2.0"
            ]
          },
          "metadata": {}
        }
      ]
    },
    {
      "cell_type": "markdown",
      "source": [
        "Use Random number generating functions:"
      ],
      "metadata": {
        "id": "i-kusbBHCVqN"
      }
    },
    {
      "cell_type": "code",
      "source": [
        "# 10 uniformaly distributed random numbers between 0 and 1\n",
        "\n",
        "runif(10)"
      ],
      "metadata": {
        "colab": {
          "base_uri": "https://localhost:8080/",
          "height": 34
        },
        "id": "PZ2EJb8ICZAi",
        "outputId": "2d9b6764-80f7-4b3d-be2a-0acacad0b453"
      },
      "execution_count": null,
      "outputs": [
        {
          "output_type": "display_data",
          "data": {
            "text/html": [
              "<style>\n",
              ".list-inline {list-style: none; margin:0; padding: 0}\n",
              ".list-inline>li {display: inline-block}\n",
              ".list-inline>li:not(:last-child)::after {content: \"\\00b7\"; padding: 0 .5ex}\n",
              "</style>\n",
              "<ol class=list-inline><li>0.397833756636828</li><li>0.873821770539507</li><li>0.731853343080729</li><li>0.117815918521956</li><li>0.312845681328326</li><li>0.0344141465611756</li><li>0.580848631681874</li><li>0.275131430942565</li><li>0.716435728594661</li><li>0.777657269034535</li></ol>\n"
            ],
            "text/markdown": "1. 0.397833756636828\n2. 0.873821770539507\n3. 0.731853343080729\n4. 0.117815918521956\n5. 0.312845681328326\n6. 0.0344141465611756\n7. 0.580848631681874\n8. 0.275131430942565\n9. 0.716435728594661\n10. 0.777657269034535\n\n\n",
            "text/latex": "\\begin{enumerate*}\n\\item 0.397833756636828\n\\item 0.873821770539507\n\\item 0.731853343080729\n\\item 0.117815918521956\n\\item 0.312845681328326\n\\item 0.0344141465611756\n\\item 0.580848631681874\n\\item 0.275131430942565\n\\item 0.716435728594661\n\\item 0.777657269034535\n\\end{enumerate*}\n",
            "text/plain": [
              " [1] 0.39783376 0.87382177 0.73185334 0.11781592 0.31284568 0.03441415\n",
              " [7] 0.58084863 0.27513143 0.71643573 0.77765727"
            ]
          },
          "metadata": {}
        }
      ]
    },
    {
      "cell_type": "code",
      "source": [
        "# 1,000 uniformaly distributed random numbers beween 1 and 100\n",
        "\n",
        "my.numbers <- runif(1000, 1, 10)\n",
        "\n",
        "my.numbers"
      ],
      "metadata": {
        "colab": {
          "base_uri": "https://localhost:8080/",
          "height": 711
        },
        "id": "SQ7Q9wVDClWC",
        "outputId": "cd3b65a1-98fa-4a04-d680-b2a01c5f78b9"
      },
      "execution_count": null,
      "outputs": [
        {
          "output_type": "display_data",
          "data": {
            "text/html": [
              "<style>\n",
              ".list-inline {list-style: none; margin:0; padding: 0}\n",
              ".list-inline>li {display: inline-block}\n",
              ".list-inline>li:not(:last-child)::after {content: \"\\00b7\"; padding: 0 .5ex}\n",
              "</style>\n",
              "<ol class=list-inline><li>2.62992301606573</li><li>4.4985827866476</li><li>6.12390860752203</li><li>6.09916710481048</li><li>5.57117501460016</li><li>6.79516319558024</li><li>5.63530221069232</li><li>5.76275375694968</li><li>7.06177141051739</li><li>3.10245419875719</li><li>6.5243753362447</li><li>3.02359090023674</li><li>9.99687191983685</li><li>4.71235408028588</li><li>1.62418883549981</li><li>9.46937117679045</li><li>9.98722322820686</li><li>8.61350604519248</li><li>9.59759930009022</li><li>2.28296306729317</li><li>7.85010180901736</li><li>1.97438738401979</li><li>9.29201556020416</li><li>7.78069603187032</li><li>4.34724298608489</li><li>9.47574173752218</li><li>6.05658541480079</li><li>5.3227687519975</li><li>9.52050943206996</li><li>3.67335573444143</li><li>4.02999294246547</li><li>9.21060419664718</li><li>1.50380808045156</li><li>2.97390390653163</li><li>8.73550786450505</li><li>8.43636063206941</li><li>2.52887286595069</li><li>5.58851578924805</li><li>8.01227430161089</li><li>8.06222059368156</li><li>9.70706783770584</li><li>3.16837778757326</li><li>2.98432372906245</li><li>8.66870852187276</li><li>5.13719761720859</li><li>3.04508978826925</li><li>8.6002999083139</li><li>9.35567310149781</li><li>3.58984718308784</li><li>4.82530146604404</li><li>3.85278911166824</li><li>6.65431015752256</li><li>8.04707208904438</li><li>7.58708255109377</li><li>7.8289443179965</li><li>5.09779628319666</li><li>6.30488284048624</li><li>9.98078566044569</li><li>9.48627084959298</li><li>7.02873796550557</li><li>2.88647488551214</li><li>3.01463570212945</li><li>4.35012677148916</li><li>2.68463129363954</li><li>2.43098955182359</li><li>6.73556892434135</li><li>3.22175730508752</li><li>7.20659701386467</li><li>1.23858691961505</li><li>6.28729906398803</li><li>1.46388988476247</li><li>3.56020360602997</li><li>7.84485819935799</li><li>7.94365916843526</li><li>2.15739676193334</li><li>8.55314032244496</li><li>8.73980589909479</li><li>6.53884254721925</li><li>4.98603512323461</li><li>8.7805930885952</li><li>7.23253757506609</li><li>7.89262802130543</li><li>7.7708169510588</li><li>1.83105322928168</li><li>6.46161673730239</li><li>8.5138580261264</li><li>4.22028880100697</li><li>8.44237633235753</li><li>4.62267166003585</li><li>4.0514881843701</li><li>3.22931787604466</li><li>1.87080575036816</li><li>2.52003838610835</li><li>6.0968331953045</li><li>7.16451149480417</li><li>7.39407334476709</li><li>9.8796870817896</li><li>3.80874477536418</li><li>9.16890904586762</li><li>7.32939789257944</li><li>9.62687210575677</li><li>2.60816933494061</li><li>3.44707957166247</li><li>4.89781095716171</li><li>4.79264628374949</li><li>8.58431515167467</li><li>4.89734804350883</li><li>9.04507057764567</li><li>6.95418392284773</li><li>6.48629046813585</li><li>5.27084398921579</li><li>6.20326282153837</li><li>7.3029437365476</li><li>4.14967176760547</li><li>1.78311587614007</li><li>6.84938621334732</li><li>8.72098748292774</li><li>2.80985011882149</li><li>1.3506115290802</li><li>9.44670013408177</li><li>2.8104770348873</li><li>6.22357328142971</li><li>5.19011069019325</li><li>8.67312971386127</li><li>9.47486892156303</li><li>1.32499784743413</li><li>6.02576899994165</li><li>6.076214926783</li><li>2.95953151374124</li><li>2.58221206441522</li><li>8.40086431358941</li><li>4.14508890337311</li><li>3.31699057575315</li><li>6.26482649846002</li><li>5.76469291024841</li><li>9.74594885669649</li><li>9.0298989599105</li><li>9.19548957585357</li><li>4.16943019954488</li><li>2.55568348336965</li><li>3.88126616040245</li><li>5.04945011530071</li><li>3.05329694761895</li><li>4.81365523277782</li><li>5.52416086313315</li><li>4.91663081920706</li><li>8.42869265750051</li><li>8.06145797250792</li><li>8.95860153180547</li><li>7.55377027369104</li><li>7.01876903069206</li><li>8.89490049052984</li><li>3.817442917265</li><li>5.79174164915457</li><li>6.52507176552899</li><li>3.82399984961376</li><li>2.24359687860124</li><li>2.04087996575981</li><li>1.47145779198036</li><li>4.37141157942824</li><li>7.94014123338275</li><li>3.84411393199116</li><li>9.03392286226153</li><li>9.1763799409382</li><li>8.06253777747042</li><li>5.7952533941716</li><li>3.18633868265897</li><li>5.83001102809794</li><li>7.9909376159776</li><li>8.47115762112662</li><li>1.32657956075855</li><li>3.95275761908852</li><li>7.6704576080665</li><li>8.21219327230938</li><li>2.69775259518065</li><li>4.98589540529065</li><li>8.34824740467593</li><li>5.41493568988517</li><li>5.62098655081354</li><li>2.25060357130133</li><li>2.74517407570966</li><li>3.04571193084121</li><li>3.82796381297521</li><li>9.35118330991827</li><li>1.50999037106521</li><li>5.28645953768864</li><li>8.36060897051357</li><li>3.08806203724816</li><li>1.3508148950059</li><li>5.74106768844649</li><li>1.06026403768919</li><li>9.446376881795</li><li>6.81752251740545</li><li>7.18677155394107</li><li>7.44128877716139</li><li>9.68244339246303</li><li>9.01021866616793</li><li>1.48737074504606</li><li>1.29133704630658</li><li>6.07334228092805</li><li>⋯</li><li>1.28263122448698</li><li>4.981653110357</li><li>7.72049842495471</li><li>6.17624459485523</li><li>1.07614156464115</li><li>4.25529592018574</li><li>7.06305069220252</li><li>8.55218301271088</li><li>6.90990754193626</li><li>6.65063372487202</li><li>4.4305527228862</li><li>2.87186435447074</li><li>3.32393336901441</li><li>7.52700666408055</li><li>9.63450156338513</li><li>3.66325632901862</li><li>8.97651194478385</li><li>5.81648016790859</li><li>5.42759471060708</li><li>9.80697776400484</li><li>5.18038774956949</li><li>1.56642203917727</li><li>7.8161621063482</li><li>3.87228392018005</li><li>2.8399452038575</li><li>3.69599463045597</li><li>9.45557459560223</li><li>4.73059531440958</li><li>8.44733809423633</li><li>7.27911004005</li><li>3.94468668662012</li><li>2.10902786860242</li><li>4.69023261382245</li><li>1.62650449760258</li><li>7.59487091284245</li><li>7.94142403337173</li><li>4.94261131389067</li><li>3.57918648561463</li><li>4.7907333553303</li><li>9.27522420044988</li><li>2.6220362004824</li><li>9.97776045976207</li><li>9.60760224866681</li><li>2.70057450956665</li><li>5.00620154640637</li><li>9.15912780701183</li><li>2.85311293485574</li><li>3.64919961756095</li><li>5.71027523744851</li><li>1.34979293146171</li><li>8.08219545683824</li><li>6.88902713987045</li><li>9.29752760659903</li><li>5.19434137828648</li><li>7.39622672693804</li><li>5.58823404624127</li><li>3.71542410412803</li><li>3.28473263280466</li><li>7.59324820362963</li><li>6.95181874674745</li><li>7.70183681743219</li><li>2.54909436870366</li><li>1.79255494475365</li><li>1.2351483842358</li><li>4.46943253907375</li><li>9.81471932120621</li><li>6.8461274006404</li><li>6.67407121090218</li><li>7.57584038213827</li><li>1.37719326815568</li><li>8.25722050201148</li><li>6.98507905635051</li><li>9.38345157937147</li><li>1.07213379745372</li><li>8.22315186890773</li><li>4.72546203993261</li><li>7.72399110114202</li><li>6.00625838316046</li><li>9.51358591928147</li><li>3.67404172825627</li><li>9.11143648996949</li><li>8.9618980421219</li><li>9.10525757935829</li><li>4.00519980303943</li><li>9.23982823430561</li><li>8.37132762675174</li><li>5.44570220308378</li><li>9.62041451153345</li><li>5.10028805118054</li><li>2.75148766674101</li><li>7.23029457987286</li><li>1.05688103032298</li><li>2.22722248500213</li><li>2.5143443623092</li><li>1.54831632366404</li><li>5.46131502324715</li><li>5.32637244858779</li><li>3.11938197398558</li><li>7.79362016171217</li><li>3.22024287539534</li><li>1.05465977778658</li><li>2.75051556504332</li><li>1.90056472318247</li><li>2.08556654443964</li><li>4.02130998228677</li><li>3.67356590856798</li><li>5.54968298086897</li><li>7.4300880881492</li><li>8.65939696086571</li><li>4.04288539499976</li><li>4.83313078596257</li><li>5.37961087143049</li><li>7.32274629292078</li><li>7.76935952459462</li><li>7.964753045002</li><li>5.27842340897769</li><li>1.7139991929289</li><li>5.19887579511851</li><li>6.04327905969694</li><li>3.36429260368459</li><li>1.34353926056065</li><li>6.90642902278341</li><li>1.08187954523601</li><li>4.30537258228287</li><li>9.89680715673603</li><li>7.71400498971343</li><li>8.92348320363089</li><li>1.75452699814923</li><li>4.73872761917301</li><li>1.04857495822944</li><li>4.55149701004848</li><li>4.95051474031061</li><li>7.92834164062515</li><li>1.59483756264672</li><li>6.07134487549774</li><li>9.19859586725943</li><li>1.9093902700115</li><li>1.89541821577586</li><li>2.07972127967514</li><li>2.86952531104907</li><li>5.59471810003743</li><li>3.70012629684061</li><li>8.46675743418746</li><li>8.07698573730886</li><li>7.75866495794617</li><li>8.58994791633449</li><li>2.84623460262083</li><li>8.89676709007472</li><li>7.30149832763709</li><li>5.63942047441378</li><li>2.75361536047421</li><li>1.29209277546033</li><li>9.35458853351884</li><li>6.27237754967064</li><li>8.51727204234339</li><li>6.48888604389504</li><li>8.93067133938894</li><li>9.69623372075148</li><li>2.56015723198652</li><li>1.64238256099634</li><li>9.3572577086743</li><li>1.38093500840478</li><li>8.11581037123688</li><li>1.90087627223693</li><li>4.48594317003153</li><li>8.93247981672175</li><li>8.91831510863267</li><li>3.66267322935164</li><li>6.9334697087761</li><li>9.86026528384537</li><li>1.9427693344187</li><li>1.25730174174532</li><li>8.95541334920563</li><li>8.38169750990346</li><li>1.02328666415997</li><li>2.23526945151389</li><li>5.15396201447584</li><li>9.37872798298486</li><li>2.78279267321341</li><li>8.05105085903779</li><li>4.73817204148509</li><li>6.05212432914414</li><li>7.6635499203112</li><li>2.7714833128266</li><li>1.1758975237608</li><li>6.439798978623</li><li>9.8099958463572</li><li>4.88860573736019</li><li>6.15280636912212</li><li>6.99654498859309</li><li>7.0882593372371</li><li>2.90820537391119</li><li>5.60505751078017</li><li>3.60115677816793</li><li>1.40910987276584</li><li>3.58192088664509</li><li>8.34753058850765</li><li>5.7916221190244</li><li>1.65746432682499</li><li>4.69803699548356</li></ol>\n"
            ],
            "text/markdown": "1. 2.62992301606573\n2. 4.4985827866476\n3. 6.12390860752203\n4. 6.09916710481048\n5. 5.57117501460016\n6. 6.79516319558024\n7. 5.63530221069232\n8. 5.76275375694968\n9. 7.06177141051739\n10. 3.10245419875719\n11. 6.5243753362447\n12. 3.02359090023674\n13. 9.99687191983685\n14. 4.71235408028588\n15. 1.62418883549981\n16. 9.46937117679045\n17. 9.98722322820686\n18. 8.61350604519248\n19. 9.59759930009022\n20. 2.28296306729317\n21. 7.85010180901736\n22. 1.97438738401979\n23. 9.29201556020416\n24. 7.78069603187032\n25. 4.34724298608489\n26. 9.47574173752218\n27. 6.05658541480079\n28. 5.3227687519975\n29. 9.52050943206996\n30. 3.67335573444143\n31. 4.02999294246547\n32. 9.21060419664718\n33. 1.50380808045156\n34. 2.97390390653163\n35. 8.73550786450505\n36. 8.43636063206941\n37. 2.52887286595069\n38. 5.58851578924805\n39. 8.01227430161089\n40. 8.06222059368156\n41. 9.70706783770584\n42. 3.16837778757326\n43. 2.98432372906245\n44. 8.66870852187276\n45. 5.13719761720859\n46. 3.04508978826925\n47. 8.6002999083139\n48. 9.35567310149781\n49. 3.58984718308784\n50. 4.82530146604404\n51. 3.85278911166824\n52. 6.65431015752256\n53. 8.04707208904438\n54. 7.58708255109377\n55. 7.8289443179965\n56. 5.09779628319666\n57. 6.30488284048624\n58. 9.98078566044569\n59. 9.48627084959298\n60. 7.02873796550557\n61. 2.88647488551214\n62. 3.01463570212945\n63. 4.35012677148916\n64. 2.68463129363954\n65. 2.43098955182359\n66. 6.73556892434135\n67. 3.22175730508752\n68. 7.20659701386467\n69. 1.23858691961505\n70. 6.28729906398803\n71. 1.46388988476247\n72. 3.56020360602997\n73. 7.84485819935799\n74. 7.94365916843526\n75. 2.15739676193334\n76. 8.55314032244496\n77. 8.73980589909479\n78. 6.53884254721925\n79. 4.98603512323461\n80. 8.7805930885952\n81. 7.23253757506609\n82. 7.89262802130543\n83. 7.7708169510588\n84. 1.83105322928168\n85. 6.46161673730239\n86. 8.5138580261264\n87. 4.22028880100697\n88. 8.44237633235753\n89. 4.62267166003585\n90. 4.0514881843701\n91. 3.22931787604466\n92. 1.87080575036816\n93. 2.52003838610835\n94. 6.0968331953045\n95. 7.16451149480417\n96. 7.39407334476709\n97. 9.8796870817896\n98. 3.80874477536418\n99. 9.16890904586762\n100. 7.32939789257944\n101. 9.62687210575677\n102. 2.60816933494061\n103. 3.44707957166247\n104. 4.89781095716171\n105. 4.79264628374949\n106. 8.58431515167467\n107. 4.89734804350883\n108. 9.04507057764567\n109. 6.95418392284773\n110. 6.48629046813585\n111. 5.27084398921579\n112. 6.20326282153837\n113. 7.3029437365476\n114. 4.14967176760547\n115. 1.78311587614007\n116. 6.84938621334732\n117. 8.72098748292774\n118. 2.80985011882149\n119. 1.3506115290802\n120. 9.44670013408177\n121. 2.8104770348873\n122. 6.22357328142971\n123. 5.19011069019325\n124. 8.67312971386127\n125. 9.47486892156303\n126. 1.32499784743413\n127. 6.02576899994165\n128. 6.076214926783\n129. 2.95953151374124\n130. 2.58221206441522\n131. 8.40086431358941\n132. 4.14508890337311\n133. 3.31699057575315\n134. 6.26482649846002\n135. 5.76469291024841\n136. 9.74594885669649\n137. 9.0298989599105\n138. 9.19548957585357\n139. 4.16943019954488\n140. 2.55568348336965\n141. 3.88126616040245\n142. 5.04945011530071\n143. 3.05329694761895\n144. 4.81365523277782\n145. 5.52416086313315\n146. 4.91663081920706\n147. 8.42869265750051\n148. 8.06145797250792\n149. 8.95860153180547\n150. 7.55377027369104\n151. 7.01876903069206\n152. 8.89490049052984\n153. 3.817442917265\n154. 5.79174164915457\n155. 6.52507176552899\n156. 3.82399984961376\n157. 2.24359687860124\n158. 2.04087996575981\n159. 1.47145779198036\n160. 4.37141157942824\n161. 7.94014123338275\n162. 3.84411393199116\n163. 9.03392286226153\n164. 9.1763799409382\n165. 8.06253777747042\n166. 5.7952533941716\n167. 3.18633868265897\n168. 5.83001102809794\n169. 7.9909376159776\n170. 8.47115762112662\n171. 1.32657956075855\n172. 3.95275761908852\n173. 7.6704576080665\n174. 8.21219327230938\n175. 2.69775259518065\n176. 4.98589540529065\n177. 8.34824740467593\n178. 5.41493568988517\n179. 5.62098655081354\n180. 2.25060357130133\n181. 2.74517407570966\n182. 3.04571193084121\n183. 3.82796381297521\n184. 9.35118330991827\n185. 1.50999037106521\n186. 5.28645953768864\n187. 8.36060897051357\n188. 3.08806203724816\n189. 1.3508148950059\n190. 5.74106768844649\n191. 1.06026403768919\n192. 9.446376881795\n193. 6.81752251740545\n194. 7.18677155394107\n195. 7.44128877716139\n196. 9.68244339246303\n197. 9.01021866616793\n198. 1.48737074504606\n199. 1.29133704630658\n200. 6.07334228092805\n201. ⋯\n202. 1.28263122448698\n203. 4.981653110357\n204. 7.72049842495471\n205. 6.17624459485523\n206. 1.07614156464115\n207. 4.25529592018574\n208. 7.06305069220252\n209. 8.55218301271088\n210. 6.90990754193626\n211. 6.65063372487202\n212. 4.4305527228862\n213. 2.87186435447074\n214. 3.32393336901441\n215. 7.52700666408055\n216. 9.63450156338513\n217. 3.66325632901862\n218. 8.97651194478385\n219. 5.81648016790859\n220. 5.42759471060708\n221. 9.80697776400484\n222. 5.18038774956949\n223. 1.56642203917727\n224. 7.8161621063482\n225. 3.87228392018005\n226. 2.8399452038575\n227. 3.69599463045597\n228. 9.45557459560223\n229. 4.73059531440958\n230. 8.44733809423633\n231. 7.27911004005\n232. 3.94468668662012\n233. 2.10902786860242\n234. 4.69023261382245\n235. 1.62650449760258\n236. 7.59487091284245\n237. 7.94142403337173\n238. 4.94261131389067\n239. 3.57918648561463\n240. 4.7907333553303\n241. 9.27522420044988\n242. 2.6220362004824\n243. 9.97776045976207\n244. 9.60760224866681\n245. 2.70057450956665\n246. 5.00620154640637\n247. 9.15912780701183\n248. 2.85311293485574\n249. 3.64919961756095\n250. 5.71027523744851\n251. 1.34979293146171\n252. 8.08219545683824\n253. 6.88902713987045\n254. 9.29752760659903\n255. 5.19434137828648\n256. 7.39622672693804\n257. 5.58823404624127\n258. 3.71542410412803\n259. 3.28473263280466\n260. 7.59324820362963\n261. 6.95181874674745\n262. 7.70183681743219\n263. 2.54909436870366\n264. 1.79255494475365\n265. 1.2351483842358\n266. 4.46943253907375\n267. 9.81471932120621\n268. 6.8461274006404\n269. 6.67407121090218\n270. 7.57584038213827\n271. 1.37719326815568\n272. 8.25722050201148\n273. 6.98507905635051\n274. 9.38345157937147\n275. 1.07213379745372\n276. 8.22315186890773\n277. 4.72546203993261\n278. 7.72399110114202\n279. 6.00625838316046\n280. 9.51358591928147\n281. 3.67404172825627\n282. 9.11143648996949\n283. 8.9618980421219\n284. 9.10525757935829\n285. 4.00519980303943\n286. 9.23982823430561\n287. 8.37132762675174\n288. 5.44570220308378\n289. 9.62041451153345\n290. 5.10028805118054\n291. 2.75148766674101\n292. 7.23029457987286\n293. 1.05688103032298\n294. 2.22722248500213\n295. 2.5143443623092\n296. 1.54831632366404\n297. 5.46131502324715\n298. 5.32637244858779\n299. 3.11938197398558\n300. 7.79362016171217\n301. 3.22024287539534\n302. 1.05465977778658\n303. 2.75051556504332\n304. 1.90056472318247\n305. 2.08556654443964\n306. 4.02130998228677\n307. 3.67356590856798\n308. 5.54968298086897\n309. 7.4300880881492\n310. 8.65939696086571\n311. 4.04288539499976\n312. 4.83313078596257\n313. 5.37961087143049\n314. 7.32274629292078\n315. 7.76935952459462\n316. 7.964753045002\n317. 5.27842340897769\n318. 1.7139991929289\n319. 5.19887579511851\n320. 6.04327905969694\n321. 3.36429260368459\n322. 1.34353926056065\n323. 6.90642902278341\n324. 1.08187954523601\n325. 4.30537258228287\n326. 9.89680715673603\n327. 7.71400498971343\n328. 8.92348320363089\n329. 1.75452699814923\n330. 4.73872761917301\n331. 1.04857495822944\n332. 4.55149701004848\n333. 4.95051474031061\n334. 7.92834164062515\n335. 1.59483756264672\n336. 6.07134487549774\n337. 9.19859586725943\n338. 1.9093902700115\n339. 1.89541821577586\n340. 2.07972127967514\n341. 2.86952531104907\n342. 5.59471810003743\n343. 3.70012629684061\n344. 8.46675743418746\n345. 8.07698573730886\n346. 7.75866495794617\n347. 8.58994791633449\n348. 2.84623460262083\n349. 8.89676709007472\n350. 7.30149832763709\n351. 5.63942047441378\n352. 2.75361536047421\n353. 1.29209277546033\n354. 9.35458853351884\n355. 6.27237754967064\n356. 8.51727204234339\n357. 6.48888604389504\n358. 8.93067133938894\n359. 9.69623372075148\n360. 2.56015723198652\n361. 1.64238256099634\n362. 9.3572577086743\n363. 1.38093500840478\n364. 8.11581037123688\n365. 1.90087627223693\n366. 4.48594317003153\n367. 8.93247981672175\n368. 8.91831510863267\n369. 3.66267322935164\n370. 6.9334697087761\n371. 9.86026528384537\n372. 1.9427693344187\n373. 1.25730174174532\n374. 8.95541334920563\n375. 8.38169750990346\n376. 1.02328666415997\n377. 2.23526945151389\n378. 5.15396201447584\n379. 9.37872798298486\n380. 2.78279267321341\n381. 8.05105085903779\n382. 4.73817204148509\n383. 6.05212432914414\n384. 7.6635499203112\n385. 2.7714833128266\n386. 1.1758975237608\n387. 6.439798978623\n388. 9.8099958463572\n389. 4.88860573736019\n390. 6.15280636912212\n391. 6.99654498859309\n392. 7.0882593372371\n393. 2.90820537391119\n394. 5.60505751078017\n395. 3.60115677816793\n396. 1.40910987276584\n397. 3.58192088664509\n398. 8.34753058850765\n399. 5.7916221190244\n400. 1.65746432682499\n401. 4.69803699548356\n\n\n",
            "text/latex": "\\begin{enumerate*}\n\\item 2.62992301606573\n\\item 4.4985827866476\n\\item 6.12390860752203\n\\item 6.09916710481048\n\\item 5.57117501460016\n\\item 6.79516319558024\n\\item 5.63530221069232\n\\item 5.76275375694968\n\\item 7.06177141051739\n\\item 3.10245419875719\n\\item 6.5243753362447\n\\item 3.02359090023674\n\\item 9.99687191983685\n\\item 4.71235408028588\n\\item 1.62418883549981\n\\item 9.46937117679045\n\\item 9.98722322820686\n\\item 8.61350604519248\n\\item 9.59759930009022\n\\item 2.28296306729317\n\\item 7.85010180901736\n\\item 1.97438738401979\n\\item 9.29201556020416\n\\item 7.78069603187032\n\\item 4.34724298608489\n\\item 9.47574173752218\n\\item 6.05658541480079\n\\item 5.3227687519975\n\\item 9.52050943206996\n\\item 3.67335573444143\n\\item 4.02999294246547\n\\item 9.21060419664718\n\\item 1.50380808045156\n\\item 2.97390390653163\n\\item 8.73550786450505\n\\item 8.43636063206941\n\\item 2.52887286595069\n\\item 5.58851578924805\n\\item 8.01227430161089\n\\item 8.06222059368156\n\\item 9.70706783770584\n\\item 3.16837778757326\n\\item 2.98432372906245\n\\item 8.66870852187276\n\\item 5.13719761720859\n\\item 3.04508978826925\n\\item 8.6002999083139\n\\item 9.35567310149781\n\\item 3.58984718308784\n\\item 4.82530146604404\n\\item 3.85278911166824\n\\item 6.65431015752256\n\\item 8.04707208904438\n\\item 7.58708255109377\n\\item 7.8289443179965\n\\item 5.09779628319666\n\\item 6.30488284048624\n\\item 9.98078566044569\n\\item 9.48627084959298\n\\item 7.02873796550557\n\\item 2.88647488551214\n\\item 3.01463570212945\n\\item 4.35012677148916\n\\item 2.68463129363954\n\\item 2.43098955182359\n\\item 6.73556892434135\n\\item 3.22175730508752\n\\item 7.20659701386467\n\\item 1.23858691961505\n\\item 6.28729906398803\n\\item 1.46388988476247\n\\item 3.56020360602997\n\\item 7.84485819935799\n\\item 7.94365916843526\n\\item 2.15739676193334\n\\item 8.55314032244496\n\\item 8.73980589909479\n\\item 6.53884254721925\n\\item 4.98603512323461\n\\item 8.7805930885952\n\\item 7.23253757506609\n\\item 7.89262802130543\n\\item 7.7708169510588\n\\item 1.83105322928168\n\\item 6.46161673730239\n\\item 8.5138580261264\n\\item 4.22028880100697\n\\item 8.44237633235753\n\\item 4.62267166003585\n\\item 4.0514881843701\n\\item 3.22931787604466\n\\item 1.87080575036816\n\\item 2.52003838610835\n\\item 6.0968331953045\n\\item 7.16451149480417\n\\item 7.39407334476709\n\\item 9.8796870817896\n\\item 3.80874477536418\n\\item 9.16890904586762\n\\item 7.32939789257944\n\\item 9.62687210575677\n\\item 2.60816933494061\n\\item 3.44707957166247\n\\item 4.89781095716171\n\\item 4.79264628374949\n\\item 8.58431515167467\n\\item 4.89734804350883\n\\item 9.04507057764567\n\\item 6.95418392284773\n\\item 6.48629046813585\n\\item 5.27084398921579\n\\item 6.20326282153837\n\\item 7.3029437365476\n\\item 4.14967176760547\n\\item 1.78311587614007\n\\item 6.84938621334732\n\\item 8.72098748292774\n\\item 2.80985011882149\n\\item 1.3506115290802\n\\item 9.44670013408177\n\\item 2.8104770348873\n\\item 6.22357328142971\n\\item 5.19011069019325\n\\item 8.67312971386127\n\\item 9.47486892156303\n\\item 1.32499784743413\n\\item 6.02576899994165\n\\item 6.076214926783\n\\item 2.95953151374124\n\\item 2.58221206441522\n\\item 8.40086431358941\n\\item 4.14508890337311\n\\item 3.31699057575315\n\\item 6.26482649846002\n\\item 5.76469291024841\n\\item 9.74594885669649\n\\item 9.0298989599105\n\\item 9.19548957585357\n\\item 4.16943019954488\n\\item 2.55568348336965\n\\item 3.88126616040245\n\\item 5.04945011530071\n\\item 3.05329694761895\n\\item 4.81365523277782\n\\item 5.52416086313315\n\\item 4.91663081920706\n\\item 8.42869265750051\n\\item 8.06145797250792\n\\item 8.95860153180547\n\\item 7.55377027369104\n\\item 7.01876903069206\n\\item 8.89490049052984\n\\item 3.817442917265\n\\item 5.79174164915457\n\\item 6.52507176552899\n\\item 3.82399984961376\n\\item 2.24359687860124\n\\item 2.04087996575981\n\\item 1.47145779198036\n\\item 4.37141157942824\n\\item 7.94014123338275\n\\item 3.84411393199116\n\\item 9.03392286226153\n\\item 9.1763799409382\n\\item 8.06253777747042\n\\item 5.7952533941716\n\\item 3.18633868265897\n\\item 5.83001102809794\n\\item 7.9909376159776\n\\item 8.47115762112662\n\\item 1.32657956075855\n\\item 3.95275761908852\n\\item 7.6704576080665\n\\item 8.21219327230938\n\\item 2.69775259518065\n\\item 4.98589540529065\n\\item 8.34824740467593\n\\item 5.41493568988517\n\\item 5.62098655081354\n\\item 2.25060357130133\n\\item 2.74517407570966\n\\item 3.04571193084121\n\\item 3.82796381297521\n\\item 9.35118330991827\n\\item 1.50999037106521\n\\item 5.28645953768864\n\\item 8.36060897051357\n\\item 3.08806203724816\n\\item 1.3508148950059\n\\item 5.74106768844649\n\\item 1.06026403768919\n\\item 9.446376881795\n\\item 6.81752251740545\n\\item 7.18677155394107\n\\item 7.44128877716139\n\\item 9.68244339246303\n\\item 9.01021866616793\n\\item 1.48737074504606\n\\item 1.29133704630658\n\\item 6.07334228092805\n\\item ⋯\n\\item 1.28263122448698\n\\item 4.981653110357\n\\item 7.72049842495471\n\\item 6.17624459485523\n\\item 1.07614156464115\n\\item 4.25529592018574\n\\item 7.06305069220252\n\\item 8.55218301271088\n\\item 6.90990754193626\n\\item 6.65063372487202\n\\item 4.4305527228862\n\\item 2.87186435447074\n\\item 3.32393336901441\n\\item 7.52700666408055\n\\item 9.63450156338513\n\\item 3.66325632901862\n\\item 8.97651194478385\n\\item 5.81648016790859\n\\item 5.42759471060708\n\\item 9.80697776400484\n\\item 5.18038774956949\n\\item 1.56642203917727\n\\item 7.8161621063482\n\\item 3.87228392018005\n\\item 2.8399452038575\n\\item 3.69599463045597\n\\item 9.45557459560223\n\\item 4.73059531440958\n\\item 8.44733809423633\n\\item 7.27911004005\n\\item 3.94468668662012\n\\item 2.10902786860242\n\\item 4.69023261382245\n\\item 1.62650449760258\n\\item 7.59487091284245\n\\item 7.94142403337173\n\\item 4.94261131389067\n\\item 3.57918648561463\n\\item 4.7907333553303\n\\item 9.27522420044988\n\\item 2.6220362004824\n\\item 9.97776045976207\n\\item 9.60760224866681\n\\item 2.70057450956665\n\\item 5.00620154640637\n\\item 9.15912780701183\n\\item 2.85311293485574\n\\item 3.64919961756095\n\\item 5.71027523744851\n\\item 1.34979293146171\n\\item 8.08219545683824\n\\item 6.88902713987045\n\\item 9.29752760659903\n\\item 5.19434137828648\n\\item 7.39622672693804\n\\item 5.58823404624127\n\\item 3.71542410412803\n\\item 3.28473263280466\n\\item 7.59324820362963\n\\item 6.95181874674745\n\\item 7.70183681743219\n\\item 2.54909436870366\n\\item 1.79255494475365\n\\item 1.2351483842358\n\\item 4.46943253907375\n\\item 9.81471932120621\n\\item 6.8461274006404\n\\item 6.67407121090218\n\\item 7.57584038213827\n\\item 1.37719326815568\n\\item 8.25722050201148\n\\item 6.98507905635051\n\\item 9.38345157937147\n\\item 1.07213379745372\n\\item 8.22315186890773\n\\item 4.72546203993261\n\\item 7.72399110114202\n\\item 6.00625838316046\n\\item 9.51358591928147\n\\item 3.67404172825627\n\\item 9.11143648996949\n\\item 8.9618980421219\n\\item 9.10525757935829\n\\item 4.00519980303943\n\\item 9.23982823430561\n\\item 8.37132762675174\n\\item 5.44570220308378\n\\item 9.62041451153345\n\\item 5.10028805118054\n\\item 2.75148766674101\n\\item 7.23029457987286\n\\item 1.05688103032298\n\\item 2.22722248500213\n\\item 2.5143443623092\n\\item 1.54831632366404\n\\item 5.46131502324715\n\\item 5.32637244858779\n\\item 3.11938197398558\n\\item 7.79362016171217\n\\item 3.22024287539534\n\\item 1.05465977778658\n\\item 2.75051556504332\n\\item 1.90056472318247\n\\item 2.08556654443964\n\\item 4.02130998228677\n\\item 3.67356590856798\n\\item 5.54968298086897\n\\item 7.4300880881492\n\\item 8.65939696086571\n\\item 4.04288539499976\n\\item 4.83313078596257\n\\item 5.37961087143049\n\\item 7.32274629292078\n\\item 7.76935952459462\n\\item 7.964753045002\n\\item 5.27842340897769\n\\item 1.7139991929289\n\\item 5.19887579511851\n\\item 6.04327905969694\n\\item 3.36429260368459\n\\item 1.34353926056065\n\\item 6.90642902278341\n\\item 1.08187954523601\n\\item 4.30537258228287\n\\item 9.89680715673603\n\\item 7.71400498971343\n\\item 8.92348320363089\n\\item 1.75452699814923\n\\item 4.73872761917301\n\\item 1.04857495822944\n\\item 4.55149701004848\n\\item 4.95051474031061\n\\item 7.92834164062515\n\\item 1.59483756264672\n\\item 6.07134487549774\n\\item 9.19859586725943\n\\item 1.9093902700115\n\\item 1.89541821577586\n\\item 2.07972127967514\n\\item 2.86952531104907\n\\item 5.59471810003743\n\\item 3.70012629684061\n\\item 8.46675743418746\n\\item 8.07698573730886\n\\item 7.75866495794617\n\\item 8.58994791633449\n\\item 2.84623460262083\n\\item 8.89676709007472\n\\item 7.30149832763709\n\\item 5.63942047441378\n\\item 2.75361536047421\n\\item 1.29209277546033\n\\item 9.35458853351884\n\\item 6.27237754967064\n\\item 8.51727204234339\n\\item 6.48888604389504\n\\item 8.93067133938894\n\\item 9.69623372075148\n\\item 2.56015723198652\n\\item 1.64238256099634\n\\item 9.3572577086743\n\\item 1.38093500840478\n\\item 8.11581037123688\n\\item 1.90087627223693\n\\item 4.48594317003153\n\\item 8.93247981672175\n\\item 8.91831510863267\n\\item 3.66267322935164\n\\item 6.9334697087761\n\\item 9.86026528384537\n\\item 1.9427693344187\n\\item 1.25730174174532\n\\item 8.95541334920563\n\\item 8.38169750990346\n\\item 1.02328666415997\n\\item 2.23526945151389\n\\item 5.15396201447584\n\\item 9.37872798298486\n\\item 2.78279267321341\n\\item 8.05105085903779\n\\item 4.73817204148509\n\\item 6.05212432914414\n\\item 7.6635499203112\n\\item 2.7714833128266\n\\item 1.1758975237608\n\\item 6.439798978623\n\\item 9.8099958463572\n\\item 4.88860573736019\n\\item 6.15280636912212\n\\item 6.99654498859309\n\\item 7.0882593372371\n\\item 2.90820537391119\n\\item 5.60505751078017\n\\item 3.60115677816793\n\\item 1.40910987276584\n\\item 3.58192088664509\n\\item 8.34753058850765\n\\item 5.7916221190244\n\\item 1.65746432682499\n\\item 4.69803699548356\n\\end{enumerate*}\n",
            "text/plain": [
              "   [1] 2.629923 4.498583 6.123909 6.099167 5.571175 6.795163 5.635302 5.762754\n",
              "   [9] 7.061771 3.102454 6.524375 3.023591 9.996872 4.712354 1.624189 9.469371\n",
              "  [17] 9.987223 8.613506 9.597599 2.282963 7.850102 1.974387 9.292016 7.780696\n",
              "  [25] 4.347243 9.475742 6.056585 5.322769 9.520509 3.673356 4.029993 9.210604\n",
              "  [33] 1.503808 2.973904 8.735508 8.436361 2.528873 5.588516 8.012274 8.062221\n",
              "  [41] 9.707068 3.168378 2.984324 8.668709 5.137198 3.045090 8.600300 9.355673\n",
              "  [49] 3.589847 4.825301 3.852789 6.654310 8.047072 7.587083 7.828944 5.097796\n",
              "  [57] 6.304883 9.980786 9.486271 7.028738 2.886475 3.014636 4.350127 2.684631\n",
              "  [65] 2.430990 6.735569 3.221757 7.206597 1.238587 6.287299 1.463890 3.560204\n",
              "  [73] 7.844858 7.943659 2.157397 8.553140 8.739806 6.538843 4.986035 8.780593\n",
              "  [81] 7.232538 7.892628 7.770817 1.831053 6.461617 8.513858 4.220289 8.442376\n",
              "  [89] 4.622672 4.051488 3.229318 1.870806 2.520038 6.096833 7.164511 7.394073\n",
              "  [97] 9.879687 3.808745 9.168909 7.329398 9.626872 2.608169 3.447080 4.897811\n",
              " [105] 4.792646 8.584315 4.897348 9.045071 6.954184 6.486290 5.270844 6.203263\n",
              " [113] 7.302944 4.149672 1.783116 6.849386 8.720987 2.809850 1.350612 9.446700\n",
              " [121] 2.810477 6.223573 5.190111 8.673130 9.474869 1.324998 6.025769 6.076215\n",
              " [129] 2.959532 2.582212 8.400864 4.145089 3.316991 6.264826 5.764693 9.745949\n",
              " [137] 9.029899 9.195490 4.169430 2.555683 3.881266 5.049450 3.053297 4.813655\n",
              " [145] 5.524161 4.916631 8.428693 8.061458 8.958602 7.553770 7.018769 8.894900\n",
              " [153] 3.817443 5.791742 6.525072 3.824000 2.243597 2.040880 1.471458 4.371412\n",
              " [161] 7.940141 3.844114 9.033923 9.176380 8.062538 5.795253 3.186339 5.830011\n",
              " [169] 7.990938 8.471158 1.326580 3.952758 7.670458 8.212193 2.697753 4.985895\n",
              " [177] 8.348247 5.414936 5.620987 2.250604 2.745174 3.045712 3.827964 9.351183\n",
              " [185] 1.509990 5.286460 8.360609 3.088062 1.350815 5.741068 1.060264 9.446377\n",
              " [193] 6.817523 7.186772 7.441289 9.682443 9.010219 1.487371 1.291337 6.073342\n",
              " [201] 2.676896 7.451142 4.389104 1.241224 1.478944 7.312017 5.925557 9.461069\n",
              " [209] 6.178174 6.410501 4.014605 3.516222 3.128853 6.994411 2.015555 7.725446\n",
              " [217] 7.320759 6.494121 8.136027 3.080368 6.350401 2.840256 4.945429 1.745436\n",
              " [225] 7.393231 1.573074 7.304117 5.204562 1.051204 9.725605 7.769690 5.395300\n",
              " [233] 5.209136 4.014679 1.198632 8.654512 3.567029 6.536941 3.876154 3.552704\n",
              " [241] 5.617180 1.631385 4.910133 6.544200 3.384211 3.921590 9.190922 2.446939\n",
              " [249] 1.832977 9.805403 9.816120 3.645076 9.906202 5.370918 2.882232 3.625474\n",
              " [257] 2.654177 1.898190 1.418068 4.761257 7.645668 9.045219 7.646360 4.400758\n",
              " [265] 1.212817 9.834892 1.860088 4.743389 9.848072 4.965124 8.057825 7.287983\n",
              " [273] 4.081936 9.187278 7.221248 5.726165 9.020674 8.576946 7.260510 2.331777\n",
              " [281] 6.248263 8.843331 1.455773 3.118359 6.685799 8.374304 5.402570 9.546463\n",
              " [289] 5.773790 4.120059 1.063165 1.239994 8.670951 5.778388 1.536481 8.701926\n",
              " [297] 7.235844 2.751244 1.976066 2.638130 5.566345 2.244997 9.415274 6.068662\n",
              " [305] 5.763581 1.005518 6.269979 4.666332 7.673640 2.465554 8.996692 8.556343\n",
              " [313] 6.064421 9.010451 3.002534 9.878499 9.552150 3.579470 1.103733 1.493679\n",
              " [321] 6.100277 2.855280 9.802784 6.202588 9.999730 3.023082 6.055572 3.104008\n",
              " [329] 6.798596 8.711226 6.442549 3.375360 5.333822 1.904282 1.969075 3.634499\n",
              " [337] 4.650442 3.749961 4.646461 9.354824 1.996628 8.114773 5.248632 1.889554\n",
              " [345] 3.083159 8.548615 3.994322 2.749535 8.187204 8.587224 2.840953 1.730597\n",
              " [353] 9.342230 9.810862 4.843628 8.510516 7.350972 9.173383 2.850341 6.257910\n",
              " [361] 7.930138 4.703072 5.062900 5.842938 8.006229 5.529990 2.280207 3.666915\n",
              " [369] 8.314911 5.913118 1.231128 6.889081 5.794574 2.820458 5.061610 2.904027\n",
              " [377] 9.250684 9.653068 6.704759 1.551100 1.224590 6.200726 4.055028 2.510542\n",
              " [385] 6.434377 3.683898 5.965556 6.154285 6.091678 3.386838 3.333515 5.640282\n",
              " [393] 7.901206 6.741573 1.738453 1.627265 7.154468 9.953147 9.975391 1.407792\n",
              " [401] 7.582582 6.213572 1.508234 3.537618 3.723955 5.249866 3.529988 5.044480\n",
              " [409] 6.258075 9.125791 9.253476 6.497260 6.161114 5.772154 9.650927 4.529427\n",
              " [417] 1.250206 1.754434 5.155357 5.218115 5.355683 8.206271 1.265038 3.771755\n",
              " [425] 2.980913 2.571678 1.758119 8.589100 2.208282 1.610213 6.126959 2.610218\n",
              " [433] 4.720651 6.826842 4.151981 2.127908 7.829424 2.457962 2.644676 5.325606\n",
              " [441] 5.871560 5.092503 4.678460 2.896152 6.782120 2.353364 2.720340 8.987553\n",
              " [449] 5.196977 8.495964 7.427690 3.441416 6.191935 2.573928 6.481988 3.869664\n",
              " [457] 7.885040 1.160733 3.817331 6.903201 3.440276 1.327895 8.995130 5.215533\n",
              " [465] 8.662367 9.873634 8.333982 3.139975 8.774158 6.410012 7.789951 9.999023\n",
              " [473] 4.708362 9.440711 7.526749 5.278179 1.798699 2.103829 4.187936 7.459642\n",
              " [481] 5.643688 6.508547 9.297454 5.896433 4.724303 7.567164 7.477641 7.296508\n",
              " [489] 1.967747 1.844191 2.476136 4.756847 2.237608 4.115317 5.292313 8.400046\n",
              " [497] 4.574640 5.835562 5.182672 1.132228 3.475403 5.963926 1.241690 7.335684\n",
              " [505] 9.747184 3.187400 6.413269 6.606249 3.530699 6.245036 7.841175 7.570372\n",
              " [513] 8.174394 2.435350 7.042676 7.805018 5.023402 4.133837 2.191340 9.411867\n",
              " [521] 4.898665 7.314320 9.392914 3.853136 6.027734 2.936796 2.153058 8.319124\n",
              " [529] 5.930861 6.851192 5.252841 5.662041 1.571787 8.984903 4.683600 8.246577\n",
              " [537] 1.261899 5.951358 8.472737 3.691070 1.836762 1.473310 4.983668 8.624721\n",
              " [545] 4.181290 8.552488 6.841286 6.604308 2.312014 9.759509 6.645868 5.600184\n",
              " [553] 9.824756 6.543648 7.669861 3.958981 2.248048 3.679524 1.507953 3.655670\n",
              " [561] 4.505240 1.566686 9.026867 8.803246 4.000399 1.692053 9.487175 9.422065\n",
              " [569] 3.168370 3.490717 4.452992 5.986390 1.455174 2.690350 1.024129 5.012249\n",
              " [577] 9.326999 3.267711 2.860951 4.488591 1.323422 5.618055 7.704672 6.424327\n",
              " [585] 8.686859 4.249814 7.064909 9.321254 2.920440 2.171691 5.063011 4.242505\n",
              " [593] 5.624641 7.313612 6.944904 8.995693 8.113872 4.935081 3.513636 7.030787\n",
              " [601] 6.010787 3.786299 9.268906 1.543016 6.066222 3.054851 6.299743 6.680409\n",
              " [609] 3.200969 8.583187 2.601100 1.078358 5.242475 3.423920 1.410267 3.612344\n",
              " [617] 9.262819 4.082522 7.228206 8.601114 4.948579 9.082509 3.149321 9.749463\n",
              " [625] 8.458435 1.085153 1.346197 9.513909 8.951272 7.383487 2.436949 2.007383\n",
              " [633] 5.745495 7.538934 7.121955 8.943407 4.002285 7.696630 3.149876 9.661613\n",
              " [641] 2.748422 9.095908 1.128124 4.537622 6.545588 9.420677 3.223739 7.183139\n",
              " [649] 9.379932 7.441970 8.271108 2.921417 1.302739 3.253553 1.273519 9.505847\n",
              " [657] 1.029834 6.719395 1.567028 2.152065 9.240161 6.527599 4.941428 7.457432\n",
              " [665] 8.139417 5.984491 5.541577 1.257970 9.379546 5.403065 6.591939 8.797955\n",
              " [673] 2.023248 7.798565 7.375371 4.872973 3.264076 3.466630 2.462179 6.423986\n",
              " [681] 7.363036 4.088864 6.576335 1.760613 1.710519 8.502304 1.664125 2.116488\n",
              " [689] 3.961454 9.417972 5.927015 4.109769 1.172680 8.109885 5.196206 1.009354\n",
              " [697] 2.945988 6.889404 2.535838 2.449709 7.512930 1.012628 7.552190 3.184904\n",
              " [705] 3.896610 3.475537 2.927887 3.943345 2.902509 4.713763 2.038916 2.479009\n",
              " [713] 6.282231 4.617544 1.845264 7.289306 7.934780 1.641852 6.521834 6.450536\n",
              " [721] 6.479530 6.429129 9.301228 2.657995 3.433741 9.035629 3.501693 9.384254\n",
              " [729] 9.780695 7.518495 7.221737 4.900443 4.933851 4.818535 2.339175 7.493250\n",
              " [737] 5.133077 5.926795 8.729353 9.568063 7.624375 4.304785 2.769593 7.706827\n",
              " [745] 8.517127 9.634704 8.689387 3.032451 2.972252 3.559193 6.516811 9.202302\n",
              " [753] 5.574441 2.660683 9.042943 7.347657 3.547652 9.951329 4.670658 7.087095\n",
              " [761] 4.274624 8.530237 6.738805 4.775164 1.921452 4.280812 6.241117 1.982504\n",
              " [769] 6.042778 1.251465 5.887278 4.128631 3.912021 2.203735 6.453267 9.134936\n",
              " [777] 7.527181 6.283415 4.133053 8.193148 5.679845 8.982112 6.156176 8.406425\n",
              " [785] 6.079841 9.405152 4.764268 2.223784 9.388245 1.083169 7.147053 2.910324\n",
              " [793] 6.473123 2.268052 7.551882 2.423863 9.253003 4.511583 7.858727 4.992536\n",
              " [801] 1.282631 4.981653 7.720498 6.176245 1.076142 4.255296 7.063051 8.552183\n",
              " [809] 6.909908 6.650634 4.430553 2.871864 3.323933 7.527007 9.634502 3.663256\n",
              " [817] 8.976512 5.816480 5.427595 9.806978 5.180388 1.566422 7.816162 3.872284\n",
              " [825] 2.839945 3.695995 9.455575 4.730595 8.447338 7.279110 3.944687 2.109028\n",
              " [833] 4.690233 1.626504 7.594871 7.941424 4.942611 3.579186 4.790733 9.275224\n",
              " [841] 2.622036 9.977760 9.607602 2.700575 5.006202 9.159128 2.853113 3.649200\n",
              " [849] 5.710275 1.349793 8.082195 6.889027 9.297528 5.194341 7.396227 5.588234\n",
              " [857] 3.715424 3.284733 7.593248 6.951819 7.701837 2.549094 1.792555 1.235148\n",
              " [865] 4.469433 9.814719 6.846127 6.674071 7.575840 1.377193 8.257221 6.985079\n",
              " [873] 9.383452 1.072134 8.223152 4.725462 7.723991 6.006258 9.513586 3.674042\n",
              " [881] 9.111436 8.961898 9.105258 4.005200 9.239828 8.371328 5.445702 9.620415\n",
              " [889] 5.100288 2.751488 7.230295 1.056881 2.227222 2.514344 1.548316 5.461315\n",
              " [897] 5.326372 3.119382 7.793620 3.220243 1.054660 2.750516 1.900565 2.085567\n",
              " [905] 4.021310 3.673566 5.549683 7.430088 8.659397 4.042885 4.833131 5.379611\n",
              " [913] 7.322746 7.769360 7.964753 5.278423 1.713999 5.198876 6.043279 3.364293\n",
              " [921] 1.343539 6.906429 1.081880 4.305373 9.896807 7.714005 8.923483 1.754527\n",
              " [929] 4.738728 1.048575 4.551497 4.950515 7.928342 1.594838 6.071345 9.198596\n",
              " [937] 1.909390 1.895418 2.079721 2.869525 5.594718 3.700126 8.466757 8.076986\n",
              " [945] 7.758665 8.589948 2.846235 8.896767 7.301498 5.639420 2.753615 1.292093\n",
              " [953] 9.354589 6.272378 8.517272 6.488886 8.930671 9.696234 2.560157 1.642383\n",
              " [961] 9.357258 1.380935 8.115810 1.900876 4.485943 8.932480 8.918315 3.662673\n",
              " [969] 6.933470 9.860265 1.942769 1.257302 8.955413 8.381698 1.023287 2.235269\n",
              " [977] 5.153962 9.378728 2.782793 8.051051 4.738172 6.052124 7.663550 2.771483\n",
              " [985] 1.175898 6.439799 9.809996 4.888606 6.152806 6.996545 7.088259 2.908205\n",
              " [993] 5.605058 3.601157 1.409110 3.581921 8.347531 5.791622 1.657464 4.698037"
            ]
          },
          "metadata": {}
        }
      ]
    },
    {
      "cell_type": "code",
      "source": [
        "# 10 random-normal numbers with mean 10 and SD=1\n",
        "\n",
        "rnorm(10, mean=10)"
      ],
      "metadata": {
        "colab": {
          "base_uri": "https://localhost:8080/",
          "height": 34
        },
        "id": "WuDf0NU0DCOM",
        "outputId": "b6923c52-192c-4126-c6b4-4f710ee4548d"
      },
      "execution_count": null,
      "outputs": [
        {
          "output_type": "display_data",
          "data": {
            "text/html": [
              "<style>\n",
              ".list-inline {list-style: none; margin:0; padding: 0}\n",
              ".list-inline>li {display: inline-block}\n",
              ".list-inline>li:not(:last-child)::after {content: \"\\00b7\"; padding: 0 .5ex}\n",
              "</style>\n",
              "<ol class=list-inline><li>10.3935122818544</li><li>9.00176530467588</li><li>9.22598939932385</li><li>10.0220471825987</li><li>10.3566390284357</li><li>9.59541835412698</li><li>11.7530758595219</li><li>8.209612414749</li><li>10.8266803393852</li><li>11.9347110866571</li></ol>\n"
            ],
            "text/markdown": "1. 10.3935122818544\n2. 9.00176530467588\n3. 9.22598939932385\n4. 10.0220471825987\n5. 10.3566390284357\n6. 9.59541835412698\n7. 11.7530758595219\n8. 8.209612414749\n9. 10.8266803393852\n10. 11.9347110866571\n\n\n",
            "text/latex": "\\begin{enumerate*}\n\\item 10.3935122818544\n\\item 9.00176530467588\n\\item 9.22598939932385\n\\item 10.0220471825987\n\\item 10.3566390284357\n\\item 9.59541835412698\n\\item 11.7530758595219\n\\item 8.209612414749\n\\item 10.8266803393852\n\\item 11.9347110866571\n\\end{enumerate*}\n",
            "text/plain": [
              " [1] 10.393512  9.001765  9.225989 10.022047 10.356639  9.595418 11.753076\n",
              " [8]  8.209612 10.826680 11.934711"
            ]
          },
          "metadata": {}
        }
      ]
    },
    {
      "cell_type": "code",
      "source": [
        "# 10 random-normal numbers with mean 10 and SD=5\n",
        "\n",
        "rnorm(10, 10, 5)"
      ],
      "metadata": {
        "colab": {
          "base_uri": "https://localhost:8080/",
          "height": 34
        },
        "outputId": "a015f8a1-93d6-4ec4-f778-1d078c065774",
        "id": "hmrm6lTUDecL"
      },
      "execution_count": null,
      "outputs": [
        {
          "output_type": "display_data",
          "data": {
            "text/html": [
              "<style>\n",
              ".list-inline {list-style: none; margin:0; padding: 0}\n",
              ".list-inline>li {display: inline-block}\n",
              ".list-inline>li:not(:last-child)::after {content: \"\\00b7\"; padding: 0 .5ex}\n",
              "</style>\n",
              "<ol class=list-inline><li>7.14404419783477</li><li>1.06017383998459</li><li>18.3001769259502</li><li>16.2820859488727</li><li>10.5393836329523</li><li>6.33247201233447</li><li>12.5538100437858</li><li>16.9510556607276</li><li>7.06017692790485</li><li>12.4042414526209</li></ol>\n"
            ],
            "text/markdown": "1. 7.14404419783477\n2. 1.06017383998459\n3. 18.3001769259502\n4. 16.2820859488727\n5. 10.5393836329523\n6. 6.33247201233447\n7. 12.5538100437858\n8. 16.9510556607276\n9. 7.06017692790485\n10. 12.4042414526209\n\n\n",
            "text/latex": "\\begin{enumerate*}\n\\item 7.14404419783477\n\\item 1.06017383998459\n\\item 18.3001769259502\n\\item 16.2820859488727\n\\item 10.5393836329523\n\\item 6.33247201233447\n\\item 12.5538100437858\n\\item 16.9510556607276\n\\item 7.06017692790485\n\\item 12.4042414526209\n\\end{enumerate*}\n",
            "text/plain": [
              " [1]  7.144044  1.060174 18.300177 16.282086 10.539384  6.332472 12.553810\n",
              " [8] 16.951056  7.060177 12.404241"
            ]
          },
          "metadata": {}
        }
      ]
    },
    {
      "cell_type": "code",
      "source": [
        "random.numbers <- rnorm(1000)\n",
        "\n",
        "hist(random.numbers)"
      ],
      "metadata": {
        "colab": {
          "base_uri": "https://localhost:8080/",
          "height": 437
        },
        "id": "H08FUBfZDnbD",
        "outputId": "68cce811-e563-4035-9049-953d89b9e882"
      },
      "execution_count": null,
      "outputs": [
        {
          "output_type": "display_data",
          "data": {
            "text/plain": [
              "Plot with title “Histogram of random.numbers”"
            ],
            "image/png": "[encoded data removed]"
          },
          "metadata": {
            "image/png": {
              "width": 420,
              "height": 420
            }
          }
        }
      ]
    },
    {
      "cell_type": "markdown",
      "source": [
        "## **Functions to Learn Now**"
      ],
      "metadata": {
        "id": "YvmMnkcTErBt"
      }
    },
    {
      "cell_type": "markdown",
      "source": [
        "### **Reptition**"
      ],
      "metadata": {
        "id": "9xdiRejwEwQy"
      }
    },
    {
      "cell_type": "code",
      "source": [
        "# repeat something N times\n",
        "\n",
        "rep(\"Apple pie\", 10) "
      ],
      "metadata": {
        "colab": {
          "base_uri": "https://localhost:8080/",
          "height": 34
        },
        "id": "U_UrAybdE44e",
        "outputId": "80c5c88f-e80b-4d61-cfb5-f5c0f23e2aa6"
      },
      "execution_count": null,
      "outputs": [
        {
          "output_type": "display_data",
          "data": {
            "text/html": [
              "<style>\n",
              ".list-inline {list-style: none; margin:0; padding: 0}\n",
              ".list-inline>li {display: inline-block}\n",
              ".list-inline>li:not(:last-child)::after {content: \"\\00b7\"; padding: 0 .5ex}\n",
              "</style>\n",
              "<ol class=list-inline><li>'Apple pie'</li><li>'Apple pie'</li><li>'Apple pie'</li><li>'Apple pie'</li><li>'Apple pie'</li><li>'Apple pie'</li><li>'Apple pie'</li><li>'Apple pie'</li><li>'Apple pie'</li><li>'Apple pie'</li></ol>\n"
            ],
            "text/markdown": "1. 'Apple pie'\n2. 'Apple pie'\n3. 'Apple pie'\n4. 'Apple pie'\n5. 'Apple pie'\n6. 'Apple pie'\n7. 'Apple pie'\n8. 'Apple pie'\n9. 'Apple pie'\n10. 'Apple pie'\n\n\n",
            "text/latex": "\\begin{enumerate*}\n\\item 'Apple pie'\n\\item 'Apple pie'\n\\item 'Apple pie'\n\\item 'Apple pie'\n\\item 'Apple pie'\n\\item 'Apple pie'\n\\item 'Apple pie'\n\\item 'Apple pie'\n\\item 'Apple pie'\n\\item 'Apple pie'\n\\end{enumerate*}\n",
            "text/plain": [
              " [1] \"Apple pie\" \"Apple pie\" \"Apple pie\" \"Apple pie\" \"Apple pie\" \"Apple pie\"\n",
              " [7] \"Apple pie\" \"Apple pie\" \"Apple pie\" \"Apple pie\""
            ]
          },
          "metadata": {}
        }
      ]
    },
    {
      "cell_type": "code",
      "source": [
        "# repeat a short vector, combining into a single longer vector\n",
        "\n",
        "rep(c(\"Custard\", \"Gravy\"), 5)"
      ],
      "metadata": {
        "colab": {
          "base_uri": "https://localhost:8080/",
          "height": 34
        },
        "id": "AOfkBTjBFLqk",
        "outputId": "037e49ac-b0a4-4ab5-920c-67020f873aa5"
      },
      "execution_count": null,
      "outputs": [
        {
          "output_type": "display_data",
          "data": {
            "text/html": [
              "<style>\n",
              ".list-inline {list-style: none; margin:0; padding: 0}\n",
              ".list-inline>li {display: inline-block}\n",
              ".list-inline>li:not(:last-child)::after {content: \"\\00b7\"; padding: 0 .5ex}\n",
              "</style>\n",
              "<ol class=list-inline><li>'Custard'</li><li>'Gravy'</li><li>'Custard'</li><li>'Gravy'</li><li>'Custard'</li><li>'Gravy'</li><li>'Custard'</li><li>'Gravy'</li><li>'Custard'</li><li>'Gravy'</li></ol>\n"
            ],
            "text/markdown": "1. 'Custard'\n2. 'Gravy'\n3. 'Custard'\n4. 'Gravy'\n5. 'Custard'\n6. 'Gravy'\n7. 'Custard'\n8. 'Gravy'\n9. 'Custard'\n10. 'Gravy'\n\n\n",
            "text/latex": "\\begin{enumerate*}\n\\item 'Custard'\n\\item 'Gravy'\n\\item 'Custard'\n\\item 'Gravy'\n\\item 'Custard'\n\\item 'Gravy'\n\\item 'Custard'\n\\item 'Gravy'\n\\item 'Custard'\n\\item 'Gravy'\n\\end{enumerate*}\n",
            "text/plain": [
              " [1] \"Custard\" \"Gravy\"   \"Custard\" \"Gravy\"   \"Custard\" \"Gravy\"   \"Custard\"\n",
              " [8] \"Gravy\"   \"Custard\" \"Gravy\"  "
            ]
          },
          "metadata": {}
        }
      ]
    },
    {
      "cell_type": "markdown",
      "source": [
        "## **Sequences**"
      ],
      "metadata": {
        "id": "_g4aK3VaFZzC"
      }
    },
    {
      "cell_type": "code",
      "source": [
        "# make a sequence\n",
        "\n",
        "(countdown <- 100:1)"
      ],
      "metadata": {
        "colab": {
          "base_uri": "https://localhost:8080/",
          "height": 52
        },
        "id": "avHtGhDoFdm5",
        "outputId": "a52f06c3-9a66-4fc5-bdc7-b16a1fe64fa9"
      },
      "execution_count": null,
      "outputs": [
        {
          "output_type": "display_data",
          "data": {
            "text/html": [
              "<style>\n",
              ".list-inline {list-style: none; margin:0; padding: 0}\n",
              ".list-inline>li {display: inline-block}\n",
              ".list-inline>li:not(:last-child)::after {content: \"\\00b7\"; padding: 0 .5ex}\n",
              "</style>\n",
              "<ol class=list-inline><li>100</li><li>99</li><li>98</li><li>97</li><li>96</li><li>95</li><li>94</li><li>93</li><li>92</li><li>91</li><li>90</li><li>89</li><li>88</li><li>87</li><li>86</li><li>85</li><li>84</li><li>83</li><li>82</li><li>81</li><li>80</li><li>79</li><li>78</li><li>77</li><li>76</li><li>75</li><li>74</li><li>73</li><li>72</li><li>71</li><li>70</li><li>69</li><li>68</li><li>67</li><li>66</li><li>65</li><li>64</li><li>63</li><li>62</li><li>61</li><li>60</li><li>59</li><li>58</li><li>57</li><li>56</li><li>55</li><li>54</li><li>53</li><li>52</li><li>51</li><li>50</li><li>49</li><li>48</li><li>47</li><li>46</li><li>45</li><li>44</li><li>43</li><li>42</li><li>41</li><li>40</li><li>39</li><li>38</li><li>37</li><li>36</li><li>35</li><li>34</li><li>33</li><li>32</li><li>31</li><li>30</li><li>29</li><li>28</li><li>27</li><li>26</li><li>25</li><li>24</li><li>23</li><li>22</li><li>21</li><li>20</li><li>19</li><li>18</li><li>17</li><li>16</li><li>15</li><li>14</li><li>13</li><li>12</li><li>11</li><li>10</li><li>9</li><li>8</li><li>7</li><li>6</li><li>5</li><li>4</li><li>3</li><li>2</li><li>1</li></ol>\n"
            ],
            "text/markdown": "1. 100\n2. 99\n3. 98\n4. 97\n5. 96\n6. 95\n7. 94\n8. 93\n9. 92\n10. 91\n11. 90\n12. 89\n13. 88\n14. 87\n15. 86\n16. 85\n17. 84\n18. 83\n19. 82\n20. 81\n21. 80\n22. 79\n23. 78\n24. 77\n25. 76\n26. 75\n27. 74\n28. 73\n29. 72\n30. 71\n31. 70\n32. 69\n33. 68\n34. 67\n35. 66\n36. 65\n37. 64\n38. 63\n39. 62\n40. 61\n41. 60\n42. 59\n43. 58\n44. 57\n45. 56\n46. 55\n47. 54\n48. 53\n49. 52\n50. 51\n51. 50\n52. 49\n53. 48\n54. 47\n55. 46\n56. 45\n57. 44\n58. 43\n59. 42\n60. 41\n61. 40\n62. 39\n63. 38\n64. 37\n65. 36\n66. 35\n67. 34\n68. 33\n69. 32\n70. 31\n71. 30\n72. 29\n73. 28\n74. 27\n75. 26\n76. 25\n77. 24\n78. 23\n79. 22\n80. 21\n81. 20\n82. 19\n83. 18\n84. 17\n85. 16\n86. 15\n87. 14\n88. 13\n89. 12\n90. 11\n91. 10\n92. 9\n93. 8\n94. 7\n95. 6\n96. 5\n97. 4\n98. 3\n99. 2\n100. 1\n\n\n",
            "text/latex": "\\begin{enumerate*}\n\\item 100\n\\item 99\n\\item 98\n\\item 97\n\\item 96\n\\item 95\n\\item 94\n\\item 93\n\\item 92\n\\item 91\n\\item 90\n\\item 89\n\\item 88\n\\item 87\n\\item 86\n\\item 85\n\\item 84\n\\item 83\n\\item 82\n\\item 81\n\\item 80\n\\item 79\n\\item 78\n\\item 77\n\\item 76\n\\item 75\n\\item 74\n\\item 73\n\\item 72\n\\item 71\n\\item 70\n\\item 69\n\\item 68\n\\item 67\n\\item 66\n\\item 65\n\\item 64\n\\item 63\n\\item 62\n\\item 61\n\\item 60\n\\item 59\n\\item 58\n\\item 57\n\\item 56\n\\item 55\n\\item 54\n\\item 53\n\\item 52\n\\item 51\n\\item 50\n\\item 49\n\\item 48\n\\item 47\n\\item 46\n\\item 45\n\\item 44\n\\item 43\n\\item 42\n\\item 41\n\\item 40\n\\item 39\n\\item 38\n\\item 37\n\\item 36\n\\item 35\n\\item 34\n\\item 33\n\\item 32\n\\item 31\n\\item 30\n\\item 29\n\\item 28\n\\item 27\n\\item 26\n\\item 25\n\\item 24\n\\item 23\n\\item 22\n\\item 21\n\\item 20\n\\item 19\n\\item 18\n\\item 17\n\\item 16\n\\item 15\n\\item 14\n\\item 13\n\\item 12\n\\item 11\n\\item 10\n\\item 9\n\\item 8\n\\item 7\n\\item 6\n\\item 5\n\\item 4\n\\item 3\n\\item 2\n\\item 1\n\\end{enumerate*}\n",
            "text/plain": [
              "  [1] 100  99  98  97  96  95  94  93  92  91  90  89  88  87  86  85  84  83\n",
              " [19]  82  81  80  79  78  77  76  75  74  73  72  71  70  69  68  67  66  65\n",
              " [37]  64  63  62  61  60  59  58  57  56  55  54  53  52  51  50  49  48  47\n",
              " [55]  46  45  44  43  42  41  40  39  38  37  36  35  34  33  32  31  30  29\n",
              " [73]  28  27  26  25  24  23  22  21  20  19  18  17  16  15  14  13  12  11\n",
              " [91]  10   9   8   7   6   5   4   3   2   1"
            ]
          },
          "metadata": {}
        }
      ]
    },
    {
      "cell_type": "markdown",
      "source": [
        "Make a sequence with steps of a particular size"
      ],
      "metadata": {
        "id": "O1RWSi2GFoDy"
      }
    },
    {
      "cell_type": "code",
      "source": [
        "(tenths <- seq(from=0, to=1, by=0.1))"
      ],
      "metadata": {
        "colab": {
          "base_uri": "https://localhost:8080/",
          "height": 34
        },
        "id": "o819W4lTFmJ0",
        "outputId": "b0e2aa07-a1a1-4ba5-ce52-31c0d70689f4"
      },
      "execution_count": null,
      "outputs": [
        {
          "output_type": "display_data",
          "data": {
            "text/html": [
              "<style>\n",
              ".list-inline {list-style: none; margin:0; padding: 0}\n",
              ".list-inline>li {display: inline-block}\n",
              ".list-inline>li:not(:last-child)::after {content: \"\\00b7\"; padding: 0 .5ex}\n",
              "</style>\n",
              "<ol class=list-inline><li>0</li><li>0.1</li><li>0.2</li><li>0.3</li><li>0.4</li><li>0.5</li><li>0.6</li><li>0.7</li><li>0.8</li><li>0.9</li><li>1</li></ol>\n"
            ],
            "text/markdown": "1. 0\n2. 0.1\n3. 0.2\n4. 0.3\n5. 0.4\n6. 0.5\n7. 0.6\n8. 0.7\n9. 0.8\n10. 0.9\n11. 1\n\n\n",
            "text/latex": "\\begin{enumerate*}\n\\item 0\n\\item 0.1\n\\item 0.2\n\\item 0.3\n\\item 0.4\n\\item 0.5\n\\item 0.6\n\\item 0.7\n\\item 0.8\n\\item 0.9\n\\item 1\n\\end{enumerate*}\n",
            "text/plain": [
              " [1] 0.0 0.1 0.2 0.3 0.4 0.5 0.6 0.7 0.8 0.9 1.0"
            ]
          },
          "metadata": {}
        }
      ]
    },
    {
      "cell_type": "code",
      "source": [
        "(twelfth <- seq(from=0, to=10, length.out = 12))"
      ],
      "metadata": {
        "colab": {
          "base_uri": "https://localhost:8080/",
          "height": 34
        },
        "id": "rg24eVPtF4z-",
        "outputId": "d1f456bc-b07f-4e9e-c0f4-9871fb0be1fe"
      },
      "execution_count": null,
      "outputs": [
        {
          "output_type": "display_data",
          "data": {
            "text/html": [
              "<style>\n",
              ".list-inline {list-style: none; margin:0; padding: 0}\n",
              ".list-inline>li {display: inline-block}\n",
              ".list-inline>li:not(:last-child)::after {content: \"\\00b7\"; padding: 0 .5ex}\n",
              "</style>\n",
              "<ol class=list-inline><li>0</li><li>0.909090909090909</li><li>1.81818181818182</li><li>2.72727272727273</li><li>3.63636363636364</li><li>4.54545454545454</li><li>5.45454545454545</li><li>6.36363636363636</li><li>7.27272727272727</li><li>8.18181818181818</li><li>9.09090909090909</li><li>10</li></ol>\n"
            ],
            "text/markdown": "1. 0\n2. 0.909090909090909\n3. 1.81818181818182\n4. 2.72727272727273\n5. 3.63636363636364\n6. 4.54545454545454\n7. 5.45454545454545\n8. 6.36363636363636\n9. 7.27272727272727\n10. 8.18181818181818\n11. 9.09090909090909\n12. 10\n\n\n",
            "text/latex": "\\begin{enumerate*}\n\\item 0\n\\item 0.909090909090909\n\\item 1.81818181818182\n\\item 2.72727272727273\n\\item 3.63636363636364\n\\item 4.54545454545454\n\\item 5.45454545454545\n\\item 6.36363636363636\n\\item 7.27272727272727\n\\item 8.18181818181818\n\\item 9.09090909090909\n\\item 10\n\\end{enumerate*}\n",
            "text/plain": [
              " [1]  0.0000000  0.9090909  1.8181818  2.7272727  3.6363636  4.5454545\n",
              " [7]  5.4545455  6.3636364  7.2727273  8.1818182  9.0909091 10.0000000"
            ]
          },
          "metadata": {}
        }
      ]
    },
    {
      "cell_type": "markdown",
      "source": [
        "## **FACTORS**"
      ],
      "metadata": {
        "id": "tE8dIYFsrpQk"
      }
    },
    {
      "cell_type": "markdown",
      "source": [
        "* Factors are used to represent categorical data.\n",
        "* Factors can be unordered and ordered.\n",
        "* One can think of a factor as an integer vector where each integer has a label.\n",
        "* Factors are treated specially by modelling functions like `lm()` and `glm()`\n",
        "* Using Factors with labels is better than using integers because factors are self-describing, having a variable that has values \"Male\" and \"Female\" is than a variable that has values 1 and 2.\n"
      ],
      "metadata": {
        "id": "gRXbn2KwrtrX"
      }
    },
    {
      "cell_type": "code",
      "source": [
        "x <- factor(c(\"yes\", \"yes\", \"no\", \"yes\", \"no\"))"
      ],
      "metadata": {
        "id": "rHHd9rkbtOA6"
      },
      "execution_count": null,
      "outputs": []
    },
    {
      "cell_type": "code",
      "source": [
        "x"
      ],
      "metadata": {
        "colab": {
          "base_uri": "https://localhost:8080/",
          "height": 52
        },
        "id": "qo0dcvRZugCc",
        "outputId": "05cabd2c-d100-40d1-8945-2d48f3adcd8f"
      },
      "execution_count": null,
      "outputs": [
        {
          "output_type": "display_data",
          "data": {
            "text/html": [
              "<style>\n",
              ".list-inline {list-style: none; margin:0; padding: 0}\n",
              ".list-inline>li {display: inline-block}\n",
              ".list-inline>li:not(:last-child)::after {content: \"\\00b7\"; padding: 0 .5ex}\n",
              "</style>\n",
              "<ol class=list-inline><li>yes</li><li>yes</li><li>no</li><li>yes</li><li>no</li></ol>\n",
              "\n",
              "<details>\n",
              "\t<summary style=display:list-item;cursor:pointer>\n",
              "\t\t<strong>Levels</strong>:\n",
              "\t</summary>\n",
              "\t<style>\n",
              "\t.list-inline {list-style: none; margin:0; padding: 0}\n",
              "\t.list-inline>li {display: inline-block}\n",
              "\t.list-inline>li:not(:last-child)::after {content: \"\\00b7\"; padding: 0 .5ex}\n",
              "\t</style>\n",
              "\t<ol class=list-inline><li>'no'</li><li>'yes'</li></ol>\n",
              "</details>"
            ],
            "text/markdown": "1. yes\n2. yes\n3. no\n4. yes\n5. no\n\n\n\n**Levels**: 1. 'no'\n2. 'yes'\n\n\n",
            "text/latex": "\\begin{enumerate*}\n\\item yes\n\\item yes\n\\item no\n\\item yes\n\\item no\n\\end{enumerate*}\n\n\\emph{Levels}: \\begin{enumerate*}\n\\item 'no'\n\\item 'yes'\n\\end{enumerate*}\n",
            "text/plain": [
              "[1] yes yes no  yes no \n",
              "Levels: no yes"
            ]
          },
          "metadata": {}
        }
      ]
    },
    {
      "cell_type": "code",
      "source": [
        "table(x)"
      ],
      "metadata": {
        "colab": {
          "base_uri": "https://localhost:8080/",
          "height": 69
        },
        "id": "6ejMVAImuvFC",
        "outputId": "29599f61-0758-4633-aa52-c9252c268097"
      },
      "execution_count": null,
      "outputs": [
        {
          "output_type": "display_data",
          "data": {
            "text/plain": [
              "x\n",
              " no yes \n",
              "  2   3 "
            ]
          },
          "metadata": {}
        }
      ]
    },
    {
      "cell_type": "code",
      "source": [
        "unclass(x)"
      ],
      "metadata": {
        "colab": {
          "base_uri": "https://localhost:8080/",
          "height": 34
        },
        "id": "OkhlgHNcu1A-",
        "outputId": "bcc5dda3-055a-4e51-e126-94994c2d9bb1"
      },
      "execution_count": null,
      "outputs": [
        {
          "output_type": "display_data",
          "data": {
            "text/html": [
              "<style>\n",
              ".list-inline {list-style: none; margin:0; padding: 0}\n",
              ".list-inline>li {display: inline-block}\n",
              ".list-inline>li:not(:last-child)::after {content: \"\\00b7\"; padding: 0 .5ex}\n",
              "</style>\n",
              "<ol class=list-inline><li>2</li><li>2</li><li>1</li><li>2</li><li>1</li></ol>\n"
            ],
            "text/markdown": "1. 2\n2. 2\n3. 1\n4. 2\n5. 1\n\n\n",
            "text/latex": "\\begin{enumerate*}\n\\item 2\n\\item 2\n\\item 1\n\\item 2\n\\item 1\n\\end{enumerate*}\n",
            "text/plain": [
              "[1] 2 2 1 2 1\n",
              "attr(,\"levels\")\n",
              "[1] \"no\"  \"yes\""
            ]
          },
          "metadata": {}
        }
      ]
    },
    {
      "cell_type": "code",
      "source": [
        "x <- factor(c(\"yes\", \"yes\", \"no\", \"yes\", \"no\"),\n",
        "                levels = c(\"yes\", \"no\"))\n",
        "\n",
        "x"
      ],
      "metadata": {
        "colab": {
          "base_uri": "https://localhost:8080/",
          "height": 52
        },
        "id": "NkTA4tJtu_Rq",
        "outputId": "6d2ea142-1a8f-484d-e804-30dccf379b4d"
      },
      "execution_count": null,
      "outputs": [
        {
          "output_type": "display_data",
          "data": {
            "text/html": [
              "<style>\n",
              ".list-inline {list-style: none; margin:0; padding: 0}\n",
              ".list-inline>li {display: inline-block}\n",
              ".list-inline>li:not(:last-child)::after {content: \"\\00b7\"; padding: 0 .5ex}\n",
              "</style>\n",
              "<ol class=list-inline><li>yes</li><li>yes</li><li>no</li><li>yes</li><li>no</li></ol>\n",
              "\n",
              "<details>\n",
              "\t<summary style=display:list-item;cursor:pointer>\n",
              "\t\t<strong>Levels</strong>:\n",
              "\t</summary>\n",
              "\t<style>\n",
              "\t.list-inline {list-style: none; margin:0; padding: 0}\n",
              "\t.list-inline>li {display: inline-block}\n",
              "\t.list-inline>li:not(:last-child)::after {content: \"\\00b7\"; padding: 0 .5ex}\n",
              "\t</style>\n",
              "\t<ol class=list-inline><li>'yes'</li><li>'no'</li></ol>\n",
              "</details>"
            ],
            "text/markdown": "1. yes\n2. yes\n3. no\n4. yes\n5. no\n\n\n\n**Levels**: 1. 'yes'\n2. 'no'\n\n\n",
            "text/latex": "\\begin{enumerate*}\n\\item yes\n\\item yes\n\\item no\n\\item yes\n\\item no\n\\end{enumerate*}\n\n\\emph{Levels}: \\begin{enumerate*}\n\\item 'yes'\n\\item 'no'\n\\end{enumerate*}\n",
            "text/plain": [
              "[1] yes yes no  yes no \n",
              "Levels: yes no"
            ]
          },
          "metadata": {}
        }
      ]
    },
    {
      "cell_type": "markdown",
      "source": [
        "## **Missing Values**"
      ],
      "metadata": {
        "id": "FLfOhFMvxdge"
      }
    },
    {
      "cell_type": "markdown",
      "source": [
        "Missing values are denoted by NA or NaN for undefined mathematical operations.\n",
        "* **`is.na()`** is used to test objects if they are **NA**.\n",
        "* **`is.nan()`** is used to test for **NaN**.\n",
        "* **NA** values have a class also, so there are integer **NA**, character **NA**, etc.\n",
        "* A **NaN** value is also **NA** but the converse is not true\n"
      ],
      "metadata": {
        "id": "j4VZL4PWxikp"
      }
    },
    {
      "cell_type": "code",
      "source": [
        "x <- c(1, 2, NA, 10, 3)"
      ],
      "metadata": {
        "id": "TODZoP4fxgu0"
      },
      "execution_count": null,
      "outputs": []
    },
    {
      "cell_type": "code",
      "source": [
        "is.na(x)"
      ],
      "metadata": {
        "colab": {
          "base_uri": "https://localhost:8080/",
          "height": 34
        },
        "id": "JEIcE0gp_aKa",
        "outputId": "0f91e5b8-43b1-44d4-ef28-16c6306cfd69"
      },
      "execution_count": null,
      "outputs": [
        {
          "output_type": "display_data",
          "data": {
            "text/html": [
              "<style>\n",
              ".list-inline {list-style: none; margin:0; padding: 0}\n",
              ".list-inline>li {display: inline-block}\n",
              ".list-inline>li:not(:last-child)::after {content: \"\\00b7\"; padding: 0 .5ex}\n",
              "</style>\n",
              "<ol class=list-inline><li>FALSE</li><li>FALSE</li><li>TRUE</li><li>FALSE</li><li>FALSE</li></ol>\n"
            ],
            "text/markdown": "1. FALSE\n2. FALSE\n3. TRUE\n4. FALSE\n5. FALSE\n\n\n",
            "text/latex": "\\begin{enumerate*}\n\\item FALSE\n\\item FALSE\n\\item TRUE\n\\item FALSE\n\\item FALSE\n\\end{enumerate*}\n",
            "text/plain": [
              "[1] FALSE FALSE  TRUE FALSE FALSE"
            ]
          },
          "metadata": {}
        }
      ]
    },
    {
      "cell_type": "code",
      "source": [
        "is.nan(x)"
      ],
      "metadata": {
        "colab": {
          "base_uri": "https://localhost:8080/",
          "height": 34
        },
        "id": "PXlJ-h_D_b-O",
        "outputId": "2bde2c33-7157-4238-c33a-511f5306ac9e"
      },
      "execution_count": null,
      "outputs": [
        {
          "output_type": "display_data",
          "data": {
            "text/html": [
              "<style>\n",
              ".list-inline {list-style: none; margin:0; padding: 0}\n",
              ".list-inline>li {display: inline-block}\n",
              ".list-inline>li:not(:last-child)::after {content: \"\\00b7\"; padding: 0 .5ex}\n",
              "</style>\n",
              "<ol class=list-inline><li>FALSE</li><li>FALSE</li><li>FALSE</li><li>FALSE</li><li>FALSE</li></ol>\n"
            ],
            "text/markdown": "1. FALSE\n2. FALSE\n3. FALSE\n4. FALSE\n5. FALSE\n\n\n",
            "text/latex": "\\begin{enumerate*}\n\\item FALSE\n\\item FALSE\n\\item FALSE\n\\item FALSE\n\\item FALSE\n\\end{enumerate*}\n",
            "text/plain": [
              "[1] FALSE FALSE FALSE FALSE FALSE"
            ]
          },
          "metadata": {}
        }
      ]
    },
    {
      "cell_type": "code",
      "source": [
        "x <- c(1, 2, NaN, NA, 4)"
      ],
      "metadata": {
        "id": "_72MU0rv_mOu"
      },
      "execution_count": null,
      "outputs": []
    },
    {
      "cell_type": "code",
      "source": [
        "is.na(x)"
      ],
      "metadata": {
        "colab": {
          "base_uri": "https://localhost:8080/",
          "height": 34
        },
        "id": "zLNlIJNn_pH1",
        "outputId": "15a02849-78aa-466c-b8e6-a2565eaf53fe"
      },
      "execution_count": null,
      "outputs": [
        {
          "output_type": "display_data",
          "data": {
            "text/html": [
              "<style>\n",
              ".list-inline {list-style: none; margin:0; padding: 0}\n",
              ".list-inline>li {display: inline-block}\n",
              ".list-inline>li:not(:last-child)::after {content: \"\\00b7\"; padding: 0 .5ex}\n",
              "</style>\n",
              "<ol class=list-inline><li>FALSE</li><li>FALSE</li><li>TRUE</li><li>TRUE</li><li>FALSE</li></ol>\n"
            ],
            "text/markdown": "1. FALSE\n2. FALSE\n3. TRUE\n4. TRUE\n5. FALSE\n\n\n",
            "text/latex": "\\begin{enumerate*}\n\\item FALSE\n\\item FALSE\n\\item TRUE\n\\item TRUE\n\\item FALSE\n\\end{enumerate*}\n",
            "text/plain": [
              "[1] FALSE FALSE  TRUE  TRUE FALSE"
            ]
          },
          "metadata": {}
        }
      ]
    },
    {
      "cell_type": "code",
      "source": [
        "is.nan(x)"
      ],
      "metadata": {
        "colab": {
          "base_uri": "https://localhost:8080/",
          "height": 34
        },
        "id": "A6MTRbgB_tW6",
        "outputId": "ef4fd073-25ad-4294-ae01-a92ee66cb296"
      },
      "execution_count": null,
      "outputs": [
        {
          "output_type": "display_data",
          "data": {
            "text/html": [
              "<style>\n",
              ".list-inline {list-style: none; margin:0; padding: 0}\n",
              ".list-inline>li {display: inline-block}\n",
              ".list-inline>li:not(:last-child)::after {content: \"\\00b7\"; padding: 0 .5ex}\n",
              "</style>\n",
              "<ol class=list-inline><li>FALSE</li><li>FALSE</li><li>TRUE</li><li>FALSE</li><li>FALSE</li></ol>\n"
            ],
            "text/markdown": "1. FALSE\n2. FALSE\n3. TRUE\n4. FALSE\n5. FALSE\n\n\n",
            "text/latex": "\\begin{enumerate*}\n\\item FALSE\n\\item FALSE\n\\item TRUE\n\\item FALSE\n\\item FALSE\n\\end{enumerate*}\n",
            "text/plain": [
              "[1] FALSE FALSE  TRUE FALSE FALSE"
            ]
          },
          "metadata": {}
        }
      ]
    },
    {
      "cell_type": "markdown",
      "source": [
        "## **MATRICES**"
      ],
      "metadata": {
        "id": "1tzKcVZgvtPQ"
      }
    },
    {
      "cell_type": "markdown",
      "source": [
        "* Matrices are vectors with a dimension attribute. The dimension attribute is itself an integer vector of length 2 (nrow, ncol).\n"
      ],
      "metadata": {
        "id": "yIxhfmC0vw73"
      }
    },
    {
      "cell_type": "code",
      "source": [
        "m <- matrix(nrow = 2, ncol = 3)\n",
        "\n",
        "m"
      ],
      "metadata": {
        "colab": {
          "base_uri": "https://localhost:8080/",
          "height": 114
        },
        "id": "iESk6qNow2Mj",
        "outputId": "bade3895-7569-49c4-b8b1-1f6361a8c9a5"
      },
      "execution_count": null,
      "outputs": [
        {
          "output_type": "display_data",
          "data": {
            "text/html": [
              "<table class=\"dataframe\">\n",
              "<caption>A matrix: 2 × 3 of type lgl</caption>\n",
              "<tbody>\n",
              "\t<tr><td>NA</td><td>NA</td><td>NA</td></tr>\n",
              "\t<tr><td>NA</td><td>NA</td><td>NA</td></tr>\n",
              "</tbody>\n",
              "</table>\n"
            ],
            "text/markdown": "\nA matrix: 2 × 3 of type lgl\n\n| NA | NA | NA |\n| NA | NA | NA |\n\n",
            "text/latex": "A matrix: 2 × 3 of type lgl\n\\begin{tabular}{lll}\n\t NA & NA & NA\\\\\n\t NA & NA & NA\\\\\n\\end{tabular}\n",
            "text/plain": [
              "     [,1] [,2] [,3]\n",
              "[1,] NA   NA   NA  \n",
              "[2,] NA   NA   NA  "
            ]
          },
          "metadata": {}
        }
      ]
    },
    {
      "cell_type": "code",
      "source": [
        "dim(m)"
      ],
      "metadata": {
        "colab": {
          "base_uri": "https://localhost:8080/",
          "height": 34
        },
        "id": "rXqP1HPuxAXE",
        "outputId": "2905f247-c9b0-4664-ceb1-9765219b8a55"
      },
      "execution_count": null,
      "outputs": [
        {
          "output_type": "display_data",
          "data": {
            "text/html": [
              "<style>\n",
              ".list-inline {list-style: none; margin:0; padding: 0}\n",
              ".list-inline>li {display: inline-block}\n",
              ".list-inline>li:not(:last-child)::after {content: \"\\00b7\"; padding: 0 .5ex}\n",
              "</style>\n",
              "<ol class=list-inline><li>2</li><li>3</li></ol>\n"
            ],
            "text/markdown": "1. 2\n2. 3\n\n\n",
            "text/latex": "\\begin{enumerate*}\n\\item 2\n\\item 3\n\\end{enumerate*}\n",
            "text/plain": [
              "[1] 2 3"
            ]
          },
          "metadata": {}
        }
      ]
    },
    {
      "cell_type": "code",
      "source": [
        "attributes(m)"
      ],
      "metadata": {
        "colab": {
          "base_uri": "https://localhost:8080/",
          "height": 52
        },
        "id": "Q1XxonuIxCiQ",
        "outputId": "cba083e9-9ad6-4ad0-cfb9-71fffd3d71d6"
      },
      "execution_count": null,
      "outputs": [
        {
          "output_type": "display_data",
          "data": {
            "text/html": [
              "<strong>$dim</strong> = <style>\n",
              ".list-inline {list-style: none; margin:0; padding: 0}\n",
              ".list-inline>li {display: inline-block}\n",
              ".list-inline>li:not(:last-child)::after {content: \"\\00b7\"; padding: 0 .5ex}\n",
              "</style>\n",
              "<ol class=list-inline><li>2</li><li>3</li></ol>\n"
            ],
            "text/markdown": "**$dim** = 1. 2\n2. 3\n\n\n",
            "text/latex": "\\textbf{\\$dim} = \\begin{enumerate*}\n\\item 2\n\\item 3\n\\end{enumerate*}\n",
            "text/plain": [
              "$dim\n",
              "[1] 2 3\n"
            ]
          },
          "metadata": {}
        }
      ]
    },
    {
      "cell_type": "markdown",
      "source": [
        "* Matrices are constructed column-wise, so entries can be thought of starting in the “upper left” corner and running down the columns.\n"
      ],
      "metadata": {
        "id": "StCKXrjdwzgC"
      }
    },
    {
      "cell_type": "code",
      "source": [
        "m <- matrix(1:6, nrow=2, ncol=3)\n",
        "\n",
        "m"
      ],
      "metadata": {
        "colab": {
          "base_uri": "https://localhost:8080/",
          "height": 132
        },
        "id": "5oxn-e6yxTWg",
        "outputId": "057cd4e8-5a68-4a74-b450-bd048f52889d"
      },
      "execution_count": null,
      "outputs": [
        {
          "output_type": "display_data",
          "data": {
            "text/html": [
              "<table class=\"dataframe\">\n",
              "<caption>A matrix: 2 × 3 of type int</caption>\n",
              "<tbody>\n",
              "\t<tr><td>1</td><td>3</td><td>5</td></tr>\n",
              "\t<tr><td>2</td><td>4</td><td>6</td></tr>\n",
              "</tbody>\n",
              "</table>\n"
            ],
            "text/markdown": "\nA matrix: 2 × 3 of type int\n\n| 1 | 3 | 5 |\n| 2 | 4 | 6 |\n\n",
            "text/latex": "A matrix: 2 × 3 of type int\n\\begin{tabular}{lll}\n\t 1 & 3 & 5\\\\\n\t 2 & 4 & 6\\\\\n\\end{tabular}\n",
            "text/plain": [
              "     [,1] [,2] [,3]\n",
              "[1,] 1    3    5   \n",
              "[2,] 2    4    6   "
            ]
          },
          "metadata": {}
        }
      ]
    },
    {
      "cell_type": "markdown",
      "source": [
        "* Matrices can also be created directly from vectors by adding a dimension attribute."
      ],
      "metadata": {
        "id": "OEcQH24Aw1C8"
      }
    },
    {
      "cell_type": "code",
      "source": [
        "m <- 1:10\n",
        "\n",
        "m"
      ],
      "metadata": {
        "colab": {
          "base_uri": "https://localhost:8080/",
          "height": 34
        },
        "id": "R-HSfkDrxeBR",
        "outputId": "b3ca716b-a52e-4f19-acee-daece652f531"
      },
      "execution_count": null,
      "outputs": [
        {
          "output_type": "display_data",
          "data": {
            "text/html": [
              "<style>\n",
              ".list-inline {list-style: none; margin:0; padding: 0}\n",
              ".list-inline>li {display: inline-block}\n",
              ".list-inline>li:not(:last-child)::after {content: \"\\00b7\"; padding: 0 .5ex}\n",
              "</style>\n",
              "<ol class=list-inline><li>1</li><li>2</li><li>3</li><li>4</li><li>5</li><li>6</li><li>7</li><li>8</li><li>9</li><li>10</li></ol>\n"
            ],
            "text/markdown": "1. 1\n2. 2\n3. 3\n4. 4\n5. 5\n6. 6\n7. 7\n8. 8\n9. 9\n10. 10\n\n\n",
            "text/latex": "\\begin{enumerate*}\n\\item 1\n\\item 2\n\\item 3\n\\item 4\n\\item 5\n\\item 6\n\\item 7\n\\item 8\n\\item 9\n\\item 10\n\\end{enumerate*}\n",
            "text/plain": [
              " [1]  1  2  3  4  5  6  7  8  9 10"
            ]
          },
          "metadata": {}
        }
      ]
    },
    {
      "cell_type": "code",
      "source": [
        "dim(m) <- c(2,5)\n",
        "\n",
        "m"
      ],
      "metadata": {
        "colab": {
          "base_uri": "https://localhost:8080/",
          "height": 114
        },
        "id": "jT0mHQcIxgQD",
        "outputId": "620a8d6a-a87a-475f-9083-0100c2ca29b8"
      },
      "execution_count": null,
      "outputs": [
        {
          "output_type": "display_data",
          "data": {
            "text/html": [
              "<table class=\"dataframe\">\n",
              "<caption>A matrix: 2 × 5 of type int</caption>\n",
              "<tbody>\n",
              "\t<tr><td>1</td><td>3</td><td>5</td><td>7</td><td> 9</td></tr>\n",
              "\t<tr><td>2</td><td>4</td><td>6</td><td>8</td><td>10</td></tr>\n",
              "</tbody>\n",
              "</table>\n"
            ],
            "text/markdown": "\nA matrix: 2 × 5 of type int\n\n| 1 | 3 | 5 | 7 |  9 |\n| 2 | 4 | 6 | 8 | 10 |\n\n",
            "text/latex": "A matrix: 2 × 5 of type int\n\\begin{tabular}{lllll}\n\t 1 & 3 & 5 & 7 &  9\\\\\n\t 2 & 4 & 6 & 8 & 10\\\\\n\\end{tabular}\n",
            "text/plain": [
              "     [,1] [,2] [,3] [,4] [,5]\n",
              "[1,] 1    3    5    7     9  \n",
              "[2,] 2    4    6    8    10  "
            ]
          },
          "metadata": {}
        }
      ]
    },
    {
      "cell_type": "markdown",
      "source": [
        "### **cbind-ing and rbind-ing**"
      ],
      "metadata": {
        "id": "vy6vSoUKxuZ4"
      }
    },
    {
      "cell_type": "markdown",
      "source": [
        "Matrices can be created by column-binding or row-binding with cbind() and rbind()."
      ],
      "metadata": {
        "id": "wKx4XymHx1Qm"
      }
    },
    {
      "cell_type": "code",
      "source": [
        "x <- 1:3\n",
        "y <- 10:12\n",
        "\n",
        "x\n",
        "y"
      ],
      "metadata": {
        "colab": {
          "base_uri": "https://localhost:8080/",
          "height": 52
        },
        "id": "aZj992U5x6ps",
        "outputId": "aafe0ca0-72ef-4131-9b2f-d7fd19a09e7f"
      },
      "execution_count": null,
      "outputs": [
        {
          "output_type": "display_data",
          "data": {
            "text/html": [
              "<style>\n",
              ".list-inline {list-style: none; margin:0; padding: 0}\n",
              ".list-inline>li {display: inline-block}\n",
              ".list-inline>li:not(:last-child)::after {content: \"\\00b7\"; padding: 0 .5ex}\n",
              "</style>\n",
              "<ol class=list-inline><li>1</li><li>2</li><li>3</li></ol>\n"
            ],
            "text/markdown": "1. 1\n2. 2\n3. 3\n\n\n",
            "text/latex": "\\begin{enumerate*}\n\\item 1\n\\item 2\n\\item 3\n\\end{enumerate*}\n",
            "text/plain": [
              "[1] 1 2 3"
            ]
          },
          "metadata": {}
        },
        {
          "output_type": "display_data",
          "data": {
            "text/html": [
              "<style>\n",
              ".list-inline {list-style: none; margin:0; padding: 0}\n",
              ".list-inline>li {display: inline-block}\n",
              ".list-inline>li:not(:last-child)::after {content: \"\\00b7\"; padding: 0 .5ex}\n",
              "</style>\n",
              "<ol class=list-inline><li>10</li><li>11</li><li>12</li></ol>\n"
            ],
            "text/markdown": "1. 10\n2. 11\n3. 12\n\n\n",
            "text/latex": "\\begin{enumerate*}\n\\item 10\n\\item 11\n\\item 12\n\\end{enumerate*}\n",
            "text/plain": [
              "[1] 10 11 12"
            ]
          },
          "metadata": {}
        }
      ]
    },
    {
      "cell_type": "code",
      "source": [
        "cbind(x,y)"
      ],
      "metadata": {
        "colab": {
          "base_uri": "https://localhost:8080/",
          "height": 213
        },
        "id": "6ZCHCmwVx-8w",
        "outputId": "ec867e01-3e25-437c-f10e-7fe70bba0dd6"
      },
      "execution_count": null,
      "outputs": [
        {
          "output_type": "display_data",
          "data": {
            "text/html": [
              "<table class=\"dataframe\">\n",
              "<caption>A matrix: 3 × 2 of type int</caption>\n",
              "<thead>\n",
              "\t<tr><th scope=col>x</th><th scope=col>y</th></tr>\n",
              "</thead>\n",
              "<tbody>\n",
              "\t<tr><td>1</td><td>10</td></tr>\n",
              "\t<tr><td>2</td><td>11</td></tr>\n",
              "\t<tr><td>3</td><td>12</td></tr>\n",
              "</tbody>\n",
              "</table>\n"
            ],
            "text/markdown": "\nA matrix: 3 × 2 of type int\n\n| x | y |\n|---|---|\n| 1 | 10 |\n| 2 | 11 |\n| 3 | 12 |\n\n",
            "text/latex": "A matrix: 3 × 2 of type int\n\\begin{tabular}{ll}\n x & y\\\\\n\\hline\n\t 1 & 10\\\\\n\t 2 & 11\\\\\n\t 3 & 12\\\\\n\\end{tabular}\n",
            "text/plain": [
              "     x y \n",
              "[1,] 1 10\n",
              "[2,] 2 11\n",
              "[3,] 3 12"
            ]
          },
          "metadata": {}
        }
      ]
    },
    {
      "cell_type": "code",
      "source": [
        "rbind(x,y)"
      ],
      "metadata": {
        "colab": {
          "base_uri": "https://localhost:8080/",
          "height": 114
        },
        "id": "tjWg7aAeyH_U",
        "outputId": "59e2150f-b60e-472c-9969-35fabb178bf7"
      },
      "execution_count": null,
      "outputs": [
        {
          "output_type": "display_data",
          "data": {
            "text/html": [
              "<table class=\"dataframe\">\n",
              "<caption>A matrix: 2 × 3 of type int</caption>\n",
              "<tbody>\n",
              "\t<tr><th scope=row>x</th><td> 1</td><td> 2</td><td> 3</td></tr>\n",
              "\t<tr><th scope=row>y</th><td>10</td><td>11</td><td>12</td></tr>\n",
              "</tbody>\n",
              "</table>\n"
            ],
            "text/markdown": "\nA matrix: 2 × 3 of type int\n\n| x |  1 |  2 |  3 |\n| y | 10 | 11 | 12 |\n\n",
            "text/latex": "A matrix: 2 × 3 of type int\n\\begin{tabular}{r|lll}\n\tx &  1 &  2 &  3\\\\\n\ty & 10 & 11 & 12\\\\\n\\end{tabular}\n",
            "text/plain": [
              "  [,1] [,2] [,3]\n",
              "x  1    2    3  \n",
              "y 10   11   12  "
            ]
          },
          "metadata": {}
        }
      ]
    },
    {
      "cell_type": "markdown",
      "source": [
        "## **Lists**"
      ],
      "metadata": {
        "id": "JrhmnU-HyVEk"
      }
    },
    {
      "cell_type": "markdown",
      "source": [
        "* Lists are a special type of vector that can contain elements of different classes. \n",
        "* Lists are a very important data type in R and you should get to know them well."
      ],
      "metadata": {
        "id": "8lvge6kxyYmg"
      }
    },
    {
      "cell_type": "code",
      "source": [
        "x <- list(1, \"a\", TRUE, 1 + 4i)\n",
        "\n",
        "x"
      ],
      "metadata": {
        "colab": {
          "base_uri": "https://localhost:8080/",
          "height": 114
        },
        "id": "avpFMiXGyYEr",
        "outputId": "ea97bce9-d72b-42ef-f83a-7e29471ac1bc"
      },
      "execution_count": null,
      "outputs": [
        {
          "output_type": "display_data",
          "data": {
            "text/html": [
              "<ol>\n",
              "\t<li>1</li>\n",
              "\t<li>'a'</li>\n",
              "\t<li>TRUE</li>\n",
              "\t<li>1+4i</li>\n",
              "</ol>\n"
            ],
            "text/markdown": "1. 1\n2. 'a'\n3. TRUE\n4. 1+4i\n\n\n",
            "text/latex": "\\begin{enumerate}\n\\item 1\n\\item 'a'\n\\item TRUE\n\\item 1+4i\n\\end{enumerate}\n",
            "text/plain": [
              "[[1]]\n",
              "[1] 1\n",
              "\n",
              "[[2]]\n",
              "[1] \"a\"\n",
              "\n",
              "[[3]]\n",
              "[1] TRUE\n",
              "\n",
              "[[4]]\n",
              "[1] 1+4i\n"
            ]
          },
          "metadata": {}
        }
      ]
    },
    {
      "cell_type": "code",
      "source": [
        "x[1]"
      ],
      "metadata": {
        "colab": {
          "base_uri": "https://localhost:8080/",
          "height": 62
        },
        "id": "KOj2ZKh1yNLE",
        "outputId": "32e17c48-effb-47c3-b812-946bd114ea72"
      },
      "execution_count": null,
      "outputs": [
        {
          "output_type": "display_data",
          "data": {
            "text/html": [
              "<ol>\n",
              "\t<li>1</li>\n",
              "</ol>\n"
            ],
            "text/markdown": "1. 1\n\n\n",
            "text/latex": "\\begin{enumerate}\n\\item 1\n\\end{enumerate}\n",
            "text/plain": [
              "[[1]]\n",
              "[1] 1\n"
            ]
          },
          "metadata": {}
        }
      ]
    },
    {
      "cell_type": "code",
      "source": [
        "x[[1]]"
      ],
      "metadata": {
        "colab": {
          "base_uri": "https://localhost:8080/",
          "height": 34
        },
        "id": "oqf5CVmnysdd",
        "outputId": "c1c3e261-3289-4bb4-8ac9-37bc7206f2fe"
      },
      "execution_count": null,
      "outputs": [
        {
          "output_type": "display_data",
          "data": {
            "text/html": [
              "1"
            ],
            "text/markdown": "1",
            "text/latex": "1",
            "text/plain": [
              "[1] 1"
            ]
          },
          "metadata": {}
        }
      ]
    },
    {
      "cell_type": "code",
      "source": [
        "x[[3]]"
      ],
      "metadata": {
        "colab": {
          "base_uri": "https://localhost:8080/",
          "height": 34
        },
        "id": "o8pylkSOyygJ",
        "outputId": "a0ee0c2f-1758-4cf1-af8f-d0d1c229d82c"
      },
      "execution_count": null,
      "outputs": [
        {
          "output_type": "display_data",
          "data": {
            "text/html": [
              "TRUE"
            ],
            "text/markdown": "TRUE",
            "text/latex": "TRUE",
            "text/plain": [
              "[1] TRUE"
            ]
          },
          "metadata": {}
        }
      ]
    },
    {
      "cell_type": "code",
      "source": [
        "x[[4]]"
      ],
      "metadata": {
        "id": "QmJBwgXsy6O1",
        "outputId": "82701a17-e6e0-46fc-d6c7-984f7569985e",
        "colab": {
          "base_uri": "https://localhost:8080/",
          "height": 34
        }
      },
      "execution_count": null,
      "outputs": [
        {
          "output_type": "display_data",
          "data": {
            "text/html": [
              "1+4i"
            ],
            "text/markdown": "1+4i",
            "text/latex": "1+4i",
            "text/plain": [
              "[1] 1+4i"
            ]
          },
          "metadata": {}
        }
      ]
    },
    {
      "cell_type": "markdown",
      "source": [
        "## **DATA FRAMES**"
      ],
      "metadata": {
        "id": "PqMeag1AtZ01"
      }
    },
    {
      "cell_type": "markdown",
      "source": [
        "Data frames are used to store tabular data:\n",
        "* They are represented as a special type of list where every element of the list has to have the same length.\n",
        "* Each element of the list can be thought of as a column and the length of each element of the list is the number of rows.\n",
        "* Unlike matrices, data frames can store different classes of objects in each column (just like lists); matrices must have every element be the same class.\n",
        "* Data frames also have a special attribute called `row.names`.\n",
        "* Data frames are usually created by calling `read.table()` or `read.csv()`.\n",
        "* Can be converted to a matrix by calling `data.matrix()`."
      ],
      "metadata": {
        "id": "tYlY6szHtdcU"
      }
    },
    {
      "cell_type": "code",
      "source": [
        "x <- data.frame(foo=1:4, bar = c(T,T,F,F))\n",
        "\n",
        "x"
      ],
      "metadata": {
        "id": "seGO_YtIy9Y-",
        "colab": {
          "base_uri": "https://localhost:8080/",
          "height": 241
        },
        "outputId": "00101c5d-bd0e-4aba-ee3c-b250efd294d8"
      },
      "execution_count": 1,
      "outputs": [
        {
          "output_type": "display_data",
          "data": {
            "text/html": [
              "<table class=\"dataframe\">\n",
              "<caption>A data.frame: 4 × 2</caption>\n",
              "<thead>\n",
              "\t<tr><th scope=col>foo</th><th scope=col>bar</th></tr>\n",
              "\t<tr><th scope=col>&lt;int&gt;</th><th scope=col>&lt;lgl&gt;</th></tr>\n",
              "</thead>\n",
              "<tbody>\n",
              "\t<tr><td>1</td><td> TRUE</td></tr>\n",
              "\t<tr><td>2</td><td> TRUE</td></tr>\n",
              "\t<tr><td>3</td><td>FALSE</td></tr>\n",
              "\t<tr><td>4</td><td>FALSE</td></tr>\n",
              "</tbody>\n",
              "</table>\n"
            ],
            "text/markdown": "\nA data.frame: 4 × 2\n\n| foo &lt;int&gt; | bar &lt;lgl&gt; |\n|---|---|\n| 1 |  TRUE |\n| 2 |  TRUE |\n| 3 | FALSE |\n| 4 | FALSE |\n\n",
            "text/latex": "A data.frame: 4 × 2\n\\begin{tabular}{ll}\n foo & bar\\\\\n <int> & <lgl>\\\\\n\\hline\n\t 1 &  TRUE\\\\\n\t 2 &  TRUE\\\\\n\t 3 & FALSE\\\\\n\t 4 & FALSE\\\\\n\\end{tabular}\n",
            "text/plain": [
              "  foo bar  \n",
              "1 1    TRUE\n",
              "2 2    TRUE\n",
              "3 3   FALSE\n",
              "4 4   FALSE"
            ]
          },
          "metadata": {}
        }
      ]
    },
    {
      "cell_type": "code",
      "source": [
        "nrow(x)"
      ],
      "metadata": {
        "colab": {
          "base_uri": "https://localhost:8080/",
          "height": 34
        },
        "id": "4dkR6Hb1vvvf",
        "outputId": "59c7e697-bf03-42a3-90fd-8f848a9e080b"
      },
      "execution_count": 3,
      "outputs": [
        {
          "output_type": "display_data",
          "data": {
            "text/html": [
              "4"
            ],
            "text/markdown": "4",
            "text/latex": "4",
            "text/plain": [
              "[1] 4"
            ]
          },
          "metadata": {}
        }
      ]
    },
    {
      "cell_type": "code",
      "source": [
        "ncol(x)"
      ],
      "metadata": {
        "colab": {
          "base_uri": "https://localhost:8080/",
          "height": 34
        },
        "id": "gYBvn3pYv2fO",
        "outputId": "7c474ae1-937b-479a-e71a-8aa5a35f88dd"
      },
      "execution_count": 4,
      "outputs": [
        {
          "output_type": "display_data",
          "data": {
            "text/html": [
              "2"
            ],
            "text/markdown": "2",
            "text/latex": "2",
            "text/plain": [
              "[1] 2"
            ]
          },
          "metadata": {}
        }
      ]
    },
    {
      "cell_type": "markdown",
      "source": [
        "## **Names**"
      ],
      "metadata": {
        "id": "hE7hbHImwHiS"
      }
    },
    {
      "cell_type": "markdown",
      "source": [
        "R objects can also have names, which is very useful for writing readable code and self-describing objects."
      ],
      "metadata": {
        "id": "RvwuAMTOwJqG"
      }
    },
    {
      "cell_type": "code",
      "source": [
        "x <- 1:3"
      ],
      "metadata": {
        "id": "cujueoQ9v6Jf"
      },
      "execution_count": 5,
      "outputs": []
    },
    {
      "cell_type": "code",
      "source": [
        "names(x)"
      ],
      "metadata": {
        "colab": {
          "base_uri": "https://localhost:8080/",
          "height": 34
        },
        "id": "b-YNYkJfwRGT",
        "outputId": "93cf7c36-5e26-46c9-a0d8-141631f70251"
      },
      "execution_count": 6,
      "outputs": [
        {
          "output_type": "display_data",
          "data": {
            "text/plain": [
              "NULL"
            ]
          },
          "metadata": {}
        }
      ]
    },
    {
      "cell_type": "code",
      "source": [
        "names(x) <- c(\"foo\", \"bar\", \"nrof\")\n",
        "\n",
        "x"
      ],
      "metadata": {
        "colab": {
          "base_uri": "https://localhost:8080/",
          "height": 34
        },
        "id": "0f9IuUqRwSSx",
        "outputId": "2f8b66a6-832a-4060-e220-6e582ee99128"
      },
      "execution_count": 7,
      "outputs": [
        {
          "output_type": "display_data",
          "data": {
            "text/html": [
              "<style>\n",
              ".dl-inline {width: auto; margin:0; padding: 0}\n",
              ".dl-inline>dt, .dl-inline>dd {float: none; width: auto; display: inline-block}\n",
              ".dl-inline>dt::after {content: \":\\0020\"; padding-right: .5ex}\n",
              ".dl-inline>dt:not(:first-of-type) {padding-left: .5ex}\n",
              "</style><dl class=dl-inline><dt>foo</dt><dd>1</dd><dt>bar</dt><dd>2</dd><dt>nrof</dt><dd>3</dd></dl>\n"
            ],
            "text/markdown": "foo\n:   1bar\n:   2nrof\n:   3\n\n",
            "text/latex": "\\begin{description*}\n\\item[foo] 1\n\\item[bar] 2\n\\item[nrof] 3\n\\end{description*}\n",
            "text/plain": [
              " foo  bar nrof \n",
              "   1    2    3 "
            ]
          },
          "metadata": {}
        }
      ]
    },
    {
      "cell_type": "code",
      "source": [
        "names(x)"
      ],
      "metadata": {
        "colab": {
          "base_uri": "https://localhost:8080/",
          "height": 34
        },
        "id": "bxs7V_IkwY8c",
        "outputId": "de13ef66-0e86-4220-a019-a8df4e2d7cd2"
      },
      "execution_count": 8,
      "outputs": [
        {
          "output_type": "display_data",
          "data": {
            "text/html": [
              "<style>\n",
              ".list-inline {list-style: none; margin:0; padding: 0}\n",
              ".list-inline>li {display: inline-block}\n",
              ".list-inline>li:not(:last-child)::after {content: \"\\00b7\"; padding: 0 .5ex}\n",
              "</style>\n",
              "<ol class=list-inline><li>'foo'</li><li>'bar'</li><li>'nrof'</li></ol>\n"
            ],
            "text/markdown": "1. 'foo'\n2. 'bar'\n3. 'nrof'\n\n\n",
            "text/latex": "\\begin{enumerate*}\n\\item 'foo'\n\\item 'bar'\n\\item 'nrof'\n\\end{enumerate*}\n",
            "text/plain": [
              "[1] \"foo\"  \"bar\"  \"nrof\""
            ]
          },
          "metadata": {}
        }
      ]
    },
    {
      "cell_type": "code",
      "source": [],
      "metadata": {
        "id": "wz6Q8zcDwdkm"
      },
      "execution_count": null,
      "outputs": []
    }
  ]
}