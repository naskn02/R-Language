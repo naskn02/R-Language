{
  "nbformat": 4,
  "nbformat_minor": 0,
  "metadata": {
    "colab": {
      "provenance": [],
      "authorship_tag": "ABX9TyMsIZpLqZLkY4j4CDPS26Jk",
      "include_colab_link": true
    },
    "kernelspec": {
      "name": "ir",
      "display_name": "R"
    },
    "language_info": {
      "name": "R"
    }
  },
  "cells": [
    {
      "cell_type": "markdown",
      "metadata": {
        "id": "view-in-github",
        "colab_type": "text"
      },
      "source": [
        "<a href=\"https://colab.research.google.com/github/naskn02/R-Language/blob/main/R_Basics.ipynb\" target=\"_parent\"><img src=\"https://colab.research.google.com/assets/colab-badge.svg\" alt=\"Open In Colab\"/></a>"
      ]
    },
    {
      "cell_type": "markdown",
      "source": [
        "# **Working with R**"
      ],
      "metadata": {
        "id": "PkRiDYj2_Rha"
      }
    },
    {
      "cell_type": "markdown",
      "source": [
        "## **First Command**"
      ],
      "metadata": {
        "id": "2bJOhSCy_da1"
      }
    },
    {
      "cell_type": "code",
      "execution_count": null,
      "metadata": {
        "id": "IAc9zLxe-LQu"
      },
      "outputs": [],
      "source": [
        "mtcars"
      ]
    }
  ]
}